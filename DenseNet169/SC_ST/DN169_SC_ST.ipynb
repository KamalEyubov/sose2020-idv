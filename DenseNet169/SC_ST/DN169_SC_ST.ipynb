{
  "nbformat": 4,
  "nbformat_minor": 0,
  "metadata": {
    "colab": {
      "name": "DN169_SC_ST.ipynb",
      "provenance": [],
      "collapsed_sections": []
    },
    "kernelspec": {
      "name": "python3",
      "display_name": "Python 3"
    },
    "accelerator": "GPU"
  },
  "cells": [
    {
      "cell_type": "markdown",
      "metadata": {
        "id": "B2gRjXONVGaE",
        "colab_type": "text"
      },
      "source": [
        "# Uploading data sets"
      ]
    },
    {
      "cell_type": "code",
      "metadata": {
        "id": "sMXvhlkjQ9fC",
        "colab_type": "code",
        "colab": {
          "base_uri": "https://localhost:8080/",
          "height": 124
        },
        "outputId": "cdf382b6-9252-41cb-9385-ad1556956dcc"
      },
      "source": [
        "from google.colab import drive\n",
        "\n",
        "drive.mount('/content/drive/')\n",
        "\n",
        "uploaded = ['/content/drive/My Drive/Images.zip',\n",
        "            '/content/drive/My Drive/Data-split.zip',\n",
        "            '/content/drive/My Drive/LUNA.zip']"
      ],
      "execution_count": null,
      "outputs": [
        {
          "output_type": "stream",
          "text": [
            "Go to this URL in a browser: https://accounts.google.com/o/oauth2/auth?client_id=947318989803-6bn6qk8qdgf4n4g3pfee6491hc0brc4i.apps.googleusercontent.com&redirect_uri=urn%3aietf%3awg%3aoauth%3a2.0%3aoob&response_type=code&scope=email%20https%3a%2f%2fwww.googleapis.com%2fauth%2fdocs.test%20https%3a%2f%2fwww.googleapis.com%2fauth%2fdrive%20https%3a%2f%2fwww.googleapis.com%2fauth%2fdrive.photos.readonly%20https%3a%2f%2fwww.googleapis.com%2fauth%2fpeopleapi.readonly\n",
            "\n",
            "Enter your authorization code:\n",
            "··········\n",
            "Mounted at /content/drive/\n"
          ],
          "name": "stdout"
        }
      ]
    },
    {
      "cell_type": "code",
      "metadata": {
        "id": "_l118nPSNuuO",
        "colab_type": "code",
        "colab": {}
      },
      "source": [
        "#from google.colab import files\n",
        "\n",
        "#uploaded = files.upload()\n",
        "\n",
        "#for f in uploaded:\n",
        "#    print('Uploaded: ' + f)"
      ],
      "execution_count": null,
      "outputs": []
    },
    {
      "cell_type": "code",
      "metadata": {
        "id": "c0qKwGLeSwad",
        "colab_type": "code",
        "colab": {}
      },
      "source": [
        "from zipfile import ZipFile\n",
        "\n",
        "for f in uploaded:\n",
        "    with ZipFile(f, 'r') as zip_ref:\n",
        "        zip_ref.extractall('.')"
      ],
      "execution_count": null,
      "outputs": []
    },
    {
      "cell_type": "markdown",
      "metadata": {
        "id": "j4-UXZvWU6Gq",
        "colab_type": "text"
      },
      "source": [
        "# SSL on LUNA"
      ]
    },
    {
      "cell_type": "code",
      "metadata": {
        "id": "nOjQgGMvS7WK",
        "colab_type": "code",
        "colab": {}
      },
      "source": [
        "import os\n",
        "\n",
        "os.mkdir('ssl1_backup')\n",
        "os.mkdir('ssl1_result')"
      ],
      "execution_count": null,
      "outputs": []
    },
    {
      "cell_type": "code",
      "metadata": {
        "id": "4c6eJ1cFRGol",
        "colab_type": "code",
        "colab": {}
      },
      "source": [
        "import torch\n",
        "import torchvision\n",
        "import torchvision.transforms as transforms\n",
        "import torchvision.datasets as datasets\n",
        "import torch.nn as nn\n",
        "import torch.optim as optim\n",
        "from torchvision.models import densenet169 as DenseNet169\n",
        "from PIL import Image\n",
        "import numpy as np\n",
        "from torch.utils.data import DataLoader, Dataset\n",
        "from matplotlib import pyplot as plt\n",
        "import warnings\n",
        "warnings.filterwarnings('ignore')\n",
        "import torch.nn.functional as F"
      ],
      "execution_count": null,
      "outputs": []
    },
    {
      "cell_type": "code",
      "metadata": {
        "id": "LFVo8qcScBmr",
        "colab_type": "code",
        "colab": {}
      },
      "source": [
        "torch.manual_seed(42)\n",
        "torch.cuda.manual_seed(42)\n",
        "np.random.seed(42)\n",
        "torch.backends.cudnn.deterministic = True\n",
        "rng = np.random.RandomState(42)"
      ],
      "execution_count": null,
      "outputs": []
    },
    {
      "cell_type": "code",
      "metadata": {
        "id": "ExQ5H08LRVUJ",
        "colab_type": "code",
        "colab": {}
      },
      "source": [
        "torch.cuda.empty_cache()\n",
        "\n",
        "device = 'cuda'\n",
        "batchsize = 16\n",
        "train_epochs_start = 0\n",
        "train_epochs_end = 50"
      ],
      "execution_count": null,
      "outputs": []
    },
    {
      "cell_type": "code",
      "metadata": {
        "id": "hufV3_0NRX7i",
        "colab_type": "code",
        "colab": {}
      },
      "source": [
        "class SimCLR(nn.Module):\n",
        "\n",
        "    def __init__(self, out_dim=128):\n",
        "        super(SimCLR, self).__init__()\n",
        "\n",
        "        densenet = DenseNet169(pretrained=False)\n",
        "        self.features = densenet.features\n",
        "        self.relu = nn.ReLU(inplace=True)\n",
        "        # MLP head\n",
        "        self.classifier = nn.Sequential(\n",
        "            nn.Linear(\n",
        "                densenet.classifier.in_features,\n",
        "                densenet.classifier.in_features,\n",
        "                bias=True\n",
        "            ),\n",
        "            nn.ReLU(),\n",
        "            nn.Linear(\n",
        "                densenet.classifier.in_features,\n",
        "                out_features=out_dim,\n",
        "                bias=True\n",
        "            )\n",
        "        )\n",
        "\n",
        "    def forward(self, x):\n",
        "        out = self.features(x)\n",
        "        out = self.relu(out)\n",
        "        out = F.adaptive_avg_pool2d(out, (1, 1))\n",
        "        out = torch.flatten(out, 1)\n",
        "        out = self.classifier(out)\n",
        "        return out"
      ],
      "execution_count": null,
      "outputs": []
    },
    {
      "cell_type": "code",
      "metadata": {
        "id": "uvaaN_wdazrQ",
        "colab_type": "code",
        "colab": {}
      },
      "source": [
        "class NTXentLoss(nn.Module):\n",
        "\n",
        "    def __init__(self):\n",
        "        super(NTXentLoss, self).__init__()\n",
        "        self.masks = dict()\n",
        "        self.similarity_function = torch.nn.CosineSimilarity(dim=-1)\n",
        "        self.criterion = torch.nn.CrossEntropyLoss()\n",
        "\n",
        "    @staticmethod\n",
        "    def get_mask(batch_size):\n",
        "        diag = np.eye(2 * batch_size)\n",
        "        l1 = np.eye(2 * batch_size, k=-batch_size)\n",
        "        l2 = np.eye(2 * batch_size, k=batch_size)\n",
        "        mask = torch.from_numpy(diag + l1 + l2)\n",
        "        mask = (1 - mask).type(torch.bool)\n",
        "        return mask.to(device)\n",
        "\n",
        "    def forward(self, zi, zj, temperature=0.5):\n",
        "\n",
        "        batch_size = zi.shape[-2]\n",
        "        if batch_size not in self.masks:\n",
        "            self.masks[batch_size] = NTXentLoss.get_mask(batch_size)\n",
        "\n",
        "        representations = torch.cat([zi, zj], dim=0)\n",
        "\n",
        "        similarity_matrix = self.similarity_function(\n",
        "            representations.unsqueeze(1),\n",
        "            representations.unsqueeze(0)\n",
        "        )\n",
        "\n",
        "        # filter out the scores from the positive samples\n",
        "        l_pos = torch.diag(similarity_matrix, batch_size)\n",
        "        r_pos = torch.diag(similarity_matrix, -batch_size)\n",
        "        positives = torch.cat([l_pos, r_pos]).view(2 * batch_size, 1)\n",
        "\n",
        "        negatives = similarity_matrix[self.masks[batch_size]].view(2 * batch_size, -1)\n",
        "\n",
        "        logits = torch.cat([positives, negatives], dim=1)\n",
        "        logits /= temperature\n",
        "\n",
        "        labels = torch.zeros(2 * batch_size).to(device).long()\n",
        "        loss = self.criterion(logits, labels)\n",
        "        return loss"
      ],
      "execution_count": null,
      "outputs": []
    },
    {
      "cell_type": "code",
      "metadata": {
        "id": "WCagrxEMSocl",
        "colab_type": "code",
        "colab": {}
      },
      "source": [
        "model = SimCLR()\n",
        "if device == 'cuda':\n",
        "    model = model.cuda()\n",
        "modelname = 'SimCLR'\n",
        "\n",
        "if train_epochs_start > 0:\n",
        "    model.load_state_dict(\n",
        "        torch.load('ssl_backup/{}_{}.pt'.format(\n",
        "            modelname,\n",
        "            train_epochs_start\n",
        "        ))\n",
        "    )"
      ],
      "execution_count": null,
      "outputs": []
    },
    {
      "cell_type": "code",
      "metadata": {
        "id": "021B974G6P-3",
        "colab_type": "code",
        "colab": {}
      },
      "source": [
        "stages = ['ssl1', 'ssl2', 'fine-tuning']\n",
        "stage_id = 0\n",
        "\n",
        "def plot_change(model1, model2):\n",
        "    global stage_id\n",
        "\n",
        "    diff = torch.nn.MSELoss()\n",
        "    norm_w, norm_wx, norm_b, norm_bx, conv_w, conv_wx = [], [], [], [], [], []\n",
        "    i = 0\n",
        "    for (name, parameter1), parameter2 in  zip(model1.named_parameters(), model2.parameters()):\n",
        "        name = name.split(\".\")\n",
        "        if name[-2][:4] == \"conv\":\n",
        "            if name[-1] == \"weight\":\n",
        "                conv_w.append(diff(parameter1, parameter2).item())\n",
        "                conv_wx.append(i)\n",
        "        elif name[-2][:4] == \"norm\":\n",
        "            if name[-1] == \"weight\":\n",
        "                norm_w.append(diff(parameter1, parameter2).item())\n",
        "                norm_wx.append(i)\n",
        "            elif name[-1] == \"bias\":\n",
        "                norm_b.append(diff(parameter1, parameter2).item())\n",
        "                norm_bx.append(i)\n",
        "        i = i + 1\n",
        "\n",
        "    plt.bar(norm_wx, norm_w, label=\"gamma\")\n",
        "    plt.bar(norm_bx, norm_b, label=\"beta\")\n",
        "    plt.legend()\n",
        "    plt.title('Change of parameters at BN layers')\n",
        "    plt.savefig(stages[stage_id] + '_bn_change.png')\n",
        "    plt.show()\n",
        "\n",
        "    plt.bar(conv_wx, conv_w)\n",
        "    plt.title('Change of weights at CONV layers')\n",
        "    plt.savefig(stages[stage_id] + '_conv_change.png')\n",
        "    plt.show()\n",
        "\n",
        "    stage_id = stage_id + 1"
      ],
      "execution_count": null,
      "outputs": []
    },
    {
      "cell_type": "code",
      "metadata": {
        "id": "bu80bBCs6R1s",
        "colab_type": "code",
        "colab": {
          "base_uri": "https://localhost:8080/",
          "height": 34
        },
        "outputId": "6f782e4d-2b9e-49fe-f91e-c03f2185662f"
      },
      "source": [
        "model_old = SimCLR()\n",
        "model_old.load_state_dict(model.state_dict())"
      ],
      "execution_count": null,
      "outputs": [
        {
          "output_type": "execute_result",
          "data": {
            "text/plain": [
              "<All keys matched successfully>"
            ]
          },
          "metadata": {
            "tags": []
          },
          "execution_count": 12
        }
      ]
    },
    {
      "cell_type": "code",
      "metadata": {
        "id": "kuUblqJq8AL3",
        "colab_type": "code",
        "colab": {}
      },
      "source": [
        "from PIL import ImageFilter\n",
        "import random\n",
        "\n",
        "class GaussianBlur(object):\n",
        "    \"\"\"Gaussian blur augmentation in SimCLR https://arxiv.org/abs/2002.05709\"\"\"\n",
        "\n",
        "    def __init__(self, sigma=[.1, 2.]):\n",
        "        self.sigma = sigma\n",
        "\n",
        "    def __call__(self, x):\n",
        "        sigma = random.uniform(self.sigma[0], self.sigma[1])\n",
        "        x = x.filter(ImageFilter.GaussianBlur(radius=sigma))\n",
        "        return x"
      ],
      "execution_count": null,
      "outputs": []
    },
    {
      "cell_type": "code",
      "metadata": {
        "id": "elECcbjtSzJi",
        "colab_type": "code",
        "colab": {}
      },
      "source": [
        "normalize = transforms.Normalize(\n",
        "    mean=[0.485, 0.456, 0.406],\n",
        "    std=[0.229, 0.224, 0.225]\n",
        ")\n",
        "transformer = transforms.Compose([\n",
        "    transforms.RandomResizedCrop(224, scale=(0.2, 1.)),\n",
        "    transforms.RandomApply([transforms.ColorJitter(0.4, 0.4, 0.4, 0.1)], p=0.8),\n",
        "    transforms.RandomGrayscale(p=0.2),\n",
        "    transforms.RandomApply([GaussianBlur([.1, 2.])], p=0.5),\n",
        "    transforms.RandomHorizontalFlip(),\n",
        "    transforms.ToTensor(),\n",
        "    normalize\n",
        "])"
      ],
      "execution_count": null,
      "outputs": []
    },
    {
      "cell_type": "code",
      "metadata": {
        "id": "QF0rGSxkTxSJ",
        "colab_type": "code",
        "colab": {}
      },
      "source": [
        "def read_txt(txt_path):\n",
        "    with open(txt_path) as f:\n",
        "        lines = f.readlines()\n",
        "    txt_data = [line.strip() for line in lines]\n",
        "    return txt_data\n",
        "\n",
        "class LUNADataset(Dataset):\n",
        "    def __init__(self, root_dir, transform=None):\n",
        "        \"\"\"\n",
        "            Args:\n",
        "                txt_path (string): Path to the txt file with annotations.\n",
        "                root_dir (string): Directory with all the images.\n",
        "                transform (callable, optional): Optional transform to be applied on a sample.\n",
        "            File structure:\n",
        "                - LUNA\n",
        "                    - img1.png\n",
        "                    - img2.png\n",
        "                    - ......\n",
        "        \"\"\"\n",
        "        self.img_list = [os.path.join(root_dir, item) for item in os.listdir(root_dir)]\n",
        "        self.transform = transform\n",
        "\n",
        "    def __len__(self):\n",
        "        return len(self.img_list)\n",
        "\n",
        "    def __getitem__(self, idx):\n",
        "        if torch.is_tensor(idx):\n",
        "            idx = idx.tolist()\n",
        "\n",
        "        img_path = self.img_list[idx]\n",
        "        image = Image.open(img_path).convert('RGB')\n",
        "\n",
        "        image0 = self.transform(image)\n",
        "        image1 = self.transform(image)\n",
        "\n",
        "        sample = {'img0': image0, 'img1': image1}\n",
        "        return sample"
      ],
      "execution_count": null,
      "outputs": []
    },
    {
      "cell_type": "code",
      "metadata": {
        "id": "bUMBwszWT58_",
        "colab_type": "code",
        "colab": {
          "base_uri": "https://localhost:8080/",
          "height": 34
        },
        "outputId": "074456da-8e94-4b6b-b4d9-76a150eef882"
      },
      "source": [
        "dataset = LUNADataset(\n",
        "    root_dir='LUNA',\n",
        "    transform=transformer\n",
        ")\n",
        "print(\"dataset length:\", dataset.__len__())\n",
        "data_loader = DataLoader(dataset, batch_size=batchsize, drop_last=False, shuffle=True)"
      ],
      "execution_count": null,
      "outputs": [
        {
          "output_type": "stream",
          "text": [
            "dataset length: 1000\n"
          ],
          "name": "stdout"
        }
      ]
    },
    {
      "cell_type": "code",
      "metadata": {
        "id": "QEznV2iST-kk",
        "colab_type": "code",
        "colab": {}
      },
      "source": [
        "def train(epoch):\n",
        "\n",
        "    model.train()\n",
        "\n",
        "    train_loss = 0\n",
        "\n",
        "    for batch_index, batch_samples in enumerate(data_loader):\n",
        "\n",
        "        # move data to device\n",
        "        data0, data1 = batch_samples['img0'].to(device), batch_samples['img1'].to(device)\n",
        "\n",
        "        output0 = model(data0)\n",
        "        output1 = model(data1)\n",
        "\n",
        "        loss = criteria(output0, output1)\n",
        "        train_loss += loss.item()\n",
        "\n",
        "        optimizer.zero_grad()\n",
        "        loss.backward()\n",
        "        optimizer.step()\n",
        "\n",
        "        # Display progress\n",
        "        if (batch_index + 1) % bs == 0:\n",
        "            print('Train Epoch: {} [{}/{} ({:.0f}%)]'.format(\n",
        "                epoch,\n",
        "                batch_index, len(data_loader),\n",
        "                100.0 * batch_index / len(data_loader)\n",
        "            ))\n",
        "\n",
        "    avg_loss = train_loss / len(data_loader.dataset)\n",
        "    print('Data set: Average loss: {:.4f}'.format(avg_loss))\n",
        "    f = open('ssl1_result/train_{}.txt'.format(modelname), 'a+')\n",
        "    f.write('Data set: Average loss: {:.4f}'.format(avg_loss))\n",
        "    f.close()\n",
        "    avg_losses.append(avg_loss)"
      ],
      "execution_count": null,
      "outputs": []
    },
    {
      "cell_type": "code",
      "metadata": {
        "id": "xqKj3yEFUuOZ",
        "colab_type": "code",
        "colab": {
          "base_uri": "https://localhost:8080/",
          "height": 1000
        },
        "outputId": "761a2322-9811-41db-eba4-6843eaf0e5a9"
      },
      "source": [
        "bs = 10\n",
        "T_checkpoint = 10\n",
        "avg_losses = []\n",
        "\n",
        "criteria = NTXentLoss()\n",
        "optimizer = optim.Adam(model.parameters())\n",
        "\n",
        "for epoch in range(train_epochs_start + 1, train_epochs_end + 1):\n",
        "    train(epoch)\n",
        "    \n",
        "    if epoch % T_checkpoint == 0:\n",
        "        # checkpoint\n",
        "        torch.save(model.state_dict(), 'ssl1_backup/{}_{}.pt'.format(modelname, epoch))"
      ],
      "execution_count": null,
      "outputs": [
        {
          "output_type": "stream",
          "text": [
            "Train Epoch: 1 [9/63 (14%)]\n",
            "Train Epoch: 1 [19/63 (30%)]\n",
            "Train Epoch: 1 [29/63 (46%)]\n",
            "Train Epoch: 1 [39/63 (62%)]\n",
            "Train Epoch: 1 [49/63 (78%)]\n",
            "Train Epoch: 1 [59/63 (94%)]\n",
            "Data set: Average loss: 0.2032\n",
            "Train Epoch: 2 [9/63 (14%)]\n",
            "Train Epoch: 2 [19/63 (30%)]\n",
            "Train Epoch: 2 [29/63 (46%)]\n",
            "Train Epoch: 2 [39/63 (62%)]\n",
            "Train Epoch: 2 [49/63 (78%)]\n",
            "Train Epoch: 2 [59/63 (94%)]\n",
            "Data set: Average loss: 0.1939\n",
            "Train Epoch: 3 [9/63 (14%)]\n",
            "Train Epoch: 3 [19/63 (30%)]\n",
            "Train Epoch: 3 [29/63 (46%)]\n",
            "Train Epoch: 3 [39/63 (62%)]\n",
            "Train Epoch: 3 [49/63 (78%)]\n",
            "Train Epoch: 3 [59/63 (94%)]\n",
            "Data set: Average loss: 0.1814\n",
            "Train Epoch: 4 [9/63 (14%)]\n",
            "Train Epoch: 4 [19/63 (30%)]\n",
            "Train Epoch: 4 [29/63 (46%)]\n",
            "Train Epoch: 4 [39/63 (62%)]\n",
            "Train Epoch: 4 [49/63 (78%)]\n",
            "Train Epoch: 4 [59/63 (94%)]\n",
            "Data set: Average loss: 0.1774\n",
            "Train Epoch: 5 [9/63 (14%)]\n",
            "Train Epoch: 5 [19/63 (30%)]\n",
            "Train Epoch: 5 [29/63 (46%)]\n",
            "Train Epoch: 5 [39/63 (62%)]\n",
            "Train Epoch: 5 [49/63 (78%)]\n",
            "Train Epoch: 5 [59/63 (94%)]\n",
            "Data set: Average loss: 0.1722\n",
            "Train Epoch: 6 [9/63 (14%)]\n",
            "Train Epoch: 6 [19/63 (30%)]\n",
            "Train Epoch: 6 [29/63 (46%)]\n",
            "Train Epoch: 6 [39/63 (62%)]\n",
            "Train Epoch: 6 [49/63 (78%)]\n",
            "Train Epoch: 6 [59/63 (94%)]\n",
            "Data set: Average loss: 0.1680\n",
            "Train Epoch: 7 [9/63 (14%)]\n",
            "Train Epoch: 7 [19/63 (30%)]\n",
            "Train Epoch: 7 [29/63 (46%)]\n",
            "Train Epoch: 7 [39/63 (62%)]\n",
            "Train Epoch: 7 [49/63 (78%)]\n",
            "Train Epoch: 7 [59/63 (94%)]\n",
            "Data set: Average loss: 0.1601\n",
            "Train Epoch: 8 [9/63 (14%)]\n",
            "Train Epoch: 8 [19/63 (30%)]\n",
            "Train Epoch: 8 [29/63 (46%)]\n",
            "Train Epoch: 8 [39/63 (62%)]\n",
            "Train Epoch: 8 [49/63 (78%)]\n",
            "Train Epoch: 8 [59/63 (94%)]\n",
            "Data set: Average loss: 0.1583\n",
            "Train Epoch: 9 [9/63 (14%)]\n",
            "Train Epoch: 9 [19/63 (30%)]\n",
            "Train Epoch: 9 [29/63 (46%)]\n",
            "Train Epoch: 9 [39/63 (62%)]\n",
            "Train Epoch: 9 [49/63 (78%)]\n",
            "Train Epoch: 9 [59/63 (94%)]\n",
            "Data set: Average loss: 0.1565\n",
            "Train Epoch: 10 [9/63 (14%)]\n",
            "Train Epoch: 10 [19/63 (30%)]\n",
            "Train Epoch: 10 [29/63 (46%)]\n",
            "Train Epoch: 10 [39/63 (62%)]\n",
            "Train Epoch: 10 [49/63 (78%)]\n",
            "Train Epoch: 10 [59/63 (94%)]\n",
            "Data set: Average loss: 0.1549\n",
            "Train Epoch: 11 [9/63 (14%)]\n",
            "Train Epoch: 11 [19/63 (30%)]\n",
            "Train Epoch: 11 [29/63 (46%)]\n",
            "Train Epoch: 11 [39/63 (62%)]\n",
            "Train Epoch: 11 [49/63 (78%)]\n",
            "Train Epoch: 11 [59/63 (94%)]\n",
            "Data set: Average loss: 0.1531\n",
            "Train Epoch: 12 [9/63 (14%)]\n",
            "Train Epoch: 12 [19/63 (30%)]\n",
            "Train Epoch: 12 [29/63 (46%)]\n",
            "Train Epoch: 12 [39/63 (62%)]\n",
            "Train Epoch: 12 [49/63 (78%)]\n",
            "Train Epoch: 12 [59/63 (94%)]\n",
            "Data set: Average loss: 0.1519\n",
            "Train Epoch: 13 [9/63 (14%)]\n",
            "Train Epoch: 13 [19/63 (30%)]\n",
            "Train Epoch: 13 [29/63 (46%)]\n",
            "Train Epoch: 13 [39/63 (62%)]\n",
            "Train Epoch: 13 [49/63 (78%)]\n",
            "Train Epoch: 13 [59/63 (94%)]\n",
            "Data set: Average loss: 0.1484\n",
            "Train Epoch: 14 [9/63 (14%)]\n",
            "Train Epoch: 14 [19/63 (30%)]\n",
            "Train Epoch: 14 [29/63 (46%)]\n",
            "Train Epoch: 14 [39/63 (62%)]\n",
            "Train Epoch: 14 [49/63 (78%)]\n",
            "Train Epoch: 14 [59/63 (94%)]\n",
            "Data set: Average loss: 0.1476\n",
            "Train Epoch: 15 [9/63 (14%)]\n",
            "Train Epoch: 15 [19/63 (30%)]\n",
            "Train Epoch: 15 [29/63 (46%)]\n",
            "Train Epoch: 15 [39/63 (62%)]\n",
            "Train Epoch: 15 [49/63 (78%)]\n",
            "Train Epoch: 15 [59/63 (94%)]\n",
            "Data set: Average loss: 0.1464\n",
            "Train Epoch: 16 [9/63 (14%)]\n",
            "Train Epoch: 16 [19/63 (30%)]\n",
            "Train Epoch: 16 [29/63 (46%)]\n",
            "Train Epoch: 16 [39/63 (62%)]\n",
            "Train Epoch: 16 [49/63 (78%)]\n",
            "Train Epoch: 16 [59/63 (94%)]\n",
            "Data set: Average loss: 0.1447\n",
            "Train Epoch: 17 [9/63 (14%)]\n",
            "Train Epoch: 17 [19/63 (30%)]\n",
            "Train Epoch: 17 [29/63 (46%)]\n",
            "Train Epoch: 17 [39/63 (62%)]\n",
            "Train Epoch: 17 [49/63 (78%)]\n",
            "Train Epoch: 17 [59/63 (94%)]\n",
            "Data set: Average loss: 0.1431\n",
            "Train Epoch: 18 [9/63 (14%)]\n",
            "Train Epoch: 18 [19/63 (30%)]\n",
            "Train Epoch: 18 [29/63 (46%)]\n",
            "Train Epoch: 18 [39/63 (62%)]\n",
            "Train Epoch: 18 [49/63 (78%)]\n",
            "Train Epoch: 18 [59/63 (94%)]\n",
            "Data set: Average loss: 0.1419\n",
            "Train Epoch: 19 [9/63 (14%)]\n",
            "Train Epoch: 19 [19/63 (30%)]\n",
            "Train Epoch: 19 [29/63 (46%)]\n",
            "Train Epoch: 19 [39/63 (62%)]\n",
            "Train Epoch: 19 [49/63 (78%)]\n",
            "Train Epoch: 19 [59/63 (94%)]\n",
            "Data set: Average loss: 0.1410\n",
            "Train Epoch: 20 [9/63 (14%)]\n",
            "Train Epoch: 20 [19/63 (30%)]\n",
            "Train Epoch: 20 [29/63 (46%)]\n",
            "Train Epoch: 20 [39/63 (62%)]\n",
            "Train Epoch: 20 [49/63 (78%)]\n",
            "Train Epoch: 20 [59/63 (94%)]\n",
            "Data set: Average loss: 0.1419\n",
            "Train Epoch: 21 [9/63 (14%)]\n",
            "Train Epoch: 21 [19/63 (30%)]\n",
            "Train Epoch: 21 [29/63 (46%)]\n",
            "Train Epoch: 21 [39/63 (62%)]\n",
            "Train Epoch: 21 [49/63 (78%)]\n",
            "Train Epoch: 21 [59/63 (94%)]\n",
            "Data set: Average loss: 0.1401\n",
            "Train Epoch: 22 [9/63 (14%)]\n",
            "Train Epoch: 22 [19/63 (30%)]\n",
            "Train Epoch: 22 [29/63 (46%)]\n",
            "Train Epoch: 22 [39/63 (62%)]\n",
            "Train Epoch: 22 [49/63 (78%)]\n",
            "Train Epoch: 22 [59/63 (94%)]\n",
            "Data set: Average loss: 0.1364\n",
            "Train Epoch: 23 [9/63 (14%)]\n",
            "Train Epoch: 23 [19/63 (30%)]\n",
            "Train Epoch: 23 [29/63 (46%)]\n",
            "Train Epoch: 23 [39/63 (62%)]\n",
            "Train Epoch: 23 [49/63 (78%)]\n",
            "Train Epoch: 23 [59/63 (94%)]\n",
            "Data set: Average loss: 0.1366\n",
            "Train Epoch: 24 [9/63 (14%)]\n",
            "Train Epoch: 24 [19/63 (30%)]\n",
            "Train Epoch: 24 [29/63 (46%)]\n",
            "Train Epoch: 24 [39/63 (62%)]\n",
            "Train Epoch: 24 [49/63 (78%)]\n",
            "Train Epoch: 24 [59/63 (94%)]\n",
            "Data set: Average loss: 0.1373\n",
            "Train Epoch: 25 [9/63 (14%)]\n",
            "Train Epoch: 25 [19/63 (30%)]\n",
            "Train Epoch: 25 [29/63 (46%)]\n",
            "Train Epoch: 25 [39/63 (62%)]\n",
            "Train Epoch: 25 [49/63 (78%)]\n",
            "Train Epoch: 25 [59/63 (94%)]\n",
            "Data set: Average loss: 0.1355\n",
            "Train Epoch: 26 [9/63 (14%)]\n",
            "Train Epoch: 26 [19/63 (30%)]\n",
            "Train Epoch: 26 [29/63 (46%)]\n",
            "Train Epoch: 26 [39/63 (62%)]\n",
            "Train Epoch: 26 [49/63 (78%)]\n",
            "Train Epoch: 26 [59/63 (94%)]\n",
            "Data set: Average loss: 0.1343\n",
            "Train Epoch: 27 [9/63 (14%)]\n",
            "Train Epoch: 27 [19/63 (30%)]\n",
            "Train Epoch: 27 [29/63 (46%)]\n",
            "Train Epoch: 27 [39/63 (62%)]\n",
            "Train Epoch: 27 [49/63 (78%)]\n",
            "Train Epoch: 27 [59/63 (94%)]\n",
            "Data set: Average loss: 0.1332\n",
            "Train Epoch: 28 [9/63 (14%)]\n",
            "Train Epoch: 28 [19/63 (30%)]\n",
            "Train Epoch: 28 [29/63 (46%)]\n",
            "Train Epoch: 28 [39/63 (62%)]\n",
            "Train Epoch: 28 [49/63 (78%)]\n",
            "Train Epoch: 28 [59/63 (94%)]\n",
            "Data set: Average loss: 0.1332\n",
            "Train Epoch: 29 [9/63 (14%)]\n",
            "Train Epoch: 29 [19/63 (30%)]\n",
            "Train Epoch: 29 [29/63 (46%)]\n",
            "Train Epoch: 29 [39/63 (62%)]\n",
            "Train Epoch: 29 [49/63 (78%)]\n",
            "Train Epoch: 29 [59/63 (94%)]\n",
            "Data set: Average loss: 0.1330\n",
            "Train Epoch: 30 [9/63 (14%)]\n",
            "Train Epoch: 30 [19/63 (30%)]\n",
            "Train Epoch: 30 [29/63 (46%)]\n",
            "Train Epoch: 30 [39/63 (62%)]\n",
            "Train Epoch: 30 [49/63 (78%)]\n",
            "Train Epoch: 30 [59/63 (94%)]\n",
            "Data set: Average loss: 0.1301\n",
            "Train Epoch: 31 [9/63 (14%)]\n",
            "Train Epoch: 31 [19/63 (30%)]\n",
            "Train Epoch: 31 [29/63 (46%)]\n",
            "Train Epoch: 31 [39/63 (62%)]\n",
            "Train Epoch: 31 [49/63 (78%)]\n",
            "Train Epoch: 31 [59/63 (94%)]\n",
            "Data set: Average loss: 0.1314\n",
            "Train Epoch: 32 [9/63 (14%)]\n",
            "Train Epoch: 32 [19/63 (30%)]\n",
            "Train Epoch: 32 [29/63 (46%)]\n",
            "Train Epoch: 32 [39/63 (62%)]\n",
            "Train Epoch: 32 [49/63 (78%)]\n",
            "Train Epoch: 32 [59/63 (94%)]\n",
            "Data set: Average loss: 0.1279\n",
            "Train Epoch: 33 [9/63 (14%)]\n",
            "Train Epoch: 33 [19/63 (30%)]\n",
            "Train Epoch: 33 [29/63 (46%)]\n",
            "Train Epoch: 33 [39/63 (62%)]\n",
            "Train Epoch: 33 [49/63 (78%)]\n",
            "Train Epoch: 33 [59/63 (94%)]\n",
            "Data set: Average loss: 0.1295\n",
            "Train Epoch: 34 [9/63 (14%)]\n",
            "Train Epoch: 34 [19/63 (30%)]\n",
            "Train Epoch: 34 [29/63 (46%)]\n",
            "Train Epoch: 34 [39/63 (62%)]\n",
            "Train Epoch: 34 [49/63 (78%)]\n",
            "Train Epoch: 34 [59/63 (94%)]\n",
            "Data set: Average loss: 0.1297\n",
            "Train Epoch: 35 [9/63 (14%)]\n",
            "Train Epoch: 35 [19/63 (30%)]\n",
            "Train Epoch: 35 [29/63 (46%)]\n",
            "Train Epoch: 35 [39/63 (62%)]\n",
            "Train Epoch: 35 [49/63 (78%)]\n",
            "Train Epoch: 35 [59/63 (94%)]\n",
            "Data set: Average loss: 0.1278\n",
            "Train Epoch: 36 [9/63 (14%)]\n",
            "Train Epoch: 36 [19/63 (30%)]\n",
            "Train Epoch: 36 [29/63 (46%)]\n",
            "Train Epoch: 36 [39/63 (62%)]\n",
            "Train Epoch: 36 [49/63 (78%)]\n",
            "Train Epoch: 36 [59/63 (94%)]\n",
            "Data set: Average loss: 0.1282\n",
            "Train Epoch: 37 [9/63 (14%)]\n",
            "Train Epoch: 37 [19/63 (30%)]\n",
            "Train Epoch: 37 [29/63 (46%)]\n",
            "Train Epoch: 37 [39/63 (62%)]\n",
            "Train Epoch: 37 [49/63 (78%)]\n",
            "Train Epoch: 37 [59/63 (94%)]\n",
            "Data set: Average loss: 0.1257\n",
            "Train Epoch: 38 [9/63 (14%)]\n",
            "Train Epoch: 38 [19/63 (30%)]\n",
            "Train Epoch: 38 [29/63 (46%)]\n",
            "Train Epoch: 38 [39/63 (62%)]\n",
            "Train Epoch: 38 [49/63 (78%)]\n",
            "Train Epoch: 38 [59/63 (94%)]\n",
            "Data set: Average loss: 0.1251\n",
            "Train Epoch: 39 [9/63 (14%)]\n",
            "Train Epoch: 39 [19/63 (30%)]\n",
            "Train Epoch: 39 [29/63 (46%)]\n",
            "Train Epoch: 39 [39/63 (62%)]\n",
            "Train Epoch: 39 [49/63 (78%)]\n",
            "Train Epoch: 39 [59/63 (94%)]\n",
            "Data set: Average loss: 0.1258\n",
            "Train Epoch: 40 [9/63 (14%)]\n",
            "Train Epoch: 40 [19/63 (30%)]\n",
            "Train Epoch: 40 [29/63 (46%)]\n",
            "Train Epoch: 40 [39/63 (62%)]\n",
            "Train Epoch: 40 [49/63 (78%)]\n",
            "Train Epoch: 40 [59/63 (94%)]\n",
            "Data set: Average loss: 0.1259\n",
            "Train Epoch: 41 [9/63 (14%)]\n",
            "Train Epoch: 41 [19/63 (30%)]\n",
            "Train Epoch: 41 [29/63 (46%)]\n",
            "Train Epoch: 41 [39/63 (62%)]\n",
            "Train Epoch: 41 [49/63 (78%)]\n",
            "Train Epoch: 41 [59/63 (94%)]\n",
            "Data set: Average loss: 0.1234\n",
            "Train Epoch: 42 [9/63 (14%)]\n",
            "Train Epoch: 42 [19/63 (30%)]\n",
            "Train Epoch: 42 [29/63 (46%)]\n",
            "Train Epoch: 42 [39/63 (62%)]\n",
            "Train Epoch: 42 [49/63 (78%)]\n",
            "Train Epoch: 42 [59/63 (94%)]\n",
            "Data set: Average loss: 0.1236\n",
            "Train Epoch: 43 [9/63 (14%)]\n",
            "Train Epoch: 43 [19/63 (30%)]\n",
            "Train Epoch: 43 [29/63 (46%)]\n",
            "Train Epoch: 43 [39/63 (62%)]\n",
            "Train Epoch: 43 [49/63 (78%)]\n",
            "Train Epoch: 43 [59/63 (94%)]\n",
            "Data set: Average loss: 0.1251\n",
            "Train Epoch: 44 [9/63 (14%)]\n",
            "Train Epoch: 44 [19/63 (30%)]\n",
            "Train Epoch: 44 [29/63 (46%)]\n",
            "Train Epoch: 44 [39/63 (62%)]\n",
            "Train Epoch: 44 [49/63 (78%)]\n",
            "Train Epoch: 44 [59/63 (94%)]\n",
            "Data set: Average loss: 0.1271\n",
            "Train Epoch: 45 [9/63 (14%)]\n",
            "Train Epoch: 45 [19/63 (30%)]\n",
            "Train Epoch: 45 [29/63 (46%)]\n",
            "Train Epoch: 45 [39/63 (62%)]\n",
            "Train Epoch: 45 [49/63 (78%)]\n",
            "Train Epoch: 45 [59/63 (94%)]\n",
            "Data set: Average loss: 0.1235\n",
            "Train Epoch: 46 [9/63 (14%)]\n",
            "Train Epoch: 46 [19/63 (30%)]\n",
            "Train Epoch: 46 [29/63 (46%)]\n",
            "Train Epoch: 46 [39/63 (62%)]\n",
            "Train Epoch: 46 [49/63 (78%)]\n",
            "Train Epoch: 46 [59/63 (94%)]\n",
            "Data set: Average loss: 0.1245\n",
            "Train Epoch: 47 [9/63 (14%)]\n",
            "Train Epoch: 47 [19/63 (30%)]\n",
            "Train Epoch: 47 [29/63 (46%)]\n",
            "Train Epoch: 47 [39/63 (62%)]\n",
            "Train Epoch: 47 [49/63 (78%)]\n",
            "Train Epoch: 47 [59/63 (94%)]\n",
            "Data set: Average loss: 0.1240\n",
            "Train Epoch: 48 [9/63 (14%)]\n",
            "Train Epoch: 48 [19/63 (30%)]\n",
            "Train Epoch: 48 [29/63 (46%)]\n",
            "Train Epoch: 48 [39/63 (62%)]\n",
            "Train Epoch: 48 [49/63 (78%)]\n",
            "Train Epoch: 48 [59/63 (94%)]\n",
            "Data set: Average loss: 0.1243\n",
            "Train Epoch: 49 [9/63 (14%)]\n",
            "Train Epoch: 49 [19/63 (30%)]\n",
            "Train Epoch: 49 [29/63 (46%)]\n",
            "Train Epoch: 49 [39/63 (62%)]\n",
            "Train Epoch: 49 [49/63 (78%)]\n",
            "Train Epoch: 49 [59/63 (94%)]\n",
            "Data set: Average loss: 0.1226\n",
            "Train Epoch: 50 [9/63 (14%)]\n",
            "Train Epoch: 50 [19/63 (30%)]\n",
            "Train Epoch: 50 [29/63 (46%)]\n",
            "Train Epoch: 50 [39/63 (62%)]\n",
            "Train Epoch: 50 [49/63 (78%)]\n",
            "Train Epoch: 50 [59/63 (94%)]\n",
            "Data set: Average loss: 0.1241\n"
          ],
          "name": "stdout"
        }
      ]
    },
    {
      "cell_type": "code",
      "metadata": {
        "id": "VrpziWn-Zp41",
        "colab_type": "code",
        "colab": {
          "base_uri": "https://localhost:8080/",
          "height": 279
        },
        "outputId": "2ae84c59-2725-4834-e56a-6e16516f86af"
      },
      "source": [
        "plt.plot(range(train_epochs_start, train_epochs_end), avg_losses)\n",
        "plt.xlabel('Epoch')\n",
        "plt.ylabel('Average loss')\n",
        "plt.savefig('ssl1_loss.png')\n",
        "plt.show()"
      ],
      "execution_count": null,
      "outputs": [
        {
          "output_type": "display_data",
          "data": {
            "image/png": "[encoded data removed]",
            "text/plain": [
              "<Figure size 432x288 with 1 Axes>"
            ]
          },
          "metadata": {
            "tags": [],
            "needs_background": "light"
          }
        }
      ]
    },
    {
      "cell_type": "code",
      "metadata": {
        "id": "2i1_yPB56YnD",
        "colab_type": "code",
        "colab": {
          "base_uri": "https://localhost:8080/",
          "height": 545
        },
        "outputId": "917726f1-a91a-4c03-826b-83e7c723c48b"
      },
      "source": [
        "plot_change(model.cpu(), model_old)"
      ],
      "execution_count": null,
      "outputs": [
        {
          "output_type": "display_data",
          "data": {
            "image/png": "[encoded data removed]",
            "text/plain": [
              "<Figure size 432x288 with 1 Axes>"
            ]
          },
          "metadata": {
            "tags": [],
            "needs_background": "light"
          }
        },
        {
          "output_type": "display_data",
          "data": {
            "image/png": "[encoded data removed]",
            "text/plain": [
              "<Figure size 432x288 with 1 Axes>"
            ]
          },
          "metadata": {
            "tags": [],
            "needs_background": "light"
          }
        }
      ]
    },
    {
      "cell_type": "code",
      "metadata": {
        "id": "nA2COU1qWc57",
        "colab_type": "code",
        "colab": {}
      },
      "source": [
        "torch.save(model.state_dict(), 'ssl1.pt')"
      ],
      "execution_count": null,
      "outputs": []
    },
    {
      "cell_type": "markdown",
      "metadata": {
        "id": "pf6DA81FOaCF",
        "colab_type": "text"
      },
      "source": [
        "# SSL on COVID-CT"
      ]
    },
    {
      "cell_type": "code",
      "metadata": {
        "id": "-QfFiDhKOctL",
        "colab_type": "code",
        "colab": {}
      },
      "source": [
        "os.mkdir('ssl2_backup')\n",
        "os.mkdir('ssl2_result')"
      ],
      "execution_count": null,
      "outputs": []
    },
    {
      "cell_type": "code",
      "metadata": {
        "id": "05aB8yRqcIPq",
        "colab_type": "code",
        "colab": {}
      },
      "source": [
        "torch.manual_seed(42)\n",
        "torch.cuda.manual_seed(42)\n",
        "np.random.seed(42)\n",
        "torch.backends.cudnn.deterministic = True\n",
        "rng = np.random.RandomState(42)"
      ],
      "execution_count": null,
      "outputs": []
    },
    {
      "cell_type": "code",
      "metadata": {
        "id": "16VqVqngOj9N",
        "colab_type": "code",
        "colab": {}
      },
      "source": [
        "torch.cuda.empty_cache()\n",
        "\n",
        "device = 'cuda'\n",
        "batchsize = 16\n",
        "train_epochs_start = 0\n",
        "train_epochs_end = 50\n",
        "ssl1_epochs = 50"
      ],
      "execution_count": null,
      "outputs": []
    },
    {
      "cell_type": "code",
      "metadata": {
        "id": "DmmT2DUrOrHQ",
        "colab_type": "code",
        "colab": {}
      },
      "source": [
        "model = SimCLR()\n",
        "modelname = 'SimCLR'\n",
        "\n",
        "if train_epochs_start > 0:\n",
        "    model.load_state_dict(\n",
        "        torch.load('ssl2_backup/{}_{}.pt'.format(\n",
        "            modelname,\n",
        "            train_epochs_start\n",
        "        ))\n",
        "    )\n",
        "else:\n",
        "    model.load_state_dict(\n",
        "        torch.load('ssl1_backup/{}_{}.pt'.format(\n",
        "            modelname,\n",
        "            ssl1_epochs\n",
        "        ))\n",
        "    )\n",
        "\n",
        "if device == 'cuda':\n",
        "    model = model.cuda()"
      ],
      "execution_count": null,
      "outputs": []
    },
    {
      "cell_type": "code",
      "metadata": {
        "id": "PWr0uzf76hsF",
        "colab_type": "code",
        "colab": {
          "base_uri": "https://localhost:8080/",
          "height": 34
        },
        "outputId": "a2b5562c-1605-440e-d08c-dd0c2dc1c6bf"
      },
      "source": [
        "model_old = SimCLR()\n",
        "model_old.load_state_dict(model.state_dict())"
      ],
      "execution_count": null,
      "outputs": [
        {
          "output_type": "execute_result",
          "data": {
            "text/plain": [
              "<All keys matched successfully>"
            ]
          },
          "metadata": {
            "tags": []
          },
          "execution_count": 26
        }
      ]
    },
    {
      "cell_type": "code",
      "metadata": {
        "id": "VyRAGi-7Pnfj",
        "colab_type": "code",
        "colab": {}
      },
      "source": [
        "normalize = transforms.Normalize(\n",
        "    mean=[0.485, 0.456, 0.406],\n",
        "    std=[0.229, 0.224, 0.225]\n",
        ")\n",
        "transformer = transforms.Compose([\n",
        "    transforms.RandomResizedCrop(224, scale=(0.2, 1.)),\n",
        "    transforms.RandomApply([transforms.ColorJitter(0.4, 0.4, 0.4, 0.1)], p=0.8),\n",
        "    transforms.RandomGrayscale(p=0.2),\n",
        "    transforms.RandomApply([GaussianBlur([.1, 2.])], p=0.5),\n",
        "    transforms.RandomHorizontalFlip(),\n",
        "    transforms.ToTensor(),\n",
        "    normalize\n",
        "])"
      ],
      "execution_count": null,
      "outputs": []
    },
    {
      "cell_type": "code",
      "metadata": {
        "id": "7vERlPqBP1_x",
        "colab_type": "code",
        "colab": {}
      },
      "source": [
        "class CovidCTDataset(Dataset):\n",
        "    def __init__(self, root_dir, txt_COVID, txt_NonCOVID, transform=transformer):\n",
        "        \"\"\"\n",
        "            Args:\n",
        "                txt_path (string): Path to the txt file with annotations.\n",
        "                root_dir (string): Directory with all the images.\n",
        "                transform (callable, optional): Optional transform to be applied on a sample.\n",
        "            File structure:\n",
        "                - root_dir\n",
        "                    - CT_COVID\n",
        "                        - img1.png\n",
        "                        - img2.png\n",
        "                        - ......\n",
        "                    - CT_NonCOVID\n",
        "                        - img1.png\n",
        "                        - img2.png\n",
        "                        - ......\n",
        "        \"\"\"\n",
        "        self.root_dir = root_dir\n",
        "        self.txt_path = [txt_COVID, txt_NonCOVID]\n",
        "        self.classes = ['CT_COVID', 'CT_NonCOVID']\n",
        "        self.num_cls = len(self.classes)\n",
        "        self.img_list = []\n",
        "        for c in range(self.num_cls):\n",
        "            cls_list = [os.path.join(self.root_dir, self.classes[c], item) for item in read_txt(self.txt_path[c])]\n",
        "            self.img_list += cls_list\n",
        "        self.transform = transform\n",
        "\n",
        "    def __len__(self):\n",
        "        return len(self.img_list)\n",
        "\n",
        "    def __getitem__(self, idx):\n",
        "        if torch.is_tensor(idx):\n",
        "            idx = idx.tolist()\n",
        "\n",
        "        img_path = self.img_list[idx]\n",
        "        image = Image.open(img_path).convert('RGB')\n",
        "\n",
        "        image0 = self.transform(image)\n",
        "        image1 = self.transform(image)\n",
        "\n",
        "        sample = {'img0': image0, 'img1': image1}\n",
        "        return sample"
      ],
      "execution_count": null,
      "outputs": []
    },
    {
      "cell_type": "code",
      "metadata": {
        "id": "Rnbnfv-rQC7U",
        "colab_type": "code",
        "colab": {
          "base_uri": "https://localhost:8080/",
          "height": 34
        },
        "outputId": "a40024c0-1466-467c-ef91-a22594d4fcf9"
      },
      "source": [
        "dataset = CovidCTDataset(\n",
        "    root_dir='Images',\n",
        "    txt_COVID='Data-split/COVID/trainCT_COVID.txt',\n",
        "    txt_NonCOVID='Data-split/NonCOVID/trainCT_NonCOVID.txt',\n",
        "    transform=transformer\n",
        ")\n",
        "print(\"dataset length:\", dataset.__len__())\n",
        "data_loader = DataLoader(dataset, batch_size=batchsize, drop_last=False, shuffle=True)"
      ],
      "execution_count": null,
      "outputs": [
        {
          "output_type": "stream",
          "text": [
            "dataset length: 425\n"
          ],
          "name": "stdout"
        }
      ]
    },
    {
      "cell_type": "code",
      "metadata": {
        "id": "kKv1Czw1QGC3",
        "colab_type": "code",
        "colab": {}
      },
      "source": [
        "def train(epoch):\n",
        "\n",
        "    model.train()\n",
        "\n",
        "    train_loss = 0\n",
        "\n",
        "    for batch_index, batch_samples in enumerate(data_loader):\n",
        "\n",
        "        # move data to device\n",
        "        data0, data1 = batch_samples['img0'].to(device), batch_samples['img1'].to(device)\n",
        "\n",
        "        output0 = model(data0)\n",
        "        output1 = model(data1)\n",
        "\n",
        "        loss = criteria(output0, output1)\n",
        "        train_loss += loss.item()\n",
        "\n",
        "        optimizer.zero_grad()\n",
        "        loss.backward()\n",
        "        optimizer.step()\n",
        "\n",
        "        # Display progress\n",
        "        if (batch_index + 1) % bs == 0:\n",
        "            print('Train Epoch: {} [{}/{} ({:.0f}%)]'.format(\n",
        "                epoch,\n",
        "                batch_index, len(data_loader),\n",
        "                100.0 * batch_index / len(data_loader)\n",
        "            ))\n",
        "\n",
        "    avg_loss = train_loss / len(data_loader.dataset)\n",
        "    print('Data set: Average loss: {:.4f}'.format(avg_loss))\n",
        "    f = open('ssl2_result/train_{}.txt'.format(modelname), 'a+')\n",
        "    f.write('Data set: Average loss: {:.4f}'.format(avg_loss))\n",
        "    f.close()\n",
        "    avg_losses.append(avg_loss)"
      ],
      "execution_count": null,
      "outputs": []
    },
    {
      "cell_type": "code",
      "metadata": {
        "id": "i8yv_xS1QfVc",
        "colab_type": "code",
        "colab": {
          "base_uri": "https://localhost:8080/",
          "height": 1000
        },
        "outputId": "3b08e883-4a28-40d5-a6a5-83963d473573"
      },
      "source": [
        "bs = 10\n",
        "T_checkpoint = 10\n",
        "avg_losses = []\n",
        "\n",
        "criteria = NTXentLoss()\n",
        "optimizer = optim.Adam(model.parameters())\n",
        "\n",
        "for epoch in range(train_epochs_start + 1, train_epochs_end + 1):\n",
        "    train(epoch)\n",
        "    \n",
        "    if epoch % T_checkpoint == 0:\n",
        "        # checkpoint\n",
        "        torch.save(model.state_dict(), 'ssl2_backup/{}_{}.pt'.format(modelname, epoch))"
      ],
      "execution_count": null,
      "outputs": [
        {
          "output_type": "stream",
          "text": [
            "Train Epoch: 1 [9/27 (33%)]\n",
            "Train Epoch: 1 [19/27 (70%)]\n",
            "Data set: Average loss: 0.1528\n",
            "Train Epoch: 2 [9/27 (33%)]\n",
            "Train Epoch: 2 [19/27 (70%)]\n",
            "Data set: Average loss: 0.1489\n",
            "Train Epoch: 3 [9/27 (33%)]\n",
            "Train Epoch: 3 [19/27 (70%)]\n",
            "Data set: Average loss: 0.1427\n",
            "Train Epoch: 4 [9/27 (33%)]\n",
            "Train Epoch: 4 [19/27 (70%)]\n",
            "Data set: Average loss: 0.1393\n",
            "Train Epoch: 5 [9/27 (33%)]\n",
            "Train Epoch: 5 [19/27 (70%)]\n",
            "Data set: Average loss: 0.1369\n",
            "Train Epoch: 6 [9/27 (33%)]\n",
            "Train Epoch: 6 [19/27 (70%)]\n",
            "Data set: Average loss: 0.1384\n",
            "Train Epoch: 7 [9/27 (33%)]\n",
            "Train Epoch: 7 [19/27 (70%)]\n",
            "Data set: Average loss: 0.1383\n",
            "Train Epoch: 8 [9/27 (33%)]\n",
            "Train Epoch: 8 [19/27 (70%)]\n",
            "Data set: Average loss: 0.1329\n",
            "Train Epoch: 9 [9/27 (33%)]\n",
            "Train Epoch: 9 [19/27 (70%)]\n",
            "Data set: Average loss: 0.1367\n",
            "Train Epoch: 10 [9/27 (33%)]\n",
            "Train Epoch: 10 [19/27 (70%)]\n",
            "Data set: Average loss: 0.1338\n",
            "Train Epoch: 11 [9/27 (33%)]\n",
            "Train Epoch: 11 [19/27 (70%)]\n",
            "Data set: Average loss: 0.1352\n",
            "Train Epoch: 12 [9/27 (33%)]\n",
            "Train Epoch: 12 [19/27 (70%)]\n",
            "Data set: Average loss: 0.1328\n",
            "Train Epoch: 13 [9/27 (33%)]\n",
            "Train Epoch: 13 [19/27 (70%)]\n",
            "Data set: Average loss: 0.1336\n",
            "Train Epoch: 14 [9/27 (33%)]\n",
            "Train Epoch: 14 [19/27 (70%)]\n",
            "Data set: Average loss: 0.1313\n",
            "Train Epoch: 15 [9/27 (33%)]\n",
            "Train Epoch: 15 [19/27 (70%)]\n",
            "Data set: Average loss: 0.1328\n",
            "Train Epoch: 16 [9/27 (33%)]\n",
            "Train Epoch: 16 [19/27 (70%)]\n",
            "Data set: Average loss: 0.1384\n",
            "Train Epoch: 17 [9/27 (33%)]\n",
            "Train Epoch: 17 [19/27 (70%)]\n",
            "Data set: Average loss: 0.1305\n",
            "Train Epoch: 18 [9/27 (33%)]\n",
            "Train Epoch: 18 [19/27 (70%)]\n",
            "Data set: Average loss: 0.1312\n",
            "Train Epoch: 19 [9/27 (33%)]\n",
            "Train Epoch: 19 [19/27 (70%)]\n",
            "Data set: Average loss: 0.1294\n",
            "Train Epoch: 20 [9/27 (33%)]\n",
            "Train Epoch: 20 [19/27 (70%)]\n",
            "Data set: Average loss: 0.1319\n",
            "Train Epoch: 21 [9/27 (33%)]\n",
            "Train Epoch: 21 [19/27 (70%)]\n",
            "Data set: Average loss: 0.1330\n",
            "Train Epoch: 22 [9/27 (33%)]\n",
            "Train Epoch: 22 [19/27 (70%)]\n",
            "Data set: Average loss: 0.1308\n",
            "Train Epoch: 23 [9/27 (33%)]\n",
            "Train Epoch: 23 [19/27 (70%)]\n",
            "Data set: Average loss: 0.1271\n",
            "Train Epoch: 24 [9/27 (33%)]\n",
            "Train Epoch: 24 [19/27 (70%)]\n",
            "Data set: Average loss: 0.1284\n",
            "Train Epoch: 25 [9/27 (33%)]\n",
            "Train Epoch: 25 [19/27 (70%)]\n",
            "Data set: Average loss: 0.1278\n",
            "Train Epoch: 26 [9/27 (33%)]\n",
            "Train Epoch: 26 [19/27 (70%)]\n",
            "Data set: Average loss: 0.1301\n",
            "Train Epoch: 27 [9/27 (33%)]\n",
            "Train Epoch: 27 [19/27 (70%)]\n",
            "Data set: Average loss: 0.1282\n",
            "Train Epoch: 28 [9/27 (33%)]\n",
            "Train Epoch: 28 [19/27 (70%)]\n",
            "Data set: Average loss: 0.1297\n",
            "Train Epoch: 29 [9/27 (33%)]\n",
            "Train Epoch: 29 [19/27 (70%)]\n",
            "Data set: Average loss: 0.1295\n",
            "Train Epoch: 30 [9/27 (33%)]\n",
            "Train Epoch: 30 [19/27 (70%)]\n",
            "Data set: Average loss: 0.1309\n",
            "Train Epoch: 31 [9/27 (33%)]\n",
            "Train Epoch: 31 [19/27 (70%)]\n",
            "Data set: Average loss: 0.1301\n",
            "Train Epoch: 32 [9/27 (33%)]\n",
            "Train Epoch: 32 [19/27 (70%)]\n",
            "Data set: Average loss: 0.1277\n",
            "Train Epoch: 33 [9/27 (33%)]\n",
            "Train Epoch: 33 [19/27 (70%)]\n",
            "Data set: Average loss: 0.1279\n",
            "Train Epoch: 34 [9/27 (33%)]\n",
            "Train Epoch: 34 [19/27 (70%)]\n",
            "Data set: Average loss: 0.1261\n",
            "Train Epoch: 35 [9/27 (33%)]\n",
            "Train Epoch: 35 [19/27 (70%)]\n",
            "Data set: Average loss: 0.1303\n",
            "Train Epoch: 36 [9/27 (33%)]\n",
            "Train Epoch: 36 [19/27 (70%)]\n",
            "Data set: Average loss: 0.1278\n",
            "Train Epoch: 37 [9/27 (33%)]\n",
            "Train Epoch: 37 [19/27 (70%)]\n",
            "Data set: Average loss: 0.1285\n",
            "Train Epoch: 38 [9/27 (33%)]\n",
            "Train Epoch: 38 [19/27 (70%)]\n",
            "Data set: Average loss: 0.1289\n",
            "Train Epoch: 39 [9/27 (33%)]\n",
            "Train Epoch: 39 [19/27 (70%)]\n",
            "Data set: Average loss: 0.1271\n",
            "Train Epoch: 40 [9/27 (33%)]\n",
            "Train Epoch: 40 [19/27 (70%)]\n",
            "Data set: Average loss: 0.1253\n",
            "Train Epoch: 41 [9/27 (33%)]\n",
            "Train Epoch: 41 [19/27 (70%)]\n",
            "Data set: Average loss: 0.1255\n",
            "Train Epoch: 42 [9/27 (33%)]\n",
            "Train Epoch: 42 [19/27 (70%)]\n",
            "Data set: Average loss: 0.1275\n",
            "Train Epoch: 43 [9/27 (33%)]\n",
            "Train Epoch: 43 [19/27 (70%)]\n",
            "Data set: Average loss: 0.1267\n",
            "Train Epoch: 44 [9/27 (33%)]\n",
            "Train Epoch: 44 [19/27 (70%)]\n",
            "Data set: Average loss: 0.1255\n",
            "Train Epoch: 45 [9/27 (33%)]\n",
            "Train Epoch: 45 [19/27 (70%)]\n",
            "Data set: Average loss: 0.1244\n",
            "Train Epoch: 46 [9/27 (33%)]\n",
            "Train Epoch: 46 [19/27 (70%)]\n",
            "Data set: Average loss: 0.1268\n",
            "Train Epoch: 47 [9/27 (33%)]\n",
            "Train Epoch: 47 [19/27 (70%)]\n",
            "Data set: Average loss: 0.1250\n",
            "Train Epoch: 48 [9/27 (33%)]\n",
            "Train Epoch: 48 [19/27 (70%)]\n",
            "Data set: Average loss: 0.1269\n",
            "Train Epoch: 49 [9/27 (33%)]\n",
            "Train Epoch: 49 [19/27 (70%)]\n",
            "Data set: Average loss: 0.1261\n",
            "Train Epoch: 50 [9/27 (33%)]\n",
            "Train Epoch: 50 [19/27 (70%)]\n",
            "Data set: Average loss: 0.1265\n"
          ],
          "name": "stdout"
        }
      ]
    },
    {
      "cell_type": "code",
      "metadata": {
        "id": "4LoVaxu2kEui",
        "colab_type": "code",
        "colab": {
          "base_uri": "https://localhost:8080/",
          "height": 279
        },
        "outputId": "424813fd-0444-471d-d4c0-06634b1896fd"
      },
      "source": [
        "plt.plot(range(train_epochs_start, train_epochs_end), avg_losses)\n",
        "plt.xlabel('Epoch')\n",
        "plt.ylabel('Average loss')\n",
        "plt.savefig('ssl2_loss.png')\n",
        "plt.show()"
      ],
      "execution_count": null,
      "outputs": [
        {
          "output_type": "display_data",
          "data": {
            "image/png": "[encoded data removed]",
            "text/plain": [
              "<Figure size 432x288 with 1 Axes>"
            ]
          },
          "metadata": {
            "tags": [],
            "needs_background": "light"
          }
        }
      ]
    },
    {
      "cell_type": "code",
      "metadata": {
        "id": "fBbj-h5p6ker",
        "colab_type": "code",
        "colab": {
          "base_uri": "https://localhost:8080/",
          "height": 545
        },
        "outputId": "86bb5ead-8d6b-4f07-8c9b-b94798b4239e"
      },
      "source": [
        "plot_change(model.cpu(), model_old)"
      ],
      "execution_count": null,
      "outputs": [
        {
          "output_type": "display_data",
          "data": {
            "image/png": "[encoded data removed]",
            "text/plain": [
              "<Figure size 432x288 with 1 Axes>"
            ]
          },
          "metadata": {
            "tags": [],
            "needs_background": "light"
          }
        },
        {
          "output_type": "display_data",
          "data": {
            "image/png": "[encoded data removed]",
            "text/plain": [
              "<Figure size 432x288 with 1 Axes>"
            ]
          },
          "metadata": {
            "tags": [],
            "needs_background": "light"
          }
        }
      ]
    },
    {
      "cell_type": "code",
      "metadata": {
        "id": "mFIIwyj7XG3f",
        "colab_type": "code",
        "colab": {}
      },
      "source": [
        "torch.save(model.state_dict(), 'ssl2.pt')"
      ],
      "execution_count": null,
      "outputs": []
    },
    {
      "cell_type": "markdown",
      "metadata": {
        "id": "UL-6QwIxVly8",
        "colab_type": "text"
      },
      "source": [
        "# Fine-tuning the model on the final task"
      ]
    },
    {
      "cell_type": "code",
      "metadata": {
        "id": "UM3YSCm4xvdo",
        "colab_type": "code",
        "colab": {}
      },
      "source": [
        "os.mkdir('model_backup')\n",
        "os.mkdir('model_result')"
      ],
      "execution_count": null,
      "outputs": []
    },
    {
      "cell_type": "code",
      "metadata": {
        "id": "-AWojU8qApe0",
        "colab_type": "code",
        "colab": {}
      },
      "source": [
        "torch.manual_seed(42)\n",
        "torch.cuda.manual_seed(42)\n",
        "np.random.seed(42)\n",
        "torch.backends.cudnn.deterministic = True\n",
        "rng = np.random.RandomState(42)"
      ],
      "execution_count": null,
      "outputs": []
    },
    {
      "cell_type": "code",
      "metadata": {
        "id": "-m_h5UYgVqkK",
        "colab_type": "code",
        "colab": {}
      },
      "source": [
        "from sklearn.metrics import roc_auc_score\n",
        "import torch.nn.functional as F\n",
        "\n",
        "torch.cuda.empty_cache()\n",
        "\n",
        "\n",
        "batchsize = 16\n",
        "train_epochs_start = 0\n",
        "train_epochs_end = 50\n",
        "ssl2_epochs = 50"
      ],
      "execution_count": null,
      "outputs": []
    },
    {
      "cell_type": "code",
      "metadata": {
        "id": "xf3wtjzuWqQ4",
        "colab_type": "code",
        "colab": {}
      },
      "source": [
        "class FineTune(torch.nn.Module):\n",
        "    def __init__(self, ssl_model, out_dim=2):\n",
        "        super(FineTune, self).__init__()\n",
        "\n",
        "        self.features = ssl_model.features\n",
        "        self.relu = nn.ReLU(inplace=True)\n",
        "        self.classifier = nn.Linear(\n",
        "            ssl_model.classifier[0].in_features,\n",
        "            out_features=out_dim,\n",
        "            bias=True\n",
        "        )\n",
        "\n",
        "    def forward(self, x):\n",
        "        out = self.features(x)\n",
        "        out = self.relu(out)\n",
        "        out = F.adaptive_avg_pool2d(out, (1, 1))\n",
        "        out = torch.flatten(out, 1)\n",
        "        out = self.classifier(out)\n",
        "        return out"
      ],
      "execution_count": null,
      "outputs": []
    },
    {
      "cell_type": "code",
      "metadata": {
        "id": "IN0NdcwAXCQi",
        "colab_type": "code",
        "colab": {}
      },
      "source": [
        "model = SimCLR()\n",
        "modelname = 'SimCLR'\n",
        "\n",
        "if train_epochs_start > 0:\n",
        "    model = FineTune(model)\n",
        "    modelname = 'FineTune'\n",
        "    model.load_state_dict(\n",
        "        torch.load('model_backup/{}_{}.pt'.format(\n",
        "            modelname,\n",
        "            train_epochs_start\n",
        "        ))\n",
        "    )\n",
        "else:\n",
        "    model.load_state_dict(\n",
        "        torch.load('ssl2_backup/{}_{}.pt'.format(\n",
        "            modelname,\n",
        "            ssl2_epochs\n",
        "        ))\n",
        "    )\n",
        "    model = FineTune(model)\n",
        "    modelname = 'FineTune'\n",
        "\n",
        "if device == 'cuda':\n",
        "    model = model.cuda()"
      ],
      "execution_count": null,
      "outputs": []
    },
    {
      "cell_type": "code",
      "metadata": {
        "id": "1TtlpcyM6nmw",
        "colab_type": "code",
        "colab": {
          "base_uri": "https://localhost:8080/",
          "height": 34
        },
        "outputId": "93c38d7e-968f-4198-cd7e-d2a0d93297d4"
      },
      "source": [
        "model_old = FineTune(SimCLR())\n",
        "model_old.load_state_dict(model.state_dict())"
      ],
      "execution_count": null,
      "outputs": [
        {
          "output_type": "execute_result",
          "data": {
            "text/plain": [
              "<All keys matched successfully>"
            ]
          },
          "metadata": {
            "tags": []
          },
          "execution_count": 40
        }
      ]
    },
    {
      "cell_type": "code",
      "metadata": {
        "id": "TaZQvb8eXI19",
        "colab_type": "code",
        "colab": {}
      },
      "source": [
        "normalize = transforms.Normalize(\n",
        "    mean=[0.45271412, 0.45271412, 0.45271412],\n",
        "    std=[0.33165374, 0.33165374, 0.33165374]\n",
        ")\n",
        "train_transformer = transforms.Compose([\n",
        "    transforms.Resize((224, 224)),\n",
        "    transforms.ToTensor(),\n",
        "    normalize\n",
        "])\n",
        "\n",
        "val_transformer = transforms.Compose([\n",
        "    transforms.Resize((224, 224)),\n",
        "    transforms.ToTensor(),\n",
        "    normalize\n",
        "])\n",
        "\n",
        "detransformer = torchvision.transforms.Compose([\n",
        "    lambda image_tensor : image_tensor * torch.tensor([0.33165374, 0.33165374, 0.33165374])[:, None, None],\n",
        "    lambda image_tensor : image_tensor + torch.tensor([0.45271412, 0.45271412, 0.45271412])[:, None, None],\n",
        "    torchvision.transforms.ToPILImage()\n",
        "])"
      ],
      "execution_count": null,
      "outputs": []
    },
    {
      "cell_type": "code",
      "metadata": {
        "id": "dxDXUmjoXTsh",
        "colab_type": "code",
        "colab": {}
      },
      "source": [
        "def gradcam(model, input_tensor, detransform, label, axis):\n",
        "\n",
        "\t# Activations are saved.\n",
        "\tactivations = dict() # one-key dictionary. Doesn't work otherwise.\n",
        "\tdef get_activations(name):\n",
        "\t\tdef hook(module, input, output):\n",
        "\t\t\tactivations[name] = output.detach()\n",
        "\t\treturn hook\n",
        "\n",
        "\t# Gradients are saved.\n",
        "\tgrads = dict() # same as for activations\n",
        "\tdef get_grads(name):\n",
        "\t\tdef hook(module, grad_input, grad_output):\n",
        "\t\t\tgrads[name] = grad_output[0].detach() # is a tuple\n",
        "\t\treturn hook\n",
        "\n",
        "\tinput_batch = input_tensor.unsqueeze(0) # a batch of one\n",
        "\n",
        "\tfrw_handle = model.relu.register_forward_hook(get_activations(\"features\"))\n",
        "\tbck_handle = model.relu.register_backward_hook(get_grads(\"features\"))\n",
        "\n",
        "\tmodel.eval()\n",
        "\tmodel.zero_grad()\n",
        "\toutput_batch = model(input_batch)\n",
        "\toutput_batch[0][label].backward()\n",
        "\n",
        "\tfrw_handle.remove()\n",
        "\tbck_handle.remove()\n",
        "\n",
        "\tactivations = activations[\"features\"]\n",
        "\tgrads = grads[\"features\"]\n",
        "\n",
        "\tgrads = torch.mean(grads, dim=(-2, -1), keepdims=True) # gradients are pooled\n",
        "\tgrad_cam = activations * grads\n",
        "\tgrad_cam = torch.sum(grad_cam, dim=-3) # weighted sum\n",
        "\tgrad_cam = torch.nn.functional.relu(grad_cam) # relu'd weighted sum\n",
        "\tgrad_cam = grad_cam / grad_cam.max() # normalization\n",
        "\tgrad_cam = grad_cam[0] # squeezing the batch of one\n",
        "\n",
        "\taxis.imshow(detransform(input_tensor).resize((224, 224)), alpha=1.0)\n",
        "\t# Grad-CAM is resized to 224x224 via bilinear interpolation and mapped to 'JET' colormap to be superimposed on the original image.\n",
        "\taxis.imshow(torchvision.transforms.ToPILImage()(grad_cam).resize((224, 224), resample=Image.BILINEAR), cmap='jet', alpha=0.5)\n",
        "\taxis.set_xticks([])\n",
        "\taxis.set_yticks([])"
      ],
      "execution_count": null,
      "outputs": []
    },
    {
      "cell_type": "code",
      "metadata": {
        "id": "LTrQkcmUY79K",
        "colab_type": "code",
        "colab": {}
      },
      "source": [
        "# This definition overrides the previous one\n",
        "class CovidCTDataset(Dataset):\n",
        "    def __init__(self, root_dir, txt_COVID, txt_NonCOVID, transform=None):\n",
        "        \"\"\"\n",
        "            Args:\n",
        "                txt_path (string): Path to the txt file with annotations.\n",
        "                root_dir (string): Directory with all the images.\n",
        "                transform (callable, optional): Optional transform to be applied on a sample.\n",
        "            File structure:\n",
        "                - root_dir\n",
        "                    - CT_COVID\n",
        "                        - img1.png\n",
        "                        - img2.png\n",
        "                        - ......\n",
        "                    - CT_NonCOVID\n",
        "                        - img1.png\n",
        "                        - img2.png\n",
        "                        - ......\n",
        "        \"\"\"\n",
        "        self.root_dir = root_dir\n",
        "        self.txt_path = [txt_COVID, txt_NonCOVID]\n",
        "        self.classes = ['CT_COVID', 'CT_NonCOVID']\n",
        "        self.num_cls = len(self.classes)\n",
        "        self.img_list = []\n",
        "        for c in range(self.num_cls):\n",
        "            cls_list = [[os.path.join(self.root_dir, self.classes[c], item), c] for item in read_txt(self.txt_path[c])]\n",
        "            self.img_list += cls_list\n",
        "        self.transform = transform\n",
        "\n",
        "    def __len__(self):\n",
        "        return len(self.img_list)\n",
        "\n",
        "    def __getitem__(self, idx):\n",
        "        if torch.is_tensor(idx):\n",
        "            idx = idx.tolist()\n",
        "\n",
        "        img_path = self.img_list[idx][0]\n",
        "        image = Image.open(img_path).convert('RGB')\n",
        "\n",
        "        if self.transform:\n",
        "            image = self.transform(image)\n",
        "        sample = {'img': image, 'label': int(self.img_list[idx][1])}\n",
        "        return sample"
      ],
      "execution_count": null,
      "outputs": []
    },
    {
      "cell_type": "code",
      "metadata": {
        "id": "k4Qa6jqRZNWc",
        "colab_type": "code",
        "colab": {
          "base_uri": "https://localhost:8080/",
          "height": 69
        },
        "outputId": "cf727c38-9619-498f-d13d-4ee2254ed4ff"
      },
      "source": [
        "trainset = CovidCTDataset(\n",
        "    root_dir='Images',\n",
        "    txt_COVID='Data-split/COVID/trainCT_COVID.txt',\n",
        "    txt_NonCOVID='Data-split/NonCOVID/trainCT_NonCOVID.txt',\n",
        "    transform=train_transformer\n",
        ")\n",
        "valset = CovidCTDataset(\n",
        "    root_dir='Images',\n",
        "    txt_COVID='Data-split/COVID/valCT_COVID.txt',\n",
        "    txt_NonCOVID='Data-split/NonCOVID/valCT_NonCOVID.txt',\n",
        "    transform=val_transformer\n",
        ")\n",
        "testset = CovidCTDataset(\n",
        "    root_dir='Images',\n",
        "    txt_COVID='Data-split/COVID/testCT_COVID.txt',\n",
        "    txt_NonCOVID='Data-split/NonCOVID/testCT_NonCOVID.txt',\n",
        "    transform=val_transformer\n",
        ")\n",
        "print(\"trainset length:\", trainset.__len__())\n",
        "print(\"valset length:\", valset.__len__())\n",
        "print(\"testset length:\", testset.__len__())\n",
        "\n",
        "train_loader = DataLoader(trainset, batch_size=batchsize, drop_last=False, shuffle=True)\n",
        "val_loader = DataLoader(valset, batch_size=batchsize, drop_last=False, shuffle=False)\n",
        "test_loader = DataLoader(testset, batch_size=batchsize, drop_last=False, shuffle=False)"
      ],
      "execution_count": null,
      "outputs": [
        {
          "output_type": "stream",
          "text": [
            "trainset length: 425\n",
            "valset length: 118\n",
            "testset length: 203\n"
          ],
          "name": "stdout"
        }
      ]
    },
    {
      "cell_type": "code",
      "metadata": {
        "id": "osuxQYhYaV24",
        "colab_type": "code",
        "colab": {}
      },
      "source": [
        "def train(epoch):\n",
        "        \n",
        "    model.train()\n",
        "        \n",
        "    train_loss = 0\n",
        "    train_correct = 0\n",
        "        \n",
        "    for batch_index, batch_samples in enumerate(train_loader):\n",
        "                \n",
        "        # move data to device\n",
        "        data, target = batch_samples['img'].to(device), batch_samples['label'].to(device)\n",
        "\n",
        "        output = model(data)\n",
        "        loss = criteria(output, target.long())\n",
        "        train_loss += loss.item()\n",
        "                \n",
        "        optimizer.zero_grad()\n",
        "        loss.backward()\n",
        "        optimizer.step()\n",
        "\n",
        "        pred = output.argmax(dim=1)\n",
        "        train_correct += (pred == target).sum().item()\n",
        "        \n",
        "        # Display progress\n",
        "        if (batch_index + 1) % bs == 0:\n",
        "            print('Train Epoch: {} [{}/{} ({:.0f}%)]\\tTrain Loss: {:.6f}'.format(\n",
        "                epoch,\n",
        "                batch_index, len(train_loader),\n",
        "                100.0 * batch_index / len(train_loader),\n",
        "                train_loss / bs\n",
        "            ))\n",
        "            train_loss = 0\n",
        "        \n",
        "    avg_loss = train_loss / len(train_loader.dataset)\n",
        "    accuracy = 100.0 * train_correct / len(train_loader.dataset)\n",
        "    print('Train set: Average loss: {:.4f}, Accuracy: {}/{} ({:.0f}%)\\n'.format(\n",
        "        avg_loss,\n",
        "        train_correct, len(train_loader.dataset),\n",
        "        accuracy\n",
        "    ))\n",
        "    f = open('model_result/train_{}.txt'.format(modelname), 'a+')\n",
        "    f.write('Train set: Average loss: {:.4f}, Accuracy: {}/{} ({:.0f}%)\\n'.format(\n",
        "        avg_loss,\n",
        "        train_correct, len(train_loader.dataset),\n",
        "        accuracy\n",
        "    ))\n",
        "    f.close()\n",
        "    avg_losses.append(avg_loss)"
      ],
      "execution_count": null,
      "outputs": []
    },
    {
      "cell_type": "code",
      "metadata": {
        "id": "g_vy2_XrbIN5",
        "colab_type": "code",
        "colab": {}
      },
      "source": [
        " def predict(mode):\n",
        "    '''\n",
        "        mode:\n",
        "            either 'val' or 'train'\n",
        "    '''\n",
        "    loader = val_loader if mode == 'val' else test_loader\n",
        "        \n",
        "    model.eval()\n",
        "\n",
        "    predlist=[]\n",
        "    scorelist=[]\n",
        "    targetlist=[]\n",
        "        \n",
        "    # Don't update model\n",
        "    with torch.no_grad():\n",
        "        # Predict\n",
        "        for batch_index, batch_samples in enumerate(loader):\n",
        "            data, target = batch_samples['img'].to(device), batch_samples['label'].to(device)\n",
        "            output = model(data)\n",
        "                        \n",
        "            score = F.softmax(output, dim=1)\n",
        "            pred = output.argmax(dim=1)\n",
        "\n",
        "            targetcpu=target.long().cpu().numpy()\n",
        "            predlist=np.append(predlist, pred.cpu().numpy())\n",
        "            scorelist=np.append(scorelist, score.cpu().numpy()[:,1]) # percentages for positive\n",
        "            targetlist=np.append(targetlist, targetcpu)\n",
        "                                  \n",
        "    return targetlist, scorelist, predlist"
      ],
      "execution_count": null,
      "outputs": []
    },
    {
      "cell_type": "code",
      "metadata": {
        "id": "8pUgTKSObbsZ",
        "colab_type": "code",
        "colab": {
          "base_uri": "https://localhost:8080/",
          "height": 1000
        },
        "outputId": "840b541a-a52f-4b6e-db95-7425024f7d7e"
      },
      "source": [
        "bs = 10\n",
        "votenum = 5\n",
        "epochs, rs, ps, F1s, accs, AUCs = [], [], [], [], [], []\n",
        "avg_losses = []\n",
        "\n",
        "vote_pred = np.zeros(valset.__len__())\n",
        "vote_score = np.zeros(valset.__len__())\n",
        "\n",
        "criteria = nn.CrossEntropyLoss()\n",
        "optimizer = optim.Adam(model.parameters())\n",
        "\n",
        "for epoch in range(train_epochs_start + 1, train_epochs_end + 1):\n",
        "    train(epoch)\n",
        "\n",
        "    targetlist, scorelist, predlist = predict('val')\n",
        "    vote_pred = vote_pred + predlist\n",
        "    vote_score = vote_score + scorelist\n",
        "\n",
        "    if epoch % votenum == 0:\n",
        "        # checkpoint\n",
        "        torch.save(model.state_dict(), \"model_backup/{}_{}.pt\".format(modelname, epoch))\n",
        "                \n",
        "        # major vote\n",
        "        vote_pred[vote_pred <=  (votenum / 2)] = 0\n",
        "        vote_pred[vote_pred >   (votenum / 2)] = 1\n",
        "        vote_score = vote_score / votenum\n",
        "\n",
        "        TP = ((vote_pred == 1) & (targetlist == 1)).sum()\n",
        "        TN = ((vote_pred == 0) & (targetlist == 0)).sum()\n",
        "        FN = ((vote_pred == 0) & (targetlist == 1)).sum()\n",
        "        FP = ((vote_pred == 1) & (targetlist == 0)).sum()\n",
        "                \n",
        "        print('TP=',TP,'TN=',TN,'FN=',FN,'FP=',FP)\n",
        "        print('TP+FP',TP + FP)\n",
        "        p = TP / (TP + FP)\n",
        "        r = TP / (TP + FN)\n",
        "        F1 = 2 * r * p / (r + p)\n",
        "        acc = (TP + TN) / (TP + TN + FP + FN)\n",
        "        AUC = roc_auc_score(targetlist, vote_score)\n",
        "\n",
        "        print('The epoch is {}, average recall: {:.4f}, average precision: {:.4f}, average F1: {:.4f}, average accuracy: {:.4f}, average AUC: {:.4f}\\n\\n'.format(\n",
        "            epoch, r, p, F1, acc, AUC\n",
        "        ))\n",
        "        f = open('model_result/train_{}.txt'.format(modelname), 'a+')\n",
        "        f.write('The epoch is {}, average recall: {:.4f}, average precision: {:.4f}, average F1: {:.4f}, average accuracy: {:.4f}, average AUC: {:.4f}\\n\\n'.format(\n",
        "            epoch, r, p, F1, acc, AUC\n",
        "        ))\n",
        "        f.close()\n",
        "\n",
        "        epochs.append(epoch)\n",
        "        rs.append(r)\n",
        "        ps.append(p)\n",
        "        F1s.append(F1)\n",
        "        accs.append(acc)\n",
        "        AUCs.append(AUC)\n",
        "                \n",
        "        vote_pred = np.zeros(valset.__len__())\n",
        "        vote_score = np.zeros(valset.__len__())\n"
      ],
      "execution_count": null,
      "outputs": [
        {
          "output_type": "stream",
          "text": [
            "Train Epoch: 1 [9/27 (33%)]\tTrain Loss: 0.746514\n",
            "Train Epoch: 1 [19/27 (70%)]\tTrain Loss: 0.645630\n",
            "Train set: Average loss: 0.0119, Accuracy: 252/425 (59%)\n",
            "\n",
            "Train Epoch: 2 [9/27 (33%)]\tTrain Loss: 0.497742\n",
            "Train Epoch: 2 [19/27 (70%)]\tTrain Loss: 0.507097\n",
            "Train set: Average loss: 0.0079, Accuracy: 320/425 (75%)\n",
            "\n",
            "Train Epoch: 3 [9/27 (33%)]\tTrain Loss: 0.393701\n",
            "Train Epoch: 3 [19/27 (70%)]\tTrain Loss: 0.460239\n",
            "Train set: Average loss: 0.0064, Accuracy: 346/425 (81%)\n",
            "\n",
            "Train Epoch: 4 [9/27 (33%)]\tTrain Loss: 0.390920\n",
            "Train Epoch: 4 [19/27 (70%)]\tTrain Loss: 0.284456\n",
            "Train set: Average loss: 0.0053, Accuracy: 365/425 (86%)\n",
            "\n",
            "Train Epoch: 5 [9/27 (33%)]\tTrain Loss: 0.294371\n",
            "Train Epoch: 5 [19/27 (70%)]\tTrain Loss: 0.249542\n",
            "Train set: Average loss: 0.0084, Accuracy: 367/425 (86%)\n",
            "\n",
            "TP= 45 TN= 32 FN= 13 FP= 28\n",
            "TP+FP 73\n",
            "The epoch is 5, average recall: 0.7759, average precision: 0.6164, average F1: 0.6870, average accuracy: 0.6525, average AUC: 0.7333\n",
            "\n",
            "\n",
            "Train Epoch: 6 [9/27 (33%)]\tTrain Loss: 0.201181\n",
            "Train Epoch: 6 [19/27 (70%)]\tTrain Loss: 0.224413\n",
            "Train set: Average loss: 0.0031, Accuracy: 390/425 (92%)\n",
            "\n",
            "Train Epoch: 7 [9/27 (33%)]\tTrain Loss: 0.170816\n",
            "Train Epoch: 7 [19/27 (70%)]\tTrain Loss: 0.283022\n",
            "Train set: Average loss: 0.0057, Accuracy: 382/425 (90%)\n",
            "\n",
            "Train Epoch: 8 [9/27 (33%)]\tTrain Loss: 0.120677\n",
            "Train Epoch: 8 [19/27 (70%)]\tTrain Loss: 0.149117\n",
            "Train set: Average loss: 0.0040, Accuracy: 401/425 (94%)\n",
            "\n",
            "Train Epoch: 9 [9/27 (33%)]\tTrain Loss: 0.145426\n",
            "Train Epoch: 9 [19/27 (70%)]\tTrain Loss: 0.116262\n",
            "Train set: Average loss: 0.0026, Accuracy: 403/425 (95%)\n",
            "\n",
            "Train Epoch: 10 [9/27 (33%)]\tTrain Loss: 0.060730\n",
            "Train Epoch: 10 [19/27 (70%)]\tTrain Loss: 0.150195\n",
            "Train set: Average loss: 0.0026, Accuracy: 410/425 (96%)\n",
            "\n",
            "TP= 53 TN= 31 FN= 5 FP= 29\n",
            "TP+FP 82\n",
            "The epoch is 10, average recall: 0.9138, average precision: 0.6463, average F1: 0.7571, average accuracy: 0.7119, average AUC: 0.7920\n",
            "\n",
            "\n",
            "Train Epoch: 11 [9/27 (33%)]\tTrain Loss: 0.093477\n",
            "Train Epoch: 11 [19/27 (70%)]\tTrain Loss: 0.135453\n",
            "Train set: Average loss: 0.0013, Accuracy: 408/425 (96%)\n",
            "\n",
            "Train Epoch: 12 [9/27 (33%)]\tTrain Loss: 0.127028\n",
            "Train Epoch: 12 [19/27 (70%)]\tTrain Loss: 0.043866\n",
            "Train set: Average loss: 0.0021, Accuracy: 412/425 (97%)\n",
            "\n",
            "Train Epoch: 13 [9/27 (33%)]\tTrain Loss: 0.093564\n",
            "Train Epoch: 13 [19/27 (70%)]\tTrain Loss: 0.069701\n",
            "Train set: Average loss: 0.0007, Accuracy: 414/425 (97%)\n",
            "\n",
            "Train Epoch: 14 [9/27 (33%)]\tTrain Loss: 0.025751\n",
            "Train Epoch: 14 [19/27 (70%)]\tTrain Loss: 0.045769\n",
            "Train set: Average loss: 0.0007, Accuracy: 422/425 (99%)\n",
            "\n",
            "Train Epoch: 15 [9/27 (33%)]\tTrain Loss: 0.038901\n",
            "Train Epoch: 15 [19/27 (70%)]\tTrain Loss: 0.298053\n",
            "Train set: Average loss: 0.0035, Accuracy: 401/425 (94%)\n",
            "\n",
            "TP= 50 TN= 43 FN= 8 FP= 17\n",
            "TP+FP 67\n",
            "The epoch is 15, average recall: 0.8621, average precision: 0.7463, average F1: 0.8000, average accuracy: 0.7881, average AUC: 0.8089\n",
            "\n",
            "\n",
            "Train Epoch: 16 [9/27 (33%)]\tTrain Loss: 0.160341\n",
            "Train Epoch: 16 [19/27 (70%)]\tTrain Loss: 0.188884\n",
            "Train set: Average loss: 0.0013, Accuracy: 398/425 (94%)\n",
            "\n",
            "Train Epoch: 17 [9/27 (33%)]\tTrain Loss: 0.120588\n",
            "Train Epoch: 17 [19/27 (70%)]\tTrain Loss: 0.107456\n",
            "Train set: Average loss: 0.0024, Accuracy: 403/425 (95%)\n",
            "\n",
            "Train Epoch: 18 [9/27 (33%)]\tTrain Loss: 0.107019\n",
            "Train Epoch: 18 [19/27 (70%)]\tTrain Loss: 0.059266\n",
            "Train set: Average loss: 0.0012, Accuracy: 412/425 (97%)\n",
            "\n",
            "Train Epoch: 19 [9/27 (33%)]\tTrain Loss: 0.031224\n",
            "Train Epoch: 19 [19/27 (70%)]\tTrain Loss: 0.024389\n",
            "Train set: Average loss: 0.0008, Accuracy: 423/425 (100%)\n",
            "\n",
            "Train Epoch: 20 [9/27 (33%)]\tTrain Loss: 0.087321\n",
            "Train Epoch: 20 [19/27 (70%)]\tTrain Loss: 0.104800\n",
            "Train set: Average loss: 0.0014, Accuracy: 413/425 (97%)\n",
            "\n",
            "TP= 49 TN= 40 FN= 9 FP= 20\n",
            "TP+FP 69\n",
            "The epoch is 20, average recall: 0.8448, average precision: 0.7101, average F1: 0.7717, average accuracy: 0.7542, average AUC: 0.8201\n",
            "\n",
            "\n",
            "Train Epoch: 21 [9/27 (33%)]\tTrain Loss: 0.137683\n",
            "Train Epoch: 21 [19/27 (70%)]\tTrain Loss: 0.078889\n",
            "Train set: Average loss: 0.0006, Accuracy: 414/425 (97%)\n",
            "\n",
            "Train Epoch: 22 [9/27 (33%)]\tTrain Loss: 0.024029\n",
            "Train Epoch: 22 [19/27 (70%)]\tTrain Loss: 0.051333\n",
            "Train set: Average loss: 0.0002, Accuracy: 421/425 (99%)\n",
            "\n",
            "Train Epoch: 23 [9/27 (33%)]\tTrain Loss: 0.006903\n",
            "Train Epoch: 23 [19/27 (70%)]\tTrain Loss: 0.008764\n",
            "Train set: Average loss: 0.0002, Accuracy: 425/425 (100%)\n",
            "\n",
            "Train Epoch: 24 [9/27 (33%)]\tTrain Loss: 0.017670\n",
            "Train Epoch: 24 [19/27 (70%)]\tTrain Loss: 0.015019\n",
            "Train set: Average loss: 0.0001, Accuracy: 424/425 (100%)\n",
            "\n",
            "Train Epoch: 25 [9/27 (33%)]\tTrain Loss: 0.009082\n",
            "Train Epoch: 25 [19/27 (70%)]\tTrain Loss: 0.005530\n",
            "Train set: Average loss: 0.0001, Accuracy: 425/425 (100%)\n",
            "\n",
            "TP= 45 TN= 41 FN= 13 FP= 19\n",
            "TP+FP 64\n",
            "The epoch is 25, average recall: 0.7759, average precision: 0.7031, average F1: 0.7377, average accuracy: 0.7288, average AUC: 0.7960\n",
            "\n",
            "\n",
            "Train Epoch: 26 [9/27 (33%)]\tTrain Loss: 0.002710\n",
            "Train Epoch: 26 [19/27 (70%)]\tTrain Loss: 0.001497\n",
            "Train set: Average loss: 0.0000, Accuracy: 425/425 (100%)\n",
            "\n",
            "Train Epoch: 27 [9/27 (33%)]\tTrain Loss: 0.000745\n",
            "Train Epoch: 27 [19/27 (70%)]\tTrain Loss: 0.002728\n",
            "Train set: Average loss: 0.0000, Accuracy: 425/425 (100%)\n",
            "\n",
            "Train Epoch: 28 [9/27 (33%)]\tTrain Loss: 0.000737\n",
            "Train Epoch: 28 [19/27 (70%)]\tTrain Loss: 0.002164\n",
            "Train set: Average loss: 0.0001, Accuracy: 425/425 (100%)\n",
            "\n",
            "Train Epoch: 29 [9/27 (33%)]\tTrain Loss: 0.001890\n",
            "Train Epoch: 29 [19/27 (70%)]\tTrain Loss: 0.000999\n",
            "Train set: Average loss: 0.0000, Accuracy: 425/425 (100%)\n",
            "\n",
            "Train Epoch: 30 [9/27 (33%)]\tTrain Loss: 0.129626\n",
            "Train Epoch: 30 [19/27 (70%)]\tTrain Loss: 0.058591\n",
            "Train set: Average loss: 0.0029, Accuracy: 408/425 (96%)\n",
            "\n",
            "TP= 45 TN= 43 FN= 13 FP= 17\n",
            "TP+FP 62\n",
            "The epoch is 30, average recall: 0.7759, average precision: 0.7258, average F1: 0.7500, average accuracy: 0.7458, average AUC: 0.7991\n",
            "\n",
            "\n",
            "Train Epoch: 31 [9/27 (33%)]\tTrain Loss: 0.220913\n",
            "Train Epoch: 31 [19/27 (70%)]\tTrain Loss: 0.154856\n",
            "Train set: Average loss: 0.0015, Accuracy: 403/425 (95%)\n",
            "\n",
            "Train Epoch: 32 [9/27 (33%)]\tTrain Loss: 0.103540\n",
            "Train Epoch: 32 [19/27 (70%)]\tTrain Loss: 0.071216\n",
            "Train set: Average loss: 0.0023, Accuracy: 407/425 (96%)\n",
            "\n",
            "Train Epoch: 33 [9/27 (33%)]\tTrain Loss: 0.132856\n",
            "Train Epoch: 33 [19/27 (70%)]\tTrain Loss: 0.119645\n",
            "Train set: Average loss: 0.0013, Accuracy: 405/425 (95%)\n",
            "\n",
            "Train Epoch: 34 [9/27 (33%)]\tTrain Loss: 0.039344\n",
            "Train Epoch: 34 [19/27 (70%)]\tTrain Loss: 0.021313\n",
            "Train set: Average loss: 0.0001, Accuracy: 422/425 (99%)\n",
            "\n",
            "Train Epoch: 35 [9/27 (33%)]\tTrain Loss: 0.008618\n",
            "Train Epoch: 35 [19/27 (70%)]\tTrain Loss: 0.014334\n",
            "Train set: Average loss: 0.0003, Accuracy: 424/425 (100%)\n",
            "\n",
            "TP= 46 TN= 36 FN= 12 FP= 24\n",
            "TP+FP 70\n",
            "The epoch is 35, average recall: 0.7931, average precision: 0.6571, average F1: 0.7188, average accuracy: 0.6949, average AUC: 0.7744\n",
            "\n",
            "\n",
            "Train Epoch: 36 [9/27 (33%)]\tTrain Loss: 0.009726\n",
            "Train Epoch: 36 [19/27 (70%)]\tTrain Loss: 0.018685\n",
            "Train set: Average loss: 0.0001, Accuracy: 424/425 (100%)\n",
            "\n",
            "Train Epoch: 37 [9/27 (33%)]\tTrain Loss: 0.004762\n",
            "Train Epoch: 37 [19/27 (70%)]\tTrain Loss: 0.010555\n",
            "Train set: Average loss: 0.0007, Accuracy: 424/425 (100%)\n",
            "\n",
            "Train Epoch: 38 [9/27 (33%)]\tTrain Loss: 0.006764\n",
            "Train Epoch: 38 [19/27 (70%)]\tTrain Loss: 0.030882\n",
            "Train set: Average loss: 0.0001, Accuracy: 423/425 (100%)\n",
            "\n",
            "Train Epoch: 39 [9/27 (33%)]\tTrain Loss: 0.037999\n",
            "Train Epoch: 39 [19/27 (70%)]\tTrain Loss: 0.111435\n",
            "Train set: Average loss: 0.0004, Accuracy: 415/425 (98%)\n",
            "\n",
            "Train Epoch: 40 [9/27 (33%)]\tTrain Loss: 0.055238\n",
            "Train Epoch: 40 [19/27 (70%)]\tTrain Loss: 0.057428\n",
            "Train set: Average loss: 0.0009, Accuracy: 418/425 (98%)\n",
            "\n",
            "TP= 45 TN= 41 FN= 13 FP= 19\n",
            "TP+FP 64\n",
            "The epoch is 40, average recall: 0.7759, average precision: 0.7031, average F1: 0.7377, average accuracy: 0.7288, average AUC: 0.7897\n",
            "\n",
            "\n",
            "Train Epoch: 41 [9/27 (33%)]\tTrain Loss: 0.038669\n",
            "Train Epoch: 41 [19/27 (70%)]\tTrain Loss: 0.096080\n",
            "Train set: Average loss: 0.0014, Accuracy: 413/425 (97%)\n",
            "\n",
            "Train Epoch: 42 [9/27 (33%)]\tTrain Loss: 0.074515\n",
            "Train Epoch: 42 [19/27 (70%)]\tTrain Loss: 0.034286\n",
            "Train set: Average loss: 0.0008, Accuracy: 415/425 (98%)\n",
            "\n",
            "Train Epoch: 43 [9/27 (33%)]\tTrain Loss: 0.016251\n",
            "Train Epoch: 43 [19/27 (70%)]\tTrain Loss: 0.040016\n",
            "Train set: Average loss: 0.0005, Accuracy: 420/425 (99%)\n",
            "\n",
            "Train Epoch: 44 [9/27 (33%)]\tTrain Loss: 0.021600\n",
            "Train Epoch: 44 [19/27 (70%)]\tTrain Loss: 0.018936\n",
            "Train set: Average loss: 0.0001, Accuracy: 423/425 (100%)\n",
            "\n",
            "Train Epoch: 45 [9/27 (33%)]\tTrain Loss: 0.009723\n",
            "Train Epoch: 45 [19/27 (70%)]\tTrain Loss: 0.006413\n",
            "Train set: Average loss: 0.0003, Accuracy: 424/425 (100%)\n",
            "\n",
            "TP= 44 TN= 43 FN= 14 FP= 17\n",
            "TP+FP 61\n",
            "The epoch is 45, average recall: 0.7586, average precision: 0.7213, average F1: 0.7395, average accuracy: 0.7373, average AUC: 0.7882\n",
            "\n",
            "\n",
            "Train Epoch: 46 [9/27 (33%)]\tTrain Loss: 0.008481\n",
            "Train Epoch: 46 [19/27 (70%)]\tTrain Loss: 0.010174\n",
            "Train set: Average loss: 0.0002, Accuracy: 423/425 (100%)\n",
            "\n",
            "Train Epoch: 47 [9/27 (33%)]\tTrain Loss: 0.001605\n",
            "Train Epoch: 47 [19/27 (70%)]\tTrain Loss: 0.014524\n",
            "Train set: Average loss: 0.0001, Accuracy: 425/425 (100%)\n",
            "\n",
            "Train Epoch: 48 [9/27 (33%)]\tTrain Loss: 0.005927\n",
            "Train Epoch: 48 [19/27 (70%)]\tTrain Loss: 0.001325\n",
            "Train set: Average loss: 0.0004, Accuracy: 423/425 (100%)\n",
            "\n",
            "Train Epoch: 49 [9/27 (33%)]\tTrain Loss: 0.002614\n",
            "Train Epoch: 49 [19/27 (70%)]\tTrain Loss: 0.005457\n",
            "Train set: Average loss: 0.0002, Accuracy: 424/425 (100%)\n",
            "\n",
            "Train Epoch: 50 [9/27 (33%)]\tTrain Loss: 0.003901\n",
            "Train Epoch: 50 [19/27 (70%)]\tTrain Loss: 0.001946\n",
            "Train set: Average loss: 0.0011, Accuracy: 423/425 (100%)\n",
            "\n",
            "TP= 46 TN= 45 FN= 12 FP= 15\n",
            "TP+FP 61\n",
            "The epoch is 50, average recall: 0.7931, average precision: 0.7541, average F1: 0.7731, average accuracy: 0.7712, average AUC: 0.7997\n",
            "\n",
            "\n"
          ],
          "name": "stdout"
        }
      ]
    },
    {
      "cell_type": "code",
      "metadata": {
        "id": "Ry8_cAGZd_Tc",
        "colab_type": "code",
        "colab": {
          "base_uri": "https://localhost:8080/",
          "height": 279
        },
        "outputId": "b7414f17-2b0b-409b-e407-235d1104c34f"
      },
      "source": [
        "plt.plot(epochs, rs, label='Recall')\n",
        "plt.plot(epochs, ps, label='Precision')\n",
        "plt.plot(epochs, F1s, label='F1')\n",
        "plt.plot(epochs, accs, label='Accuracy')\n",
        "plt.plot(epochs, AUCs, label='AUC')\n",
        "plt.legend()\n",
        "plt.xlabel('Epoch')\n",
        "plt.ylabel('Training result')\n",
        "plt.xticks(epochs)\n",
        "plt.savefig('validation_performance.png')\n",
        "plt.show()"
      ],
      "execution_count": null,
      "outputs": [
        {
          "output_type": "display_data",
          "data": {
            "image/png": "[encoded data removed]",
            "text/plain": [
              "<Figure size 432x288 with 1 Axes>"
            ]
          },
          "metadata": {
            "tags": [],
            "needs_background": "light"
          }
        }
      ]
    },
    {
      "cell_type": "code",
      "metadata": {
        "id": "kTuBNFgSCQtL",
        "colab_type": "code",
        "colab": {
          "base_uri": "https://localhost:8080/",
          "height": 295
        },
        "outputId": "44fa4459-fe68-463b-ab34-5709eb9876df"
      },
      "source": [
        "plt.plot(range(train_epochs_start, train_epochs_end), avg_losses)\n",
        "plt.xlabel('Epoch')\n",
        "plt.ylabel('Average loss')\n",
        "plt.title('Training loss during fine-tuning')\n",
        "plt.savefig('fine-tuning_loss.png')\n",
        "plt.show()"
      ],
      "execution_count": null,
      "outputs": [
        {
          "output_type": "display_data",
          "data": {
            "image/png": "[encoded data removed]",
            "text/plain": [
              "<Figure size 432x288 with 1 Axes>"
            ]
          },
          "metadata": {
            "tags": [],
            "needs_background": "light"
          }
        }
      ]
    },
    {
      "cell_type": "code",
      "metadata": {
        "id": "431a0kMT6wDE",
        "colab_type": "code",
        "colab": {
          "base_uri": "https://localhost:8080/",
          "height": 545
        },
        "outputId": "c3efda91-6049-4a4f-c1ef-8a8db60931c7"
      },
      "source": [
        "plot_change(model.cpu(), model_old)\n",
        "model = model.cuda()"
      ],
      "execution_count": null,
      "outputs": [
        {
          "output_type": "display_data",
          "data": {
            "image/png": "[encoded data removed]",
            "text/plain": [
              "<Figure size 432x288 with 1 Axes>"
            ]
          },
          "metadata": {
            "tags": [],
            "needs_background": "light"
          }
        },
        {
          "output_type": "display_data",
          "data": {
            "image/png": "[encoded data removed]",
            "text/plain": [
              "<Figure size 432x288 with 1 Axes>"
            ]
          },
          "metadata": {
            "tags": [],
            "needs_background": "light"
          }
        }
      ]
    },
    {
      "cell_type": "code",
      "metadata": {
        "id": "D8UCiEdxb8RH",
        "colab_type": "code",
        "colab": {
          "base_uri": "https://localhost:8080/",
          "height": 106
        },
        "outputId": "79a72bd4-6692-49c9-93a3-8ac6877bce7e"
      },
      "source": [
        "bs = 10\n",
        "\n",
        "        \n",
        "targetlist, scorelist, predlist = predict('test')\n",
        "        \n",
        "TP = ((predlist == 1) & (targetlist == 1)).sum()\n",
        "TN = ((predlist == 0) & (targetlist == 0)).sum()\n",
        "FN = ((predlist == 0) & (targetlist == 1)).sum()\n",
        "FP = ((predlist == 1) & (targetlist == 0)).sum()\n",
        "\n",
        "print('TP=',TP,'TN=',TN,'FN=',FN,'FP=',FP)\n",
        "print('TP+FP',TP+FP)\n",
        "p = TP / (TP + FP)\n",
        "r = TP / (TP + FN)\n",
        "F1 = 2 * r * p / (r + p)\n",
        "acc = (TP + TN) / (TP + TN + FP + FN)\n",
        "AUC = roc_auc_score(targetlist, scorelist)\n",
        "\n",
        "print('Testing, average recall: {:.4f}, average precision: {:.4f}, average F1: {:.4f}, average accuracy: {:.4f}, average AUC: {:.4f}\\n'.format(\n",
        "    r, p, F1, acc, AUC\n",
        "))\n",
        "f = open('model_result/test_{}.txt'.format(modelname), 'a+')\n",
        "f.write('Testing, average recall: {:.4f}, average precision: {:.4f}, average F1: {:.4f}, average accuracy: {:.4f}, average AUC: {:.4f}\\n'.format(\n",
        "    r, p, F1, acc, AUC\n",
        "))\n",
        "f.close()"
      ],
      "execution_count": null,
      "outputs": [
        {
          "output_type": "stream",
          "text": [
            "TP= 94 TN= 53 FN= 11 FP= 45\n",
            "TP+FP 139\n",
            "Testing, average recall: 0.8952, average precision: 0.6763, average F1: 0.7705, average accuracy: 0.7241, average AUC: 0.7923\n",
            "\n"
          ],
          "name": "stdout"
        }
      ]
    },
    {
      "cell_type": "code",
      "metadata": {
        "id": "D-P9g5vSXm2f",
        "colab_type": "code",
        "colab": {
          "base_uri": "https://localhost:8080/",
          "height": 226
        },
        "outputId": "f17681b7-9f5c-456f-91cc-a60432141c2d"
      },
      "source": [
        "model = model.cpu()\n",
        "fig, axes = plt.subplots(2, 4)\n",
        "negatives = 0\n",
        "positives = 0\n",
        "for i in range(len(testset)):\n",
        "    if negatives == 4 and positives == 4:\n",
        "        break\n",
        "    image, label = testset[i]['img'], testset[i]['label']\n",
        "    if label == 0 and negatives < 4:\n",
        "        gradcam(model, image, detransformer, label, axes[0][negatives])\n",
        "        negatives = negatives + 1\n",
        "    elif label == 1 and positives < 4:\n",
        "        gradcam(model, image, detransformer, label, axes[1][positives])\n",
        "        positives = positives + 1\n",
        "\n",
        "fig.savefig('gradcam.png')\n",
        "fig.show()"
      ],
      "execution_count": null,
      "outputs": [
        {
          "output_type": "display_data",
          "data": {
            "image/png": "[encoded data removed]",
            "text/plain": [
              "<Figure size 432x288 with 8 Axes>"
            ]
          },
          "metadata": {
            "tags": []
          }
        }
      ]
    },
    {
      "cell_type": "code",
      "metadata": {
        "id": "rN34qTnOXxCW",
        "colab_type": "code",
        "colab": {}
      },
      "source": [
        "torch.save(model.state_dict(), 'fine-tune.pt')"
      ],
      "execution_count": null,
      "outputs": []
    }
  ]
}