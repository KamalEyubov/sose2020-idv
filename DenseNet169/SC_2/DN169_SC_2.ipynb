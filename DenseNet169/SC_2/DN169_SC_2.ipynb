{
  "nbformat": 4,
  "nbformat_minor": 0,
  "metadata": {
    "colab": {
      "name": "DN169_SC_2.ipynb",
      "provenance": [],
      "collapsed_sections": []
    },
    "kernelspec": {
      "name": "python3",
      "display_name": "Python 3"
    },
    "accelerator": "GPU",
    "widgets": {
      "application/vnd.jupyter.widget-state+json": {
        "f3390369d6cf46e2b83aa08f71363b67": {
          "model_module": "@jupyter-widgets/controls",
          "model_name": "HBoxModel",
          "state": {
            "_view_name": "HBoxView",
            "_dom_classes": [],
            "_model_name": "HBoxModel",
            "_view_module": "@jupyter-widgets/controls",
            "_model_module_version": "1.5.0",
            "_view_count": null,
            "_view_module_version": "1.5.0",
            "box_style": "",
            "layout": "IPY_MODEL_8cf014b3ba1f45a889d51a057f333027",
            "_model_module": "@jupyter-widgets/controls",
            "children": [
              "IPY_MODEL_ec093528972a41a4aacbe6fc8b2d3179",
              "IPY_MODEL_cc62e997b3574e23b403533325316107"
            ]
          }
        },
        "8cf014b3ba1f45a889d51a057f333027": {
          "model_module": "@jupyter-widgets/base",
          "model_name": "LayoutModel",
          "state": {
            "_view_name": "LayoutView",
            "grid_template_rows": null,
            "right": null,
            "justify_content": null,
            "_view_module": "@jupyter-widgets/base",
            "overflow": null,
            "_model_module_version": "1.2.0",
            "_view_count": null,
            "flex_flow": null,
            "width": null,
            "min_width": null,
            "border": null,
            "align_items": null,
            "bottom": null,
            "_model_module": "@jupyter-widgets/base",
            "top": null,
            "grid_column": null,
            "overflow_y": null,
            "overflow_x": null,
            "grid_auto_flow": null,
            "grid_area": null,
            "grid_template_columns": null,
            "flex": null,
            "_model_name": "LayoutModel",
            "justify_items": null,
            "grid_row": null,
            "max_height": null,
            "align_content": null,
            "visibility": null,
            "align_self": null,
            "height": null,
            "min_height": null,
            "padding": null,
            "grid_auto_rows": null,
            "grid_gap": null,
            "max_width": null,
            "order": null,
            "_view_module_version": "1.2.0",
            "grid_template_areas": null,
            "object_position": null,
            "object_fit": null,
            "grid_auto_columns": null,
            "margin": null,
            "display": null,
            "left": null
          }
        },
        "ec093528972a41a4aacbe6fc8b2d3179": {
          "model_module": "@jupyter-widgets/controls",
          "model_name": "FloatProgressModel",
          "state": {
            "_view_name": "ProgressView",
            "style": "IPY_MODEL_5e47356c2827488ca1c00c8541042756",
            "_dom_classes": [],
            "description": "100%",
            "_model_name": "FloatProgressModel",
            "bar_style": "success",
            "max": 57365526,
            "_view_module": "@jupyter-widgets/controls",
            "_model_module_version": "1.5.0",
            "value": 57365526,
            "_view_count": null,
            "_view_module_version": "1.5.0",
            "orientation": "horizontal",
            "min": 0,
            "description_tooltip": null,
            "_model_module": "@jupyter-widgets/controls",
            "layout": "IPY_MODEL_7ff377c867274e14a1c4f741f4c2bc1c"
          }
        },
        "cc62e997b3574e23b403533325316107": {
          "model_module": "@jupyter-widgets/controls",
          "model_name": "HTMLModel",
          "state": {
            "_view_name": "HTMLView",
            "style": "IPY_MODEL_4c0758ffc9d14fe799be62ec1867ff2e",
            "_dom_classes": [],
            "description": "",
            "_model_name": "HTMLModel",
            "placeholder": "​",
            "_view_module": "@jupyter-widgets/controls",
            "_model_module_version": "1.5.0",
            "value": " 54.7M/54.7M [00:00&lt;00:00, 80.9MB/s]",
            "_view_count": null,
            "_view_module_version": "1.5.0",
            "description_tooltip": null,
            "_model_module": "@jupyter-widgets/controls",
            "layout": "IPY_MODEL_72742a6593cd40c89f27352ccdf5b628"
          }
        },
        "5e47356c2827488ca1c00c8541042756": {
          "model_module": "@jupyter-widgets/controls",
          "model_name": "ProgressStyleModel",
          "state": {
            "_view_name": "StyleView",
            "_model_name": "ProgressStyleModel",
            "description_width": "initial",
            "_view_module": "@jupyter-widgets/base",
            "_model_module_version": "1.5.0",
            "_view_count": null,
            "_view_module_version": "1.2.0",
            "bar_color": null,
            "_model_module": "@jupyter-widgets/controls"
          }
        },
        "7ff377c867274e14a1c4f741f4c2bc1c": {
          "model_module": "@jupyter-widgets/base",
          "model_name": "LayoutModel",
          "state": {
            "_view_name": "LayoutView",
            "grid_template_rows": null,
            "right": null,
            "justify_content": null,
            "_view_module": "@jupyter-widgets/base",
            "overflow": null,
            "_model_module_version": "1.2.0",
            "_view_count": null,
            "flex_flow": null,
            "width": null,
            "min_width": null,
            "border": null,
            "align_items": null,
            "bottom": null,
            "_model_module": "@jupyter-widgets/base",
            "top": null,
            "grid_column": null,
            "overflow_y": null,
            "overflow_x": null,
            "grid_auto_flow": null,
            "grid_area": null,
            "grid_template_columns": null,
            "flex": null,
            "_model_name": "LayoutModel",
            "justify_items": null,
            "grid_row": null,
            "max_height": null,
            "align_content": null,
            "visibility": null,
            "align_self": null,
            "height": null,
            "min_height": null,
            "padding": null,
            "grid_auto_rows": null,
            "grid_gap": null,
            "max_width": null,
            "order": null,
            "_view_module_version": "1.2.0",
            "grid_template_areas": null,
            "object_position": null,
            "object_fit": null,
            "grid_auto_columns": null,
            "margin": null,
            "display": null,
            "left": null
          }
        },
        "4c0758ffc9d14fe799be62ec1867ff2e": {
          "model_module": "@jupyter-widgets/controls",
          "model_name": "DescriptionStyleModel",
          "state": {
            "_view_name": "StyleView",
            "_model_name": "DescriptionStyleModel",
            "description_width": "",
            "_view_module": "@jupyter-widgets/base",
            "_model_module_version": "1.5.0",
            "_view_count": null,
            "_view_module_version": "1.2.0",
            "_model_module": "@jupyter-widgets/controls"
          }
        },
        "72742a6593cd40c89f27352ccdf5b628": {
          "model_module": "@jupyter-widgets/base",
          "model_name": "LayoutModel",
          "state": {
            "_view_name": "LayoutView",
            "grid_template_rows": null,
            "right": null,
            "justify_content": null,
            "_view_module": "@jupyter-widgets/base",
            "overflow": null,
            "_model_module_version": "1.2.0",
            "_view_count": null,
            "flex_flow": null,
            "width": null,
            "min_width": null,
            "border": null,
            "align_items": null,
            "bottom": null,
            "_model_module": "@jupyter-widgets/base",
            "top": null,
            "grid_column": null,
            "overflow_y": null,
            "overflow_x": null,
            "grid_auto_flow": null,
            "grid_area": null,
            "grid_template_columns": null,
            "flex": null,
            "_model_name": "LayoutModel",
            "justify_items": null,
            "grid_row": null,
            "max_height": null,
            "align_content": null,
            "visibility": null,
            "align_self": null,
            "height": null,
            "min_height": null,
            "padding": null,
            "grid_auto_rows": null,
            "grid_gap": null,
            "max_width": null,
            "order": null,
            "_view_module_version": "1.2.0",
            "grid_template_areas": null,
            "object_position": null,
            "object_fit": null,
            "grid_auto_columns": null,
            "margin": null,
            "display": null,
            "left": null
          }
        }
      }
    }
  },
  "cells": [
    {
      "cell_type": "markdown",
      "metadata": {
        "id": "B2gRjXONVGaE",
        "colab_type": "text"
      },
      "source": [
        "# Uploading data sets"
      ]
    },
    {
      "cell_type": "code",
      "metadata": {
        "id": "sMXvhlkjQ9fC",
        "colab_type": "code",
        "colab": {
          "base_uri": "https://localhost:8080/",
          "height": 124
        },
        "outputId": "70b5a05c-8207-4833-f8ab-cbb9904515be"
      },
      "source": [
        "from google.colab import drive\n",
        "\n",
        "drive.mount('/content/drive/')\n",
        "\n",
        "uploaded = ['/content/drive/My Drive/Images.zip',\n",
        "            '/content/drive/My Drive/Data-split.zip',\n",
        "            '/content/drive/My Drive/LUNA.zip']"
      ],
      "execution_count": null,
      "outputs": [
        {
          "output_type": "stream",
          "text": [
            "Go to this URL in a browser: https://accounts.google.com/o/oauth2/auth?client_id=947318989803-6bn6qk8qdgf4n4g3pfee6491hc0brc4i.apps.googleusercontent.com&redirect_uri=urn%3aietf%3awg%3aoauth%3a2.0%3aoob&response_type=code&scope=email%20https%3a%2f%2fwww.googleapis.com%2fauth%2fdocs.test%20https%3a%2f%2fwww.googleapis.com%2fauth%2fdrive%20https%3a%2f%2fwww.googleapis.com%2fauth%2fdrive.photos.readonly%20https%3a%2f%2fwww.googleapis.com%2fauth%2fpeopleapi.readonly\n",
            "\n",
            "Enter your authorization code:\n",
            "··········\n",
            "Mounted at /content/drive/\n"
          ],
          "name": "stdout"
        }
      ]
    },
    {
      "cell_type": "code",
      "metadata": {
        "id": "_l118nPSNuuO",
        "colab_type": "code",
        "colab": {}
      },
      "source": [
        "#from google.colab import files\n",
        "\n",
        "#uploaded = files.upload()\n",
        "\n",
        "#for f in uploaded:\n",
        "#    print('Uploaded: ' + f)"
      ],
      "execution_count": null,
      "outputs": []
    },
    {
      "cell_type": "code",
      "metadata": {
        "id": "c0qKwGLeSwad",
        "colab_type": "code",
        "colab": {}
      },
      "source": [
        "from zipfile import ZipFile\n",
        "\n",
        "for f in uploaded:\n",
        "    with ZipFile(f, 'r') as zip_ref:\n",
        "        zip_ref.extractall('.')"
      ],
      "execution_count": null,
      "outputs": []
    },
    {
      "cell_type": "markdown",
      "metadata": {
        "id": "j4-UXZvWU6Gq",
        "colab_type": "text"
      },
      "source": [
        "# SSL on COVID-CT"
      ]
    },
    {
      "cell_type": "code",
      "metadata": {
        "id": "nOjQgGMvS7WK",
        "colab_type": "code",
        "colab": {}
      },
      "source": [
        "import os\n",
        "\n",
        "os.mkdir('ssl_backup')\n",
        "os.mkdir('ssl_result')"
      ],
      "execution_count": null,
      "outputs": []
    },
    {
      "cell_type": "code",
      "metadata": {
        "id": "4c6eJ1cFRGol",
        "colab_type": "code",
        "colab": {}
      },
      "source": [
        "import torch\n",
        "import torchvision\n",
        "import torchvision.transforms as transforms\n",
        "import torchvision.datasets as datasets\n",
        "import torch.nn as nn\n",
        "import torch.optim as optim\n",
        "from torchvision.models import densenet169 as DenseNet169\n",
        "from PIL import Image\n",
        "import numpy as np\n",
        "from torch.utils.data import DataLoader, Dataset\n",
        "from matplotlib import pyplot as plt\n",
        "import warnings\n",
        "warnings.filterwarnings('ignore')\n",
        "import torch.nn.functional as F"
      ],
      "execution_count": null,
      "outputs": []
    },
    {
      "cell_type": "code",
      "metadata": {
        "id": "M3urSRAXbZkT",
        "colab_type": "code",
        "colab": {}
      },
      "source": [
        "torch.manual_seed(42)\n",
        "torch.cuda.manual_seed(42)\n",
        "np.random.seed(42)\n",
        "torch.backends.cudnn.deterministic = True\n",
        "rng = np.random.RandomState(42)"
      ],
      "execution_count": null,
      "outputs": []
    },
    {
      "cell_type": "code",
      "metadata": {
        "id": "ExQ5H08LRVUJ",
        "colab_type": "code",
        "colab": {}
      },
      "source": [
        "torch.cuda.empty_cache()\n",
        "\n",
        "device = 'cuda'\n",
        "batchsize = 16\n",
        "train_epochs_start = 0\n",
        "train_epochs_end = 50"
      ],
      "execution_count": null,
      "outputs": []
    },
    {
      "cell_type": "code",
      "metadata": {
        "id": "hufV3_0NRX7i",
        "colab_type": "code",
        "colab": {}
      },
      "source": [
        "class SimCLR(nn.Module):\n",
        "\n",
        "    def __init__(self, out_dim=128):\n",
        "        super(SimCLR, self).__init__()\n",
        "\n",
        "        densenet = DenseNet169(pretrained=True)\n",
        "        self.features = densenet.features\n",
        "        self.relu = nn.ReLU(inplace=True)\n",
        "        # MLP head\n",
        "        self.classifier = nn.Sequential(\n",
        "            nn.Linear(\n",
        "                densenet.classifier.in_features,\n",
        "                densenet.classifier.in_features,\n",
        "                bias=True\n",
        "            ),\n",
        "            nn.ReLU(),\n",
        "            nn.Linear(\n",
        "                densenet.classifier.in_features,\n",
        "                out_features=out_dim,\n",
        "                bias=True\n",
        "            )\n",
        "        )\n",
        "\n",
        "    def forward(self, x):\n",
        "        out = self.features(x)\n",
        "        out = self.relu(out)\n",
        "        out = F.adaptive_avg_pool2d(out, (1, 1))\n",
        "        out = torch.flatten(out, 1)\n",
        "        out = self.classifier(out)\n",
        "        return out"
      ],
      "execution_count": null,
      "outputs": []
    },
    {
      "cell_type": "code",
      "metadata": {
        "id": "UMFDUGfUXpZE",
        "colab_type": "code",
        "colab": {}
      },
      "source": [
        "class NTXentLoss(nn.Module):\n",
        "\n",
        "    def __init__(self):\n",
        "        super(NTXentLoss, self).__init__()\n",
        "        self.masks = dict()\n",
        "        self.similarity_function = torch.nn.CosineSimilarity(dim=-1)\n",
        "        self.criterion = torch.nn.CrossEntropyLoss()\n",
        "\n",
        "    @staticmethod\n",
        "    def get_mask(batch_size):\n",
        "        diag = np.eye(2 * batch_size)\n",
        "        l1 = np.eye(2 * batch_size, k=-batch_size)\n",
        "        l2 = np.eye(2 * batch_size, k=batch_size)\n",
        "        mask = torch.from_numpy(diag + l1 + l2)\n",
        "        mask = (1 - mask).type(torch.bool)\n",
        "        return mask.to(device)\n",
        "\n",
        "    def forward(self, zi, zj, temperature=0.5):\n",
        "\n",
        "        batch_size = zi.shape[-2]\n",
        "        if batch_size not in self.masks:\n",
        "            self.masks[batch_size] = NTXentLoss.get_mask(batch_size)\n",
        "\n",
        "        representations = torch.cat([zi, zj], dim=0)\n",
        "\n",
        "        similarity_matrix = self.similarity_function(\n",
        "            representations.unsqueeze(1),\n",
        "            representations.unsqueeze(0)\n",
        "        )\n",
        "\n",
        "        # filter out the scores from the positive samples\n",
        "        l_pos = torch.diag(similarity_matrix, batch_size)\n",
        "        r_pos = torch.diag(similarity_matrix, -batch_size)\n",
        "        positives = torch.cat([l_pos, r_pos]).view(2 * batch_size, 1)\n",
        "\n",
        "        negatives = similarity_matrix[self.masks[batch_size]].view(2 * batch_size, -1)\n",
        "\n",
        "        logits = torch.cat([positives, negatives], dim=1)\n",
        "        logits /= temperature\n",
        "\n",
        "        labels = torch.zeros(2 * batch_size).to(device).long()\n",
        "        loss = self.criterion(logits, labels)\n",
        "        return loss"
      ],
      "execution_count": null,
      "outputs": []
    },
    {
      "cell_type": "code",
      "metadata": {
        "id": "WCagrxEMSocl",
        "colab_type": "code",
        "colab": {
          "base_uri": "https://localhost:8080/",
          "height": 84,
          "referenced_widgets": [
            "f3390369d6cf46e2b83aa08f71363b67",
            "8cf014b3ba1f45a889d51a057f333027",
            "ec093528972a41a4aacbe6fc8b2d3179",
            "cc62e997b3574e23b403533325316107",
            "5e47356c2827488ca1c00c8541042756",
            "7ff377c867274e14a1c4f741f4c2bc1c",
            "4c0758ffc9d14fe799be62ec1867ff2e",
            "72742a6593cd40c89f27352ccdf5b628"
          ]
        },
        "outputId": "eef6b136-f91d-4ce2-bab0-e8fa95b7f0fe"
      },
      "source": [
        "model = SimCLR()\n",
        "if device == 'cuda':\n",
        "    model = model.cuda()\n",
        "modelname = 'SimCLR'\n",
        "\n",
        "if train_epochs_start > 0:\n",
        "    model.load_state_dict(\n",
        "        torch.load('ssl_backup/{}_{}.pt'.format(\n",
        "            modelname,\n",
        "            train_epochs_start\n",
        "        ))\n",
        "    )"
      ],
      "execution_count": null,
      "outputs": [
        {
          "output_type": "stream",
          "text": [
            "Downloading: \"https://download.pytorch.org/models/densenet169-b2777c0a.pth\" to /root/.cache/torch/hub/checkpoints/densenet169-b2777c0a.pth\n"
          ],
          "name": "stderr"
        },
        {
          "output_type": "display_data",
          "data": {
            "application/vnd.jupyter.widget-view+json": {
              "model_id": "f3390369d6cf46e2b83aa08f71363b67",
              "version_minor": 0,
              "version_major": 2
            },
            "text/plain": [
              "HBox(children=(FloatProgress(value=0.0, max=57365526.0), HTML(value='')))"
            ]
          },
          "metadata": {
            "tags": []
          }
        },
        {
          "output_type": "stream",
          "text": [
            "\n"
          ],
          "name": "stdout"
        }
      ]
    },
    {
      "cell_type": "code",
      "metadata": {
        "id": "uwrHqUDY5Qgi",
        "colab_type": "code",
        "colab": {}
      },
      "source": [
        "stages = ['ssl', 'fine-tuning']\n",
        "stage_id = 0\n",
        "\n",
        "def plot_change(model1, model2):\n",
        "    global stage_id\n",
        "\n",
        "    diff = torch.nn.MSELoss()\n",
        "    norm_w, norm_wx, norm_b, norm_bx, conv_w, conv_wx = [], [], [], [], [], []\n",
        "    i = 0\n",
        "    for (name, parameter1), parameter2 in  zip(model1.named_parameters(), model2.parameters()):\n",
        "        name = name.split(\".\")\n",
        "        if name[-2][:4] == \"conv\":\n",
        "            if name[-1] == \"weight\":\n",
        "                conv_w.append(diff(parameter1, parameter2).item())\n",
        "                conv_wx.append(i)\n",
        "        elif name[-2][:4] == \"norm\":\n",
        "            if name[-1] == \"weight\":\n",
        "                norm_w.append(diff(parameter1, parameter2).item())\n",
        "                norm_wx.append(i)\n",
        "            elif name[-1] == \"bias\":\n",
        "                norm_b.append(diff(parameter1, parameter2).item())\n",
        "                norm_bx.append(i)\n",
        "        i = i + 1\n",
        "\n",
        "    plt.bar(norm_wx, norm_w, label=\"gamma\")\n",
        "    plt.bar(norm_bx, norm_b, label=\"beta\")\n",
        "    plt.legend()\n",
        "    plt.title('Change of parameters at BN layers')\n",
        "    plt.savefig(stages[stage_id] + '_bn_change.png')\n",
        "    plt.show()\n",
        "\n",
        "    plt.bar(conv_wx, conv_w)\n",
        "    plt.title('Change of weights at CONV layers')\n",
        "    plt.savefig(stages[stage_id] + '_conv_change.png')\n",
        "    plt.show()\n",
        "\n",
        "    stage_id = stage_id + 1"
      ],
      "execution_count": null,
      "outputs": []
    },
    {
      "cell_type": "code",
      "metadata": {
        "id": "kwzHK6_95S_D",
        "colab_type": "code",
        "colab": {
          "base_uri": "https://localhost:8080/",
          "height": 34
        },
        "outputId": "f269ce75-2709-44f8-a44c-d43c6ebb0c2b"
      },
      "source": [
        "model_old = SimCLR()\n",
        "model_old.load_state_dict(model.state_dict())"
      ],
      "execution_count": null,
      "outputs": [
        {
          "output_type": "execute_result",
          "data": {
            "text/plain": [
              "<All keys matched successfully>"
            ]
          },
          "metadata": {
            "tags": []
          },
          "execution_count": 12
        }
      ]
    },
    {
      "cell_type": "code",
      "metadata": {
        "id": "7SvOleTtjHTQ",
        "colab_type": "code",
        "colab": {}
      },
      "source": [
        "from PIL import ImageFilter\n",
        "import random\n",
        "\n",
        "class GaussianBlur(object):\n",
        "    \"\"\"Gaussian blur augmentation in SimCLR https://arxiv.org/abs/2002.05709\"\"\"\n",
        "\n",
        "    def __init__(self, sigma=[.1, 2.]):\n",
        "        self.sigma = sigma\n",
        "\n",
        "    def __call__(self, x):\n",
        "        sigma = random.uniform(self.sigma[0], self.sigma[1])\n",
        "        x = x.filter(ImageFilter.GaussianBlur(radius=sigma))\n",
        "        return x"
      ],
      "execution_count": null,
      "outputs": []
    },
    {
      "cell_type": "code",
      "metadata": {
        "id": "elECcbjtSzJi",
        "colab_type": "code",
        "colab": {}
      },
      "source": [
        "normalize = transforms.Normalize(\n",
        "    mean=[0.485, 0.456, 0.406],\n",
        "    std=[0.229, 0.224, 0.225]\n",
        ")\n",
        "transformer = transforms.Compose([\n",
        "    transforms.RandomResizedCrop(224, scale=(0.2, 1.)),\n",
        "    transforms.RandomApply([transforms.ColorJitter(0.4, 0.4, 0.4, 0.1)], p=0.8),\n",
        "    transforms.RandomGrayscale(p=0.2),\n",
        "    transforms.RandomApply([GaussianBlur([.1, 2.])], p=0.5),\n",
        "    transforms.RandomHorizontalFlip(),\n",
        "    transforms.ToTensor(),\n",
        "    normalize\n",
        "])"
      ],
      "execution_count": null,
      "outputs": []
    },
    {
      "cell_type": "code",
      "metadata": {
        "id": "QF0rGSxkTxSJ",
        "colab_type": "code",
        "colab": {}
      },
      "source": [
        "def read_txt(txt_path):\n",
        "    with open(txt_path) as f:\n",
        "        lines = f.readlines()\n",
        "    txt_data = [line.strip() for line in lines]\n",
        "    return txt_data\n",
        "\n",
        "class CovidCTDataset(Dataset):\n",
        "    def __init__(self, root_dir, txt_COVID, txt_NonCOVID, transform=transformer):\n",
        "        \"\"\"\n",
        "            Args:\n",
        "                txt_path (string): Path to the txt file with annotations.\n",
        "                root_dir (string): Directory with all the images.\n",
        "                transform (callable, optional): Optional transform to be applied on a sample.\n",
        "            File structure:\n",
        "                - root_dir\n",
        "                    - CT_COVID\n",
        "                        - img1.png\n",
        "                        - img2.png\n",
        "                        - ......\n",
        "                    - CT_NonCOVID\n",
        "                        - img1.png\n",
        "                        - img2.png\n",
        "                        - ......\n",
        "        \"\"\"\n",
        "        self.root_dir = root_dir\n",
        "        self.txt_path = [txt_COVID, txt_NonCOVID]\n",
        "        self.classes = ['CT_COVID', 'CT_NonCOVID']\n",
        "        self.num_cls = len(self.classes)\n",
        "        self.img_list = []\n",
        "        for c in range(self.num_cls):\n",
        "            cls_list = [os.path.join(self.root_dir, self.classes[c], item) for item in read_txt(self.txt_path[c])]\n",
        "            self.img_list += cls_list\n",
        "        self.transform = transform\n",
        "\n",
        "    def __len__(self):\n",
        "        return len(self.img_list)\n",
        "\n",
        "    def __getitem__(self, idx):\n",
        "        if torch.is_tensor(idx):\n",
        "            idx = idx.tolist()\n",
        "\n",
        "        img_path = self.img_list[idx]\n",
        "        image = Image.open(img_path).convert('RGB')\n",
        "\n",
        "        image0 = self.transform(image)\n",
        "        image1 = self.transform(image)\n",
        "\n",
        "        sample = {'img0': image0, 'img1': image1}\n",
        "        return sample"
      ],
      "execution_count": null,
      "outputs": []
    },
    {
      "cell_type": "code",
      "metadata": {
        "id": "bUMBwszWT58_",
        "colab_type": "code",
        "colab": {
          "base_uri": "https://localhost:8080/",
          "height": 34
        },
        "outputId": "1affd64e-88a6-468d-f92f-38943a14bf1c"
      },
      "source": [
        "dataset = CovidCTDataset(\n",
        "    root_dir='Images',\n",
        "    txt_COVID='Data-split/COVID/trainCT_COVID.txt',\n",
        "    txt_NonCOVID='Data-split/NonCOVID/trainCT_NonCOVID.txt',\n",
        "    transform=transformer\n",
        ")\n",
        "print(\"dataset length:\", dataset.__len__())\n",
        "data_loader = DataLoader(dataset, batch_size=batchsize, drop_last=False, shuffle=True)"
      ],
      "execution_count": null,
      "outputs": [
        {
          "output_type": "stream",
          "text": [
            "dataset length: 425\n"
          ],
          "name": "stdout"
        }
      ]
    },
    {
      "cell_type": "code",
      "metadata": {
        "id": "QEznV2iST-kk",
        "colab_type": "code",
        "colab": {}
      },
      "source": [
        "def train(epoch):\n",
        "\n",
        "    model.train()\n",
        "\n",
        "    train_loss = 0\n",
        "\n",
        "    for batch_index, batch_samples in enumerate(data_loader):\n",
        "\n",
        "        # move data to device\n",
        "        data0, data1 = batch_samples['img0'].to(device), batch_samples['img1'].to(device)\n",
        "\n",
        "        output0 = model(data0)\n",
        "        output1 = model(data1)\n",
        "\n",
        "        loss = criteria(output0, output1)\n",
        "        train_loss += loss.item()\n",
        "\n",
        "        optimizer.zero_grad()\n",
        "        loss.backward()\n",
        "        optimizer.step()\n",
        "\n",
        "        # Display progress\n",
        "        if (batch_index + 1) % bs == 0:\n",
        "            print('Train Epoch: {} [{}/{} ({:.0f}%)]'.format(\n",
        "                epoch,\n",
        "                batch_index, len(data_loader),\n",
        "                100.0 * batch_index / len(data_loader)\n",
        "            ))\n",
        "\n",
        "    avg_loss = train_loss / len(data_loader.dataset)\n",
        "    print('Data set: Average loss: {:.4f}'.format(avg_loss))\n",
        "    f = open('ssl_result/train_{}.txt'.format(modelname), 'a+')\n",
        "    f.write('Data set: Average loss: {:.4f}'.format(avg_loss))\n",
        "    f.close()\n",
        "    avg_losses.append(avg_loss)"
      ],
      "execution_count": null,
      "outputs": []
    },
    {
      "cell_type": "code",
      "metadata": {
        "id": "xqKj3yEFUuOZ",
        "colab_type": "code",
        "colab": {
          "base_uri": "https://localhost:8080/",
          "height": 1000
        },
        "outputId": "b20c8c61-e963-47ad-ccd7-7e726c92f06f"
      },
      "source": [
        "bs = 10\n",
        "T_checkpoint = 10\n",
        "avg_losses = []\n",
        "\n",
        "criteria = NTXentLoss()\n",
        "optimizer = optim.Adam(model.parameters())\n",
        "\n",
        "for epoch in range(train_epochs_start + 1, train_epochs_end + 1):\n",
        "    train(epoch)\n",
        "    \n",
        "    if epoch % T_checkpoint == 0:\n",
        "        # checkpoint\n",
        "        torch.save(model.state_dict(), 'ssl_backup/{}_{}.pt'.format(modelname, epoch))"
      ],
      "execution_count": null,
      "outputs": [
        {
          "output_type": "stream",
          "text": [
            "Train Epoch: 1 [9/27 (33%)]\n",
            "Train Epoch: 1 [19/27 (70%)]\n",
            "Data set: Average loss: 0.1933\n",
            "Train Epoch: 2 [9/27 (33%)]\n",
            "Train Epoch: 2 [19/27 (70%)]\n",
            "Data set: Average loss: 0.1946\n",
            "Train Epoch: 3 [9/27 (33%)]\n",
            "Train Epoch: 3 [19/27 (70%)]\n",
            "Data set: Average loss: 0.1867\n",
            "Train Epoch: 4 [9/27 (33%)]\n",
            "Train Epoch: 4 [19/27 (70%)]\n",
            "Data set: Average loss: 0.1795\n",
            "Train Epoch: 5 [9/27 (33%)]\n",
            "Train Epoch: 5 [19/27 (70%)]\n",
            "Data set: Average loss: 0.1807\n",
            "Train Epoch: 6 [9/27 (33%)]\n",
            "Train Epoch: 6 [19/27 (70%)]\n",
            "Data set: Average loss: 0.1645\n",
            "Train Epoch: 7 [9/27 (33%)]\n",
            "Train Epoch: 7 [19/27 (70%)]\n",
            "Data set: Average loss: 0.1596\n",
            "Train Epoch: 8 [9/27 (33%)]\n",
            "Train Epoch: 8 [19/27 (70%)]\n",
            "Data set: Average loss: 0.1588\n",
            "Train Epoch: 9 [9/27 (33%)]\n",
            "Train Epoch: 9 [19/27 (70%)]\n",
            "Data set: Average loss: 0.1560\n",
            "Train Epoch: 10 [9/27 (33%)]\n",
            "Train Epoch: 10 [19/27 (70%)]\n",
            "Data set: Average loss: 0.1509\n",
            "Train Epoch: 11 [9/27 (33%)]\n",
            "Train Epoch: 11 [19/27 (70%)]\n",
            "Data set: Average loss: 0.1494\n",
            "Train Epoch: 12 [9/27 (33%)]\n",
            "Train Epoch: 12 [19/27 (70%)]\n",
            "Data set: Average loss: 0.1506\n",
            "Train Epoch: 13 [9/27 (33%)]\n",
            "Train Epoch: 13 [19/27 (70%)]\n",
            "Data set: Average loss: 0.1470\n",
            "Train Epoch: 14 [9/27 (33%)]\n",
            "Train Epoch: 14 [19/27 (70%)]\n",
            "Data set: Average loss: 0.1424\n",
            "Train Epoch: 15 [9/27 (33%)]\n",
            "Train Epoch: 15 [19/27 (70%)]\n",
            "Data set: Average loss: 0.1445\n",
            "Train Epoch: 16 [9/27 (33%)]\n",
            "Train Epoch: 16 [19/27 (70%)]\n",
            "Data set: Average loss: 0.1443\n",
            "Train Epoch: 17 [9/27 (33%)]\n",
            "Train Epoch: 17 [19/27 (70%)]\n",
            "Data set: Average loss: 0.1420\n",
            "Train Epoch: 18 [9/27 (33%)]\n",
            "Train Epoch: 18 [19/27 (70%)]\n",
            "Data set: Average loss: 0.1385\n",
            "Train Epoch: 19 [9/27 (33%)]\n",
            "Train Epoch: 19 [19/27 (70%)]\n",
            "Data set: Average loss: 0.1385\n",
            "Train Epoch: 20 [9/27 (33%)]\n",
            "Train Epoch: 20 [19/27 (70%)]\n",
            "Data set: Average loss: 0.1404\n",
            "Train Epoch: 21 [9/27 (33%)]\n",
            "Train Epoch: 21 [19/27 (70%)]\n",
            "Data set: Average loss: 0.1386\n",
            "Train Epoch: 22 [9/27 (33%)]\n",
            "Train Epoch: 22 [19/27 (70%)]\n",
            "Data set: Average loss: 0.1353\n",
            "Train Epoch: 23 [9/27 (33%)]\n",
            "Train Epoch: 23 [19/27 (70%)]\n",
            "Data set: Average loss: 0.1346\n",
            "Train Epoch: 24 [9/27 (33%)]\n",
            "Train Epoch: 24 [19/27 (70%)]\n",
            "Data set: Average loss: 0.1334\n",
            "Train Epoch: 25 [9/27 (33%)]\n",
            "Train Epoch: 25 [19/27 (70%)]\n",
            "Data set: Average loss: 0.1326\n",
            "Train Epoch: 26 [9/27 (33%)]\n",
            "Train Epoch: 26 [19/27 (70%)]\n",
            "Data set: Average loss: 0.1344\n",
            "Train Epoch: 27 [9/27 (33%)]\n",
            "Train Epoch: 27 [19/27 (70%)]\n",
            "Data set: Average loss: 0.1330\n",
            "Train Epoch: 28 [9/27 (33%)]\n",
            "Train Epoch: 28 [19/27 (70%)]\n",
            "Data set: Average loss: 0.1324\n",
            "Train Epoch: 29 [9/27 (33%)]\n",
            "Train Epoch: 29 [19/27 (70%)]\n",
            "Data set: Average loss: 0.1336\n",
            "Train Epoch: 30 [9/27 (33%)]\n",
            "Train Epoch: 30 [19/27 (70%)]\n",
            "Data set: Average loss: 0.1311\n",
            "Train Epoch: 31 [9/27 (33%)]\n",
            "Train Epoch: 31 [19/27 (70%)]\n",
            "Data set: Average loss: 0.1306\n",
            "Train Epoch: 32 [9/27 (33%)]\n",
            "Train Epoch: 32 [19/27 (70%)]\n",
            "Data set: Average loss: 0.1300\n",
            "Train Epoch: 33 [9/27 (33%)]\n",
            "Train Epoch: 33 [19/27 (70%)]\n",
            "Data set: Average loss: 0.1289\n",
            "Train Epoch: 34 [9/27 (33%)]\n",
            "Train Epoch: 34 [19/27 (70%)]\n",
            "Data set: Average loss: 0.1285\n",
            "Train Epoch: 35 [9/27 (33%)]\n",
            "Train Epoch: 35 [19/27 (70%)]\n",
            "Data set: Average loss: 0.1314\n",
            "Train Epoch: 36 [9/27 (33%)]\n",
            "Train Epoch: 36 [19/27 (70%)]\n",
            "Data set: Average loss: 0.1330\n",
            "Train Epoch: 37 [9/27 (33%)]\n",
            "Train Epoch: 37 [19/27 (70%)]\n",
            "Data set: Average loss: 0.1306\n",
            "Train Epoch: 38 [9/27 (33%)]\n",
            "Train Epoch: 38 [19/27 (70%)]\n",
            "Data set: Average loss: 0.1300\n",
            "Train Epoch: 39 [9/27 (33%)]\n",
            "Train Epoch: 39 [19/27 (70%)]\n",
            "Data set: Average loss: 0.1268\n",
            "Train Epoch: 40 [9/27 (33%)]\n",
            "Train Epoch: 40 [19/27 (70%)]\n",
            "Data set: Average loss: 0.1288\n",
            "Train Epoch: 41 [9/27 (33%)]\n",
            "Train Epoch: 41 [19/27 (70%)]\n",
            "Data set: Average loss: 0.1264\n",
            "Train Epoch: 42 [9/27 (33%)]\n",
            "Train Epoch: 42 [19/27 (70%)]\n",
            "Data set: Average loss: 0.1285\n",
            "Train Epoch: 43 [9/27 (33%)]\n",
            "Train Epoch: 43 [19/27 (70%)]\n",
            "Data set: Average loss: 0.1282\n",
            "Train Epoch: 44 [9/27 (33%)]\n",
            "Train Epoch: 44 [19/27 (70%)]\n",
            "Data set: Average loss: 0.1267\n",
            "Train Epoch: 45 [9/27 (33%)]\n",
            "Train Epoch: 45 [19/27 (70%)]\n",
            "Data set: Average loss: 0.1250\n",
            "Train Epoch: 46 [9/27 (33%)]\n",
            "Train Epoch: 46 [19/27 (70%)]\n",
            "Data set: Average loss: 0.1274\n",
            "Train Epoch: 47 [9/27 (33%)]\n",
            "Train Epoch: 47 [19/27 (70%)]\n",
            "Data set: Average loss: 0.1272\n",
            "Train Epoch: 48 [9/27 (33%)]\n",
            "Train Epoch: 48 [19/27 (70%)]\n",
            "Data set: Average loss: 0.1252\n",
            "Train Epoch: 49 [9/27 (33%)]\n",
            "Train Epoch: 49 [19/27 (70%)]\n",
            "Data set: Average loss: 0.1244\n",
            "Train Epoch: 50 [9/27 (33%)]\n",
            "Train Epoch: 50 [19/27 (70%)]\n",
            "Data set: Average loss: 0.1261\n"
          ],
          "name": "stdout"
        }
      ]
    },
    {
      "cell_type": "code",
      "metadata": {
        "id": "VrpziWn-Zp41",
        "colab_type": "code",
        "colab": {
          "base_uri": "https://localhost:8080/",
          "height": 279
        },
        "outputId": "6a925184-ea76-41e1-a378-3d860eb2bb02"
      },
      "source": [
        "plt.plot(range(train_epochs_start, train_epochs_end), avg_losses)\n",
        "plt.xlabel('Epoch')\n",
        "plt.ylabel('Average loss')\n",
        "plt.savefig('ssl_loss.png')\n",
        "plt.show()"
      ],
      "execution_count": null,
      "outputs": [
        {
          "output_type": "display_data",
          "data": {
            "image/png": "[encoded data removed]",
            "text/plain": [
              "<Figure size 432x288 with 1 Axes>"
            ]
          },
          "metadata": {
            "tags": [],
            "needs_background": "light"
          }
        }
      ]
    },
    {
      "cell_type": "code",
      "metadata": {
        "id": "It7pRbor5zat",
        "colab_type": "code",
        "colab": {
          "base_uri": "https://localhost:8080/",
          "height": 545
        },
        "outputId": "7dbd270a-ed4c-462f-88e8-c5189e56eb69"
      },
      "source": [
        "plot_change(model.cpu(), model_old)"
      ],
      "execution_count": null,
      "outputs": [
        {
          "output_type": "display_data",
          "data": {
            "image/png": "[encoded data removed]",
            "text/plain": [
              "<Figure size 432x288 with 1 Axes>"
            ]
          },
          "metadata": {
            "tags": [],
            "needs_background": "light"
          }
        },
        {
          "output_type": "display_data",
          "data": {
            "image/png": "[encoded data removed]",
            "text/plain": [
              "<Figure size 432x288 with 1 Axes>"
            ]
          },
          "metadata": {
            "tags": [],
            "needs_background": "light"
          }
        }
      ]
    },
    {
      "cell_type": "code",
      "metadata": {
        "id": "QFZRaxKLJLKA",
        "colab_type": "code",
        "colab": {}
      },
      "source": [
        "torch.save(model.state_dict(), 'ssl.pt')"
      ],
      "execution_count": null,
      "outputs": []
    },
    {
      "cell_type": "markdown",
      "metadata": {
        "id": "UL-6QwIxVly8",
        "colab_type": "text"
      },
      "source": [
        "# Fine-tuning the model on the final task"
      ]
    },
    {
      "cell_type": "code",
      "metadata": {
        "id": "UM3YSCm4xvdo",
        "colab_type": "code",
        "colab": {}
      },
      "source": [
        "os.mkdir('model_backup')\n",
        "os.mkdir('model_result')"
      ],
      "execution_count": null,
      "outputs": []
    },
    {
      "cell_type": "code",
      "metadata": {
        "id": "-m_h5UYgVqkK",
        "colab_type": "code",
        "colab": {}
      },
      "source": [
        "from sklearn.metrics import roc_auc_score\n",
        "import torch.nn.functional as F\n",
        "\n",
        "torch.cuda.empty_cache()\n",
        "\n",
        "\n",
        "batchsize = 16\n",
        "train_epochs_start = 0\n",
        "train_epochs_end = 50\n",
        "ssl_epochs = 50"
      ],
      "execution_count": null,
      "outputs": []
    },
    {
      "cell_type": "code",
      "metadata": {
        "id": "xf3wtjzuWqQ4",
        "colab_type": "code",
        "colab": {}
      },
      "source": [
        "class FineTune(torch.nn.Module):\n",
        "    def __init__(self, ssl_model, out_dim=2):\n",
        "        super(FineTune, self).__init__()\n",
        "\n",
        "        self.features = ssl_model.features\n",
        "        self.relu = nn.ReLU(inplace=True)\n",
        "        self.classifier = nn.Linear(\n",
        "            ssl_model.classifier[0].in_features,\n",
        "            out_features=out_dim,\n",
        "            bias=True\n",
        "        )\n",
        "\n",
        "    def forward(self, x):\n",
        "        out = self.features(x)\n",
        "        out = self.relu(out)\n",
        "        out = F.adaptive_avg_pool2d(out, (1, 1))\n",
        "        out = torch.flatten(out, 1)\n",
        "        out = self.classifier(out)\n",
        "        return out"
      ],
      "execution_count": null,
      "outputs": []
    },
    {
      "cell_type": "code",
      "metadata": {
        "id": "IN0NdcwAXCQi",
        "colab_type": "code",
        "colab": {}
      },
      "source": [
        "model = SimCLR()\n",
        "modelname = 'SimCLR'\n",
        "\n",
        "if train_epochs_start > 0:\n",
        "    model = FineTune(model)\n",
        "    modelname = 'FineTune'\n",
        "    model.load_state_dict(\n",
        "        torch.load('model_backup/{}_{}.pt'.format(\n",
        "            modelname,\n",
        "            train_epochs_start\n",
        "        ))\n",
        "    )\n",
        "else:\n",
        "    model.load_state_dict(\n",
        "        torch.load('ssl_backup/{}_{}.pt'.format(\n",
        "            modelname,\n",
        "            ssl_epochs\n",
        "        ))\n",
        "    )\n",
        "    model = FineTune(model)\n",
        "    modelname = 'FineTune'\n",
        "\n",
        "if device == 'cuda':\n",
        "    model = model.cuda()"
      ],
      "execution_count": null,
      "outputs": []
    },
    {
      "cell_type": "code",
      "metadata": {
        "id": "zXofb8MM5YhN",
        "colab_type": "code",
        "colab": {
          "base_uri": "https://localhost:8080/",
          "height": 34
        },
        "outputId": "81dcbd73-7972-4952-9e65-a5328240a7f2"
      },
      "source": [
        "model_old = FineTune(SimCLR())\n",
        "model_old.load_state_dict(model.state_dict())"
      ],
      "execution_count": null,
      "outputs": [
        {
          "output_type": "execute_result",
          "data": {
            "text/plain": [
              "<All keys matched successfully>"
            ]
          },
          "metadata": {
            "tags": []
          },
          "execution_count": 28
        }
      ]
    },
    {
      "cell_type": "code",
      "metadata": {
        "id": "TaZQvb8eXI19",
        "colab_type": "code",
        "colab": {}
      },
      "source": [
        "normalize = transforms.Normalize(\n",
        "    mean=[0.45271412, 0.45271412, 0.45271412],\n",
        "    std=[0.33165374, 0.33165374, 0.33165374]\n",
        ")\n",
        "train_transformer = transforms.Compose([\n",
        "    transforms.Resize((224, 224)),\n",
        "    transforms.ToTensor(),\n",
        "    normalize\n",
        "])\n",
        "\n",
        "val_transformer = transforms.Compose([\n",
        "    transforms.Resize((224, 224)),\n",
        "    transforms.ToTensor(),\n",
        "    normalize\n",
        "])\n",
        "\n",
        "detransformer = torchvision.transforms.Compose([\n",
        "    lambda image_tensor : image_tensor * torch.tensor([0.33165374, 0.33165374, 0.33165374])[:, None, None],\n",
        "    lambda image_tensor : image_tensor + torch.tensor([0.45271412, 0.45271412, 0.45271412])[:, None, None],\n",
        "    torchvision.transforms.ToPILImage()\n",
        "])"
      ],
      "execution_count": null,
      "outputs": []
    },
    {
      "cell_type": "code",
      "metadata": {
        "id": "e2k5CRSsJr2f",
        "colab_type": "code",
        "colab": {}
      },
      "source": [
        "def gradcam(model, input_tensor, detransform, label, axis):\n",
        "\n",
        "\t# Activations are saved.\n",
        "\tactivations = dict() # one-key dictionary. Doesn't work otherwise.\n",
        "\tdef get_activations(name):\n",
        "\t\tdef hook(module, input, output):\n",
        "\t\t\tactivations[name] = output.detach()\n",
        "\t\treturn hook\n",
        "\n",
        "\t# Gradients are saved.\n",
        "\tgrads = dict() # same as for activations\n",
        "\tdef get_grads(name):\n",
        "\t\tdef hook(module, grad_input, grad_output):\n",
        "\t\t\tgrads[name] = grad_output[0].detach() # is a tuple\n",
        "\t\treturn hook\n",
        "\n",
        "\tinput_batch = input_tensor.unsqueeze(0) # a batch of one\n",
        "\n",
        "\tfrw_handle = model.relu.register_forward_hook(get_activations(\"features\"))\n",
        "\tbck_handle = model.relu.register_backward_hook(get_grads(\"features\"))\n",
        "\n",
        "\tmodel.eval()\n",
        "\tmodel.zero_grad()\n",
        "\toutput_batch = model(input_batch)\n",
        "\toutput_batch[0][label].backward()\n",
        "\n",
        "\tfrw_handle.remove()\n",
        "\tbck_handle.remove()\n",
        "\n",
        "\tactivations = activations[\"features\"]\n",
        "\tgrads = grads[\"features\"]\n",
        "\n",
        "\tgrads = torch.mean(grads, dim=(-2, -1), keepdims=True) # gradients are pooled\n",
        "\tgrad_cam = activations * grads\n",
        "\tgrad_cam = torch.sum(grad_cam, dim=-3) # weighted sum\n",
        "\tgrad_cam = torch.nn.functional.relu(grad_cam) # relu'd weighted sum\n",
        "\tgrad_cam = grad_cam / grad_cam.max() # normalization\n",
        "\tgrad_cam = grad_cam[0] # squeezing the batch of one\n",
        "\n",
        "\taxis.imshow(detransform(input_tensor).resize((224, 224)), alpha=1.0)\n",
        "\t# Grad-CAM is resized to 224x224 via bilinear interpolation and mapped to 'JET' colormap to be superimposed on the original image.\n",
        "\taxis.imshow(torchvision.transforms.ToPILImage()(grad_cam).resize((224, 224), resample=Image.BILINEAR), cmap='jet', alpha=0.5)\n",
        "\taxis.set_xticks([])\n",
        "\taxis.set_yticks([])"
      ],
      "execution_count": null,
      "outputs": []
    },
    {
      "cell_type": "code",
      "metadata": {
        "id": "LTrQkcmUY79K",
        "colab_type": "code",
        "colab": {}
      },
      "source": [
        "# This definition overrides the previous one\n",
        "class CovidCTDataset(Dataset):\n",
        "    def __init__(self, root_dir, txt_COVID, txt_NonCOVID, transform=None):\n",
        "        \"\"\"\n",
        "            Args:\n",
        "                txt_path (string): Path to the txt file with annotations.\n",
        "                root_dir (string): Directory with all the images.\n",
        "                transform (callable, optional): Optional transform to be applied on a sample.\n",
        "            File structure:\n",
        "                - root_dir\n",
        "                    - CT_COVID\n",
        "                        - img1.png\n",
        "                        - img2.png\n",
        "                        - ......\n",
        "                    - CT_NonCOVID\n",
        "                        - img1.png\n",
        "                        - img2.png\n",
        "                        - ......\n",
        "        \"\"\"\n",
        "        self.root_dir = root_dir\n",
        "        self.txt_path = [txt_COVID, txt_NonCOVID]\n",
        "        self.classes = ['CT_COVID', 'CT_NonCOVID']\n",
        "        self.num_cls = len(self.classes)\n",
        "        self.img_list = []\n",
        "        for c in range(self.num_cls):\n",
        "            cls_list = [[os.path.join(self.root_dir, self.classes[c], item), c] for item in read_txt(self.txt_path[c])]\n",
        "            self.img_list += cls_list\n",
        "        self.transform = transform\n",
        "\n",
        "    def __len__(self):\n",
        "        return len(self.img_list)\n",
        "\n",
        "    def __getitem__(self, idx):\n",
        "        if torch.is_tensor(idx):\n",
        "            idx = idx.tolist()\n",
        "\n",
        "        img_path = self.img_list[idx][0]\n",
        "        image = Image.open(img_path).convert('RGB')\n",
        "\n",
        "        if self.transform:\n",
        "            image = self.transform(image)\n",
        "        sample = {'img': image, 'label': int(self.img_list[idx][1])}\n",
        "        return sample"
      ],
      "execution_count": null,
      "outputs": []
    },
    {
      "cell_type": "code",
      "metadata": {
        "id": "k4Qa6jqRZNWc",
        "colab_type": "code",
        "colab": {
          "base_uri": "https://localhost:8080/",
          "height": 69
        },
        "outputId": "584e5f8d-1099-4a0a-9e78-9892fea64402"
      },
      "source": [
        "trainset = CovidCTDataset(\n",
        "    root_dir='Images',\n",
        "    txt_COVID='Data-split/COVID/trainCT_COVID.txt',\n",
        "    txt_NonCOVID='Data-split/NonCOVID/trainCT_NonCOVID.txt',\n",
        "    transform=train_transformer\n",
        ")\n",
        "valset = CovidCTDataset(\n",
        "    root_dir='Images',\n",
        "    txt_COVID='Data-split/COVID/valCT_COVID.txt',\n",
        "    txt_NonCOVID='Data-split/NonCOVID/valCT_NonCOVID.txt',\n",
        "    transform=val_transformer\n",
        ")\n",
        "testset = CovidCTDataset(\n",
        "    root_dir='Images',\n",
        "    txt_COVID='Data-split/COVID/testCT_COVID.txt',\n",
        "    txt_NonCOVID='Data-split/NonCOVID/testCT_NonCOVID.txt',\n",
        "    transform=val_transformer\n",
        ")\n",
        "print(\"trainset length:\", trainset.__len__())\n",
        "print(\"valset length:\", valset.__len__())\n",
        "print(\"testset length:\", testset.__len__())\n",
        "\n",
        "train_loader = DataLoader(trainset, batch_size=batchsize, drop_last=False, shuffle=True)\n",
        "val_loader = DataLoader(valset, batch_size=batchsize, drop_last=False, shuffle=False)\n",
        "test_loader = DataLoader(testset, batch_size=batchsize, drop_last=False, shuffle=False)"
      ],
      "execution_count": null,
      "outputs": [
        {
          "output_type": "stream",
          "text": [
            "trainset length: 425\n",
            "valset length: 118\n",
            "testset length: 203\n"
          ],
          "name": "stdout"
        }
      ]
    },
    {
      "cell_type": "code",
      "metadata": {
        "id": "osuxQYhYaV24",
        "colab_type": "code",
        "colab": {}
      },
      "source": [
        "def train(epoch):\n",
        "        \n",
        "    model.train()\n",
        "        \n",
        "    train_loss = 0\n",
        "    train_correct = 0\n",
        "        \n",
        "    for batch_index, batch_samples in enumerate(train_loader):\n",
        "                \n",
        "        # move data to device\n",
        "        data, target = batch_samples['img'].to(device), batch_samples['label'].to(device)\n",
        "\n",
        "        output = model(data)\n",
        "        loss = criteria(output, target.long())\n",
        "        train_loss += loss.item()\n",
        "                \n",
        "        optimizer.zero_grad()\n",
        "        loss.backward()\n",
        "        optimizer.step()\n",
        "\n",
        "        pred = output.argmax(dim=1)\n",
        "        train_correct += (pred == target).sum().item()\n",
        "        \n",
        "        # Display progress\n",
        "        if (batch_index + 1) % bs == 0:\n",
        "            print('Train Epoch: {} [{}/{} ({:.0f}%)]\\tTrain Loss: {:.6f}'.format(\n",
        "                epoch,\n",
        "                batch_index, len(train_loader),\n",
        "                100.0 * batch_index / len(train_loader),\n",
        "                train_loss / bs\n",
        "            ))\n",
        "            train_loss = 0\n",
        "        \n",
        "    avg_loss = train_loss / len(train_loader.dataset)\n",
        "    accuracy = 100.0 * train_correct / len(train_loader.dataset)\n",
        "    print('Train set: Average loss: {:.4f}, Accuracy: {}/{} ({:.0f}%)\\n'.format(\n",
        "        avg_loss,\n",
        "        train_correct, len(train_loader.dataset),\n",
        "        accuracy\n",
        "    ))\n",
        "    f = open('model_result/train_{}.txt'.format(modelname), 'a+')\n",
        "    f.write('Train set: Average loss: {:.4f}, Accuracy: {}/{} ({:.0f}%)\\n'.format(\n",
        "        avg_loss,\n",
        "        train_correct, len(train_loader.dataset),\n",
        "        accuracy\n",
        "    ))\n",
        "    f.close()\n",
        "    avg_losses.append(avg_loss)"
      ],
      "execution_count": null,
      "outputs": []
    },
    {
      "cell_type": "code",
      "metadata": {
        "id": "g_vy2_XrbIN5",
        "colab_type": "code",
        "colab": {}
      },
      "source": [
        " def predict(mode):\n",
        "    '''\n",
        "        mode:\n",
        "            either 'val' or 'train'\n",
        "    '''\n",
        "    loader = val_loader if mode == 'val' else test_loader\n",
        "        \n",
        "    model.eval()\n",
        "\n",
        "    predlist=[]\n",
        "    scorelist=[]\n",
        "    targetlist=[]\n",
        "        \n",
        "    # Don't update model\n",
        "    with torch.no_grad():\n",
        "        # Predict\n",
        "        for batch_index, batch_samples in enumerate(loader):\n",
        "            data, target = batch_samples['img'].to(device), batch_samples['label'].to(device)\n",
        "            output = model(data)\n",
        "                        \n",
        "            score = F.softmax(output, dim=1)\n",
        "            pred = output.argmax(dim=1)\n",
        "\n",
        "            targetcpu=target.long().cpu().numpy()\n",
        "            predlist=np.append(predlist, pred.cpu().numpy())\n",
        "            scorelist=np.append(scorelist, score.cpu().numpy()[:,1]) # percentages for positive\n",
        "            targetlist=np.append(targetlist, targetcpu)\n",
        "                                  \n",
        "    return targetlist, scorelist, predlist"
      ],
      "execution_count": null,
      "outputs": []
    },
    {
      "cell_type": "code",
      "metadata": {
        "id": "8pUgTKSObbsZ",
        "colab_type": "code",
        "colab": {
          "base_uri": "https://localhost:8080/",
          "height": 1000
        },
        "outputId": "c281887b-4922-43da-ce03-e22cfc112b99"
      },
      "source": [
        "bs = 10\n",
        "votenum = 5\n",
        "epochs, rs, ps, F1s, accs, AUCs = [], [], [], [], [], []\n",
        "avg_losses = []\n",
        "\n",
        "vote_pred = np.zeros(valset.__len__())\n",
        "vote_score = np.zeros(valset.__len__())\n",
        "\n",
        "criteria = nn.CrossEntropyLoss()\n",
        "optimizer = optim.Adam(model.parameters())\n",
        "\n",
        "for epoch in range(train_epochs_start + 1, train_epochs_end + 1):\n",
        "    train(epoch)\n",
        "\n",
        "    targetlist, scorelist, predlist = predict('val')\n",
        "    vote_pred = vote_pred + predlist\n",
        "    vote_score = vote_score + scorelist\n",
        "\n",
        "    if epoch % votenum == 0:\n",
        "        # checkpoint\n",
        "        torch.save(model.state_dict(), \"model_backup/{}_{}.pt\".format(modelname, epoch))\n",
        "                \n",
        "        # major vote\n",
        "        vote_pred[vote_pred <=  (votenum / 2)] = 0\n",
        "        vote_pred[vote_pred >   (votenum / 2)] = 1\n",
        "        vote_score = vote_score / votenum\n",
        "\n",
        "        TP = ((vote_pred == 1) & (targetlist == 1)).sum()\n",
        "        TN = ((vote_pred == 0) & (targetlist == 0)).sum()\n",
        "        FN = ((vote_pred == 0) & (targetlist == 1)).sum()\n",
        "        FP = ((vote_pred == 1) & (targetlist == 0)).sum()\n",
        "                \n",
        "        print('TP=',TP,'TN=',TN,'FN=',FN,'FP=',FP)\n",
        "        print('TP+FP',TP + FP)\n",
        "        p = TP / (TP + FP)\n",
        "        r = TP / (TP + FN)\n",
        "        F1 = 2 * r * p / (r + p)\n",
        "        acc = (TP + TN) / (TP + TN + FP + FN)\n",
        "        AUC = roc_auc_score(targetlist, vote_score)\n",
        "\n",
        "        print('The epoch is {}, average recall: {:.4f}, average precision: {:.4f}, average F1: {:.4f}, average accuracy: {:.4f}, average AUC: {:.4f}\\n\\n'.format(\n",
        "            epoch, r, p, F1, acc, AUC\n",
        "        ))\n",
        "        f = open('model_result/train_{}.txt'.format(modelname), 'a+')\n",
        "        f.write('The epoch is {}, average recall: {:.4f}, average precision: {:.4f}, average F1: {:.4f}, average accuracy: {:.4f}, average AUC: {:.4f}\\n\\n'.format(\n",
        "            epoch, r, p, F1, acc, AUC\n",
        "        ))\n",
        "        f.close()\n",
        "\n",
        "        epochs.append(epoch)\n",
        "        rs.append(r)\n",
        "        ps.append(p)\n",
        "        F1s.append(F1)\n",
        "        accs.append(acc)\n",
        "        AUCs.append(AUC)\n",
        "                \n",
        "        vote_pred = np.zeros(valset.__len__())\n",
        "        vote_score = np.zeros(valset.__len__())\n"
      ],
      "execution_count": null,
      "outputs": [
        {
          "output_type": "stream",
          "text": [
            "Train Epoch: 1 [9/27 (33%)]\tTrain Loss: 0.616229\n",
            "Train Epoch: 1 [19/27 (70%)]\tTrain Loss: 0.552693\n",
            "Train set: Average loss: 0.0082, Accuracy: 293/425 (69%)\n",
            "\n",
            "Train Epoch: 2 [9/27 (33%)]\tTrain Loss: 0.445142\n",
            "Train Epoch: 2 [19/27 (70%)]\tTrain Loss: 0.377906\n",
            "Train set: Average loss: 0.0080, Accuracy: 339/425 (80%)\n",
            "\n",
            "Train Epoch: 3 [9/27 (33%)]\tTrain Loss: 0.255136\n",
            "Train Epoch: 3 [19/27 (70%)]\tTrain Loss: 0.430631\n",
            "Train set: Average loss: 0.0066, Accuracy: 358/425 (84%)\n",
            "\n",
            "Train Epoch: 4 [9/27 (33%)]\tTrain Loss: 0.338673\n",
            "Train Epoch: 4 [19/27 (70%)]\tTrain Loss: 0.317423\n",
            "Train set: Average loss: 0.0038, Accuracy: 372/425 (88%)\n",
            "\n",
            "Train Epoch: 5 [9/27 (33%)]\tTrain Loss: 0.218331\n",
            "Train Epoch: 5 [19/27 (70%)]\tTrain Loss: 0.283183\n",
            "Train set: Average loss: 0.0061, Accuracy: 381/425 (90%)\n",
            "\n",
            "TP= 42 TN= 44 FN= 16 FP= 16\n",
            "TP+FP 58\n",
            "The epoch is 5, average recall: 0.7241, average precision: 0.7241, average F1: 0.7241, average accuracy: 0.7288, average AUC: 0.8109\n",
            "\n",
            "\n",
            "Train Epoch: 6 [9/27 (33%)]\tTrain Loss: 0.253289\n",
            "Train Epoch: 6 [19/27 (70%)]\tTrain Loss: 0.182144\n",
            "Train set: Average loss: 0.0029, Accuracy: 385/425 (91%)\n",
            "\n",
            "Train Epoch: 7 [9/27 (33%)]\tTrain Loss: 0.134742\n",
            "Train Epoch: 7 [19/27 (70%)]\tTrain Loss: 0.123277\n",
            "Train set: Average loss: 0.0062, Accuracy: 392/425 (92%)\n",
            "\n",
            "Train Epoch: 8 [9/27 (33%)]\tTrain Loss: 0.277811\n",
            "Train Epoch: 8 [19/27 (70%)]\tTrain Loss: 0.261267\n",
            "Train set: Average loss: 0.0026, Accuracy: 383/425 (90%)\n",
            "\n",
            "Train Epoch: 9 [9/27 (33%)]\tTrain Loss: 0.144173\n",
            "Train Epoch: 9 [19/27 (70%)]\tTrain Loss: 0.075322\n",
            "Train set: Average loss: 0.0008, Accuracy: 412/425 (97%)\n",
            "\n",
            "Train Epoch: 10 [9/27 (33%)]\tTrain Loss: 0.028139\n",
            "Train Epoch: 10 [19/27 (70%)]\tTrain Loss: 0.142198\n",
            "Train set: Average loss: 0.0018, Accuracy: 410/425 (96%)\n",
            "\n",
            "TP= 33 TN= 51 FN= 25 FP= 9\n",
            "TP+FP 42\n",
            "The epoch is 10, average recall: 0.5690, average precision: 0.7857, average F1: 0.6600, average accuracy: 0.7119, average AUC: 0.8080\n",
            "\n",
            "\n",
            "Train Epoch: 11 [9/27 (33%)]\tTrain Loss: 0.119863\n",
            "Train Epoch: 11 [19/27 (70%)]\tTrain Loss: 0.182452\n",
            "Train set: Average loss: 0.0014, Accuracy: 405/425 (95%)\n",
            "\n",
            "Train Epoch: 12 [9/27 (33%)]\tTrain Loss: 0.094466\n",
            "Train Epoch: 12 [19/27 (70%)]\tTrain Loss: 0.075494\n",
            "Train set: Average loss: 0.0022, Accuracy: 408/425 (96%)\n",
            "\n",
            "Train Epoch: 13 [9/27 (33%)]\tTrain Loss: 0.090978\n",
            "Train Epoch: 13 [19/27 (70%)]\tTrain Loss: 0.084890\n",
            "Train set: Average loss: 0.0006, Accuracy: 415/425 (98%)\n",
            "\n",
            "Train Epoch: 14 [9/27 (33%)]\tTrain Loss: 0.075231\n",
            "Train Epoch: 14 [19/27 (70%)]\tTrain Loss: 0.098570\n",
            "Train set: Average loss: 0.0008, Accuracy: 410/425 (96%)\n",
            "\n",
            "Train Epoch: 15 [9/27 (33%)]\tTrain Loss: 0.074756\n",
            "Train Epoch: 15 [19/27 (70%)]\tTrain Loss: 0.084531\n",
            "Train set: Average loss: 0.0020, Accuracy: 413/425 (97%)\n",
            "\n",
            "TP= 42 TN= 44 FN= 16 FP= 16\n",
            "TP+FP 58\n",
            "The epoch is 15, average recall: 0.7241, average precision: 0.7241, average F1: 0.7241, average accuracy: 0.7288, average AUC: 0.7986\n",
            "\n",
            "\n",
            "Train Epoch: 16 [9/27 (33%)]\tTrain Loss: 0.102574\n",
            "Train Epoch: 16 [19/27 (70%)]\tTrain Loss: 0.118701\n",
            "Train set: Average loss: 0.0023, Accuracy: 405/425 (95%)\n",
            "\n",
            "Train Epoch: 17 [9/27 (33%)]\tTrain Loss: 0.022592\n",
            "Train Epoch: 17 [19/27 (70%)]\tTrain Loss: 0.074108\n",
            "Train set: Average loss: 0.0023, Accuracy: 414/425 (97%)\n",
            "\n",
            "Train Epoch: 18 [9/27 (33%)]\tTrain Loss: 0.033556\n",
            "Train Epoch: 18 [19/27 (70%)]\tTrain Loss: 0.161199\n",
            "Train set: Average loss: 0.0014, Accuracy: 412/425 (97%)\n",
            "\n",
            "Train Epoch: 19 [9/27 (33%)]\tTrain Loss: 0.103194\n",
            "Train Epoch: 19 [19/27 (70%)]\tTrain Loss: 0.072282\n",
            "Train set: Average loss: 0.0009, Accuracy: 412/425 (97%)\n",
            "\n",
            "Train Epoch: 20 [9/27 (33%)]\tTrain Loss: 0.018932\n",
            "Train Epoch: 20 [19/27 (70%)]\tTrain Loss: 0.053247\n",
            "Train set: Average loss: 0.0002, Accuracy: 422/425 (99%)\n",
            "\n",
            "TP= 41 TN= 49 FN= 17 FP= 11\n",
            "TP+FP 52\n",
            "The epoch is 20, average recall: 0.7069, average precision: 0.7885, average F1: 0.7455, average accuracy: 0.7627, average AUC: 0.8647\n",
            "\n",
            "\n",
            "Train Epoch: 21 [9/27 (33%)]\tTrain Loss: 0.006817\n",
            "Train Epoch: 21 [19/27 (70%)]\tTrain Loss: 0.013924\n",
            "Train set: Average loss: 0.0014, Accuracy: 423/425 (100%)\n",
            "\n",
            "Train Epoch: 22 [9/27 (33%)]\tTrain Loss: 0.005723\n",
            "Train Epoch: 22 [19/27 (70%)]\tTrain Loss: 0.070340\n",
            "Train set: Average loss: 0.0004, Accuracy: 418/425 (98%)\n",
            "\n",
            "Train Epoch: 23 [9/27 (33%)]\tTrain Loss: 0.061387\n",
            "Train Epoch: 23 [19/27 (70%)]\tTrain Loss: 0.020774\n",
            "Train set: Average loss: 0.0015, Accuracy: 421/425 (99%)\n",
            "\n",
            "Train Epoch: 24 [9/27 (33%)]\tTrain Loss: 0.060489\n",
            "Train Epoch: 24 [19/27 (70%)]\tTrain Loss: 0.042744\n",
            "Train set: Average loss: 0.0025, Accuracy: 415/425 (98%)\n",
            "\n",
            "Train Epoch: 25 [9/27 (33%)]\tTrain Loss: 0.105656\n",
            "Train Epoch: 25 [19/27 (70%)]\tTrain Loss: 0.261114\n",
            "Train set: Average loss: 0.0010, Accuracy: 404/425 (95%)\n",
            "\n",
            "TP= 49 TN= 44 FN= 9 FP= 16\n",
            "TP+FP 65\n",
            "The epoch is 25, average recall: 0.8448, average precision: 0.7538, average F1: 0.7967, average accuracy: 0.7881, average AUC: 0.8201\n",
            "\n",
            "\n",
            "Train Epoch: 26 [9/27 (33%)]\tTrain Loss: 0.079305\n",
            "Train Epoch: 26 [19/27 (70%)]\tTrain Loss: 0.101868\n",
            "Train set: Average loss: 0.0034, Accuracy: 407/425 (96%)\n",
            "\n",
            "Train Epoch: 27 [9/27 (33%)]\tTrain Loss: 0.113379\n",
            "Train Epoch: 27 [19/27 (70%)]\tTrain Loss: 0.048691\n",
            "Train set: Average loss: 0.0005, Accuracy: 415/425 (98%)\n",
            "\n",
            "Train Epoch: 28 [9/27 (33%)]\tTrain Loss: 0.023445\n",
            "Train Epoch: 28 [19/27 (70%)]\tTrain Loss: 0.046127\n",
            "Train set: Average loss: 0.0010, Accuracy: 417/425 (98%)\n",
            "\n",
            "Train Epoch: 29 [9/27 (33%)]\tTrain Loss: 0.124829\n",
            "Train Epoch: 29 [19/27 (70%)]\tTrain Loss: 0.085351\n",
            "Train set: Average loss: 0.0009, Accuracy: 413/425 (97%)\n",
            "\n",
            "Train Epoch: 30 [9/27 (33%)]\tTrain Loss: 0.047333\n",
            "Train Epoch: 30 [19/27 (70%)]\tTrain Loss: 0.015438\n",
            "Train set: Average loss: 0.0002, Accuracy: 421/425 (99%)\n",
            "\n",
            "TP= 45 TN= 48 FN= 13 FP= 12\n",
            "TP+FP 57\n",
            "The epoch is 30, average recall: 0.7759, average precision: 0.7895, average F1: 0.7826, average accuracy: 0.7881, average AUC: 0.8158\n",
            "\n",
            "\n",
            "Train Epoch: 31 [9/27 (33%)]\tTrain Loss: 0.002097\n",
            "Train Epoch: 31 [19/27 (70%)]\tTrain Loss: 0.008392\n",
            "Train set: Average loss: 0.0002, Accuracy: 425/425 (100%)\n",
            "\n",
            "Train Epoch: 32 [9/27 (33%)]\tTrain Loss: 0.002071\n",
            "Train Epoch: 32 [19/27 (70%)]\tTrain Loss: 0.024180\n",
            "Train set: Average loss: 0.0002, Accuracy: 423/425 (100%)\n",
            "\n",
            "Train Epoch: 33 [9/27 (33%)]\tTrain Loss: 0.003978\n",
            "Train Epoch: 33 [19/27 (70%)]\tTrain Loss: 0.006347\n",
            "Train set: Average loss: 0.0001, Accuracy: 425/425 (100%)\n",
            "\n",
            "Train Epoch: 34 [9/27 (33%)]\tTrain Loss: 0.001518\n",
            "Train Epoch: 34 [19/27 (70%)]\tTrain Loss: 0.003213\n",
            "Train set: Average loss: 0.0000, Accuracy: 425/425 (100%)\n",
            "\n",
            "Train Epoch: 35 [9/27 (33%)]\tTrain Loss: 0.001104\n",
            "Train Epoch: 35 [19/27 (70%)]\tTrain Loss: 0.001463\n",
            "Train set: Average loss: 0.0002, Accuracy: 425/425 (100%)\n",
            "\n",
            "TP= 48 TN= 45 FN= 10 FP= 15\n",
            "TP+FP 63\n",
            "The epoch is 35, average recall: 0.8276, average precision: 0.7619, average F1: 0.7934, average accuracy: 0.7881, average AUC: 0.8466\n",
            "\n",
            "\n",
            "Train Epoch: 36 [9/27 (33%)]\tTrain Loss: 0.002026\n",
            "Train Epoch: 36 [19/27 (70%)]\tTrain Loss: 0.012274\n",
            "Train set: Average loss: 0.0002, Accuracy: 423/425 (100%)\n",
            "\n",
            "Train Epoch: 37 [9/27 (33%)]\tTrain Loss: 0.006176\n",
            "Train Epoch: 37 [19/27 (70%)]\tTrain Loss: 0.009078\n",
            "Train set: Average loss: 0.0000, Accuracy: 425/425 (100%)\n",
            "\n",
            "Train Epoch: 38 [9/27 (33%)]\tTrain Loss: 0.001623\n",
            "Train Epoch: 38 [19/27 (70%)]\tTrain Loss: 0.003363\n",
            "Train set: Average loss: 0.0000, Accuracy: 425/425 (100%)\n",
            "\n",
            "Train Epoch: 39 [9/27 (33%)]\tTrain Loss: 0.008460\n",
            "Train Epoch: 39 [19/27 (70%)]\tTrain Loss: 0.001111\n",
            "Train set: Average loss: 0.0001, Accuracy: 424/425 (100%)\n",
            "\n",
            "Train Epoch: 40 [9/27 (33%)]\tTrain Loss: 0.000487\n",
            "Train Epoch: 40 [19/27 (70%)]\tTrain Loss: 0.004277\n",
            "Train set: Average loss: 0.0000, Accuracy: 425/425 (100%)\n",
            "\n",
            "TP= 42 TN= 45 FN= 16 FP= 15\n",
            "TP+FP 57\n",
            "The epoch is 40, average recall: 0.7241, average precision: 0.7368, average F1: 0.7304, average accuracy: 0.7373, average AUC: 0.8283\n",
            "\n",
            "\n",
            "Train Epoch: 41 [9/27 (33%)]\tTrain Loss: 0.000471\n",
            "Train Epoch: 41 [19/27 (70%)]\tTrain Loss: 0.000785\n",
            "Train set: Average loss: 0.0000, Accuracy: 425/425 (100%)\n",
            "\n",
            "Train Epoch: 42 [9/27 (33%)]\tTrain Loss: 0.000096\n",
            "Train Epoch: 42 [19/27 (70%)]\tTrain Loss: 0.000135\n",
            "Train set: Average loss: 0.0000, Accuracy: 425/425 (100%)\n",
            "\n",
            "Train Epoch: 43 [9/27 (33%)]\tTrain Loss: 0.000120\n",
            "Train Epoch: 43 [19/27 (70%)]\tTrain Loss: 0.000310\n",
            "Train set: Average loss: 0.0000, Accuracy: 425/425 (100%)\n",
            "\n",
            "Train Epoch: 44 [9/27 (33%)]\tTrain Loss: 0.000734\n",
            "Train Epoch: 44 [19/27 (70%)]\tTrain Loss: 0.000114\n",
            "Train set: Average loss: 0.0000, Accuracy: 425/425 (100%)\n",
            "\n",
            "Train Epoch: 45 [9/27 (33%)]\tTrain Loss: 0.000076\n",
            "Train Epoch: 45 [19/27 (70%)]\tTrain Loss: 0.000274\n",
            "Train set: Average loss: 0.0000, Accuracy: 425/425 (100%)\n",
            "\n",
            "TP= 44 TN= 47 FN= 14 FP= 13\n",
            "TP+FP 57\n",
            "The epoch is 45, average recall: 0.7586, average precision: 0.7719, average F1: 0.7652, average accuracy: 0.7712, average AUC: 0.8418\n",
            "\n",
            "\n",
            "Train Epoch: 46 [9/27 (33%)]\tTrain Loss: 0.002948\n",
            "Train Epoch: 46 [19/27 (70%)]\tTrain Loss: 0.000464\n",
            "Train set: Average loss: 0.0000, Accuracy: 425/425 (100%)\n",
            "\n",
            "Train Epoch: 47 [9/27 (33%)]\tTrain Loss: 0.000329\n",
            "Train Epoch: 47 [19/27 (70%)]\tTrain Loss: 0.000197\n",
            "Train set: Average loss: 0.0000, Accuracy: 425/425 (100%)\n",
            "\n",
            "Train Epoch: 48 [9/27 (33%)]\tTrain Loss: 0.000224\n",
            "Train Epoch: 48 [19/27 (70%)]\tTrain Loss: 0.000119\n",
            "Train set: Average loss: 0.0000, Accuracy: 425/425 (100%)\n",
            "\n",
            "Train Epoch: 49 [9/27 (33%)]\tTrain Loss: 0.000112\n",
            "Train Epoch: 49 [19/27 (70%)]\tTrain Loss: 0.000097\n",
            "Train set: Average loss: 0.0000, Accuracy: 425/425 (100%)\n",
            "\n",
            "Train Epoch: 50 [9/27 (33%)]\tTrain Loss: 0.000163\n",
            "Train Epoch: 50 [19/27 (70%)]\tTrain Loss: 0.000406\n",
            "Train set: Average loss: 0.0000, Accuracy: 425/425 (100%)\n",
            "\n",
            "TP= 44 TN= 47 FN= 14 FP= 13\n",
            "TP+FP 57\n",
            "The epoch is 50, average recall: 0.7586, average precision: 0.7719, average F1: 0.7652, average accuracy: 0.7712, average AUC: 0.8453\n",
            "\n",
            "\n"
          ],
          "name": "stdout"
        }
      ]
    },
    {
      "cell_type": "code",
      "metadata": {
        "id": "Ry8_cAGZd_Tc",
        "colab_type": "code",
        "colab": {
          "base_uri": "https://localhost:8080/",
          "height": 279
        },
        "outputId": "a6089354-629c-41a0-c7d6-72a1723e4436"
      },
      "source": [
        "plt.plot(epochs, rs, label='Recall')\n",
        "plt.plot(epochs, ps, label='Precision')\n",
        "plt.plot(epochs, F1s, label='F1')\n",
        "plt.plot(epochs, accs, label='Accuracy')\n",
        "plt.plot(epochs, AUCs, label='AUC')\n",
        "plt.legend()\n",
        "plt.xlabel('Epoch')\n",
        "plt.ylabel('Training result')\n",
        "plt.xticks(epochs)\n",
        "plt.savefig('validation_performance.png')\n",
        "plt.show()"
      ],
      "execution_count": null,
      "outputs": [
        {
          "output_type": "display_data",
          "data": {
            "image/png": "[encoded data removed]",
            "text/plain": [
              "<Figure size 432x288 with 1 Axes>"
            ]
          },
          "metadata": {
            "tags": [],
            "needs_background": "light"
          }
        }
      ]
    },
    {
      "cell_type": "code",
      "metadata": {
        "id": "py5DwtAbBGT3",
        "colab_type": "code",
        "colab": {
          "base_uri": "https://localhost:8080/",
          "height": 295
        },
        "outputId": "e3ad50f0-fb2d-4f29-cfc3-0521215aebd2"
      },
      "source": [
        "plt.plot(range(train_epochs_start, train_epochs_end), avg_losses)\n",
        "plt.xlabel('Epoch')\n",
        "plt.ylabel('Average loss')\n",
        "plt.title('Training loss during fine-tuning')\n",
        "plt.savefig('fine-tuning_loss.png')\n",
        "plt.show()"
      ],
      "execution_count": null,
      "outputs": [
        {
          "output_type": "display_data",
          "data": {
            "image/png": "[encoded data removed]",
            "text/plain": [
              "<Figure size 432x288 with 1 Axes>"
            ]
          },
          "metadata": {
            "tags": [],
            "needs_background": "light"
          }
        }
      ]
    },
    {
      "cell_type": "code",
      "metadata": {
        "id": "Xk930p4x54LB",
        "colab_type": "code",
        "colab": {
          "base_uri": "https://localhost:8080/",
          "height": 545
        },
        "outputId": "f3e11970-e7f7-4dcc-a9c3-2f014ec333e8"
      },
      "source": [
        "plot_change(model.cpu(), model_old)\n",
        "model = model.cuda()"
      ],
      "execution_count": null,
      "outputs": [
        {
          "output_type": "display_data",
          "data": {
            "image/png": "[encoded data removed]",
            "text/plain": [
              "<Figure size 432x288 with 1 Axes>"
            ]
          },
          "metadata": {
            "tags": [],
            "needs_background": "light"
          }
        },
        {
          "output_type": "display_data",
          "data": {
            "image/png": "[encoded data removed]",
            "text/plain": [
              "<Figure size 432x288 with 1 Axes>"
            ]
          },
          "metadata": {
            "tags": [],
            "needs_background": "light"
          }
        }
      ]
    },
    {
      "cell_type": "code",
      "metadata": {
        "id": "D8UCiEdxb8RH",
        "colab_type": "code",
        "colab": {
          "base_uri": "https://localhost:8080/",
          "height": 86
        },
        "outputId": "5bd15171-a375-40ba-f2bb-144be56adb05"
      },
      "source": [
        "bs = 10\n",
        "\n",
        "        \n",
        "targetlist, scorelist, predlist = predict('test')\n",
        "        \n",
        "TP = ((predlist == 1) & (targetlist == 1)).sum()\n",
        "TN = ((predlist == 0) & (targetlist == 0)).sum()\n",
        "FN = ((predlist == 0) & (targetlist == 1)).sum()\n",
        "FP = ((predlist == 1) & (targetlist == 0)).sum()\n",
        "\n",
        "print('TP=',TP,'TN=',TN,'FN=',FN,'FP=',FP)\n",
        "print('TP+FP',TP+FP)\n",
        "p = TP / (TP + FP)\n",
        "r = TP / (TP + FN)\n",
        "F1 = 2 * r * p / (r + p)\n",
        "acc = (TP + TN) / (TP + TN + FP + FN)\n",
        "AUC = roc_auc_score(targetlist, scorelist)\n",
        "\n",
        "print('Testing, average recall: {:.4f}, average precision: {:.4f}, average F1: {:.4f}, average accuracy: {:.4f}, average AUC: {:.4f}\\n'.format(\n",
        "    r, p, F1, acc, AUC\n",
        "))\n",
        "f = open('model_result/test_{}.txt'.format(modelname), 'a+')\n",
        "f.write('Testing, average recall: {:.4f}, average precision: {:.4f}, average F1: {:.4f}, average accuracy: {:.4f}, average AUC: {:.4f}\\n'.format(\n",
        "    r, p, F1, acc, AUC\n",
        "))\n",
        "f.close()"
      ],
      "execution_count": null,
      "outputs": [
        {
          "output_type": "stream",
          "text": [
            "TP= 85 TN= 65 FN= 20 FP= 33\n",
            "TP+FP 118\n",
            "Testing, average recall: 0.8095, average precision: 0.7203, average F1: 0.7623, average accuracy: 0.7389, average AUC: 0.8182\n",
            "\n"
          ],
          "name": "stdout"
        }
      ]
    },
    {
      "cell_type": "code",
      "metadata": {
        "id": "QbyUKHDNKKGj",
        "colab_type": "code",
        "colab": {
          "base_uri": "https://localhost:8080/",
          "height": 226
        },
        "outputId": "5f232449-09d3-4c11-9810-44c6e1345e89"
      },
      "source": [
        "model = model.cpu()\n",
        "fig, axes = plt.subplots(2, 4)\n",
        "negatives = 0\n",
        "positives = 0\n",
        "for i in range(len(testset)):\n",
        "    if negatives == 4 and positives == 4:\n",
        "        break\n",
        "    image, label = testset[i]['img'], testset[i]['label']\n",
        "    if label == 0 and negatives < 4:\n",
        "        gradcam(model, image, detransformer, label, axes[0][negatives])\n",
        "        negatives = negatives + 1\n",
        "    elif label == 1 and positives < 4:\n",
        "        gradcam(model, image, detransformer, label, axes[1][positives])\n",
        "        positives = positives + 1\n",
        "\n",
        "fig.savefig('gradcam.png')\n",
        "fig.show()"
      ],
      "execution_count": null,
      "outputs": [
        {
          "output_type": "display_data",
          "data": {
            "image/png": "[encoded data removed]",
            "text/plain": [
              "<Figure size 432x288 with 8 Axes>"
            ]
          },
          "metadata": {
            "tags": []
          }
        }
      ]
    },
    {
      "cell_type": "code",
      "metadata": {
        "id": "DnrjCCznKQDA",
        "colab_type": "code",
        "colab": {}
      },
      "source": [
        "torch.save(model.state_dict(), 'fine-tune.pt')"
      ],
      "execution_count": null,
      "outputs": []
    }
  ]
}