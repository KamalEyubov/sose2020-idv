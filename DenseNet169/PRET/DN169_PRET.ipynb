{
  "nbformat": 4,
  "nbformat_minor": 0,
  "metadata": {
    "colab": {
      "name": "DN169_PRET.ipynb",
      "provenance": [],
      "collapsed_sections": []
    },
    "kernelspec": {
      "name": "python3",
      "display_name": "Python 3"
    },
    "accelerator": "GPU",
    "widgets": {
      "application/vnd.jupyter.widget-state+json": {
        "2a62df0e6c15435bb64a10c33ebad3bf": {
          "model_module": "@jupyter-widgets/controls",
          "model_name": "HBoxModel",
          "state": {
            "_view_name": "HBoxView",
            "_dom_classes": [],
            "_model_name": "HBoxModel",
            "_view_module": "@jupyter-widgets/controls",
            "_model_module_version": "1.5.0",
            "_view_count": null,
            "_view_module_version": "1.5.0",
            "box_style": "",
            "layout": "IPY_MODEL_d95d31c150804df7931f3bad838e3fc5",
            "_model_module": "@jupyter-widgets/controls",
            "children": [
              "IPY_MODEL_abe6e322ebde40dbb357f8eabbc5fd82",
              "IPY_MODEL_3c4e560b1214411684eb8aa030826c82"
            ]
          }
        },
        "d95d31c150804df7931f3bad838e3fc5": {
          "model_module": "@jupyter-widgets/base",
          "model_name": "LayoutModel",
          "state": {
            "_view_name": "LayoutView",
            "grid_template_rows": null,
            "right": null,
            "justify_content": null,
            "_view_module": "@jupyter-widgets/base",
            "overflow": null,
            "_model_module_version": "1.2.0",
            "_view_count": null,
            "flex_flow": null,
            "width": null,
            "min_width": null,
            "border": null,
            "align_items": null,
            "bottom": null,
            "_model_module": "@jupyter-widgets/base",
            "top": null,
            "grid_column": null,
            "overflow_y": null,
            "overflow_x": null,
            "grid_auto_flow": null,
            "grid_area": null,
            "grid_template_columns": null,
            "flex": null,
            "_model_name": "LayoutModel",
            "justify_items": null,
            "grid_row": null,
            "max_height": null,
            "align_content": null,
            "visibility": null,
            "align_self": null,
            "height": null,
            "min_height": null,
            "padding": null,
            "grid_auto_rows": null,
            "grid_gap": null,
            "max_width": null,
            "order": null,
            "_view_module_version": "1.2.0",
            "grid_template_areas": null,
            "object_position": null,
            "object_fit": null,
            "grid_auto_columns": null,
            "margin": null,
            "display": null,
            "left": null
          }
        },
        "abe6e322ebde40dbb357f8eabbc5fd82": {
          "model_module": "@jupyter-widgets/controls",
          "model_name": "FloatProgressModel",
          "state": {
            "_view_name": "ProgressView",
            "style": "IPY_MODEL_8ca116e582d2405f8cc5e6727d26cb6e",
            "_dom_classes": [],
            "description": "100%",
            "_model_name": "FloatProgressModel",
            "bar_style": "success",
            "max": 57365526,
            "_view_module": "@jupyter-widgets/controls",
            "_model_module_version": "1.5.0",
            "value": 57365526,
            "_view_count": null,
            "_view_module_version": "1.5.0",
            "orientation": "horizontal",
            "min": 0,
            "description_tooltip": null,
            "_model_module": "@jupyter-widgets/controls",
            "layout": "IPY_MODEL_0fcad26f2db44ebd979fe7d65290e137"
          }
        },
        "3c4e560b1214411684eb8aa030826c82": {
          "model_module": "@jupyter-widgets/controls",
          "model_name": "HTMLModel",
          "state": {
            "_view_name": "HTMLView",
            "style": "IPY_MODEL_42acf89f788b4d4f92e8a5ebbdce95b6",
            "_dom_classes": [],
            "description": "",
            "_model_name": "HTMLModel",
            "placeholder": "​",
            "_view_module": "@jupyter-widgets/controls",
            "_model_module_version": "1.5.0",
            "value": " 54.7M/54.7M [00:08&lt;00:00, 6.75MB/s]",
            "_view_count": null,
            "_view_module_version": "1.5.0",
            "description_tooltip": null,
            "_model_module": "@jupyter-widgets/controls",
            "layout": "IPY_MODEL_bded8596b9a64bdca46c041b6fefb5f3"
          }
        },
        "8ca116e582d2405f8cc5e6727d26cb6e": {
          "model_module": "@jupyter-widgets/controls",
          "model_name": "ProgressStyleModel",
          "state": {
            "_view_name": "StyleView",
            "_model_name": "ProgressStyleModel",
            "description_width": "initial",
            "_view_module": "@jupyter-widgets/base",
            "_model_module_version": "1.5.0",
            "_view_count": null,
            "_view_module_version": "1.2.0",
            "bar_color": null,
            "_model_module": "@jupyter-widgets/controls"
          }
        },
        "0fcad26f2db44ebd979fe7d65290e137": {
          "model_module": "@jupyter-widgets/base",
          "model_name": "LayoutModel",
          "state": {
            "_view_name": "LayoutView",
            "grid_template_rows": null,
            "right": null,
            "justify_content": null,
            "_view_module": "@jupyter-widgets/base",
            "overflow": null,
            "_model_module_version": "1.2.0",
            "_view_count": null,
            "flex_flow": null,
            "width": null,
            "min_width": null,
            "border": null,
            "align_items": null,
            "bottom": null,
            "_model_module": "@jupyter-widgets/base",
            "top": null,
            "grid_column": null,
            "overflow_y": null,
            "overflow_x": null,
            "grid_auto_flow": null,
            "grid_area": null,
            "grid_template_columns": null,
            "flex": null,
            "_model_name": "LayoutModel",
            "justify_items": null,
            "grid_row": null,
            "max_height": null,
            "align_content": null,
            "visibility": null,
            "align_self": null,
            "height": null,
            "min_height": null,
            "padding": null,
            "grid_auto_rows": null,
            "grid_gap": null,
            "max_width": null,
            "order": null,
            "_view_module_version": "1.2.0",
            "grid_template_areas": null,
            "object_position": null,
            "object_fit": null,
            "grid_auto_columns": null,
            "margin": null,
            "display": null,
            "left": null
          }
        },
        "42acf89f788b4d4f92e8a5ebbdce95b6": {
          "model_module": "@jupyter-widgets/controls",
          "model_name": "DescriptionStyleModel",
          "state": {
            "_view_name": "StyleView",
            "_model_name": "DescriptionStyleModel",
            "description_width": "",
            "_view_module": "@jupyter-widgets/base",
            "_model_module_version": "1.5.0",
            "_view_count": null,
            "_view_module_version": "1.2.0",
            "_model_module": "@jupyter-widgets/controls"
          }
        },
        "bded8596b9a64bdca46c041b6fefb5f3": {
          "model_module": "@jupyter-widgets/base",
          "model_name": "LayoutModel",
          "state": {
            "_view_name": "LayoutView",
            "grid_template_rows": null,
            "right": null,
            "justify_content": null,
            "_view_module": "@jupyter-widgets/base",
            "overflow": null,
            "_model_module_version": "1.2.0",
            "_view_count": null,
            "flex_flow": null,
            "width": null,
            "min_width": null,
            "border": null,
            "align_items": null,
            "bottom": null,
            "_model_module": "@jupyter-widgets/base",
            "top": null,
            "grid_column": null,
            "overflow_y": null,
            "overflow_x": null,
            "grid_auto_flow": null,
            "grid_area": null,
            "grid_template_columns": null,
            "flex": null,
            "_model_name": "LayoutModel",
            "justify_items": null,
            "grid_row": null,
            "max_height": null,
            "align_content": null,
            "visibility": null,
            "align_self": null,
            "height": null,
            "min_height": null,
            "padding": null,
            "grid_auto_rows": null,
            "grid_gap": null,
            "max_width": null,
            "order": null,
            "_view_module_version": "1.2.0",
            "grid_template_areas": null,
            "object_position": null,
            "object_fit": null,
            "grid_auto_columns": null,
            "margin": null,
            "display": null,
            "left": null
          }
        }
      }
    }
  },
  "cells": [
    {
      "cell_type": "markdown",
      "metadata": {
        "id": "B2gRjXONVGaE",
        "colab_type": "text"
      },
      "source": [
        "# Uploading data sets"
      ]
    },
    {
      "cell_type": "code",
      "metadata": {
        "id": "sMXvhlkjQ9fC",
        "colab_type": "code",
        "colab": {
          "base_uri": "https://localhost:8080/",
          "height": 124
        },
        "outputId": "03a8c04a-2c8a-4229-9a2e-1f3facb1454b"
      },
      "source": [
        "from google.colab import drive\n",
        "\n",
        "drive.mount('/content/drive/')\n",
        "\n",
        "uploaded = ['/content/drive/My Drive/Images.zip',\n",
        "            '/content/drive/My Drive/Data-split.zip',\n",
        "            '/content/drive/My Drive/LUNA.zip']"
      ],
      "execution_count": null,
      "outputs": [
        {
          "output_type": "stream",
          "text": [
            "Go to this URL in a browser: https://accounts.google.com/o/oauth2/auth?client_id=947318989803-6bn6qk8qdgf4n4g3pfee6491hc0brc4i.apps.googleusercontent.com&redirect_uri=urn%3aietf%3awg%3aoauth%3a2.0%3aoob&response_type=code&scope=email%20https%3a%2f%2fwww.googleapis.com%2fauth%2fdocs.test%20https%3a%2f%2fwww.googleapis.com%2fauth%2fdrive%20https%3a%2f%2fwww.googleapis.com%2fauth%2fdrive.photos.readonly%20https%3a%2f%2fwww.googleapis.com%2fauth%2fpeopleapi.readonly\n",
            "\n",
            "Enter your authorization code:\n",
            "··········\n",
            "Mounted at /content/drive/\n"
          ],
          "name": "stdout"
        }
      ]
    },
    {
      "cell_type": "code",
      "metadata": {
        "id": "_l118nPSNuuO",
        "colab_type": "code",
        "colab": {}
      },
      "source": [
        "#from google.colab import files\n",
        "\n",
        "#uploaded = files.upload()\n",
        "\n",
        "#for f in uploaded:\n",
        "#    print('Uploaded: ' + f)"
      ],
      "execution_count": null,
      "outputs": []
    },
    {
      "cell_type": "code",
      "metadata": {
        "id": "c0qKwGLeSwad",
        "colab_type": "code",
        "colab": {}
      },
      "source": [
        "from zipfile import ZipFile\n",
        "\n",
        "for f in uploaded:\n",
        "    with ZipFile(f, 'r') as zip_ref:\n",
        "        zip_ref.extractall('.')"
      ],
      "execution_count": null,
      "outputs": []
    },
    {
      "cell_type": "markdown",
      "metadata": {
        "id": "j4-UXZvWU6Gq",
        "colab_type": "text"
      },
      "source": [
        "# Training on labeled COVID-CT"
      ]
    },
    {
      "cell_type": "code",
      "metadata": {
        "id": "4c6eJ1cFRGol",
        "colab_type": "code",
        "colab": {}
      },
      "source": [
        "import torch\n",
        "import torchvision\n",
        "import torchvision.transforms as transforms\n",
        "import torchvision.datasets as datasets\n",
        "import torch.nn as nn\n",
        "import torch.optim as optim\n",
        "from torchvision.models import densenet169 as DenseNet169\n",
        "from PIL import Image\n",
        "import numpy as np\n",
        "from torch.utils.data import DataLoader, Dataset\n",
        "from matplotlib import pyplot as plt\n",
        "import warnings\n",
        "warnings.filterwarnings('ignore')"
      ],
      "execution_count": null,
      "outputs": []
    },
    {
      "cell_type": "code",
      "metadata": {
        "id": "UM3YSCm4xvdo",
        "colab_type": "code",
        "colab": {}
      },
      "source": [
        "import os\n",
        "\n",
        "os.mkdir('model_backup')\n",
        "os.mkdir('model_result')"
      ],
      "execution_count": null,
      "outputs": []
    },
    {
      "cell_type": "code",
      "metadata": {
        "id": "DcOFGL0iYikj",
        "colab_type": "code",
        "colab": {}
      },
      "source": [
        "torch.manual_seed(42)\n",
        "torch.cuda.manual_seed(42)\n",
        "np.random.seed(42)\n",
        "torch.backends.cudnn.deterministic = True\n",
        "rng = np.random.RandomState(42)"
      ],
      "execution_count": null,
      "outputs": []
    },
    {
      "cell_type": "code",
      "metadata": {
        "id": "-m_h5UYgVqkK",
        "colab_type": "code",
        "colab": {}
      },
      "source": [
        "from sklearn.metrics import roc_auc_score\n",
        "import torch.nn.functional as F\n",
        "\n",
        "torch.cuda.empty_cache()\n",
        "\n",
        "device = 'cuda'\n",
        "batchsize = 16\n",
        "train_epochs_start = 0\n",
        "train_epochs_end = 50"
      ],
      "execution_count": null,
      "outputs": []
    },
    {
      "cell_type": "code",
      "metadata": {
        "id": "xf3wtjzuWqQ4",
        "colab_type": "code",
        "colab": {}
      },
      "source": [
        "class FineTune(nn.Module):\n",
        "    def __init__(self, out_dim=2):\n",
        "        super(FineTune, self).__init__()\n",
        "\n",
        "        densenet = DenseNet169(pretrained=True)\n",
        "        self.features = densenet.features\n",
        "        self.relu = nn.ReLU(inplace=True)\n",
        "        self.classifier = nn.Linear(\n",
        "            densenet.classifier.in_features,\n",
        "            out_features=out_dim,\n",
        "            bias=True\n",
        "        )\n",
        "\n",
        "    def forward(self, x):\n",
        "        out = self.features(x)\n",
        "        out = self.relu(out)\n",
        "        out = F.adaptive_avg_pool2d(out, (1, 1))\n",
        "        out = torch.flatten(out, 1)\n",
        "        out = self.classifier(out)\n",
        "        return out"
      ],
      "execution_count": null,
      "outputs": []
    },
    {
      "cell_type": "code",
      "metadata": {
        "id": "IN0NdcwAXCQi",
        "colab_type": "code",
        "colab": {
          "base_uri": "https://localhost:8080/",
          "height": 84,
          "referenced_widgets": [
            "2a62df0e6c15435bb64a10c33ebad3bf",
            "d95d31c150804df7931f3bad838e3fc5",
            "abe6e322ebde40dbb357f8eabbc5fd82",
            "3c4e560b1214411684eb8aa030826c82",
            "8ca116e582d2405f8cc5e6727d26cb6e",
            "0fcad26f2db44ebd979fe7d65290e137",
            "42acf89f788b4d4f92e8a5ebbdce95b6",
            "bded8596b9a64bdca46c041b6fefb5f3"
          ]
        },
        "outputId": "54a4fcc2-9ea1-4113-df9e-1ae22195cc44"
      },
      "source": [
        "model = FineTune()\n",
        "modelname = 'FineTune'\n",
        "\n",
        "if train_epochs_start > 0:\n",
        "    model.load_state_dict(\n",
        "        torch.load('model_backup/{}_{}.pt'.format(\n",
        "            modelname,\n",
        "            train_epochs_start\n",
        "        ))\n",
        "    )\n",
        "\n",
        "if device == 'cuda':\n",
        "    model = model.cuda()"
      ],
      "execution_count": null,
      "outputs": [
        {
          "output_type": "stream",
          "text": [
            "Downloading: \"https://download.pytorch.org/models/densenet169-b2777c0a.pth\" to /root/.cache/torch/hub/checkpoints/densenet169-b2777c0a.pth\n"
          ],
          "name": "stderr"
        },
        {
          "output_type": "display_data",
          "data": {
            "application/vnd.jupyter.widget-view+json": {
              "model_id": "2a62df0e6c15435bb64a10c33ebad3bf",
              "version_minor": 0,
              "version_major": 2
            },
            "text/plain": [
              "HBox(children=(FloatProgress(value=0.0, max=57365526.0), HTML(value='')))"
            ]
          },
          "metadata": {
            "tags": []
          }
        },
        {
          "output_type": "stream",
          "text": [
            "\n"
          ],
          "name": "stdout"
        }
      ]
    },
    {
      "cell_type": "code",
      "metadata": {
        "id": "oO3Tp0QbVZnj",
        "colab_type": "code",
        "colab": {}
      },
      "source": [
        "stages = ['fine-tuning']\n",
        "stage_id = 0\n",
        "\n",
        "def plot_change(model1, model2):\n",
        "    global stage_id\n",
        "\n",
        "    diff = torch.nn.MSELoss()\n",
        "    norm_w, norm_wx, norm_b, norm_bx, conv_w, conv_wx = [], [], [], [], [], []\n",
        "    i = 0\n",
        "    for (name, parameter1), parameter2 in  zip(model1.named_parameters(), model2.parameters()):\n",
        "        name = name.split(\".\")\n",
        "        if name[-2][:4] == \"conv\":\n",
        "            if name[-1] == \"weight\":\n",
        "                conv_w.append(diff(parameter1, parameter2).item())\n",
        "                conv_wx.append(i)\n",
        "        elif name[-2][:4] == \"norm\":\n",
        "            if name[-1] == \"weight\":\n",
        "                norm_w.append(diff(parameter1, parameter2).item())\n",
        "                norm_wx.append(i)\n",
        "            elif name[-1] == \"bias\":\n",
        "                norm_b.append(diff(parameter1, parameter2).item())\n",
        "                norm_bx.append(i)\n",
        "        i = i + 1\n",
        "\n",
        "    plt.bar(norm_wx, norm_w, label=\"gamma\")\n",
        "    plt.bar(norm_bx, norm_b, label=\"beta\")\n",
        "    plt.legend()\n",
        "    plt.title('Change of parameters at BN layers')\n",
        "    plt.savefig(stages[stage_id] + '_bn_change.png')\n",
        "    plt.show()\n",
        "\n",
        "    plt.bar(conv_wx, conv_w)\n",
        "    plt.title('Change of weights at CONV layers')\n",
        "    plt.savefig(stages[stage_id] + '_conv_change.png')\n",
        "    plt.show()\n",
        "\n",
        "    stage_id = stage_id + 1"
      ],
      "execution_count": null,
      "outputs": []
    },
    {
      "cell_type": "code",
      "metadata": {
        "id": "WfY34-gQVmuq",
        "colab_type": "code",
        "colab": {
          "base_uri": "https://localhost:8080/",
          "height": 34
        },
        "outputId": "f88c9a24-d4ed-48b9-ca2a-e7319dd3109d"
      },
      "source": [
        "model_old = FineTune()\n",
        "model_old.load_state_dict(model.state_dict())"
      ],
      "execution_count": null,
      "outputs": [
        {
          "output_type": "execute_result",
          "data": {
            "text/plain": [
              "<All keys matched successfully>"
            ]
          },
          "metadata": {
            "tags": []
          },
          "execution_count": 11
        }
      ]
    },
    {
      "cell_type": "code",
      "metadata": {
        "id": "TaZQvb8eXI19",
        "colab_type": "code",
        "colab": {}
      },
      "source": [
        "normalize = transforms.Normalize(\n",
        "    mean=[0.45271412, 0.45271412, 0.45271412],\n",
        "    std=[0.33165374, 0.33165374, 0.33165374]\n",
        ")\n",
        "train_transformer = transforms.Compose([\n",
        "    transforms.Resize((224, 224)),\n",
        "    transforms.ToTensor(),\n",
        "    normalize\n",
        "])\n",
        "\n",
        "val_transformer = transforms.Compose([\n",
        "    transforms.Resize((224, 224)),\n",
        "    transforms.ToTensor(),\n",
        "    normalize\n",
        "])\n",
        "\n",
        "detransformer = torchvision.transforms.Compose([\n",
        "    lambda image_tensor : image_tensor * torch.tensor([0.33165374, 0.33165374, 0.33165374])[:, None, None],\n",
        "    lambda image_tensor : image_tensor + torch.tensor([0.45271412, 0.45271412, 0.45271412])[:, None, None],\n",
        "    torchvision.transforms.ToPILImage()\n",
        "])"
      ],
      "execution_count": null,
      "outputs": []
    },
    {
      "cell_type": "code",
      "metadata": {
        "id": "u6k6_YvC9Zoi",
        "colab_type": "code",
        "colab": {}
      },
      "source": [
        "def gradcam(model, input_tensor, detransform, label, axis):\n",
        "\n",
        "\t# Activations are saved.\n",
        "\tactivations = dict() # one-key dictionary. Doesn't work otherwise.\n",
        "\tdef get_activations(name):\n",
        "\t\tdef hook(module, input, output):\n",
        "\t\t\tactivations[name] = output.detach()\n",
        "\t\treturn hook\n",
        "\n",
        "\t# Gradients are saved.\n",
        "\tgrads = dict() # same as for activations\n",
        "\tdef get_grads(name):\n",
        "\t\tdef hook(module, grad_input, grad_output):\n",
        "\t\t\tgrads[name] = grad_output[0].detach() # is a tuple\n",
        "\t\treturn hook\n",
        "\n",
        "\tinput_batch = input_tensor.unsqueeze(0) # a batch of one\n",
        "\n",
        "\tfrw_handle = model.relu.register_forward_hook(get_activations(\"features\"))\n",
        "\tbck_handle = model.relu.register_backward_hook(get_grads(\"features\"))\n",
        "\n",
        "\tmodel.eval()\n",
        "\tmodel.zero_grad()\n",
        "\toutput_batch = model(input_batch)\n",
        "\toutput_batch[0][label].backward()\n",
        "\n",
        "\tfrw_handle.remove()\n",
        "\tbck_handle.remove()\n",
        "\n",
        "\tactivations = activations[\"features\"]\n",
        "\tgrads = grads[\"features\"]\n",
        "\n",
        "\tgrads = torch.mean(grads, dim=(-2, -1), keepdims=True) # gradients are pooled\n",
        "\tgrad_cam = activations * grads\n",
        "\tgrad_cam = torch.sum(grad_cam, dim=-3) # weighted sum\n",
        "\tgrad_cam = torch.nn.functional.relu(grad_cam) # relu'd weighted sum\n",
        "\tgrad_cam = grad_cam / grad_cam.max() # normalization\n",
        "\tgrad_cam = grad_cam[0] # squeezing the batch of one\n",
        "\n",
        "\taxis.imshow(detransform(input_tensor).resize((224, 224)), alpha=1.0)\n",
        "\t# Grad-CAM is resized to 224x224 via bilinear interpolation and mapped to 'JET' colormap to be superimposed on the original image.\n",
        "\taxis.imshow(torchvision.transforms.ToPILImage()(grad_cam).resize((224, 224), resample=Image.BILINEAR), cmap='jet', alpha=0.5)\n",
        "\taxis.set_xticks([])\n",
        "\taxis.set_yticks([])"
      ],
      "execution_count": null,
      "outputs": []
    },
    {
      "cell_type": "code",
      "metadata": {
        "id": "LTrQkcmUY79K",
        "colab_type": "code",
        "colab": {}
      },
      "source": [
        "def read_txt(txt_path):\n",
        "    with open(txt_path) as f:\n",
        "        lines = f.readlines()\n",
        "    txt_data = [line.strip() for line in lines]\n",
        "    return txt_data\n",
        "\n",
        "class CovidCTDataset(Dataset):\n",
        "    def __init__(self, root_dir, txt_COVID, txt_NonCOVID, transform=None):\n",
        "        \"\"\"\n",
        "            Args:\n",
        "                txt_path (string): Path to the txt file with annotations.\n",
        "                root_dir (string): Directory with all the images.\n",
        "                transform (callable, optional): Optional transform to be applied on a sample.\n",
        "            File structure:\n",
        "                - root_dir\n",
        "                    - CT_COVID\n",
        "                        - img1.png\n",
        "                        - img2.png\n",
        "                        - ......\n",
        "                    - CT_NonCOVID\n",
        "                        - img1.png\n",
        "                        - img2.png\n",
        "                        - ......\n",
        "        \"\"\"\n",
        "        self.root_dir = root_dir\n",
        "        self.txt_path = [txt_COVID, txt_NonCOVID]\n",
        "        self.classes = ['CT_COVID', 'CT_NonCOVID']\n",
        "        self.num_cls = len(self.classes)\n",
        "        self.img_list = []\n",
        "        for c in range(self.num_cls):\n",
        "            cls_list = [[os.path.join(self.root_dir, self.classes[c], item), c] for item in read_txt(self.txt_path[c])]\n",
        "            self.img_list += cls_list\n",
        "        self.transform = transform\n",
        "\n",
        "    def __len__(self):\n",
        "        return len(self.img_list)\n",
        "\n",
        "    def __getitem__(self, idx):\n",
        "        if torch.is_tensor(idx):\n",
        "            idx = idx.tolist()\n",
        "\n",
        "        img_path = self.img_list[idx][0]\n",
        "        image = Image.open(img_path).convert('RGB')\n",
        "\n",
        "        if self.transform:\n",
        "            image = self.transform(image)\n",
        "        sample = {'img': image, 'label': int(self.img_list[idx][1])}\n",
        "        return sample"
      ],
      "execution_count": null,
      "outputs": []
    },
    {
      "cell_type": "code",
      "metadata": {
        "id": "k4Qa6jqRZNWc",
        "colab_type": "code",
        "colab": {
          "base_uri": "https://localhost:8080/",
          "height": 69
        },
        "outputId": "9292c00d-c20d-4b0f-f333-670aaf1f3a95"
      },
      "source": [
        "trainset = CovidCTDataset(\n",
        "    root_dir='Images',\n",
        "    txt_COVID='Data-split/COVID/trainCT_COVID.txt',\n",
        "    txt_NonCOVID='Data-split/NonCOVID/trainCT_NonCOVID.txt',\n",
        "    transform=train_transformer\n",
        ")\n",
        "valset = CovidCTDataset(\n",
        "    root_dir='Images',\n",
        "    txt_COVID='Data-split/COVID/valCT_COVID.txt',\n",
        "    txt_NonCOVID='Data-split/NonCOVID/valCT_NonCOVID.txt',\n",
        "    transform=val_transformer\n",
        ")\n",
        "testset = CovidCTDataset(\n",
        "    root_dir='Images',\n",
        "    txt_COVID='Data-split/COVID/testCT_COVID.txt',\n",
        "    txt_NonCOVID='Data-split/NonCOVID/testCT_NonCOVID.txt',\n",
        "    transform=val_transformer\n",
        ")\n",
        "print(\"trainset length:\", trainset.__len__())\n",
        "print(\"valset length:\", valset.__len__())\n",
        "print(\"testset length:\", testset.__len__())\n",
        "\n",
        "train_loader = DataLoader(trainset, batch_size=batchsize, drop_last=False, shuffle=True)\n",
        "val_loader = DataLoader(valset, batch_size=batchsize, drop_last=False, shuffle=False)\n",
        "test_loader = DataLoader(testset, batch_size=batchsize, drop_last=False, shuffle=False)"
      ],
      "execution_count": null,
      "outputs": [
        {
          "output_type": "stream",
          "text": [
            "trainset length: 425\n",
            "valset length: 118\n",
            "testset length: 203\n"
          ],
          "name": "stdout"
        }
      ]
    },
    {
      "cell_type": "code",
      "metadata": {
        "id": "osuxQYhYaV24",
        "colab_type": "code",
        "colab": {}
      },
      "source": [
        "def train(epoch):\n",
        "        \n",
        "    model.train()\n",
        "        \n",
        "    train_loss = 0\n",
        "    train_correct = 0\n",
        "        \n",
        "    for batch_index, batch_samples in enumerate(train_loader):\n",
        "                \n",
        "        # move data to device\n",
        "        data, target = batch_samples['img'].to(device), batch_samples['label'].to(device)\n",
        "\n",
        "        output = model(data)\n",
        "        loss = criteria(output, target.long())\n",
        "        train_loss += loss.item()\n",
        "                \n",
        "        optimizer.zero_grad()\n",
        "        loss.backward()\n",
        "        optimizer.step()\n",
        "\n",
        "        pred = output.argmax(dim=1)\n",
        "        train_correct += (pred == target).sum().item()\n",
        "        \n",
        "        # Display progress\n",
        "        if (batch_index + 1) % bs == 0:\n",
        "            print('Train Epoch: {} [{}/{} ({:.0f}%)]\\tTrain Loss: {:.6f}'.format(\n",
        "                epoch,\n",
        "                batch_index, len(train_loader),\n",
        "                100.0 * batch_index / len(train_loader),\n",
        "                train_loss / bs\n",
        "            ))\n",
        "            train_loss = 0\n",
        "        \n",
        "    avg_loss = train_loss / len(train_loader.dataset)\n",
        "    accuracy = 100.0 * train_correct / len(train_loader.dataset)\n",
        "    print('Train set: Average loss: {:.4f}, Accuracy: {}/{} ({:.0f}%)\\n'.format(\n",
        "        avg_loss,\n",
        "        train_correct, len(train_loader.dataset),\n",
        "        accuracy\n",
        "    ))\n",
        "    f = open('model_result/train_{}.txt'.format(modelname), 'a+')\n",
        "    f.write('Train set: Average loss: {:.4f}, Accuracy: {}/{} ({:.0f}%)\\n'.format(\n",
        "        avg_loss,\n",
        "        train_correct, len(train_loader.dataset),\n",
        "        accuracy\n",
        "    ))\n",
        "    f.close()\n",
        "    avg_losses.append(avg_loss)"
      ],
      "execution_count": null,
      "outputs": []
    },
    {
      "cell_type": "code",
      "metadata": {
        "id": "g_vy2_XrbIN5",
        "colab_type": "code",
        "colab": {}
      },
      "source": [
        " def predict(mode):\n",
        "    '''\n",
        "        mode:\n",
        "            either 'val' or 'train'\n",
        "    '''\n",
        "    loader = val_loader if mode == 'val' else test_loader\n",
        "        \n",
        "    model.eval()\n",
        "\n",
        "    predlist=[]\n",
        "    scorelist=[]\n",
        "    targetlist=[]\n",
        "        \n",
        "    # Don't update model\n",
        "    with torch.no_grad():\n",
        "        # Predict\n",
        "        for batch_index, batch_samples in enumerate(loader):\n",
        "            data, target = batch_samples['img'].to(device), batch_samples['label'].to(device)\n",
        "            output = model(data)\n",
        "                        \n",
        "            score = F.softmax(output, dim=1)\n",
        "            pred = output.argmax(dim=1)\n",
        "\n",
        "            targetcpu=target.long().cpu().numpy()\n",
        "            predlist=np.append(predlist, pred.cpu().numpy())\n",
        "            scorelist=np.append(scorelist, score.cpu().numpy()[:,1]) # percentages for positive\n",
        "            targetlist=np.append(targetlist, targetcpu)\n",
        "                                  \n",
        "    return targetlist, scorelist, predlist"
      ],
      "execution_count": null,
      "outputs": []
    },
    {
      "cell_type": "code",
      "metadata": {
        "id": "8pUgTKSObbsZ",
        "colab_type": "code",
        "colab": {
          "base_uri": "https://localhost:8080/",
          "height": 1000
        },
        "outputId": "55dd306a-db37-41cc-84e5-534273438fd7"
      },
      "source": [
        "bs = 10\n",
        "votenum = 5\n",
        "epochs, rs, ps, F1s, accs, AUCs = [], [], [], [], [], []\n",
        "avg_losses = []\n",
        "\n",
        "vote_pred = np.zeros(valset.__len__())\n",
        "vote_score = np.zeros(valset.__len__())\n",
        "\n",
        "criteria = nn.CrossEntropyLoss()\n",
        "optimizer = optim.Adam(model.parameters())\n",
        "\n",
        "for epoch in range(train_epochs_start + 1, train_epochs_end + 1):\n",
        "    train(epoch)\n",
        "\n",
        "    targetlist, scorelist, predlist = predict('val')\n",
        "    vote_pred = vote_pred + predlist\n",
        "    vote_score = vote_score + scorelist\n",
        "\n",
        "    if epoch % votenum == 0:\n",
        "        # checkpoint\n",
        "        torch.save(model.state_dict(), \"model_backup/{}_{}.pt\".format(modelname, epoch))\n",
        "                \n",
        "        # major vote\n",
        "        vote_pred[vote_pred <=  (votenum / 2)] = 0\n",
        "        vote_pred[vote_pred >   (votenum / 2)] = 1\n",
        "        vote_score = vote_score / votenum\n",
        "\n",
        "        TP = ((vote_pred == 1) & (targetlist == 1)).sum()\n",
        "        TN = ((vote_pred == 0) & (targetlist == 0)).sum()\n",
        "        FN = ((vote_pred == 0) & (targetlist == 1)).sum()\n",
        "        FP = ((vote_pred == 1) & (targetlist == 0)).sum()\n",
        "                \n",
        "        print('TP=',TP,'TN=',TN,'FN=',FN,'FP=',FP)\n",
        "        print('TP+FP',TP + FP)\n",
        "        p = TP / (TP + FP)\n",
        "        r = TP / (TP + FN)\n",
        "        F1 = 2 * r * p / (r + p)\n",
        "        acc = (TP + TN) / (TP + TN + FP + FN)\n",
        "        AUC = roc_auc_score(targetlist, vote_score)\n",
        "\n",
        "        print('The epoch is {}, average recall: {:.4f}, average precision: {:.4f}, average F1: {:.4f}, average accuracy: {:.4f}, average AUC: {:.4f}\\n\\n'.format(\n",
        "            epoch, r, p, F1, acc, AUC\n",
        "        ))\n",
        "        f = open('model_result/train_{}.txt'.format(modelname), 'a+')\n",
        "        f.write('The epoch is {}, average recall: {:.4f}, average precision: {:.4f}, average F1: {:.4f}, average accuracy: {:.4f}, average AUC: {:.4f}\\n\\n'.format(\n",
        "            epoch, r, p, F1, acc, AUC\n",
        "        ))\n",
        "        f.close()\n",
        "\n",
        "        epochs.append(epoch)\n",
        "        rs.append(r)\n",
        "        ps.append(p)\n",
        "        F1s.append(F1)\n",
        "        accs.append(acc)\n",
        "        AUCs.append(AUC)\n",
        "                \n",
        "        vote_pred = np.zeros(valset.__len__())\n",
        "        vote_score = np.zeros(valset.__len__())\n"
      ],
      "execution_count": null,
      "outputs": [
        {
          "output_type": "stream",
          "text": [
            "Train Epoch: 1 [9/27 (33%)]\tTrain Loss: 0.714412\n",
            "Train Epoch: 1 [19/27 (70%)]\tTrain Loss: 0.471504\n",
            "Train set: Average loss: 0.0091, Accuracy: 308/425 (72%)\n",
            "\n",
            "Train Epoch: 2 [9/27 (33%)]\tTrain Loss: 0.567657\n",
            "Train Epoch: 2 [19/27 (70%)]\tTrain Loss: 0.444883\n",
            "Train set: Average loss: 0.0063, Accuracy: 325/425 (76%)\n",
            "\n",
            "Train Epoch: 3 [9/27 (33%)]\tTrain Loss: 0.445761\n",
            "Train Epoch: 3 [19/27 (70%)]\tTrain Loss: 0.381454\n",
            "Train set: Average loss: 0.0055, Accuracy: 351/425 (83%)\n",
            "\n",
            "Train Epoch: 4 [9/27 (33%)]\tTrain Loss: 0.449763\n",
            "Train Epoch: 4 [19/27 (70%)]\tTrain Loss: 0.343420\n",
            "Train set: Average loss: 0.0086, Accuracy: 342/425 (80%)\n",
            "\n",
            "Train Epoch: 5 [9/27 (33%)]\tTrain Loss: 0.352589\n",
            "Train Epoch: 5 [19/27 (70%)]\tTrain Loss: 0.386827\n",
            "Train set: Average loss: 0.0050, Accuracy: 367/425 (86%)\n",
            "\n",
            "TP= 45 TN= 32 FN= 13 FP= 28\n",
            "TP+FP 73\n",
            "The epoch is 5, average recall: 0.7759, average precision: 0.6164, average F1: 0.6870, average accuracy: 0.6525, average AUC: 0.7517\n",
            "\n",
            "\n",
            "Train Epoch: 6 [9/27 (33%)]\tTrain Loss: 0.255465\n",
            "Train Epoch: 6 [19/27 (70%)]\tTrain Loss: 0.228754\n",
            "Train set: Average loss: 0.0036, Accuracy: 386/425 (91%)\n",
            "\n",
            "Train Epoch: 7 [9/27 (33%)]\tTrain Loss: 0.218621\n",
            "Train Epoch: 7 [19/27 (70%)]\tTrain Loss: 0.147418\n",
            "Train set: Average loss: 0.0055, Accuracy: 389/425 (92%)\n",
            "\n",
            "Train Epoch: 8 [9/27 (33%)]\tTrain Loss: 0.223191\n",
            "Train Epoch: 8 [19/27 (70%)]\tTrain Loss: 0.206603\n",
            "Train set: Average loss: 0.0052, Accuracy: 381/425 (90%)\n",
            "\n",
            "Train Epoch: 9 [9/27 (33%)]\tTrain Loss: 0.137395\n",
            "Train Epoch: 9 [19/27 (70%)]\tTrain Loss: 0.200169\n",
            "Train set: Average loss: 0.0062, Accuracy: 386/425 (91%)\n",
            "\n",
            "Train Epoch: 10 [9/27 (33%)]\tTrain Loss: 0.292301\n",
            "Train Epoch: 10 [19/27 (70%)]\tTrain Loss: 0.257986\n",
            "Train set: Average loss: 0.0021, Accuracy: 388/425 (91%)\n",
            "\n",
            "TP= 52 TN= 32 FN= 6 FP= 28\n",
            "TP+FP 80\n",
            "The epoch is 10, average recall: 0.8966, average precision: 0.6500, average F1: 0.7536, average accuracy: 0.7119, average AUC: 0.7695\n",
            "\n",
            "\n",
            "Train Epoch: 11 [9/27 (33%)]\tTrain Loss: 0.137782\n",
            "Train Epoch: 11 [19/27 (70%)]\tTrain Loss: 0.102702\n",
            "Train set: Average loss: 0.0019, Accuracy: 407/425 (96%)\n",
            "\n",
            "Train Epoch: 12 [9/27 (33%)]\tTrain Loss: 0.333550\n",
            "Train Epoch: 12 [19/27 (70%)]\tTrain Loss: 0.135945\n",
            "Train set: Average loss: 0.0031, Accuracy: 390/425 (92%)\n",
            "\n",
            "Train Epoch: 13 [9/27 (33%)]\tTrain Loss: 0.080875\n",
            "Train Epoch: 13 [19/27 (70%)]\tTrain Loss: 0.092722\n",
            "Train set: Average loss: 0.0017, Accuracy: 415/425 (98%)\n",
            "\n",
            "Train Epoch: 14 [9/27 (33%)]\tTrain Loss: 0.118852\n",
            "Train Epoch: 14 [19/27 (70%)]\tTrain Loss: 0.082962\n",
            "Train set: Average loss: 0.0007, Accuracy: 410/425 (96%)\n",
            "\n",
            "Train Epoch: 15 [9/27 (33%)]\tTrain Loss: 0.115412\n",
            "Train Epoch: 15 [19/27 (70%)]\tTrain Loss: 0.122656\n",
            "Train set: Average loss: 0.0012, Accuracy: 406/425 (96%)\n",
            "\n",
            "TP= 46 TN= 40 FN= 12 FP= 20\n",
            "TP+FP 66\n",
            "The epoch is 15, average recall: 0.7931, average precision: 0.6970, average F1: 0.7419, average accuracy: 0.7288, average AUC: 0.8049\n",
            "\n",
            "\n",
            "Train Epoch: 16 [9/27 (33%)]\tTrain Loss: 0.046318\n",
            "Train Epoch: 16 [19/27 (70%)]\tTrain Loss: 0.139309\n",
            "Train set: Average loss: 0.0020, Accuracy: 410/425 (96%)\n",
            "\n",
            "Train Epoch: 17 [9/27 (33%)]\tTrain Loss: 0.143519\n",
            "Train Epoch: 17 [19/27 (70%)]\tTrain Loss: 0.168654\n",
            "Train set: Average loss: 0.0031, Accuracy: 397/425 (93%)\n",
            "\n",
            "Train Epoch: 18 [9/27 (33%)]\tTrain Loss: 0.248428\n",
            "Train Epoch: 18 [19/27 (70%)]\tTrain Loss: 0.209186\n",
            "Train set: Average loss: 0.0009, Accuracy: 393/425 (92%)\n",
            "\n",
            "Train Epoch: 19 [9/27 (33%)]\tTrain Loss: 0.098116\n",
            "Train Epoch: 19 [19/27 (70%)]\tTrain Loss: 0.085949\n",
            "Train set: Average loss: 0.0015, Accuracy: 412/425 (97%)\n",
            "\n",
            "Train Epoch: 20 [9/27 (33%)]\tTrain Loss: 0.066809\n",
            "Train Epoch: 20 [19/27 (70%)]\tTrain Loss: 0.014832\n",
            "Train set: Average loss: 0.0007, Accuracy: 418/425 (98%)\n",
            "\n",
            "TP= 42 TN= 52 FN= 16 FP= 8\n",
            "TP+FP 50\n",
            "The epoch is 20, average recall: 0.7241, average precision: 0.8400, average F1: 0.7778, average accuracy: 0.7966, average AUC: 0.8434\n",
            "\n",
            "\n",
            "Train Epoch: 21 [9/27 (33%)]\tTrain Loss: 0.138717\n",
            "Train Epoch: 21 [19/27 (70%)]\tTrain Loss: 0.108786\n",
            "Train set: Average loss: 0.0015, Accuracy: 404/425 (95%)\n",
            "\n",
            "Train Epoch: 22 [9/27 (33%)]\tTrain Loss: 0.056379\n",
            "Train Epoch: 22 [19/27 (70%)]\tTrain Loss: 0.067560\n",
            "Train set: Average loss: 0.0018, Accuracy: 411/425 (97%)\n",
            "\n",
            "Train Epoch: 23 [9/27 (33%)]\tTrain Loss: 0.096605\n",
            "Train Epoch: 23 [19/27 (70%)]\tTrain Loss: 0.117335\n",
            "Train set: Average loss: 0.0026, Accuracy: 402/425 (95%)\n",
            "\n",
            "Train Epoch: 24 [9/27 (33%)]\tTrain Loss: 0.122672\n",
            "Train Epoch: 24 [19/27 (70%)]\tTrain Loss: 0.068233\n",
            "Train set: Average loss: 0.0018, Accuracy: 406/425 (96%)\n",
            "\n",
            "Train Epoch: 25 [9/27 (33%)]\tTrain Loss: 0.082954\n",
            "Train Epoch: 25 [19/27 (70%)]\tTrain Loss: 0.040025\n",
            "Train set: Average loss: 0.0005, Accuracy: 419/425 (99%)\n",
            "\n",
            "TP= 52 TN= 41 FN= 6 FP= 19\n",
            "TP+FP 71\n",
            "The epoch is 25, average recall: 0.8966, average precision: 0.7324, average F1: 0.8062, average accuracy: 0.7881, average AUC: 0.8273\n",
            "\n",
            "\n",
            "Train Epoch: 26 [9/27 (33%)]\tTrain Loss: 0.050949\n",
            "Train Epoch: 26 [19/27 (70%)]\tTrain Loss: 0.040435\n",
            "Train set: Average loss: 0.0010, Accuracy: 417/425 (98%)\n",
            "\n",
            "Train Epoch: 27 [9/27 (33%)]\tTrain Loss: 0.011617\n",
            "Train Epoch: 27 [19/27 (70%)]\tTrain Loss: 0.113733\n",
            "Train set: Average loss: 0.0001, Accuracy: 418/425 (98%)\n",
            "\n",
            "Train Epoch: 28 [9/27 (33%)]\tTrain Loss: 0.022387\n",
            "Train Epoch: 28 [19/27 (70%)]\tTrain Loss: 0.026719\n",
            "Train set: Average loss: 0.0001, Accuracy: 422/425 (99%)\n",
            "\n",
            "Train Epoch: 29 [9/27 (33%)]\tTrain Loss: 0.012390\n",
            "Train Epoch: 29 [19/27 (70%)]\tTrain Loss: 0.017234\n",
            "Train set: Average loss: 0.0001, Accuracy: 424/425 (100%)\n",
            "\n",
            "Train Epoch: 30 [9/27 (33%)]\tTrain Loss: 0.021226\n",
            "Train Epoch: 30 [19/27 (70%)]\tTrain Loss: 0.091794\n",
            "Train set: Average loss: 0.0024, Accuracy: 411/425 (97%)\n",
            "\n",
            "TP= 38 TN= 50 FN= 20 FP= 10\n",
            "TP+FP 48\n",
            "The epoch is 30, average recall: 0.6552, average precision: 0.7917, average F1: 0.7170, average accuracy: 0.7458, average AUC: 0.8422\n",
            "\n",
            "\n",
            "Train Epoch: 31 [9/27 (33%)]\tTrain Loss: 0.077481\n",
            "Train Epoch: 31 [19/27 (70%)]\tTrain Loss: 0.219079\n",
            "Train set: Average loss: 0.0043, Accuracy: 402/425 (95%)\n",
            "\n",
            "Train Epoch: 32 [9/27 (33%)]\tTrain Loss: 0.226954\n",
            "Train Epoch: 32 [19/27 (70%)]\tTrain Loss: 0.177304\n",
            "Train set: Average loss: 0.0028, Accuracy: 391/425 (92%)\n",
            "\n",
            "Train Epoch: 33 [9/27 (33%)]\tTrain Loss: 0.068089\n",
            "Train Epoch: 33 [19/27 (70%)]\tTrain Loss: 0.099147\n",
            "Train set: Average loss: 0.0010, Accuracy: 414/425 (97%)\n",
            "\n",
            "Train Epoch: 34 [9/27 (33%)]\tTrain Loss: 0.045612\n",
            "Train Epoch: 34 [19/27 (70%)]\tTrain Loss: 0.070079\n",
            "Train set: Average loss: 0.0006, Accuracy: 417/425 (98%)\n",
            "\n",
            "Train Epoch: 35 [9/27 (33%)]\tTrain Loss: 0.006630\n",
            "Train Epoch: 35 [19/27 (70%)]\tTrain Loss: 0.040033\n",
            "Train set: Average loss: 0.0002, Accuracy: 424/425 (100%)\n",
            "\n",
            "TP= 44 TN= 43 FN= 14 FP= 17\n",
            "TP+FP 61\n",
            "The epoch is 35, average recall: 0.7586, average precision: 0.7213, average F1: 0.7395, average accuracy: 0.7373, average AUC: 0.8287\n",
            "\n",
            "\n",
            "Train Epoch: 36 [9/27 (33%)]\tTrain Loss: 0.022898\n",
            "Train Epoch: 36 [19/27 (70%)]\tTrain Loss: 0.008356\n",
            "Train set: Average loss: 0.0001, Accuracy: 423/425 (100%)\n",
            "\n",
            "Train Epoch: 37 [9/27 (33%)]\tTrain Loss: 0.012298\n",
            "Train Epoch: 37 [19/27 (70%)]\tTrain Loss: 0.006018\n",
            "Train set: Average loss: 0.0000, Accuracy: 425/425 (100%)\n",
            "\n",
            "Train Epoch: 38 [9/27 (33%)]\tTrain Loss: 0.012817\n",
            "Train Epoch: 38 [19/27 (70%)]\tTrain Loss: 0.014025\n",
            "Train set: Average loss: 0.0001, Accuracy: 423/425 (100%)\n",
            "\n",
            "Train Epoch: 39 [9/27 (33%)]\tTrain Loss: 0.034946\n",
            "Train Epoch: 39 [19/27 (70%)]\tTrain Loss: 0.026098\n",
            "Train set: Average loss: 0.0004, Accuracy: 420/425 (99%)\n",
            "\n",
            "Train Epoch: 40 [9/27 (33%)]\tTrain Loss: 0.033104\n",
            "Train Epoch: 40 [19/27 (70%)]\tTrain Loss: 0.062437\n",
            "Train set: Average loss: 0.0009, Accuracy: 418/425 (98%)\n",
            "\n",
            "TP= 50 TN= 38 FN= 8 FP= 22\n",
            "TP+FP 72\n",
            "The epoch is 40, average recall: 0.8621, average precision: 0.6944, average F1: 0.7692, average accuracy: 0.7458, average AUC: 0.8247\n",
            "\n",
            "\n",
            "Train Epoch: 41 [9/27 (33%)]\tTrain Loss: 0.051778\n",
            "Train Epoch: 41 [19/27 (70%)]\tTrain Loss: 0.108198\n",
            "Train set: Average loss: 0.0021, Accuracy: 410/425 (96%)\n",
            "\n",
            "Train Epoch: 42 [9/27 (33%)]\tTrain Loss: 0.112079\n",
            "Train Epoch: 42 [19/27 (70%)]\tTrain Loss: 0.080051\n",
            "Train set: Average loss: 0.0025, Accuracy: 405/425 (95%)\n",
            "\n",
            "Train Epoch: 43 [9/27 (33%)]\tTrain Loss: 0.097097\n",
            "Train Epoch: 43 [19/27 (70%)]\tTrain Loss: 0.104315\n",
            "Train set: Average loss: 0.0020, Accuracy: 403/425 (95%)\n",
            "\n",
            "Train Epoch: 44 [9/27 (33%)]\tTrain Loss: 0.077995\n",
            "Train Epoch: 44 [19/27 (70%)]\tTrain Loss: 0.172888\n",
            "Train set: Average loss: 0.0014, Accuracy: 408/425 (96%)\n",
            "\n",
            "Train Epoch: 45 [9/27 (33%)]\tTrain Loss: 0.135669\n",
            "Train Epoch: 45 [19/27 (70%)]\tTrain Loss: 0.056955\n",
            "Train set: Average loss: 0.0002, Accuracy: 413/425 (97%)\n",
            "\n",
            "TP= 45 TN= 45 FN= 13 FP= 15\n",
            "TP+FP 60\n",
            "The epoch is 45, average recall: 0.7759, average precision: 0.7500, average F1: 0.7627, average accuracy: 0.7627, average AUC: 0.8313\n",
            "\n",
            "\n",
            "Train Epoch: 46 [9/27 (33%)]\tTrain Loss: 0.008303\n",
            "Train Epoch: 46 [19/27 (70%)]\tTrain Loss: 0.021368\n",
            "Train set: Average loss: 0.0005, Accuracy: 421/425 (99%)\n",
            "\n",
            "Train Epoch: 47 [9/27 (33%)]\tTrain Loss: 0.016014\n",
            "Train Epoch: 47 [19/27 (70%)]\tTrain Loss: 0.009893\n",
            "Train set: Average loss: 0.0002, Accuracy: 424/425 (100%)\n",
            "\n",
            "Train Epoch: 48 [9/27 (33%)]\tTrain Loss: 0.005529\n",
            "Train Epoch: 48 [19/27 (70%)]\tTrain Loss: 0.035666\n",
            "Train set: Average loss: 0.0010, Accuracy: 422/425 (99%)\n",
            "\n",
            "Train Epoch: 49 [9/27 (33%)]\tTrain Loss: 0.014925\n",
            "Train Epoch: 49 [19/27 (70%)]\tTrain Loss: 0.006595\n",
            "Train set: Average loss: 0.0019, Accuracy: 422/425 (99%)\n",
            "\n",
            "Train Epoch: 50 [9/27 (33%)]\tTrain Loss: 0.050155\n",
            "Train Epoch: 50 [19/27 (70%)]\tTrain Loss: 0.090284\n",
            "Train set: Average loss: 0.0018, Accuracy: 413/425 (97%)\n",
            "\n",
            "TP= 45 TN= 46 FN= 13 FP= 14\n",
            "TP+FP 59\n",
            "The epoch is 50, average recall: 0.7759, average precision: 0.7627, average F1: 0.7692, average accuracy: 0.7712, average AUC: 0.8644\n",
            "\n",
            "\n"
          ],
          "name": "stdout"
        }
      ]
    },
    {
      "cell_type": "code",
      "metadata": {
        "id": "Ry8_cAGZd_Tc",
        "colab_type": "code",
        "colab": {
          "base_uri": "https://localhost:8080/",
          "height": 279
        },
        "outputId": "d93627e3-bfa4-413e-cfd9-267c41f0a945"
      },
      "source": [
        "plt.plot(epochs, rs, label='Recall')\n",
        "plt.plot(epochs, ps, label='Precision')\n",
        "plt.plot(epochs, F1s, label='F1')\n",
        "plt.plot(epochs, accs, label='Accuracy')\n",
        "plt.plot(epochs, AUCs, label='AUC')\n",
        "plt.legend()\n",
        "plt.xlabel('Epoch')\n",
        "plt.ylabel('Training result')\n",
        "plt.xticks(epochs)\n",
        "plt.savefig('validation_performance.png')\n",
        "plt.show()"
      ],
      "execution_count": null,
      "outputs": [
        {
          "output_type": "display_data",
          "data": {
            "image/png": "[encoded data removed]",
            "text/plain": [
              "<Figure size 432x288 with 1 Axes>"
            ]
          },
          "metadata": {
            "tags": [],
            "needs_background": "light"
          }
        }
      ]
    },
    {
      "cell_type": "code",
      "metadata": {
        "id": "NqSL-FWm7QYJ",
        "colab_type": "code",
        "colab": {
          "base_uri": "https://localhost:8080/",
          "height": 295
        },
        "outputId": "60aeb654-a72f-4541-e0ce-cb155421d46c"
      },
      "source": [
        "plt.plot(range(train_epochs_start, train_epochs_end), avg_losses)\n",
        "plt.xlabel('Epoch')\n",
        "plt.ylabel('Average loss')\n",
        "plt.title('Training loss during fine-tuning')\n",
        "plt.savefig('fine-tuning_loss.png')\n",
        "plt.show()"
      ],
      "execution_count": null,
      "outputs": [
        {
          "output_type": "display_data",
          "data": {
            "image/png": "[encoded data removed]",
            "text/plain": [
              "<Figure size 432x288 with 1 Axes>"
            ]
          },
          "metadata": {
            "tags": [],
            "needs_background": "light"
          }
        }
      ]
    },
    {
      "cell_type": "code",
      "metadata": {
        "id": "lfSUlSN6VwSD",
        "colab_type": "code",
        "colab": {
          "base_uri": "https://localhost:8080/",
          "height": 545
        },
        "outputId": "366502f6-32c7-43df-bc58-ec549bd449e5"
      },
      "source": [
        "plot_change(model.cpu(), model_old)\n",
        "model = model.cuda()"
      ],
      "execution_count": null,
      "outputs": [
        {
          "output_type": "display_data",
          "data": {
            "image/png": "[encoded data removed]",
            "text/plain": [
              "<Figure size 432x288 with 1 Axes>"
            ]
          },
          "metadata": {
            "tags": [],
            "needs_background": "light"
          }
        },
        {
          "output_type": "display_data",
          "data": {
            "image/png": "[encoded data removed]",
            "text/plain": [
              "<Figure size 432x288 with 1 Axes>"
            ]
          },
          "metadata": {
            "tags": [],
            "needs_background": "light"
          }
        }
      ]
    },
    {
      "cell_type": "code",
      "metadata": {
        "id": "D8UCiEdxb8RH",
        "colab_type": "code",
        "colab": {
          "base_uri": "https://localhost:8080/",
          "height": 86
        },
        "outputId": "91b1b48b-b606-4e3a-b664-1b1439ecafac"
      },
      "source": [
        "bs = 10\n",
        "\n",
        "        \n",
        "targetlist, scorelist, predlist = predict('test')\n",
        "        \n",
        "TP = ((predlist == 1) & (targetlist == 1)).sum()\n",
        "TN = ((predlist == 0) & (targetlist == 0)).sum()\n",
        "FN = ((predlist == 0) & (targetlist == 1)).sum()\n",
        "FP = ((predlist == 1) & (targetlist == 0)).sum()\n",
        "\n",
        "print('TP=',TP,'TN=',TN,'FN=',FN,'FP=',FP)\n",
        "print('TP+FP',TP+FP)\n",
        "p = TP / (TP + FP)\n",
        "r = TP / (TP + FN)\n",
        "F1 = 2 * r * p / (r + p)\n",
        "acc = (TP + TN) / (TP + TN + FP + FN)\n",
        "AUC = roc_auc_score(targetlist, scorelist)\n",
        "\n",
        "print('Testing, average recall: {:.4f}, average precision: {:.4f}, average F1: {:.4f}, average accuracy: {:.4f}, average AUC: {:.4f}\\n'.format(\n",
        "    r, p, F1, acc, AUC\n",
        "))\n",
        "f = open('model_result/test_{}.txt'.format(modelname), 'a+')\n",
        "f.write('Testing, average recall: {:.4f}, average precision: {:.4f}, average F1: {:.4f}, average accuracy: {:.4f}, average AUC: {:.4f}\\n'.format(\n",
        "    r, p, F1, acc, AUC\n",
        "))\n",
        "f.close()"
      ],
      "execution_count": null,
      "outputs": [
        {
          "output_type": "stream",
          "text": [
            "TP= 84 TN= 64 FN= 21 FP= 34\n",
            "TP+FP 118\n",
            "Testing, average recall: 0.8000, average precision: 0.7119, average F1: 0.7534, average accuracy: 0.7291, average AUC: 0.8193\n",
            "\n"
          ],
          "name": "stdout"
        }
      ]
    },
    {
      "cell_type": "code",
      "metadata": {
        "id": "MiLcAPwBNwG_",
        "colab_type": "code",
        "colab": {
          "base_uri": "https://localhost:8080/",
          "height": 226
        },
        "outputId": "c9e8687a-791f-4151-f768-3f60531d7fc3"
      },
      "source": [
        "model = model.cpu()\n",
        "fig, axes = plt.subplots(2, 4)\n",
        "negatives = 0\n",
        "positives = 0\n",
        "for i in range(len(testset)):\n",
        "    if negatives == 4 and positives == 4:\n",
        "        break\n",
        "    image, label = testset[i]['img'], testset[i]['label']\n",
        "    if label == 0 and negatives < 4:\n",
        "        gradcam(model, image, detransformer, label, axes[0][negatives])\n",
        "        negatives = negatives + 1\n",
        "    elif label == 1 and positives < 4:\n",
        "        gradcam(model, image, detransformer, label, axes[1][positives])\n",
        "        positives = positives + 1\n",
        "\n",
        "fig.savefig('gradcam.png')\n",
        "fig.show()"
      ],
      "execution_count": null,
      "outputs": [
        {
          "output_type": "display_data",
          "data": {
            "image/png": "[encoded data removed]",
            "text/plain": [
              "<Figure size 432x288 with 8 Axes>"
            ]
          },
          "metadata": {
            "tags": []
          }
        }
      ]
    },
    {
      "cell_type": "code",
      "metadata": {
        "id": "_6CWkUq4BZ0r",
        "colab_type": "code",
        "colab": {}
      },
      "source": [
        "torch.save(model.state_dict(), 'fine-tune.pt')"
      ],
      "execution_count": null,
      "outputs": []
    }
  ]
}