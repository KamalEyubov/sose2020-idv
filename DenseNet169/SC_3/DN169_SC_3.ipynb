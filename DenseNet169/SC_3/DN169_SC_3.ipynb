{
  "nbformat": 4,
  "nbformat_minor": 0,
  "metadata": {
    "colab": {
      "name": "DN169_SC_3.ipynb",
      "provenance": [],
      "collapsed_sections": []
    },
    "kernelspec": {
      "name": "python3",
      "display_name": "Python 3"
    },
    "accelerator": "GPU",
    "widgets": {
      "application/vnd.jupyter.widget-state+json": {
        "11eadf1d1b0f42be88b89135813f8e3b": {
          "model_module": "@jupyter-widgets/controls",
          "model_name": "HBoxModel",
          "state": {
            "_view_name": "HBoxView",
            "_dom_classes": [],
            "_model_name": "HBoxModel",
            "_view_module": "@jupyter-widgets/controls",
            "_model_module_version": "1.5.0",
            "_view_count": null,
            "_view_module_version": "1.5.0",
            "box_style": "",
            "layout": "IPY_MODEL_935b7136889943a09e3d9c095566831b",
            "_model_module": "@jupyter-widgets/controls",
            "children": [
              "IPY_MODEL_4e356beee0f545bf9b6a63fe1057b575",
              "IPY_MODEL_f670e36b5fa14707af92a9446287c9fc"
            ]
          }
        },
        "935b7136889943a09e3d9c095566831b": {
          "model_module": "@jupyter-widgets/base",
          "model_name": "LayoutModel",
          "state": {
            "_view_name": "LayoutView",
            "grid_template_rows": null,
            "right": null,
            "justify_content": null,
            "_view_module": "@jupyter-widgets/base",
            "overflow": null,
            "_model_module_version": "1.2.0",
            "_view_count": null,
            "flex_flow": null,
            "width": null,
            "min_width": null,
            "border": null,
            "align_items": null,
            "bottom": null,
            "_model_module": "@jupyter-widgets/base",
            "top": null,
            "grid_column": null,
            "overflow_y": null,
            "overflow_x": null,
            "grid_auto_flow": null,
            "grid_area": null,
            "grid_template_columns": null,
            "flex": null,
            "_model_name": "LayoutModel",
            "justify_items": null,
            "grid_row": null,
            "max_height": null,
            "align_content": null,
            "visibility": null,
            "align_self": null,
            "height": null,
            "min_height": null,
            "padding": null,
            "grid_auto_rows": null,
            "grid_gap": null,
            "max_width": null,
            "order": null,
            "_view_module_version": "1.2.0",
            "grid_template_areas": null,
            "object_position": null,
            "object_fit": null,
            "grid_auto_columns": null,
            "margin": null,
            "display": null,
            "left": null
          }
        },
        "4e356beee0f545bf9b6a63fe1057b575": {
          "model_module": "@jupyter-widgets/controls",
          "model_name": "FloatProgressModel",
          "state": {
            "_view_name": "ProgressView",
            "style": "IPY_MODEL_e5100610ae2d4d2ca69bfa6abf9b86f3",
            "_dom_classes": [],
            "description": "100%",
            "_model_name": "FloatProgressModel",
            "bar_style": "success",
            "max": 57365526,
            "_view_module": "@jupyter-widgets/controls",
            "_model_module_version": "1.5.0",
            "value": 57365526,
            "_view_count": null,
            "_view_module_version": "1.5.0",
            "orientation": "horizontal",
            "min": 0,
            "description_tooltip": null,
            "_model_module": "@jupyter-widgets/controls",
            "layout": "IPY_MODEL_cbc39cd70a864c80bf312bb44a2fcc32"
          }
        },
        "f670e36b5fa14707af92a9446287c9fc": {
          "model_module": "@jupyter-widgets/controls",
          "model_name": "HTMLModel",
          "state": {
            "_view_name": "HTMLView",
            "style": "IPY_MODEL_0f4b92cc870249bdb886fefef0000a61",
            "_dom_classes": [],
            "description": "",
            "_model_name": "HTMLModel",
            "placeholder": "​",
            "_view_module": "@jupyter-widgets/controls",
            "_model_module_version": "1.5.0",
            "value": " 54.7M/54.7M [00:01&lt;00:00, 32.5MB/s]",
            "_view_count": null,
            "_view_module_version": "1.5.0",
            "description_tooltip": null,
            "_model_module": "@jupyter-widgets/controls",
            "layout": "IPY_MODEL_bf0431e4a2994b9a930b279ea5b6b906"
          }
        },
        "e5100610ae2d4d2ca69bfa6abf9b86f3": {
          "model_module": "@jupyter-widgets/controls",
          "model_name": "ProgressStyleModel",
          "state": {
            "_view_name": "StyleView",
            "_model_name": "ProgressStyleModel",
            "description_width": "initial",
            "_view_module": "@jupyter-widgets/base",
            "_model_module_version": "1.5.0",
            "_view_count": null,
            "_view_module_version": "1.2.0",
            "bar_color": null,
            "_model_module": "@jupyter-widgets/controls"
          }
        },
        "cbc39cd70a864c80bf312bb44a2fcc32": {
          "model_module": "@jupyter-widgets/base",
          "model_name": "LayoutModel",
          "state": {
            "_view_name": "LayoutView",
            "grid_template_rows": null,
            "right": null,
            "justify_content": null,
            "_view_module": "@jupyter-widgets/base",
            "overflow": null,
            "_model_module_version": "1.2.0",
            "_view_count": null,
            "flex_flow": null,
            "width": null,
            "min_width": null,
            "border": null,
            "align_items": null,
            "bottom": null,
            "_model_module": "@jupyter-widgets/base",
            "top": null,
            "grid_column": null,
            "overflow_y": null,
            "overflow_x": null,
            "grid_auto_flow": null,
            "grid_area": null,
            "grid_template_columns": null,
            "flex": null,
            "_model_name": "LayoutModel",
            "justify_items": null,
            "grid_row": null,
            "max_height": null,
            "align_content": null,
            "visibility": null,
            "align_self": null,
            "height": null,
            "min_height": null,
            "padding": null,
            "grid_auto_rows": null,
            "grid_gap": null,
            "max_width": null,
            "order": null,
            "_view_module_version": "1.2.0",
            "grid_template_areas": null,
            "object_position": null,
            "object_fit": null,
            "grid_auto_columns": null,
            "margin": null,
            "display": null,
            "left": null
          }
        },
        "0f4b92cc870249bdb886fefef0000a61": {
          "model_module": "@jupyter-widgets/controls",
          "model_name": "DescriptionStyleModel",
          "state": {
            "_view_name": "StyleView",
            "_model_name": "DescriptionStyleModel",
            "description_width": "",
            "_view_module": "@jupyter-widgets/base",
            "_model_module_version": "1.5.0",
            "_view_count": null,
            "_view_module_version": "1.2.0",
            "_model_module": "@jupyter-widgets/controls"
          }
        },
        "bf0431e4a2994b9a930b279ea5b6b906": {
          "model_module": "@jupyter-widgets/base",
          "model_name": "LayoutModel",
          "state": {
            "_view_name": "LayoutView",
            "grid_template_rows": null,
            "right": null,
            "justify_content": null,
            "_view_module": "@jupyter-widgets/base",
            "overflow": null,
            "_model_module_version": "1.2.0",
            "_view_count": null,
            "flex_flow": null,
            "width": null,
            "min_width": null,
            "border": null,
            "align_items": null,
            "bottom": null,
            "_model_module": "@jupyter-widgets/base",
            "top": null,
            "grid_column": null,
            "overflow_y": null,
            "overflow_x": null,
            "grid_auto_flow": null,
            "grid_area": null,
            "grid_template_columns": null,
            "flex": null,
            "_model_name": "LayoutModel",
            "justify_items": null,
            "grid_row": null,
            "max_height": null,
            "align_content": null,
            "visibility": null,
            "align_self": null,
            "height": null,
            "min_height": null,
            "padding": null,
            "grid_auto_rows": null,
            "grid_gap": null,
            "max_width": null,
            "order": null,
            "_view_module_version": "1.2.0",
            "grid_template_areas": null,
            "object_position": null,
            "object_fit": null,
            "grid_auto_columns": null,
            "margin": null,
            "display": null,
            "left": null
          }
        }
      }
    }
  },
  "cells": [
    {
      "cell_type": "markdown",
      "metadata": {
        "id": "B2gRjXONVGaE",
        "colab_type": "text"
      },
      "source": [
        "# Uploading data sets"
      ]
    },
    {
      "cell_type": "code",
      "metadata": {
        "id": "sMXvhlkjQ9fC",
        "colab_type": "code",
        "colab": {
          "base_uri": "https://localhost:8080/",
          "height": 124
        },
        "outputId": "6afda75f-be8a-4a07-bd9a-e582eb47d1ea"
      },
      "source": [
        "from google.colab import drive\n",
        "\n",
        "drive.mount('/content/drive/')\n",
        "\n",
        "uploaded = ['/content/drive/My Drive/Images.zip',\n",
        "            '/content/drive/My Drive/Data-split.zip',\n",
        "            '/content/drive/My Drive/LUNA.zip']"
      ],
      "execution_count": null,
      "outputs": [
        {
          "output_type": "stream",
          "text": [
            "Go to this URL in a browser: https://accounts.google.com/o/oauth2/auth?client_id=947318989803-6bn6qk8qdgf4n4g3pfee6491hc0brc4i.apps.googleusercontent.com&redirect_uri=urn%3aietf%3awg%3aoauth%3a2.0%3aoob&response_type=code&scope=email%20https%3a%2f%2fwww.googleapis.com%2fauth%2fdocs.test%20https%3a%2f%2fwww.googleapis.com%2fauth%2fdrive%20https%3a%2f%2fwww.googleapis.com%2fauth%2fdrive.photos.readonly%20https%3a%2f%2fwww.googleapis.com%2fauth%2fpeopleapi.readonly\n",
            "\n",
            "Enter your authorization code:\n",
            "··········\n",
            "Mounted at /content/drive/\n"
          ],
          "name": "stdout"
        }
      ]
    },
    {
      "cell_type": "code",
      "metadata": {
        "id": "_l118nPSNuuO",
        "colab_type": "code",
        "colab": {}
      },
      "source": [
        "#from google.colab import files\n",
        "\n",
        "#uploaded = files.upload()\n",
        "\n",
        "#for f in uploaded:\n",
        "#    print('Uploaded: ' + f)"
      ],
      "execution_count": null,
      "outputs": []
    },
    {
      "cell_type": "code",
      "metadata": {
        "id": "c0qKwGLeSwad",
        "colab_type": "code",
        "colab": {}
      },
      "source": [
        "from zipfile import ZipFile\n",
        "\n",
        "for f in uploaded:\n",
        "    with ZipFile(f, 'r') as zip_ref:\n",
        "        zip_ref.extractall('.')"
      ],
      "execution_count": null,
      "outputs": []
    },
    {
      "cell_type": "markdown",
      "metadata": {
        "id": "j4-UXZvWU6Gq",
        "colab_type": "text"
      },
      "source": [
        "# SSL on LUNA"
      ]
    },
    {
      "cell_type": "code",
      "metadata": {
        "id": "nOjQgGMvS7WK",
        "colab_type": "code",
        "colab": {}
      },
      "source": [
        "import os\n",
        "\n",
        "os.mkdir('ssl_backup')\n",
        "os.mkdir('ssl_result')"
      ],
      "execution_count": null,
      "outputs": []
    },
    {
      "cell_type": "code",
      "metadata": {
        "id": "4c6eJ1cFRGol",
        "colab_type": "code",
        "colab": {}
      },
      "source": [
        "import torch\n",
        "import torchvision\n",
        "import torchvision.transforms as transforms\n",
        "import torchvision.datasets as datasets\n",
        "import torch.nn as nn\n",
        "import torch.optim as optim\n",
        "from torchvision.models import densenet169 as DenseNet169\n",
        "from PIL import Image\n",
        "import numpy as np\n",
        "from torch.utils.data import DataLoader, Dataset\n",
        "from matplotlib import pyplot as plt\n",
        "import warnings\n",
        "warnings.filterwarnings('ignore')\n",
        "import torch.nn.functional as F"
      ],
      "execution_count": null,
      "outputs": []
    },
    {
      "cell_type": "code",
      "metadata": {
        "id": "fr7u5peGboWP",
        "colab_type": "code",
        "colab": {}
      },
      "source": [
        "torch.manual_seed(42)\n",
        "torch.cuda.manual_seed(42)\n",
        "np.random.seed(42)\n",
        "torch.backends.cudnn.deterministic = True\n",
        "rng = np.random.RandomState(42)"
      ],
      "execution_count": null,
      "outputs": []
    },
    {
      "cell_type": "code",
      "metadata": {
        "id": "ExQ5H08LRVUJ",
        "colab_type": "code",
        "colab": {}
      },
      "source": [
        "torch.cuda.empty_cache()\n",
        "\n",
        "device = 'cuda'\n",
        "batchsize = 16\n",
        "train_epochs_start = 0\n",
        "train_epochs_end = 50"
      ],
      "execution_count": null,
      "outputs": []
    },
    {
      "cell_type": "code",
      "metadata": {
        "id": "hufV3_0NRX7i",
        "colab_type": "code",
        "colab": {}
      },
      "source": [
        "class SimCLR(nn.Module):\n",
        "\n",
        "    def __init__(self, out_dim=128):\n",
        "        super(SimCLR, self).__init__()\n",
        "\n",
        "        densenet = DenseNet169(pretrained=True)\n",
        "        self.features = densenet.features\n",
        "        self.relu = nn.ReLU(inplace=True)\n",
        "        # MLP head\n",
        "        self.classifier = nn.Sequential(\n",
        "            nn.Linear(\n",
        "                densenet.classifier.in_features,\n",
        "                densenet.classifier.in_features,\n",
        "                bias=True\n",
        "            ),\n",
        "            nn.ReLU(),\n",
        "            nn.Linear(\n",
        "                densenet.classifier.in_features,\n",
        "                out_features=out_dim,\n",
        "                bias=True\n",
        "            )\n",
        "        )\n",
        "\n",
        "    def forward(self, x):\n",
        "        out = self.features(x)\n",
        "        out = self.relu(out)\n",
        "        out = F.adaptive_avg_pool2d(out, (1, 1))\n",
        "        out = torch.flatten(out, 1)\n",
        "        out = self.classifier(out)\n",
        "        return out"
      ],
      "execution_count": null,
      "outputs": []
    },
    {
      "cell_type": "code",
      "metadata": {
        "id": "1gMca2j7ZGtv",
        "colab_type": "code",
        "colab": {}
      },
      "source": [
        "class NTXentLoss(nn.Module):\n",
        "\n",
        "    def __init__(self):\n",
        "        super(NTXentLoss, self).__init__()\n",
        "        self.masks = dict()\n",
        "        self.similarity_function = torch.nn.CosineSimilarity(dim=-1)\n",
        "        self.criterion = torch.nn.CrossEntropyLoss()\n",
        "\n",
        "    @staticmethod\n",
        "    def get_mask(batch_size):\n",
        "        diag = np.eye(2 * batch_size)\n",
        "        l1 = np.eye(2 * batch_size, k=-batch_size)\n",
        "        l2 = np.eye(2 * batch_size, k=batch_size)\n",
        "        mask = torch.from_numpy(diag + l1 + l2)\n",
        "        mask = (1 - mask).type(torch.bool)\n",
        "        return mask.to(device)\n",
        "\n",
        "    def forward(self, zi, zj, temperature=0.5):\n",
        "\n",
        "        batch_size = zi.shape[-2]\n",
        "        if batch_size not in self.masks:\n",
        "            self.masks[batch_size] = NTXentLoss.get_mask(batch_size)\n",
        "\n",
        "        representations = torch.cat([zi, zj], dim=0)\n",
        "\n",
        "        similarity_matrix = self.similarity_function(\n",
        "            representations.unsqueeze(1),\n",
        "            representations.unsqueeze(0)\n",
        "        )\n",
        "\n",
        "        # filter out the scores from the positive samples\n",
        "        l_pos = torch.diag(similarity_matrix, batch_size)\n",
        "        r_pos = torch.diag(similarity_matrix, -batch_size)\n",
        "        positives = torch.cat([l_pos, r_pos]).view(2 * batch_size, 1)\n",
        "\n",
        "        negatives = similarity_matrix[self.masks[batch_size]].view(2 * batch_size, -1)\n",
        "\n",
        "        logits = torch.cat([positives, negatives], dim=1)\n",
        "        logits /= temperature\n",
        "\n",
        "        labels = torch.zeros(2 * batch_size).to(device).long()\n",
        "        loss = self.criterion(logits, labels)\n",
        "        return loss"
      ],
      "execution_count": null,
      "outputs": []
    },
    {
      "cell_type": "code",
      "metadata": {
        "id": "WCagrxEMSocl",
        "colab_type": "code",
        "colab": {
          "base_uri": "https://localhost:8080/",
          "height": 84,
          "referenced_widgets": [
            "11eadf1d1b0f42be88b89135813f8e3b",
            "935b7136889943a09e3d9c095566831b",
            "4e356beee0f545bf9b6a63fe1057b575",
            "f670e36b5fa14707af92a9446287c9fc",
            "e5100610ae2d4d2ca69bfa6abf9b86f3",
            "cbc39cd70a864c80bf312bb44a2fcc32",
            "0f4b92cc870249bdb886fefef0000a61",
            "bf0431e4a2994b9a930b279ea5b6b906"
          ]
        },
        "outputId": "2add0786-55b3-490d-e3b2-e41d467d36f1"
      },
      "source": [
        "model = SimCLR()\n",
        "if device == 'cuda':\n",
        "    model = model.cuda()\n",
        "modelname = 'SimCLR'\n",
        "\n",
        "if train_epochs_start > 0:\n",
        "    model.load_state_dict(\n",
        "        torch.load('ssl_backup/{}_{}.pt'.format(\n",
        "            modelname,\n",
        "            train_epochs_start\n",
        "        ))\n",
        "    )"
      ],
      "execution_count": null,
      "outputs": [
        {
          "output_type": "stream",
          "text": [
            "Downloading: \"https://download.pytorch.org/models/densenet169-b2777c0a.pth\" to /root/.cache/torch/hub/checkpoints/densenet169-b2777c0a.pth\n"
          ],
          "name": "stderr"
        },
        {
          "output_type": "display_data",
          "data": {
            "application/vnd.jupyter.widget-view+json": {
              "model_id": "11eadf1d1b0f42be88b89135813f8e3b",
              "version_minor": 0,
              "version_major": 2
            },
            "text/plain": [
              "HBox(children=(FloatProgress(value=0.0, max=57365526.0), HTML(value='')))"
            ]
          },
          "metadata": {
            "tags": []
          }
        },
        {
          "output_type": "stream",
          "text": [
            "\n"
          ],
          "name": "stdout"
        }
      ]
    },
    {
      "cell_type": "code",
      "metadata": {
        "id": "lb4gDGv85mZ6",
        "colab_type": "code",
        "colab": {}
      },
      "source": [
        "stages = ['ssl', 'fine-tuning']\n",
        "stage_id = 0\n",
        "\n",
        "def plot_change(model1, model2):\n",
        "    global stage_id\n",
        "\n",
        "    diff = torch.nn.MSELoss()\n",
        "    norm_w, norm_wx, norm_b, norm_bx, conv_w, conv_wx = [], [], [], [], [], []\n",
        "    i = 0\n",
        "    for (name, parameter1), parameter2 in  zip(model1.named_parameters(), model2.parameters()):\n",
        "        name = name.split(\".\")\n",
        "        if name[-2][:4] == \"conv\":\n",
        "            if name[-1] == \"weight\":\n",
        "                conv_w.append(diff(parameter1, parameter2).item())\n",
        "                conv_wx.append(i)\n",
        "        elif name[-2][:4] == \"norm\":\n",
        "            if name[-1] == \"weight\":\n",
        "                norm_w.append(diff(parameter1, parameter2).item())\n",
        "                norm_wx.append(i)\n",
        "            elif name[-1] == \"bias\":\n",
        "                norm_b.append(diff(parameter1, parameter2).item())\n",
        "                norm_bx.append(i)\n",
        "        i = i + 1\n",
        "\n",
        "    plt.bar(norm_wx, norm_w, label=\"gamma\")\n",
        "    plt.bar(norm_bx, norm_b, label=\"beta\")\n",
        "    plt.legend()\n",
        "    plt.title('Change of parameters at BN layers')\n",
        "    plt.savefig(stages[stage_id] + '_bn_change.png')\n",
        "    plt.show()\n",
        "\n",
        "    plt.bar(conv_wx, conv_w)\n",
        "    plt.title('Change of weights at CONV layers')\n",
        "    plt.savefig(stages[stage_id] + '_conv_change.png')\n",
        "    plt.show()\n",
        "\n",
        "    stage_id = stage_id + 1"
      ],
      "execution_count": null,
      "outputs": []
    },
    {
      "cell_type": "code",
      "metadata": {
        "id": "yo50VffP5p2E",
        "colab_type": "code",
        "colab": {
          "base_uri": "https://localhost:8080/",
          "height": 34
        },
        "outputId": "30d2b898-b35b-4ca3-9a9c-03c0be30887d"
      },
      "source": [
        "model_old = SimCLR()\n",
        "model_old.load_state_dict(model.state_dict())"
      ],
      "execution_count": null,
      "outputs": [
        {
          "output_type": "execute_result",
          "data": {
            "text/plain": [
              "<All keys matched successfully>"
            ]
          },
          "metadata": {
            "tags": []
          },
          "execution_count": 12
        }
      ]
    },
    {
      "cell_type": "code",
      "metadata": {
        "id": "M9IAmfr3kJ4o",
        "colab_type": "code",
        "colab": {}
      },
      "source": [
        "from PIL import ImageFilter\n",
        "import random\n",
        "\n",
        "class GaussianBlur(object):\n",
        "    \"\"\"Gaussian blur augmentation in SimCLR https://arxiv.org/abs/2002.05709\"\"\"\n",
        "\n",
        "    def __init__(self, sigma=[.1, 2.]):\n",
        "        self.sigma = sigma\n",
        "\n",
        "    def __call__(self, x):\n",
        "        sigma = random.uniform(self.sigma[0], self.sigma[1])\n",
        "        x = x.filter(ImageFilter.GaussianBlur(radius=sigma))\n",
        "        return x"
      ],
      "execution_count": null,
      "outputs": []
    },
    {
      "cell_type": "code",
      "metadata": {
        "id": "elECcbjtSzJi",
        "colab_type": "code",
        "colab": {}
      },
      "source": [
        "normalize = transforms.Normalize(\n",
        "    mean=[0.485, 0.456, 0.406],\n",
        "    std=[0.229, 0.224, 0.225]\n",
        ")\n",
        "transformer = transforms.Compose([\n",
        "    transforms.RandomResizedCrop(224, scale=(0.2, 1.)),\n",
        "    transforms.RandomApply([transforms.ColorJitter(0.4, 0.4, 0.4, 0.1)], p=0.8),\n",
        "    transforms.RandomGrayscale(p=0.2),\n",
        "    transforms.RandomApply([GaussianBlur([.1, 2.])], p=0.5),\n",
        "    transforms.RandomHorizontalFlip(),\n",
        "    transforms.ToTensor(),\n",
        "    normalize\n",
        "])"
      ],
      "execution_count": null,
      "outputs": []
    },
    {
      "cell_type": "code",
      "metadata": {
        "id": "QF0rGSxkTxSJ",
        "colab_type": "code",
        "colab": {}
      },
      "source": [
        "def read_txt(txt_path):\n",
        "    with open(txt_path) as f:\n",
        "        lines = f.readlines()\n",
        "    txt_data = [line.strip() for line in lines]\n",
        "    return txt_data\n",
        "\n",
        "class LUNADataset(Dataset):\n",
        "    def __init__(self, root_dir, transform=None):\n",
        "        \"\"\"\n",
        "            Args:\n",
        "                txt_path (string): Path to the txt file with annotations.\n",
        "                root_dir (string): Directory with all the images.\n",
        "                transform (callable, optional): Optional transform to be applied on a sample.\n",
        "            File structure:\n",
        "                - LUNA\n",
        "                    - img1.png\n",
        "                    - img2.png\n",
        "                    - ......\n",
        "        \"\"\"\n",
        "        self.img_list = [os.path.join(root_dir, item) for item in os.listdir(root_dir)]\n",
        "        self.transform = transform\n",
        "\n",
        "    def __len__(self):\n",
        "        return len(self.img_list)\n",
        "\n",
        "    def __getitem__(self, idx):\n",
        "        if torch.is_tensor(idx):\n",
        "            idx = idx.tolist()\n",
        "\n",
        "        img_path = self.img_list[idx]\n",
        "        image = Image.open(img_path).convert('RGB')\n",
        "\n",
        "        image0 = self.transform(image)\n",
        "        image1 = self.transform(image)\n",
        "\n",
        "        sample = {'img0': image0, 'img1': image1}\n",
        "        return sample"
      ],
      "execution_count": null,
      "outputs": []
    },
    {
      "cell_type": "code",
      "metadata": {
        "id": "bUMBwszWT58_",
        "colab_type": "code",
        "colab": {
          "base_uri": "https://localhost:8080/",
          "height": 34
        },
        "outputId": "bdf32997-2d97-449b-90bd-ab56e02c803c"
      },
      "source": [
        "dataset = LUNADataset(\n",
        "    root_dir='LUNA',\n",
        "    transform=transformer\n",
        ")\n",
        "print(\"dataset length:\", dataset.__len__())\n",
        "data_loader = DataLoader(dataset, batch_size=batchsize, drop_last=False, shuffle=True)"
      ],
      "execution_count": null,
      "outputs": [
        {
          "output_type": "stream",
          "text": [
            "dataset length: 1000\n"
          ],
          "name": "stdout"
        }
      ]
    },
    {
      "cell_type": "code",
      "metadata": {
        "id": "QEznV2iST-kk",
        "colab_type": "code",
        "colab": {}
      },
      "source": [
        "def train(epoch):\n",
        "\n",
        "    model.train()\n",
        "\n",
        "    train_loss = 0\n",
        "\n",
        "    for batch_index, batch_samples in enumerate(data_loader):\n",
        "\n",
        "        # move data to device\n",
        "        data0, data1 = batch_samples['img0'].to(device), batch_samples['img1'].to(device)\n",
        "\n",
        "        output0 = model(data0)\n",
        "        output1 = model(data1)\n",
        "\n",
        "        loss = criteria(output0, output1)\n",
        "        train_loss += loss.item()\n",
        "\n",
        "        optimizer.zero_grad()\n",
        "        loss.backward()\n",
        "        optimizer.step()\n",
        "\n",
        "        # Display progress\n",
        "        if (batch_index + 1) % bs == 0:\n",
        "            print('Train Epoch: {} [{}/{} ({:.0f}%)]'.format(\n",
        "                epoch,\n",
        "                batch_index, len(data_loader),\n",
        "                100.0 * batch_index / len(data_loader)\n",
        "            ))\n",
        "\n",
        "    avg_loss = train_loss / len(data_loader.dataset)\n",
        "    print('Data set: Average loss: {:.4f}'.format(avg_loss))\n",
        "    f = open('ssl_result/train_{}.txt'.format(modelname), 'a+')\n",
        "    f.write('Data set: Average loss: {:.4f}'.format(avg_loss))\n",
        "    f.close()\n",
        "    avg_losses.append(avg_loss)"
      ],
      "execution_count": null,
      "outputs": []
    },
    {
      "cell_type": "code",
      "metadata": {
        "id": "xqKj3yEFUuOZ",
        "colab_type": "code",
        "colab": {
          "base_uri": "https://localhost:8080/",
          "height": 1000
        },
        "outputId": "dfd295dd-e870-40b0-e0f0-c43cec6409da"
      },
      "source": [
        "bs = 10\n",
        "T_checkpoint = 10\n",
        "avg_losses = []\n",
        "\n",
        "criteria = NTXentLoss()\n",
        "optimizer = optim.Adam(model.parameters())\n",
        "\n",
        "for epoch in range(train_epochs_start + 1, train_epochs_end + 1):\n",
        "    train(epoch)\n",
        "    \n",
        "    if epoch % T_checkpoint == 0:\n",
        "        # checkpoint\n",
        "        torch.save(model.state_dict(), 'ssl_backup/{}_{}.pt'.format(modelname, epoch))"
      ],
      "execution_count": null,
      "outputs": [
        {
          "output_type": "stream",
          "text": [
            "Train Epoch: 1 [9/63 (14%)]\n",
            "Train Epoch: 1 [19/63 (30%)]\n",
            "Train Epoch: 1 [29/63 (46%)]\n",
            "Train Epoch: 1 [39/63 (62%)]\n",
            "Train Epoch: 1 [49/63 (78%)]\n",
            "Train Epoch: 1 [59/63 (94%)]\n",
            "Data set: Average loss: 0.1729\n",
            "Train Epoch: 2 [9/63 (14%)]\n",
            "Train Epoch: 2 [19/63 (30%)]\n",
            "Train Epoch: 2 [29/63 (46%)]\n",
            "Train Epoch: 2 [39/63 (62%)]\n",
            "Train Epoch: 2 [49/63 (78%)]\n",
            "Train Epoch: 2 [59/63 (94%)]\n",
            "Data set: Average loss: 0.1656\n",
            "Train Epoch: 3 [9/63 (14%)]\n",
            "Train Epoch: 3 [19/63 (30%)]\n",
            "Train Epoch: 3 [29/63 (46%)]\n",
            "Train Epoch: 3 [39/63 (62%)]\n",
            "Train Epoch: 3 [49/63 (78%)]\n",
            "Train Epoch: 3 [59/63 (94%)]\n",
            "Data set: Average loss: 0.1562\n",
            "Train Epoch: 4 [9/63 (14%)]\n",
            "Train Epoch: 4 [19/63 (30%)]\n",
            "Train Epoch: 4 [29/63 (46%)]\n",
            "Train Epoch: 4 [39/63 (62%)]\n",
            "Train Epoch: 4 [49/63 (78%)]\n",
            "Train Epoch: 4 [59/63 (94%)]\n",
            "Data set: Average loss: 0.1454\n",
            "Train Epoch: 5 [9/63 (14%)]\n",
            "Train Epoch: 5 [19/63 (30%)]\n",
            "Train Epoch: 5 [29/63 (46%)]\n",
            "Train Epoch: 5 [39/63 (62%)]\n",
            "Train Epoch: 5 [49/63 (78%)]\n",
            "Train Epoch: 5 [59/63 (94%)]\n",
            "Data set: Average loss: 0.1434\n",
            "Train Epoch: 6 [9/63 (14%)]\n",
            "Train Epoch: 6 [19/63 (30%)]\n",
            "Train Epoch: 6 [29/63 (46%)]\n",
            "Train Epoch: 6 [39/63 (62%)]\n",
            "Train Epoch: 6 [49/63 (78%)]\n",
            "Train Epoch: 6 [59/63 (94%)]\n",
            "Data set: Average loss: 0.1384\n",
            "Train Epoch: 7 [9/63 (14%)]\n",
            "Train Epoch: 7 [19/63 (30%)]\n",
            "Train Epoch: 7 [29/63 (46%)]\n",
            "Train Epoch: 7 [39/63 (62%)]\n",
            "Train Epoch: 7 [49/63 (78%)]\n",
            "Train Epoch: 7 [59/63 (94%)]\n",
            "Data set: Average loss: 0.1347\n",
            "Train Epoch: 8 [9/63 (14%)]\n",
            "Train Epoch: 8 [19/63 (30%)]\n",
            "Train Epoch: 8 [29/63 (46%)]\n",
            "Train Epoch: 8 [39/63 (62%)]\n",
            "Train Epoch: 8 [49/63 (78%)]\n",
            "Train Epoch: 8 [59/63 (94%)]\n",
            "Data set: Average loss: 0.1329\n",
            "Train Epoch: 9 [9/63 (14%)]\n",
            "Train Epoch: 9 [19/63 (30%)]\n",
            "Train Epoch: 9 [29/63 (46%)]\n",
            "Train Epoch: 9 [39/63 (62%)]\n",
            "Train Epoch: 9 [49/63 (78%)]\n",
            "Train Epoch: 9 [59/63 (94%)]\n",
            "Data set: Average loss: 0.1290\n",
            "Train Epoch: 10 [9/63 (14%)]\n",
            "Train Epoch: 10 [19/63 (30%)]\n",
            "Train Epoch: 10 [29/63 (46%)]\n",
            "Train Epoch: 10 [39/63 (62%)]\n",
            "Train Epoch: 10 [49/63 (78%)]\n",
            "Train Epoch: 10 [59/63 (94%)]\n",
            "Data set: Average loss: 0.1270\n",
            "Train Epoch: 11 [9/63 (14%)]\n",
            "Train Epoch: 11 [19/63 (30%)]\n",
            "Train Epoch: 11 [29/63 (46%)]\n",
            "Train Epoch: 11 [39/63 (62%)]\n",
            "Train Epoch: 11 [49/63 (78%)]\n",
            "Train Epoch: 11 [59/63 (94%)]\n",
            "Data set: Average loss: 0.1262\n",
            "Train Epoch: 12 [9/63 (14%)]\n",
            "Train Epoch: 12 [19/63 (30%)]\n",
            "Train Epoch: 12 [29/63 (46%)]\n",
            "Train Epoch: 12 [39/63 (62%)]\n",
            "Train Epoch: 12 [49/63 (78%)]\n",
            "Train Epoch: 12 [59/63 (94%)]\n",
            "Data set: Average loss: 0.1249\n",
            "Train Epoch: 13 [9/63 (14%)]\n",
            "Train Epoch: 13 [19/63 (30%)]\n",
            "Train Epoch: 13 [29/63 (46%)]\n",
            "Train Epoch: 13 [39/63 (62%)]\n",
            "Train Epoch: 13 [49/63 (78%)]\n",
            "Train Epoch: 13 [59/63 (94%)]\n",
            "Data set: Average loss: 0.1236\n",
            "Train Epoch: 14 [9/63 (14%)]\n",
            "Train Epoch: 14 [19/63 (30%)]\n",
            "Train Epoch: 14 [29/63 (46%)]\n",
            "Train Epoch: 14 [39/63 (62%)]\n",
            "Train Epoch: 14 [49/63 (78%)]\n",
            "Train Epoch: 14 [59/63 (94%)]\n",
            "Data set: Average loss: 0.1217\n",
            "Train Epoch: 15 [9/63 (14%)]\n",
            "Train Epoch: 15 [19/63 (30%)]\n",
            "Train Epoch: 15 [29/63 (46%)]\n",
            "Train Epoch: 15 [39/63 (62%)]\n",
            "Train Epoch: 15 [49/63 (78%)]\n",
            "Train Epoch: 15 [59/63 (94%)]\n",
            "Data set: Average loss: 0.1215\n",
            "Train Epoch: 16 [9/63 (14%)]\n",
            "Train Epoch: 16 [19/63 (30%)]\n",
            "Train Epoch: 16 [29/63 (46%)]\n",
            "Train Epoch: 16 [39/63 (62%)]\n",
            "Train Epoch: 16 [49/63 (78%)]\n",
            "Train Epoch: 16 [59/63 (94%)]\n",
            "Data set: Average loss: 0.1214\n",
            "Train Epoch: 17 [9/63 (14%)]\n",
            "Train Epoch: 17 [19/63 (30%)]\n",
            "Train Epoch: 17 [29/63 (46%)]\n",
            "Train Epoch: 17 [39/63 (62%)]\n",
            "Train Epoch: 17 [49/63 (78%)]\n",
            "Train Epoch: 17 [59/63 (94%)]\n",
            "Data set: Average loss: 0.1228\n",
            "Train Epoch: 18 [9/63 (14%)]\n",
            "Train Epoch: 18 [19/63 (30%)]\n",
            "Train Epoch: 18 [29/63 (46%)]\n",
            "Train Epoch: 18 [39/63 (62%)]\n",
            "Train Epoch: 18 [49/63 (78%)]\n",
            "Train Epoch: 18 [59/63 (94%)]\n",
            "Data set: Average loss: 0.1207\n",
            "Train Epoch: 19 [9/63 (14%)]\n",
            "Train Epoch: 19 [19/63 (30%)]\n",
            "Train Epoch: 19 [29/63 (46%)]\n",
            "Train Epoch: 19 [39/63 (62%)]\n",
            "Train Epoch: 19 [49/63 (78%)]\n",
            "Train Epoch: 19 [59/63 (94%)]\n",
            "Data set: Average loss: 0.1214\n",
            "Train Epoch: 20 [9/63 (14%)]\n",
            "Train Epoch: 20 [19/63 (30%)]\n",
            "Train Epoch: 20 [29/63 (46%)]\n",
            "Train Epoch: 20 [39/63 (62%)]\n",
            "Train Epoch: 20 [49/63 (78%)]\n",
            "Train Epoch: 20 [59/63 (94%)]\n",
            "Data set: Average loss: 0.1188\n",
            "Train Epoch: 21 [9/63 (14%)]\n",
            "Train Epoch: 21 [19/63 (30%)]\n",
            "Train Epoch: 21 [29/63 (46%)]\n",
            "Train Epoch: 21 [39/63 (62%)]\n",
            "Train Epoch: 21 [49/63 (78%)]\n",
            "Train Epoch: 21 [59/63 (94%)]\n",
            "Data set: Average loss: 0.1208\n",
            "Train Epoch: 22 [9/63 (14%)]\n",
            "Train Epoch: 22 [19/63 (30%)]\n",
            "Train Epoch: 22 [29/63 (46%)]\n",
            "Train Epoch: 22 [39/63 (62%)]\n",
            "Train Epoch: 22 [49/63 (78%)]\n",
            "Train Epoch: 22 [59/63 (94%)]\n",
            "Data set: Average loss: 0.1186\n",
            "Train Epoch: 23 [9/63 (14%)]\n",
            "Train Epoch: 23 [19/63 (30%)]\n",
            "Train Epoch: 23 [29/63 (46%)]\n",
            "Train Epoch: 23 [39/63 (62%)]\n",
            "Train Epoch: 23 [49/63 (78%)]\n",
            "Train Epoch: 23 [59/63 (94%)]\n",
            "Data set: Average loss: 0.1192\n",
            "Train Epoch: 24 [9/63 (14%)]\n",
            "Train Epoch: 24 [19/63 (30%)]\n",
            "Train Epoch: 24 [29/63 (46%)]\n",
            "Train Epoch: 24 [39/63 (62%)]\n",
            "Train Epoch: 24 [49/63 (78%)]\n",
            "Train Epoch: 24 [59/63 (94%)]\n",
            "Data set: Average loss: 0.1193\n",
            "Train Epoch: 25 [9/63 (14%)]\n",
            "Train Epoch: 25 [19/63 (30%)]\n",
            "Train Epoch: 25 [29/63 (46%)]\n",
            "Train Epoch: 25 [39/63 (62%)]\n",
            "Train Epoch: 25 [49/63 (78%)]\n",
            "Train Epoch: 25 [59/63 (94%)]\n",
            "Data set: Average loss: 0.1181\n",
            "Train Epoch: 26 [9/63 (14%)]\n",
            "Train Epoch: 26 [19/63 (30%)]\n",
            "Train Epoch: 26 [29/63 (46%)]\n",
            "Train Epoch: 26 [39/63 (62%)]\n",
            "Train Epoch: 26 [49/63 (78%)]\n",
            "Train Epoch: 26 [59/63 (94%)]\n",
            "Data set: Average loss: 0.1176\n",
            "Train Epoch: 27 [9/63 (14%)]\n",
            "Train Epoch: 27 [19/63 (30%)]\n",
            "Train Epoch: 27 [29/63 (46%)]\n",
            "Train Epoch: 27 [39/63 (62%)]\n",
            "Train Epoch: 27 [49/63 (78%)]\n",
            "Train Epoch: 27 [59/63 (94%)]\n",
            "Data set: Average loss: 0.1186\n",
            "Train Epoch: 28 [9/63 (14%)]\n",
            "Train Epoch: 28 [19/63 (30%)]\n",
            "Train Epoch: 28 [29/63 (46%)]\n",
            "Train Epoch: 28 [39/63 (62%)]\n",
            "Train Epoch: 28 [49/63 (78%)]\n",
            "Train Epoch: 28 [59/63 (94%)]\n",
            "Data set: Average loss: 0.1190\n",
            "Train Epoch: 29 [9/63 (14%)]\n",
            "Train Epoch: 29 [19/63 (30%)]\n",
            "Train Epoch: 29 [29/63 (46%)]\n",
            "Train Epoch: 29 [39/63 (62%)]\n",
            "Train Epoch: 29 [49/63 (78%)]\n",
            "Train Epoch: 29 [59/63 (94%)]\n",
            "Data set: Average loss: 0.1179\n",
            "Train Epoch: 30 [9/63 (14%)]\n",
            "Train Epoch: 30 [19/63 (30%)]\n",
            "Train Epoch: 30 [29/63 (46%)]\n",
            "Train Epoch: 30 [39/63 (62%)]\n",
            "Train Epoch: 30 [49/63 (78%)]\n",
            "Train Epoch: 30 [59/63 (94%)]\n",
            "Data set: Average loss: 0.1172\n",
            "Train Epoch: 31 [9/63 (14%)]\n",
            "Train Epoch: 31 [19/63 (30%)]\n",
            "Train Epoch: 31 [29/63 (46%)]\n",
            "Train Epoch: 31 [39/63 (62%)]\n",
            "Train Epoch: 31 [49/63 (78%)]\n",
            "Train Epoch: 31 [59/63 (94%)]\n",
            "Data set: Average loss: 0.1158\n",
            "Train Epoch: 32 [9/63 (14%)]\n",
            "Train Epoch: 32 [19/63 (30%)]\n",
            "Train Epoch: 32 [29/63 (46%)]\n",
            "Train Epoch: 32 [39/63 (62%)]\n",
            "Train Epoch: 32 [49/63 (78%)]\n",
            "Train Epoch: 32 [59/63 (94%)]\n",
            "Data set: Average loss: 0.1168\n",
            "Train Epoch: 33 [9/63 (14%)]\n",
            "Train Epoch: 33 [19/63 (30%)]\n",
            "Train Epoch: 33 [29/63 (46%)]\n",
            "Train Epoch: 33 [39/63 (62%)]\n",
            "Train Epoch: 33 [49/63 (78%)]\n",
            "Train Epoch: 33 [59/63 (94%)]\n",
            "Data set: Average loss: 0.1182\n",
            "Train Epoch: 34 [9/63 (14%)]\n",
            "Train Epoch: 34 [19/63 (30%)]\n",
            "Train Epoch: 34 [29/63 (46%)]\n",
            "Train Epoch: 34 [39/63 (62%)]\n",
            "Train Epoch: 34 [49/63 (78%)]\n",
            "Train Epoch: 34 [59/63 (94%)]\n",
            "Data set: Average loss: 0.1171\n",
            "Train Epoch: 35 [9/63 (14%)]\n",
            "Train Epoch: 35 [19/63 (30%)]\n",
            "Train Epoch: 35 [29/63 (46%)]\n",
            "Train Epoch: 35 [39/63 (62%)]\n",
            "Train Epoch: 35 [49/63 (78%)]\n",
            "Train Epoch: 35 [59/63 (94%)]\n",
            "Data set: Average loss: 0.1148\n",
            "Train Epoch: 36 [9/63 (14%)]\n",
            "Train Epoch: 36 [19/63 (30%)]\n",
            "Train Epoch: 36 [29/63 (46%)]\n",
            "Train Epoch: 36 [39/63 (62%)]\n",
            "Train Epoch: 36 [49/63 (78%)]\n",
            "Train Epoch: 36 [59/63 (94%)]\n",
            "Data set: Average loss: 0.1150\n",
            "Train Epoch: 37 [9/63 (14%)]\n",
            "Train Epoch: 37 [19/63 (30%)]\n",
            "Train Epoch: 37 [29/63 (46%)]\n",
            "Train Epoch: 37 [39/63 (62%)]\n",
            "Train Epoch: 37 [49/63 (78%)]\n",
            "Train Epoch: 37 [59/63 (94%)]\n",
            "Data set: Average loss: 0.1151\n",
            "Train Epoch: 38 [9/63 (14%)]\n",
            "Train Epoch: 38 [19/63 (30%)]\n",
            "Train Epoch: 38 [29/63 (46%)]\n",
            "Train Epoch: 38 [39/63 (62%)]\n",
            "Train Epoch: 38 [49/63 (78%)]\n",
            "Train Epoch: 38 [59/63 (94%)]\n",
            "Data set: Average loss: 0.1143\n",
            "Train Epoch: 39 [9/63 (14%)]\n",
            "Train Epoch: 39 [19/63 (30%)]\n",
            "Train Epoch: 39 [29/63 (46%)]\n",
            "Train Epoch: 39 [39/63 (62%)]\n",
            "Train Epoch: 39 [49/63 (78%)]\n",
            "Train Epoch: 39 [59/63 (94%)]\n",
            "Data set: Average loss: 0.1153\n",
            "Train Epoch: 40 [9/63 (14%)]\n",
            "Train Epoch: 40 [19/63 (30%)]\n",
            "Train Epoch: 40 [29/63 (46%)]\n",
            "Train Epoch: 40 [39/63 (62%)]\n",
            "Train Epoch: 40 [49/63 (78%)]\n",
            "Train Epoch: 40 [59/63 (94%)]\n",
            "Data set: Average loss: 0.1135\n",
            "Train Epoch: 41 [9/63 (14%)]\n",
            "Train Epoch: 41 [19/63 (30%)]\n",
            "Train Epoch: 41 [29/63 (46%)]\n",
            "Train Epoch: 41 [39/63 (62%)]\n",
            "Train Epoch: 41 [49/63 (78%)]\n",
            "Train Epoch: 41 [59/63 (94%)]\n",
            "Data set: Average loss: 0.1153\n",
            "Train Epoch: 42 [9/63 (14%)]\n",
            "Train Epoch: 42 [19/63 (30%)]\n",
            "Train Epoch: 42 [29/63 (46%)]\n",
            "Train Epoch: 42 [39/63 (62%)]\n",
            "Train Epoch: 42 [49/63 (78%)]\n",
            "Train Epoch: 42 [59/63 (94%)]\n",
            "Data set: Average loss: 0.1154\n",
            "Train Epoch: 43 [9/63 (14%)]\n",
            "Train Epoch: 43 [19/63 (30%)]\n",
            "Train Epoch: 43 [29/63 (46%)]\n",
            "Train Epoch: 43 [39/63 (62%)]\n",
            "Train Epoch: 43 [49/63 (78%)]\n",
            "Train Epoch: 43 [59/63 (94%)]\n",
            "Data set: Average loss: 0.1149\n",
            "Train Epoch: 44 [9/63 (14%)]\n",
            "Train Epoch: 44 [19/63 (30%)]\n",
            "Train Epoch: 44 [29/63 (46%)]\n",
            "Train Epoch: 44 [39/63 (62%)]\n",
            "Train Epoch: 44 [49/63 (78%)]\n",
            "Train Epoch: 44 [59/63 (94%)]\n",
            "Data set: Average loss: 0.1140\n",
            "Train Epoch: 45 [9/63 (14%)]\n",
            "Train Epoch: 45 [19/63 (30%)]\n",
            "Train Epoch: 45 [29/63 (46%)]\n",
            "Train Epoch: 45 [39/63 (62%)]\n",
            "Train Epoch: 45 [49/63 (78%)]\n",
            "Train Epoch: 45 [59/63 (94%)]\n",
            "Data set: Average loss: 0.1139\n",
            "Train Epoch: 46 [9/63 (14%)]\n",
            "Train Epoch: 46 [19/63 (30%)]\n",
            "Train Epoch: 46 [29/63 (46%)]\n",
            "Train Epoch: 46 [39/63 (62%)]\n",
            "Train Epoch: 46 [49/63 (78%)]\n",
            "Train Epoch: 46 [59/63 (94%)]\n",
            "Data set: Average loss: 0.1134\n",
            "Train Epoch: 47 [9/63 (14%)]\n",
            "Train Epoch: 47 [19/63 (30%)]\n",
            "Train Epoch: 47 [29/63 (46%)]\n",
            "Train Epoch: 47 [39/63 (62%)]\n",
            "Train Epoch: 47 [49/63 (78%)]\n",
            "Train Epoch: 47 [59/63 (94%)]\n",
            "Data set: Average loss: 0.1124\n",
            "Train Epoch: 48 [9/63 (14%)]\n",
            "Train Epoch: 48 [19/63 (30%)]\n",
            "Train Epoch: 48 [29/63 (46%)]\n",
            "Train Epoch: 48 [39/63 (62%)]\n",
            "Train Epoch: 48 [49/63 (78%)]\n",
            "Train Epoch: 48 [59/63 (94%)]\n",
            "Data set: Average loss: 0.1145\n",
            "Train Epoch: 49 [9/63 (14%)]\n",
            "Train Epoch: 49 [19/63 (30%)]\n",
            "Train Epoch: 49 [29/63 (46%)]\n",
            "Train Epoch: 49 [39/63 (62%)]\n",
            "Train Epoch: 49 [49/63 (78%)]\n",
            "Train Epoch: 49 [59/63 (94%)]\n",
            "Data set: Average loss: 0.1138\n",
            "Train Epoch: 50 [9/63 (14%)]\n",
            "Train Epoch: 50 [19/63 (30%)]\n",
            "Train Epoch: 50 [29/63 (46%)]\n",
            "Train Epoch: 50 [39/63 (62%)]\n",
            "Train Epoch: 50 [49/63 (78%)]\n",
            "Train Epoch: 50 [59/63 (94%)]\n",
            "Data set: Average loss: 0.1127\n"
          ],
          "name": "stdout"
        }
      ]
    },
    {
      "cell_type": "code",
      "metadata": {
        "id": "VrpziWn-Zp41",
        "colab_type": "code",
        "colab": {
          "base_uri": "https://localhost:8080/",
          "height": 279
        },
        "outputId": "079a639a-56ed-4820-869c-a31e397ebb37"
      },
      "source": [
        "plt.plot(range(train_epochs_start, train_epochs_end), avg_losses)\n",
        "plt.xlabel('Epoch')\n",
        "plt.ylabel('Average loss')\n",
        "plt.savefig('ssl_loss.png')\n",
        "plt.show()"
      ],
      "execution_count": null,
      "outputs": [
        {
          "output_type": "display_data",
          "data": {
            "image/png": "[encoded data removed]",
            "text/plain": [
              "<Figure size 432x288 with 1 Axes>"
            ]
          },
          "metadata": {
            "tags": [],
            "needs_background": "light"
          }
        }
      ]
    },
    {
      "cell_type": "code",
      "metadata": {
        "id": "w5oS6wri5-rr",
        "colab_type": "code",
        "colab": {
          "base_uri": "https://localhost:8080/",
          "height": 545
        },
        "outputId": "5f0593a3-f868-48c4-cbbb-e5dab22462b1"
      },
      "source": [
        "plot_change(model.cpu(), model_old.cpu())"
      ],
      "execution_count": null,
      "outputs": [
        {
          "output_type": "display_data",
          "data": {
            "image/png": "[encoded data removed]",
            "text/plain": [
              "<Figure size 432x288 with 1 Axes>"
            ]
          },
          "metadata": {
            "tags": [],
            "needs_background": "light"
          }
        },
        {
          "output_type": "display_data",
          "data": {
            "image/png": "[encoded data removed]",
            "text/plain": [
              "<Figure size 432x288 with 1 Axes>"
            ]
          },
          "metadata": {
            "tags": [],
            "needs_background": "light"
          }
        }
      ]
    },
    {
      "cell_type": "code",
      "metadata": {
        "id": "GpTmBbqCWaVs",
        "colab_type": "code",
        "colab": {}
      },
      "source": [
        "torch.save(model.state_dict(), 'ssl.pt')"
      ],
      "execution_count": null,
      "outputs": []
    },
    {
      "cell_type": "markdown",
      "metadata": {
        "id": "UL-6QwIxVly8",
        "colab_type": "text"
      },
      "source": [
        "# Fine-tuning the model on the final task"
      ]
    },
    {
      "cell_type": "code",
      "metadata": {
        "id": "UM3YSCm4xvdo",
        "colab_type": "code",
        "colab": {}
      },
      "source": [
        "os.mkdir('model_backup')\n",
        "os.mkdir('model_result')"
      ],
      "execution_count": null,
      "outputs": []
    },
    {
      "cell_type": "code",
      "metadata": {
        "id": "UCzT4fqKb6FR",
        "colab_type": "code",
        "colab": {}
      },
      "source": [
        "torch.manual_seed(42)\n",
        "torch.cuda.manual_seed(42)\n",
        "np.random.seed(42)\n",
        "torch.backends.cudnn.deterministic = True\n",
        "rng = np.random.RandomState(42)"
      ],
      "execution_count": null,
      "outputs": []
    },
    {
      "cell_type": "code",
      "metadata": {
        "id": "-m_h5UYgVqkK",
        "colab_type": "code",
        "colab": {}
      },
      "source": [
        "from sklearn.metrics import roc_auc_score\n",
        "import torch.nn.functional as F\n",
        "\n",
        "torch.cuda.empty_cache()\n",
        "\n",
        "\n",
        "batchsize = 16\n",
        "train_epochs_start = 0\n",
        "train_epochs_end = 50\n",
        "ssl_epochs = 50"
      ],
      "execution_count": null,
      "outputs": []
    },
    {
      "cell_type": "code",
      "metadata": {
        "id": "xf3wtjzuWqQ4",
        "colab_type": "code",
        "colab": {}
      },
      "source": [
        "class FineTune(torch.nn.Module):\n",
        "    def __init__(self, ssl_model, out_dim=2):\n",
        "        super(FineTune, self).__init__()\n",
        "\n",
        "        self.features = ssl_model.features\n",
        "        self.relu = nn.ReLU(inplace=True)\n",
        "        self.classifier = nn.Linear(\n",
        "            ssl_model.classifier[0].in_features,\n",
        "            out_features=out_dim,\n",
        "            bias=True\n",
        "        )\n",
        "\n",
        "    def forward(self, x):\n",
        "        out = self.features(x)\n",
        "        out = self.relu(out)\n",
        "        out = F.adaptive_avg_pool2d(out, (1, 1))\n",
        "        out = torch.flatten(out, 1)\n",
        "        out = self.classifier(out)\n",
        "        return out"
      ],
      "execution_count": null,
      "outputs": []
    },
    {
      "cell_type": "code",
      "metadata": {
        "id": "IN0NdcwAXCQi",
        "colab_type": "code",
        "colab": {}
      },
      "source": [
        "model = SimCLR()\n",
        "modelname = 'SimCLR'\n",
        "\n",
        "if train_epochs_start > 0:\n",
        "    model = FineTune(model)\n",
        "    modelname = 'FineTune'\n",
        "    model.load_state_dict(\n",
        "        torch.load('model_backup/{}_{}.pt'.format(\n",
        "            modelname,\n",
        "            train_epochs_start\n",
        "        ))\n",
        "    )\n",
        "else:\n",
        "    model.load_state_dict(\n",
        "        torch.load('ssl_backup/{}_{}.pt'.format(\n",
        "            modelname,\n",
        "            ssl_epochs\n",
        "        ))\n",
        "    )\n",
        "    model = FineTune(model)\n",
        "    modelname = 'FineTune'\n",
        "\n",
        "if device == 'cuda':\n",
        "    model = model.cuda()"
      ],
      "execution_count": null,
      "outputs": []
    },
    {
      "cell_type": "code",
      "metadata": {
        "id": "aAeV6Dw05trE",
        "colab_type": "code",
        "colab": {
          "base_uri": "https://localhost:8080/",
          "height": 34
        },
        "outputId": "8e9c1a1b-0fac-47a1-bb05-672c3d01fac1"
      },
      "source": [
        "model_old = FineTune(SimCLR())\n",
        "model_old.load_state_dict(model.state_dict())"
      ],
      "execution_count": null,
      "outputs": [
        {
          "output_type": "execute_result",
          "data": {
            "text/plain": [
              "<All keys matched successfully>"
            ]
          },
          "metadata": {
            "tags": []
          },
          "execution_count": 27
        }
      ]
    },
    {
      "cell_type": "code",
      "metadata": {
        "id": "TaZQvb8eXI19",
        "colab_type": "code",
        "colab": {}
      },
      "source": [
        "normalize = transforms.Normalize(\n",
        "    mean=[0.45271412, 0.45271412, 0.45271412],\n",
        "    std=[0.33165374, 0.33165374, 0.33165374]\n",
        ")\n",
        "train_transformer = transforms.Compose([\n",
        "    transforms.Resize((224, 224)),\n",
        "    transforms.ToTensor(),\n",
        "    normalize\n",
        "])\n",
        "\n",
        "val_transformer = transforms.Compose([\n",
        "    transforms.Resize((224, 224)),\n",
        "    transforms.ToTensor(),\n",
        "    normalize\n",
        "])\n",
        "\n",
        "detransformer = torchvision.transforms.Compose([\n",
        "    lambda image_tensor : image_tensor * torch.tensor([0.33165374, 0.33165374, 0.33165374])[:, None, None],\n",
        "    lambda image_tensor : image_tensor + torch.tensor([0.45271412, 0.45271412, 0.45271412])[:, None, None],\n",
        "    torchvision.transforms.ToPILImage()\n",
        "])"
      ],
      "execution_count": null,
      "outputs": []
    },
    {
      "cell_type": "code",
      "metadata": {
        "id": "I38mSiLgXUJP",
        "colab_type": "code",
        "colab": {}
      },
      "source": [
        "def gradcam(model, input_tensor, detransform, label, axis):\n",
        "\n",
        "\t# Activations are saved.\n",
        "\tactivations = dict() # one-key dictionary. Doesn't work otherwise.\n",
        "\tdef get_activations(name):\n",
        "\t\tdef hook(module, input, output):\n",
        "\t\t\tactivations[name] = output.detach()\n",
        "\t\treturn hook\n",
        "\n",
        "\t# Gradients are saved.\n",
        "\tgrads = dict() # same as for activations\n",
        "\tdef get_grads(name):\n",
        "\t\tdef hook(module, grad_input, grad_output):\n",
        "\t\t\tgrads[name] = grad_output[0].detach() # is a tuple\n",
        "\t\treturn hook\n",
        "\n",
        "\tinput_batch = input_tensor.unsqueeze(0) # a batch of one\n",
        "\n",
        "\tfrw_handle = model.relu.register_forward_hook(get_activations(\"features\"))\n",
        "\tbck_handle = model.relu.register_backward_hook(get_grads(\"features\"))\n",
        "\n",
        "\tmodel.eval()\n",
        "\tmodel.zero_grad()\n",
        "\toutput_batch = model(input_batch)\n",
        "\toutput_batch[0][label].backward()\n",
        "\n",
        "\tfrw_handle.remove()\n",
        "\tbck_handle.remove()\n",
        "\n",
        "\tactivations = activations[\"features\"]\n",
        "\tgrads = grads[\"features\"]\n",
        "\n",
        "\tgrads = torch.mean(grads, dim=(-2, -1), keepdims=True) # gradients are pooled\n",
        "\tgrad_cam = activations * grads\n",
        "\tgrad_cam = torch.sum(grad_cam, dim=-3) # weighted sum\n",
        "\tgrad_cam = torch.nn.functional.relu(grad_cam) # relu'd weighted sum\n",
        "\tgrad_cam = grad_cam / grad_cam.max() # normalization\n",
        "\tgrad_cam = grad_cam[0] # squeezing the batch of one\n",
        "\n",
        "\taxis.imshow(detransform(input_tensor).resize((224, 224)), alpha=1.0)\n",
        "\t# Grad-CAM is resized to 224x224 via bilinear interpolation and mapped to 'JET' colormap to be superimposed on the original image.\n",
        "\taxis.imshow(torchvision.transforms.ToPILImage()(grad_cam).resize((224, 224), resample=Image.BILINEAR), cmap='jet', alpha=0.5)\n",
        "\taxis.set_xticks([])\n",
        "\taxis.set_yticks([])"
      ],
      "execution_count": null,
      "outputs": []
    },
    {
      "cell_type": "code",
      "metadata": {
        "id": "LTrQkcmUY79K",
        "colab_type": "code",
        "colab": {}
      },
      "source": [
        "# This definition overrides the previous one\n",
        "class CovidCTDataset(Dataset):\n",
        "    def __init__(self, root_dir, txt_COVID, txt_NonCOVID, transform=None):\n",
        "        \"\"\"\n",
        "            Args:\n",
        "                txt_path (string): Path to the txt file with annotations.\n",
        "                root_dir (string): Directory with all the images.\n",
        "                transform (callable, optional): Optional transform to be applied on a sample.\n",
        "            File structure:\n",
        "                - root_dir\n",
        "                    - CT_COVID\n",
        "                        - img1.png\n",
        "                        - img2.png\n",
        "                        - ......\n",
        "                    - CT_NonCOVID\n",
        "                        - img1.png\n",
        "                        - img2.png\n",
        "                        - ......\n",
        "        \"\"\"\n",
        "        self.root_dir = root_dir\n",
        "        self.txt_path = [txt_COVID, txt_NonCOVID]\n",
        "        self.classes = ['CT_COVID', 'CT_NonCOVID']\n",
        "        self.num_cls = len(self.classes)\n",
        "        self.img_list = []\n",
        "        for c in range(self.num_cls):\n",
        "            cls_list = [[os.path.join(self.root_dir, self.classes[c], item), c] for item in read_txt(self.txt_path[c])]\n",
        "            self.img_list += cls_list\n",
        "        self.transform = transform\n",
        "\n",
        "    def __len__(self):\n",
        "        return len(self.img_list)\n",
        "\n",
        "    def __getitem__(self, idx):\n",
        "        if torch.is_tensor(idx):\n",
        "            idx = idx.tolist()\n",
        "\n",
        "        img_path = self.img_list[idx][0]\n",
        "        image = Image.open(img_path).convert('RGB')\n",
        "\n",
        "        if self.transform:\n",
        "            image = self.transform(image)\n",
        "        sample = {'img': image, 'label': int(self.img_list[idx][1])}\n",
        "        return sample"
      ],
      "execution_count": null,
      "outputs": []
    },
    {
      "cell_type": "code",
      "metadata": {
        "id": "k4Qa6jqRZNWc",
        "colab_type": "code",
        "colab": {
          "base_uri": "https://localhost:8080/",
          "height": 69
        },
        "outputId": "d64d5b5a-7290-40c2-f7c3-a3d406bf34fa"
      },
      "source": [
        "trainset = CovidCTDataset(\n",
        "    root_dir='Images',\n",
        "    txt_COVID='Data-split/COVID/trainCT_COVID.txt',\n",
        "    txt_NonCOVID='Data-split/NonCOVID/trainCT_NonCOVID.txt',\n",
        "    transform=train_transformer\n",
        ")\n",
        "valset = CovidCTDataset(\n",
        "    root_dir='Images',\n",
        "    txt_COVID='Data-split/COVID/valCT_COVID.txt',\n",
        "    txt_NonCOVID='Data-split/NonCOVID/valCT_NonCOVID.txt',\n",
        "    transform=val_transformer\n",
        ")\n",
        "testset = CovidCTDataset(\n",
        "    root_dir='Images',\n",
        "    txt_COVID='Data-split/COVID/testCT_COVID.txt',\n",
        "    txt_NonCOVID='Data-split/NonCOVID/testCT_NonCOVID.txt',\n",
        "    transform=val_transformer\n",
        ")\n",
        "print(\"trainset length:\", trainset.__len__())\n",
        "print(\"valset length:\", valset.__len__())\n",
        "print(\"testset length:\", testset.__len__())\n",
        "\n",
        "train_loader = DataLoader(trainset, batch_size=batchsize, drop_last=False, shuffle=True)\n",
        "val_loader = DataLoader(valset, batch_size=batchsize, drop_last=False, shuffle=False)\n",
        "test_loader = DataLoader(testset, batch_size=batchsize, drop_last=False, shuffle=False)"
      ],
      "execution_count": null,
      "outputs": [
        {
          "output_type": "stream",
          "text": [
            "trainset length: 425\n",
            "valset length: 118\n",
            "testset length: 203\n"
          ],
          "name": "stdout"
        }
      ]
    },
    {
      "cell_type": "code",
      "metadata": {
        "id": "osuxQYhYaV24",
        "colab_type": "code",
        "colab": {}
      },
      "source": [
        "def train(epoch):\n",
        "        \n",
        "    model.train()\n",
        "        \n",
        "    train_loss = 0\n",
        "    train_correct = 0\n",
        "        \n",
        "    for batch_index, batch_samples in enumerate(train_loader):\n",
        "                \n",
        "        # move data to device\n",
        "        data, target = batch_samples['img'].to(device), batch_samples['label'].to(device)\n",
        "\n",
        "        output = model(data)\n",
        "        loss = criteria(output, target.long())\n",
        "        train_loss += loss.item()\n",
        "                \n",
        "        optimizer.zero_grad()\n",
        "        loss.backward()\n",
        "        optimizer.step()\n",
        "\n",
        "        pred = output.argmax(dim=1)\n",
        "        train_correct += (pred == target).sum().item()\n",
        "        \n",
        "        # Display progress\n",
        "        if (batch_index + 1) % bs == 0:\n",
        "            print('Train Epoch: {} [{}/{} ({:.0f}%)]\\tTrain Loss: {:.6f}'.format(\n",
        "                epoch,\n",
        "                batch_index, len(train_loader),\n",
        "                100.0 * batch_index / len(train_loader),\n",
        "                train_loss / bs\n",
        "            ))\n",
        "            train_loss = 0\n",
        "        \n",
        "    avg_loss = train_loss / len(train_loader.dataset)\n",
        "    accuracy = 100.0 * train_correct / len(train_loader.dataset)\n",
        "    print('Train set: Average loss: {:.4f}, Accuracy: {}/{} ({:.0f}%)\\n'.format(\n",
        "        avg_loss,\n",
        "        train_correct, len(train_loader.dataset),\n",
        "        accuracy\n",
        "    ))\n",
        "    f = open('model_result/train_{}.txt'.format(modelname), 'a+')\n",
        "    f.write('Train set: Average loss: {:.4f}, Accuracy: {}/{} ({:.0f}%)\\n'.format(\n",
        "        avg_loss,\n",
        "        train_correct, len(train_loader.dataset),\n",
        "        accuracy\n",
        "    ))\n",
        "    f.close()\n",
        "    avg_losses.append(avg_loss)"
      ],
      "execution_count": null,
      "outputs": []
    },
    {
      "cell_type": "code",
      "metadata": {
        "id": "g_vy2_XrbIN5",
        "colab_type": "code",
        "colab": {}
      },
      "source": [
        " def predict(mode):\n",
        "    '''\n",
        "        mode:\n",
        "            either 'val' or 'train'\n",
        "    '''\n",
        "    loader = val_loader if mode == 'val' else test_loader\n",
        "        \n",
        "    model.eval()\n",
        "\n",
        "    predlist=[]\n",
        "    scorelist=[]\n",
        "    targetlist=[]\n",
        "        \n",
        "    # Don't update model\n",
        "    with torch.no_grad():\n",
        "        # Predict\n",
        "        for batch_index, batch_samples in enumerate(loader):\n",
        "            data, target = batch_samples['img'].to(device), batch_samples['label'].to(device)\n",
        "            output = model(data)\n",
        "                        \n",
        "            score = F.softmax(output, dim=1)\n",
        "            pred = output.argmax(dim=1)\n",
        "\n",
        "            targetcpu=target.long().cpu().numpy()\n",
        "            predlist=np.append(predlist, pred.cpu().numpy())\n",
        "            scorelist=np.append(scorelist, score.cpu().numpy()[:,1]) # percentages for positive\n",
        "            targetlist=np.append(targetlist, targetcpu)\n",
        "                                  \n",
        "    return targetlist, scorelist, predlist"
      ],
      "execution_count": null,
      "outputs": []
    },
    {
      "cell_type": "code",
      "metadata": {
        "id": "8pUgTKSObbsZ",
        "colab_type": "code",
        "colab": {
          "base_uri": "https://localhost:8080/"
        },
        "outputId": "ba94fc8f-372a-49aa-8782-ac64fe51127b"
      },
      "source": [
        "bs = 10\n",
        "votenum = 5\n",
        "epochs, rs, ps, F1s, accs, AUCs = [], [], [], [], [], []\n",
        "avg_losses = []\n",
        "\n",
        "vote_pred = np.zeros(valset.__len__())\n",
        "vote_score = np.zeros(valset.__len__())\n",
        "\n",
        "criteria = nn.CrossEntropyLoss()\n",
        "optimizer = optim.Adam(model.parameters())\n",
        "\n",
        "for epoch in range(train_epochs_start + 1, train_epochs_end + 1):\n",
        "    train(epoch)\n",
        "\n",
        "    targetlist, scorelist, predlist = predict('val')\n",
        "    vote_pred = vote_pred + predlist\n",
        "    vote_score = vote_score + scorelist\n",
        "\n",
        "    if epoch % votenum == 0:\n",
        "        # checkpoint\n",
        "        torch.save(model.state_dict(), \"model_backup/{}_{}.pt\".format(modelname, epoch))\n",
        "                \n",
        "        # major vote\n",
        "        vote_pred[vote_pred <=  (votenum / 2)] = 0\n",
        "        vote_pred[vote_pred >   (votenum / 2)] = 1\n",
        "        vote_score = vote_score / votenum\n",
        "\n",
        "        TP = ((vote_pred == 1) & (targetlist == 1)).sum()\n",
        "        TN = ((vote_pred == 0) & (targetlist == 0)).sum()\n",
        "        FN = ((vote_pred == 0) & (targetlist == 1)).sum()\n",
        "        FP = ((vote_pred == 1) & (targetlist == 0)).sum()\n",
        "                \n",
        "        print('TP=',TP,'TN=',TN,'FN=',FN,'FP=',FP)\n",
        "        print('TP+FP',TP + FP)\n",
        "        p = TP / (TP + FP)\n",
        "        r = TP / (TP + FN)\n",
        "        F1 = 2 * r * p / (r + p)\n",
        "        acc = (TP + TN) / (TP + TN + FP + FN)\n",
        "        AUC = roc_auc_score(targetlist, vote_score)\n",
        "\n",
        "        print('The epoch is {}, average recall: {:.4f}, average precision: {:.4f}, average F1: {:.4f}, average accuracy: {:.4f}, average AUC: {:.4f}\\n\\n'.format(\n",
        "            epoch, r, p, F1, acc, AUC\n",
        "        ))\n",
        "        f = open('model_result/train_{}.txt'.format(modelname), 'a+')\n",
        "        f.write('The epoch is {}, average recall: {:.4f}, average precision: {:.4f}, average F1: {:.4f}, average accuracy: {:.4f}, average AUC: {:.4f}\\n\\n'.format(\n",
        "            epoch, r, p, F1, acc, AUC\n",
        "        ))\n",
        "        f.close()\n",
        "\n",
        "        epochs.append(epoch)\n",
        "        rs.append(r)\n",
        "        ps.append(p)\n",
        "        F1s.append(F1)\n",
        "        accs.append(acc)\n",
        "        AUCs.append(AUC)\n",
        "                \n",
        "        vote_pred = np.zeros(valset.__len__())\n",
        "        vote_score = np.zeros(valset.__len__())\n"
      ],
      "execution_count": null,
      "outputs": [
        {
          "output_type": "stream",
          "text": [
            "Train Epoch: 1 [9/27 (33%)]\tTrain Loss: 0.759703\n",
            "Train Epoch: 1 [19/27 (70%)]\tTrain Loss: 0.624945\n",
            "Train set: Average loss: 0.0110, Accuracy: 256/425 (60%)\n",
            "\n",
            "Train Epoch: 2 [9/27 (33%)]\tTrain Loss: 0.445837\n",
            "Train Epoch: 2 [19/27 (70%)]\tTrain Loss: 0.422406\n",
            "Train set: Average loss: 0.0057, Accuracy: 345/425 (81%)\n",
            "\n",
            "Train Epoch: 3 [9/27 (33%)]\tTrain Loss: 0.327383\n",
            "Train Epoch: 3 [19/27 (70%)]\tTrain Loss: 0.450786\n",
            "Train set: Average loss: 0.0063, Accuracy: 354/425 (83%)\n",
            "\n",
            "Train Epoch: 4 [9/27 (33%)]\tTrain Loss: 0.305855\n",
            "Train Epoch: 4 [19/27 (70%)]\tTrain Loss: 0.288795\n",
            "Train set: Average loss: 0.0050, Accuracy: 371/425 (87%)\n",
            "\n",
            "Train Epoch: 5 [9/27 (33%)]\tTrain Loss: 0.216136\n",
            "Train Epoch: 5 [19/27 (70%)]\tTrain Loss: 0.172728\n",
            "Train set: Average loss: 0.0065, Accuracy: 384/425 (90%)\n",
            "\n",
            "TP= 40 TN= 44 FN= 18 FP= 16\n",
            "TP+FP 56\n",
            "The epoch is 5, average recall: 0.6897, average precision: 0.7143, average F1: 0.7018, average accuracy: 0.7119, average AUC: 0.7667\n",
            "\n",
            "\n",
            "Train Epoch: 6 [9/27 (33%)]\tTrain Loss: 0.156700\n",
            "Train Epoch: 6 [19/27 (70%)]\tTrain Loss: 0.173159\n",
            "Train set: Average loss: 0.0039, Accuracy: 393/425 (92%)\n",
            "\n",
            "Train Epoch: 7 [9/27 (33%)]\tTrain Loss: 0.116526\n",
            "Train Epoch: 7 [19/27 (70%)]\tTrain Loss: 0.241222\n",
            "Train set: Average loss: 0.0031, Accuracy: 396/425 (93%)\n",
            "\n",
            "Train Epoch: 8 [9/27 (33%)]\tTrain Loss: 0.118175\n",
            "Train Epoch: 8 [19/27 (70%)]\tTrain Loss: 0.066319\n",
            "Train set: Average loss: 0.0036, Accuracy: 407/425 (96%)\n",
            "\n",
            "Train Epoch: 9 [9/27 (33%)]\tTrain Loss: 0.156760\n",
            "Train Epoch: 9 [19/27 (70%)]\tTrain Loss: 0.141428\n",
            "Train set: Average loss: 0.0046, Accuracy: 397/425 (93%)\n",
            "\n",
            "Train Epoch: 10 [9/27 (33%)]\tTrain Loss: 0.096009\n",
            "Train Epoch: 10 [19/27 (70%)]\tTrain Loss: 0.115336\n",
            "Train set: Average loss: 0.0035, Accuracy: 404/425 (95%)\n",
            "\n",
            "TP= 43 TN= 41 FN= 15 FP= 19\n",
            "TP+FP 62\n",
            "The epoch is 10, average recall: 0.7414, average precision: 0.6935, average F1: 0.7167, average accuracy: 0.7119, average AUC: 0.8149\n",
            "\n",
            "\n",
            "Train Epoch: 11 [9/27 (33%)]\tTrain Loss: 0.095086\n",
            "Train Epoch: 11 [19/27 (70%)]\tTrain Loss: 0.199622\n",
            "Train set: Average loss: 0.0046, Accuracy: 390/425 (92%)\n",
            "\n",
            "Train Epoch: 12 [9/27 (33%)]\tTrain Loss: 0.106900\n",
            "Train Epoch: 12 [19/27 (70%)]\tTrain Loss: 0.057892\n",
            "Train set: Average loss: 0.0014, Accuracy: 411/425 (97%)\n",
            "\n",
            "Train Epoch: 13 [9/27 (33%)]\tTrain Loss: 0.077004\n",
            "Train Epoch: 13 [19/27 (70%)]\tTrain Loss: 0.089368\n",
            "Train set: Average loss: 0.0016, Accuracy: 413/425 (97%)\n",
            "\n",
            "Train Epoch: 14 [9/27 (33%)]\tTrain Loss: 0.064060\n",
            "Train Epoch: 14 [19/27 (70%)]\tTrain Loss: 0.045697\n",
            "Train set: Average loss: 0.0015, Accuracy: 418/425 (98%)\n",
            "\n",
            "Train Epoch: 15 [9/27 (33%)]\tTrain Loss: 0.023695\n",
            "Train Epoch: 15 [19/27 (70%)]\tTrain Loss: 0.117993\n",
            "Train set: Average loss: 0.0007, Accuracy: 416/425 (98%)\n",
            "\n",
            "TP= 41 TN= 41 FN= 17 FP= 19\n",
            "TP+FP 60\n",
            "The epoch is 15, average recall: 0.7069, average precision: 0.6833, average F1: 0.6949, average accuracy: 0.6949, average AUC: 0.8017\n",
            "\n",
            "\n",
            "Train Epoch: 16 [9/27 (33%)]\tTrain Loss: 0.016195\n",
            "Train Epoch: 16 [19/27 (70%)]\tTrain Loss: 0.027180\n",
            "Train set: Average loss: 0.0001, Accuracy: 424/425 (100%)\n",
            "\n",
            "Train Epoch: 17 [9/27 (33%)]\tTrain Loss: 0.004744\n",
            "Train Epoch: 17 [19/27 (70%)]\tTrain Loss: 0.005495\n",
            "Train set: Average loss: 0.0001, Accuracy: 425/425 (100%)\n",
            "\n",
            "Train Epoch: 18 [9/27 (33%)]\tTrain Loss: 0.006776\n",
            "Train Epoch: 18 [19/27 (70%)]\tTrain Loss: 0.001122\n",
            "Train set: Average loss: 0.0000, Accuracy: 425/425 (100%)\n",
            "\n",
            "Train Epoch: 19 [9/27 (33%)]\tTrain Loss: 0.000848\n",
            "Train Epoch: 19 [19/27 (70%)]\tTrain Loss: 0.002014\n",
            "Train set: Average loss: 0.0001, Accuracy: 425/425 (100%)\n",
            "\n",
            "Train Epoch: 20 [9/27 (33%)]\tTrain Loss: 0.001580\n",
            "Train Epoch: 20 [19/27 (70%)]\tTrain Loss: 0.001892\n",
            "Train set: Average loss: 0.0000, Accuracy: 425/425 (100%)\n",
            "\n",
            "TP= 42 TN= 43 FN= 16 FP= 17\n",
            "TP+FP 59\n",
            "The epoch is 20, average recall: 0.7241, average precision: 0.7119, average F1: 0.7179, average accuracy: 0.7203, average AUC: 0.8394\n",
            "\n",
            "\n",
            "Train Epoch: 21 [9/27 (33%)]\tTrain Loss: 0.001775\n",
            "Train Epoch: 21 [19/27 (70%)]\tTrain Loss: 0.001183\n",
            "Train set: Average loss: 0.0001, Accuracy: 425/425 (100%)\n",
            "\n",
            "Train Epoch: 22 [9/27 (33%)]\tTrain Loss: 0.000874\n",
            "Train Epoch: 22 [19/27 (70%)]\tTrain Loss: 0.000925\n",
            "Train set: Average loss: 0.0000, Accuracy: 425/425 (100%)\n",
            "\n",
            "Train Epoch: 23 [9/27 (33%)]\tTrain Loss: 0.000468\n",
            "Train Epoch: 23 [19/27 (70%)]\tTrain Loss: 0.000500\n",
            "Train set: Average loss: 0.0000, Accuracy: 425/425 (100%)\n",
            "\n",
            "Train Epoch: 24 [9/27 (33%)]\tTrain Loss: 0.000698\n",
            "Train Epoch: 24 [19/27 (70%)]\tTrain Loss: 0.000864\n",
            "Train set: Average loss: 0.0000, Accuracy: 425/425 (100%)\n",
            "\n",
            "Train Epoch: 25 [9/27 (33%)]\tTrain Loss: 0.000547\n",
            "Train Epoch: 25 [19/27 (70%)]\tTrain Loss: 0.000444\n",
            "Train set: Average loss: 0.0000, Accuracy: 425/425 (100%)\n",
            "\n",
            "TP= 45 TN= 43 FN= 13 FP= 17\n",
            "TP+FP 62\n",
            "The epoch is 25, average recall: 0.7759, average precision: 0.7258, average F1: 0.7500, average accuracy: 0.7458, average AUC: 0.8445\n",
            "\n",
            "\n",
            "Train Epoch: 26 [9/27 (33%)]\tTrain Loss: 0.000790\n",
            "Train Epoch: 26 [19/27 (70%)]\tTrain Loss: 0.000301\n",
            "Train set: Average loss: 0.0000, Accuracy: 425/425 (100%)\n",
            "\n",
            "Train Epoch: 27 [9/27 (33%)]\tTrain Loss: 0.000161\n",
            "Train Epoch: 27 [19/27 (70%)]\tTrain Loss: 0.000455\n",
            "Train set: Average loss: 0.0000, Accuracy: 425/425 (100%)\n",
            "\n",
            "Train Epoch: 28 [9/27 (33%)]\tTrain Loss: 0.000173\n",
            "Train Epoch: 28 [19/27 (70%)]\tTrain Loss: 0.000776\n",
            "Train set: Average loss: 0.0000, Accuracy: 425/425 (100%)\n",
            "\n",
            "Train Epoch: 29 [9/27 (33%)]\tTrain Loss: 0.000285\n",
            "Train Epoch: 29 [19/27 (70%)]\tTrain Loss: 0.000239\n",
            "Train set: Average loss: 0.0000, Accuracy: 425/425 (100%)\n",
            "\n",
            "Train Epoch: 30 [9/27 (33%)]\tTrain Loss: 0.074002\n",
            "Train Epoch: 30 [19/27 (70%)]\tTrain Loss: 0.061483\n",
            "Train set: Average loss: 0.0027, Accuracy: 412/425 (97%)\n",
            "\n",
            "TP= 42 TN= 44 FN= 16 FP= 16\n",
            "TP+FP 58\n",
            "The epoch is 30, average recall: 0.7241, average precision: 0.7241, average F1: 0.7241, average accuracy: 0.7288, average AUC: 0.8267\n",
            "\n",
            "\n",
            "Train Epoch: 31 [9/27 (33%)]\tTrain Loss: 0.429337\n",
            "Train Epoch: 31 [19/27 (70%)]\tTrain Loss: 0.348728\n",
            "Train set: Average loss: 0.0032, Accuracy: 380/425 (89%)\n",
            "\n",
            "Train Epoch: 32 [9/27 (33%)]\tTrain Loss: 0.154292\n",
            "Train Epoch: 32 [19/27 (70%)]\tTrain Loss: 0.146857\n",
            "Train set: Average loss: 0.0039, Accuracy: 395/425 (93%)\n",
            "\n",
            "Train Epoch: 33 [9/27 (33%)]\tTrain Loss: 0.198397\n",
            "Train Epoch: 33 [19/27 (70%)]\tTrain Loss: 0.211889\n",
            "Train set: Average loss: 0.0017, Accuracy: 398/425 (94%)\n",
            "\n",
            "Train Epoch: 34 [9/27 (33%)]\tTrain Loss: 0.091197\n",
            "Train Epoch: 34 [19/27 (70%)]\tTrain Loss: 0.050291\n",
            "Train set: Average loss: 0.0006, Accuracy: 417/425 (98%)\n",
            "\n",
            "Train Epoch: 35 [9/27 (33%)]\tTrain Loss: 0.023166\n",
            "Train Epoch: 35 [19/27 (70%)]\tTrain Loss: 0.084181\n",
            "Train set: Average loss: 0.0005, Accuracy: 419/425 (99%)\n",
            "\n",
            "TP= 47 TN= 37 FN= 11 FP= 23\n",
            "TP+FP 70\n",
            "The epoch is 35, average recall: 0.8103, average precision: 0.6714, average F1: 0.7344, average accuracy: 0.7119, average AUC: 0.8003\n",
            "\n",
            "\n",
            "Train Epoch: 36 [9/27 (33%)]\tTrain Loss: 0.015436\n",
            "Train Epoch: 36 [19/27 (70%)]\tTrain Loss: 0.050711\n",
            "Train set: Average loss: 0.0006, Accuracy: 420/425 (99%)\n",
            "\n",
            "Train Epoch: 37 [9/27 (33%)]\tTrain Loss: 0.129770\n",
            "Train Epoch: 37 [19/27 (70%)]\tTrain Loss: 0.050482\n",
            "Train set: Average loss: 0.0018, Accuracy: 413/425 (97%)\n",
            "\n",
            "Train Epoch: 38 [9/27 (33%)]\tTrain Loss: 0.164836\n",
            "Train Epoch: 38 [19/27 (70%)]\tTrain Loss: 0.298441\n",
            "Train set: Average loss: 0.0022, Accuracy: 394/425 (93%)\n",
            "\n",
            "Train Epoch: 39 [9/27 (33%)]\tTrain Loss: 0.087795\n",
            "Train Epoch: 39 [19/27 (70%)]\tTrain Loss: 0.116952\n",
            "Train set: Average loss: 0.0014, Accuracy: 411/425 (97%)\n",
            "\n",
            "Train Epoch: 40 [9/27 (33%)]\tTrain Loss: 0.061777\n",
            "Train Epoch: 40 [19/27 (70%)]\tTrain Loss: 0.029018\n",
            "Train set: Average loss: 0.0010, Accuracy: 418/425 (98%)\n",
            "\n",
            "TP= 38 TN= 51 FN= 20 FP= 9\n",
            "TP+FP 47\n",
            "The epoch is 40, average recall: 0.6552, average precision: 0.8085, average F1: 0.7238, average accuracy: 0.7542, average AUC: 0.8135\n",
            "\n",
            "\n",
            "Train Epoch: 41 [9/27 (33%)]\tTrain Loss: 0.048304\n",
            "Train Epoch: 41 [19/27 (70%)]\tTrain Loss: 0.048872\n",
            "Train set: Average loss: 0.0020, Accuracy: 416/425 (98%)\n",
            "\n",
            "Train Epoch: 42 [9/27 (33%)]\tTrain Loss: 0.038745\n",
            "Train Epoch: 42 [19/27 (70%)]\tTrain Loss: 0.005992\n",
            "Train set: Average loss: 0.0002, Accuracy: 423/425 (100%)\n",
            "\n",
            "Train Epoch: 43 [9/27 (33%)]\tTrain Loss: 0.005713\n",
            "Train Epoch: 43 [19/27 (70%)]\tTrain Loss: 0.005317\n",
            "Train set: Average loss: 0.0002, Accuracy: 425/425 (100%)\n",
            "\n",
            "Train Epoch: 44 [9/27 (33%)]\tTrain Loss: 0.007096\n",
            "Train Epoch: 44 [19/27 (70%)]\tTrain Loss: 0.002769\n",
            "Train set: Average loss: 0.0000, Accuracy: 425/425 (100%)\n",
            "\n",
            "Train Epoch: 45 [9/27 (33%)]\tTrain Loss: 0.006884\n",
            "Train Epoch: 45 [19/27 (70%)]\tTrain Loss: 0.000807\n",
            "Train set: Average loss: 0.0001, Accuracy: 425/425 (100%)\n",
            "\n",
            "TP= 42 TN= 43 FN= 16 FP= 17\n",
            "TP+FP 59\n",
            "The epoch is 45, average recall: 0.7241, average precision: 0.7119, average F1: 0.7179, average accuracy: 0.7203, average AUC: 0.7937\n",
            "\n",
            "\n",
            "Train Epoch: 46 [9/27 (33%)]\tTrain Loss: 0.002370\n",
            "Train Epoch: 46 [19/27 (70%)]\tTrain Loss: 0.003157\n",
            "Train set: Average loss: 0.0001, Accuracy: 425/425 (100%)\n",
            "\n",
            "Train Epoch: 47 [9/27 (33%)]\tTrain Loss: 0.011368\n",
            "Train Epoch: 47 [19/27 (70%)]\tTrain Loss: 0.020868\n",
            "Train set: Average loss: 0.0002, Accuracy: 423/425 (100%)\n",
            "\n",
            "Train Epoch: 48 [9/27 (33%)]\tTrain Loss: 0.002254\n",
            "Train Epoch: 48 [19/27 (70%)]\tTrain Loss: 0.004071\n",
            "Train set: Average loss: 0.0004, Accuracy: 423/425 (100%)\n",
            "\n",
            "Train Epoch: 49 [9/27 (33%)]\tTrain Loss: 0.003799\n",
            "Train Epoch: 49 [19/27 (70%)]\tTrain Loss: 0.081980\n",
            "Train set: Average loss: 0.0004, Accuracy: 420/425 (99%)\n",
            "\n",
            "Train Epoch: 50 [9/27 (33%)]\tTrain Loss: 0.072790\n",
            "Train Epoch: 50 [19/27 (70%)]\tTrain Loss: 0.071765\n",
            "Train set: Average loss: 0.0018, Accuracy: 413/425 (97%)\n",
            "\n",
            "TP= 43 TN= 42 FN= 15 FP= 18\n",
            "TP+FP 61\n",
            "The epoch is 50, average recall: 0.7414, average precision: 0.7049, average F1: 0.7227, average accuracy: 0.7203, average AUC: 0.7925\n",
            "\n",
            "\n"
          ],
          "name": "stdout"
        }
      ]
    },
    {
      "cell_type": "code",
      "metadata": {
        "id": "Ry8_cAGZd_Tc",
        "colab_type": "code",
        "colab": {
          "base_uri": "https://localhost:8080/"
        },
        "outputId": "cd705c96-16ff-4ccf-9df9-dc8b03b16793"
      },
      "source": [
        "plt.plot(epochs, rs, label='Recall')\n",
        "plt.plot(epochs, ps, label='Precision')\n",
        "plt.plot(epochs, F1s, label='F1')\n",
        "plt.plot(epochs, accs, label='Accuracy')\n",
        "plt.plot(epochs, AUCs, label='AUC')\n",
        "plt.legend()\n",
        "plt.xlabel('Epoch')\n",
        "plt.ylabel('Training result')\n",
        "plt.xticks(epochs)\n",
        "plt.savefig('validation_performance.png')\n",
        "plt.show()"
      ],
      "execution_count": null,
      "outputs": [
        {
          "output_type": "display_data",
          "data": {
            "image/png": "[encoded data removed]",
            "text/plain": [
              "<Figure size 432x288 with 1 Axes>"
            ]
          },
          "metadata": {
            "tags": [],
            "needs_background": "light"
          }
        }
      ]
    },
    {
      "cell_type": "code",
      "metadata": {
        "id": "C8EHaYozB2eY",
        "colab_type": "code",
        "colab": {
          "base_uri": "https://localhost:8080/"
        },
        "outputId": "3f0e66bb-c720-40e1-c04c-e06d5f4c50c6"
      },
      "source": [
        "plt.plot(range(train_epochs_start, train_epochs_end), avg_losses)\n",
        "plt.xlabel('Epoch')\n",
        "plt.ylabel('Average loss')\n",
        "plt.title('Training loss during fine-tuning')\n",
        "plt.savefig('fine-tuning_loss.png')\n",
        "plt.show()"
      ],
      "execution_count": null,
      "outputs": [
        {
          "output_type": "display_data",
          "data": {
            "image/png": "[encoded data removed]",
            "text/plain": [
              "<Figure size 432x288 with 1 Axes>"
            ]
          },
          "metadata": {
            "tags": [],
            "needs_background": "light"
          }
        }
      ]
    },
    {
      "cell_type": "code",
      "metadata": {
        "id": "ItgW8N646F7t",
        "colab_type": "code",
        "colab": {
          "base_uri": "https://localhost:8080/"
        },
        "outputId": "261867cf-528c-44ce-e005-1573aeb0d609"
      },
      "source": [
        "plot_change(model.cpu(), model_old)\n",
        "model = model.cuda()"
      ],
      "execution_count": null,
      "outputs": [
        {
          "output_type": "display_data",
          "data": {
            "image/png": "[encoded data removed]",
            "text/plain": [
              "<Figure size 432x288 with 1 Axes>"
            ]
          },
          "metadata": {
            "tags": [],
            "needs_background": "light"
          }
        },
        {
          "output_type": "display_data",
          "data": {
            "image/png": "[encoded data removed]",
            "text/plain": [
              "<Figure size 432x288 with 1 Axes>"
            ]
          },
          "metadata": {
            "tags": [],
            "needs_background": "light"
          }
        }
      ]
    },
    {
      "cell_type": "code",
      "metadata": {
        "id": "D8UCiEdxb8RH",
        "colab_type": "code",
        "colab": {
          "base_uri": "https://localhost:8080/"
        },
        "outputId": "b5a7f1ce-7744-4dba-cc89-06a09e6150f4"
      },
      "source": [
        "bs = 10\n",
        "\n",
        "        \n",
        "targetlist, scorelist, predlist = predict('test')\n",
        "        \n",
        "TP = ((predlist == 1) & (targetlist == 1)).sum()\n",
        "TN = ((predlist == 0) & (targetlist == 0)).sum()\n",
        "FN = ((predlist == 0) & (targetlist == 1)).sum()\n",
        "FP = ((predlist == 1) & (targetlist == 0)).sum()\n",
        "\n",
        "print('TP=',TP,'TN=',TN,'FN=',FN,'FP=',FP)\n",
        "print('TP+FP',TP+FP)\n",
        "p = TP / (TP + FP)\n",
        "r = TP / (TP + FN)\n",
        "F1 = 2 * r * p / (r + p)\n",
        "acc = (TP + TN) / (TP + TN + FP + FN)\n",
        "AUC = roc_auc_score(targetlist, scorelist)\n",
        "\n",
        "print('Testing, average recall: {:.4f}, average precision: {:.4f}, average F1: {:.4f}, average accuracy: {:.4f}, average AUC: {:.4f}\\n'.format(\n",
        "    r, p, F1, acc, AUC\n",
        "))\n",
        "f = open('model_result/test_{}.txt'.format(modelname), 'a+')\n",
        "f.write('Testing, average recall: {:.4f}, average precision: {:.4f}, average F1: {:.4f}, average accuracy: {:.4f}, average AUC: {:.4f}\\n'.format(\n",
        "    r, p, F1, acc, AUC\n",
        "))\n",
        "f.close()"
      ],
      "execution_count": null,
      "outputs": [
        {
          "output_type": "stream",
          "text": [
            "TP= 101 TN= 19 FN= 4 FP= 79\n",
            "TP+FP 180\n",
            "Testing, average recall: 0.9619, average precision: 0.5611, average F1: 0.7088, average accuracy: 0.5911, average AUC: 0.7397\n",
            "\n"
          ],
          "name": "stdout"
        }
      ]
    },
    {
      "cell_type": "code",
      "metadata": {
        "id": "EEF7V1hCXocU",
        "colab_type": "code",
        "colab": {
          "base_uri": "https://localhost:8080/"
        },
        "outputId": "092a4d42-da5d-4bd5-837d-7034bfdad6d1"
      },
      "source": [
        "model = model.cpu()\n",
        "fig, axes = plt.subplots(2, 4)\n",
        "negatives = 0\n",
        "positives = 0\n",
        "for i in range(len(testset)):\n",
        "    if negatives == 4 and positives == 4:\n",
        "        break\n",
        "    image, label = testset[i]['img'], testset[i]['label']\n",
        "    if label == 0 and negatives < 4:\n",
        "        gradcam(model, image, detransformer, label, axes[0][negatives])\n",
        "        negatives = negatives + 1\n",
        "    elif label == 1 and positives < 4:\n",
        "        gradcam(model, image, detransformer, label, axes[1][positives])\n",
        "        positives = positives + 1\n",
        "\n",
        "fig.savefig('gradcam.png')\n",
        "fig.show()"
      ],
      "execution_count": null,
      "outputs": [
        {
          "output_type": "display_data",
          "data": {
            "image/png": "[encoded data removed]",
            "text/plain": [
              "<Figure size 432x288 with 8 Axes>"
            ]
          },
          "metadata": {
            "tags": []
          }
        }
      ]
    },
    {
      "cell_type": "code",
      "metadata": {
        "id": "OjnRl0n6Xxl5",
        "colab_type": "code",
        "colab": {}
      },
      "source": [
        "torch.save(model.state_dict(), 'fine-tune.pt')"
      ],
      "execution_count": null,
      "outputs": []
    }
  ]
}