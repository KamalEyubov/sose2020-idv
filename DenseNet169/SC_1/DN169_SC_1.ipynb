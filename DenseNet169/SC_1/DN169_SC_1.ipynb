{
  "nbformat": 4,
  "nbformat_minor": 0,
  "metadata": {
    "colab": {
      "name": "DN169_SC_1.ipynb",
      "provenance": [],
      "collapsed_sections": []
    },
    "kernelspec": {
      "name": "python3",
      "display_name": "Python 3"
    },
    "accelerator": "GPU"
  },
  "cells": [
    {
      "cell_type": "markdown",
      "metadata": {
        "id": "B2gRjXONVGaE",
        "colab_type": "text"
      },
      "source": [
        "# Uploading data sets"
      ]
    },
    {
      "cell_type": "code",
      "metadata": {
        "id": "sMXvhlkjQ9fC",
        "colab_type": "code",
        "colab": {
          "base_uri": "https://localhost:8080/",
          "height": 124
        },
        "outputId": "d326b6cf-5078-4b7a-ee80-1c9302f6c134"
      },
      "source": [
        "from google.colab import drive\n",
        "\n",
        "drive.mount('/content/drive/')\n",
        "\n",
        "uploaded = ['/content/drive/My Drive/Images.zip',\n",
        "            '/content/drive/My Drive/Data-split.zip',\n",
        "            '/content/drive/My Drive/LUNA.zip']"
      ],
      "execution_count": null,
      "outputs": [
        {
          "output_type": "stream",
          "text": [
            "Go to this URL in a browser: https://accounts.google.com/o/oauth2/auth?client_id=947318989803-6bn6qk8qdgf4n4g3pfee6491hc0brc4i.apps.googleusercontent.com&redirect_uri=urn%3aietf%3awg%3aoauth%3a2.0%3aoob&response_type=code&scope=email%20https%3a%2f%2fwww.googleapis.com%2fauth%2fdocs.test%20https%3a%2f%2fwww.googleapis.com%2fauth%2fdrive%20https%3a%2f%2fwww.googleapis.com%2fauth%2fdrive.photos.readonly%20https%3a%2f%2fwww.googleapis.com%2fauth%2fpeopleapi.readonly\n",
            "\n",
            "Enter your authorization code:\n",
            "··········\n",
            "Mounted at /content/drive/\n"
          ],
          "name": "stdout"
        }
      ]
    },
    {
      "cell_type": "code",
      "metadata": {
        "id": "_l118nPSNuuO",
        "colab_type": "code",
        "colab": {}
      },
      "source": [
        "#from google.colab import files\n",
        "\n",
        "#uploaded = files.upload()\n",
        "\n",
        "#for f in uploaded:\n",
        "#    print('Uploaded: ' + f)"
      ],
      "execution_count": null,
      "outputs": []
    },
    {
      "cell_type": "code",
      "metadata": {
        "id": "c0qKwGLeSwad",
        "colab_type": "code",
        "colab": {}
      },
      "source": [
        "from zipfile import ZipFile\n",
        "\n",
        "for f in uploaded:\n",
        "    with ZipFile(f, 'r') as zip_ref:\n",
        "        zip_ref.extractall('.')"
      ],
      "execution_count": null,
      "outputs": []
    },
    {
      "cell_type": "markdown",
      "metadata": {
        "id": "j4-UXZvWU6Gq",
        "colab_type": "text"
      },
      "source": [
        "# SSL on COVID-CT"
      ]
    },
    {
      "cell_type": "code",
      "metadata": {
        "id": "nOjQgGMvS7WK",
        "colab_type": "code",
        "colab": {}
      },
      "source": [
        "import os\n",
        "\n",
        "os.mkdir('ssl_backup')\n",
        "os.mkdir('ssl_result')"
      ],
      "execution_count": null,
      "outputs": []
    },
    {
      "cell_type": "code",
      "metadata": {
        "id": "4c6eJ1cFRGol",
        "colab_type": "code",
        "colab": {}
      },
      "source": [
        "import torch\n",
        "import torchvision\n",
        "import torchvision.transforms as transforms\n",
        "import torchvision.datasets as datasets\n",
        "import torch.nn as nn\n",
        "import torch.optim as optim\n",
        "from torchvision.models import densenet169 as DenseNet169\n",
        "from PIL import Image\n",
        "import numpy as np\n",
        "from torch.utils.data import DataLoader, Dataset\n",
        "from matplotlib import pyplot as plt\n",
        "import warnings\n",
        "warnings.filterwarnings('ignore')\n",
        "import torch.nn.functional as F"
      ],
      "execution_count": null,
      "outputs": []
    },
    {
      "cell_type": "code",
      "metadata": {
        "id": "NOjXdfahbG2Y",
        "colab_type": "code",
        "colab": {}
      },
      "source": [
        "torch.manual_seed(42)\n",
        "torch.cuda.manual_seed(42)\n",
        "np.random.seed(42)\n",
        "torch.backends.cudnn.deterministic = True\n",
        "rng = np.random.RandomState(42)"
      ],
      "execution_count": null,
      "outputs": []
    },
    {
      "cell_type": "code",
      "metadata": {
        "id": "ExQ5H08LRVUJ",
        "colab_type": "code",
        "colab": {}
      },
      "source": [
        "torch.cuda.empty_cache()\n",
        "\n",
        "device = 'cuda'\n",
        "batchsize = 16\n",
        "train_epochs_start = 0\n",
        "train_epochs_end = 50"
      ],
      "execution_count": null,
      "outputs": []
    },
    {
      "cell_type": "code",
      "metadata": {
        "id": "hufV3_0NRX7i",
        "colab_type": "code",
        "colab": {}
      },
      "source": [
        "class SimCLR(nn.Module):\n",
        "\n",
        "    def __init__(self, out_dim=128):\n",
        "        super(SimCLR, self).__init__()\n",
        "\n",
        "        densenet = DenseNet169(pretrained=False)\n",
        "        self.features = densenet.features\n",
        "        self.relu = nn.ReLU(inplace=True)\n",
        "        # MLP head\n",
        "        self.classifier = nn.Sequential(\n",
        "            nn.Linear(\n",
        "                densenet.classifier.in_features,\n",
        "                densenet.classifier.in_features,\n",
        "                bias=True\n",
        "            ),\n",
        "            nn.ReLU(),\n",
        "            nn.Linear(\n",
        "                densenet.classifier.in_features,\n",
        "                out_features=out_dim,\n",
        "                bias=True\n",
        "            )\n",
        "        )\n",
        "\n",
        "    def forward(self, x):\n",
        "        out = self.features(x)\n",
        "        out = self.relu(out)\n",
        "        out = F.adaptive_avg_pool2d(out, (1, 1))\n",
        "        out = torch.flatten(out, 1)\n",
        "        out = self.classifier(out)\n",
        "        return out"
      ],
      "execution_count": null,
      "outputs": []
    },
    {
      "cell_type": "code",
      "metadata": {
        "id": "7NLqZtAzShYf",
        "colab_type": "code",
        "colab": {}
      },
      "source": [
        "class NTXentLoss(nn.Module):\n",
        "\n",
        "    def __init__(self):\n",
        "        super(NTXentLoss, self).__init__()\n",
        "        self.masks = dict()\n",
        "        self.similarity_function = torch.nn.CosineSimilarity(dim=-1)\n",
        "        self.criterion = torch.nn.CrossEntropyLoss()\n",
        "\n",
        "    @staticmethod\n",
        "    def get_mask(batch_size):\n",
        "        diag = np.eye(2 * batch_size)\n",
        "        l1 = np.eye(2 * batch_size, k=-batch_size)\n",
        "        l2 = np.eye(2 * batch_size, k=batch_size)\n",
        "        mask = torch.from_numpy(diag + l1 + l2)\n",
        "        mask = (1 - mask).type(torch.bool)\n",
        "        return mask.to(device)\n",
        "\n",
        "    def forward(self, zi, zj, temperature=0.5):\n",
        "\n",
        "        batch_size = zi.shape[-2]\n",
        "        if batch_size not in self.masks:\n",
        "            self.masks[batch_size] = NTXentLoss.get_mask(batch_size)\n",
        "\n",
        "        representations = torch.cat([zi, zj], dim=0)\n",
        "\n",
        "        similarity_matrix = self.similarity_function(\n",
        "            representations.unsqueeze(1),\n",
        "            representations.unsqueeze(0)\n",
        "        )\n",
        "\n",
        "        # filter out the scores from the positive samples\n",
        "        l_pos = torch.diag(similarity_matrix, batch_size)\n",
        "        r_pos = torch.diag(similarity_matrix, -batch_size)\n",
        "        positives = torch.cat([l_pos, r_pos]).view(2 * batch_size, 1)\n",
        "\n",
        "        negatives = similarity_matrix[self.masks[batch_size]].view(2 * batch_size, -1)\n",
        "\n",
        "        logits = torch.cat([positives, negatives], dim=1)\n",
        "        logits /= temperature\n",
        "\n",
        "        labels = torch.zeros(2 * batch_size).to(device).long()\n",
        "        loss = self.criterion(logits, labels)\n",
        "        return loss"
      ],
      "execution_count": null,
      "outputs": []
    },
    {
      "cell_type": "code",
      "metadata": {
        "id": "WCagrxEMSocl",
        "colab_type": "code",
        "colab": {}
      },
      "source": [
        "model = SimCLR()\n",
        "if device == 'cuda':\n",
        "    model = model.cuda()\n",
        "modelname = 'SimCLR'\n",
        "\n",
        "if train_epochs_start > 0:\n",
        "    model.load_state_dict(\n",
        "        torch.load('ssl_backup/{}_{}.pt'.format(\n",
        "            modelname,\n",
        "            train_epochs_start\n",
        "        ))\n",
        "    )"
      ],
      "execution_count": null,
      "outputs": []
    },
    {
      "cell_type": "code",
      "metadata": {
        "id": "jj2jNAR_4Dmc",
        "colab_type": "code",
        "colab": {}
      },
      "source": [
        "stages = ['ssl', 'fine-tuning']\n",
        "stage_id = 0\n",
        "\n",
        "def plot_change(model1, model2):\n",
        "    global stage_id\n",
        "\n",
        "    diff = torch.nn.MSELoss()\n",
        "    norm_w, norm_wx, norm_b, norm_bx, conv_w, conv_wx = [], [], [], [], [], []\n",
        "    i = 0\n",
        "    for (name, parameter1), parameter2 in  zip(model1.named_parameters(), model2.parameters()):\n",
        "        name = name.split(\".\")\n",
        "        if name[-2][:4] == \"conv\":\n",
        "            if name[-1] == \"weight\":\n",
        "                conv_w.append(diff(parameter1, parameter2).item())\n",
        "                conv_wx.append(i)\n",
        "        elif name[-2][:4] == \"norm\":\n",
        "            if name[-1] == \"weight\":\n",
        "                norm_w.append(diff(parameter1, parameter2).item())\n",
        "                norm_wx.append(i)\n",
        "            elif name[-1] == \"bias\":\n",
        "                norm_b.append(diff(parameter1, parameter2).item())\n",
        "                norm_bx.append(i)\n",
        "        i = i + 1\n",
        "\n",
        "    plt.bar(norm_wx, norm_w, label=\"gamma\")\n",
        "    plt.bar(norm_bx, norm_b, label=\"beta\")\n",
        "    plt.legend()\n",
        "    plt.title('Change of parameters at BN layers')\n",
        "    plt.savefig(stages[stage_id] + '_bn_change.png')\n",
        "    plt.show()\n",
        "\n",
        "    plt.bar(conv_wx, conv_w)\n",
        "    plt.title('Change of weights at CONV layers')\n",
        "    plt.savefig(stages[stage_id] + '_conv_change.png')\n",
        "    plt.show()\n",
        "\n",
        "    stage_id = stage_id + 1"
      ],
      "execution_count": null,
      "outputs": []
    },
    {
      "cell_type": "code",
      "metadata": {
        "id": "Rgqp4e2S31zb",
        "colab_type": "code",
        "colab": {
          "base_uri": "https://localhost:8080/",
          "height": 34
        },
        "outputId": "0f7c57b1-a71b-4098-9a6e-14b75def54a1"
      },
      "source": [
        "model_old = SimCLR()\n",
        "model_old.load_state_dict(model.state_dict())"
      ],
      "execution_count": null,
      "outputs": [
        {
          "output_type": "execute_result",
          "data": {
            "text/plain": [
              "<All keys matched successfully>"
            ]
          },
          "metadata": {
            "tags": []
          },
          "execution_count": 12
        }
      ]
    },
    {
      "cell_type": "code",
      "metadata": {
        "id": "UJGaTzSaggz4",
        "colab_type": "code",
        "colab": {}
      },
      "source": [
        "from PIL import ImageFilter\n",
        "import random\n",
        "\n",
        "class GaussianBlur(object):\n",
        "    \"\"\"Gaussian blur augmentation in SimCLR https://arxiv.org/abs/2002.05709\"\"\"\n",
        "\n",
        "    def __init__(self, sigma=[.1, 2.]):\n",
        "        self.sigma = sigma\n",
        "\n",
        "    def __call__(self, x):\n",
        "        sigma = random.uniform(self.sigma[0], self.sigma[1])\n",
        "        x = x.filter(ImageFilter.GaussianBlur(radius=sigma))\n",
        "        return x"
      ],
      "execution_count": null,
      "outputs": []
    },
    {
      "cell_type": "code",
      "metadata": {
        "id": "elECcbjtSzJi",
        "colab_type": "code",
        "colab": {}
      },
      "source": [
        "normalize = transforms.Normalize(\n",
        "    mean=[0.485, 0.456, 0.406],\n",
        "    std=[0.229, 0.224, 0.225]\n",
        ")\n",
        "transformer = transforms.Compose([\n",
        "    transforms.RandomResizedCrop(224, scale=(0.2, 1.)),\n",
        "    transforms.RandomApply([transforms.ColorJitter(0.4, 0.4, 0.4, 0.1)], p=0.8),\n",
        "    transforms.RandomGrayscale(p=0.2),\n",
        "    transforms.RandomApply([GaussianBlur([.1, 2.])], p=0.5),\n",
        "    transforms.RandomHorizontalFlip(),\n",
        "    transforms.ToTensor(),\n",
        "    normalize\n",
        "])"
      ],
      "execution_count": null,
      "outputs": []
    },
    {
      "cell_type": "code",
      "metadata": {
        "id": "QF0rGSxkTxSJ",
        "colab_type": "code",
        "colab": {}
      },
      "source": [
        "def read_txt(txt_path):\n",
        "    with open(txt_path) as f:\n",
        "        lines = f.readlines()\n",
        "    txt_data = [line.strip() for line in lines]\n",
        "    return txt_data\n",
        "\n",
        "class CovidCTDataset(Dataset):\n",
        "    def __init__(self, root_dir, txt_COVID, txt_NonCOVID, transform=transformer):\n",
        "        \"\"\"\n",
        "            Args:\n",
        "                txt_path (string): Path to the txt file with annotations.\n",
        "                root_dir (string): Directory with all the images.\n",
        "                transform (callable, optional): Optional transform to be applied on a sample.\n",
        "            File structure:\n",
        "                - root_dir\n",
        "                    - CT_COVID\n",
        "                        - img1.png\n",
        "                        - img2.png\n",
        "                        - ......\n",
        "                    - CT_NonCOVID\n",
        "                        - img1.png\n",
        "                        - img2.png\n",
        "                        - ......\n",
        "        \"\"\"\n",
        "        self.root_dir = root_dir\n",
        "        self.txt_path = [txt_COVID, txt_NonCOVID]\n",
        "        self.classes = ['CT_COVID', 'CT_NonCOVID']\n",
        "        self.num_cls = len(self.classes)\n",
        "        self.img_list = []\n",
        "        for c in range(self.num_cls):\n",
        "            cls_list = [os.path.join(self.root_dir, self.classes[c], item) for item in read_txt(self.txt_path[c])]\n",
        "            self.img_list += cls_list\n",
        "        self.transform = transform\n",
        "\n",
        "    def __len__(self):\n",
        "        return len(self.img_list)\n",
        "\n",
        "    def __getitem__(self, idx):\n",
        "        if torch.is_tensor(idx):\n",
        "            idx = idx.tolist()\n",
        "\n",
        "        img_path = self.img_list[idx]\n",
        "        image = Image.open(img_path).convert('RGB')\n",
        "\n",
        "        image0 = self.transform(image)\n",
        "        image1 = self.transform(image)\n",
        "\n",
        "        sample = {'img0': image0, 'img1': image1}\n",
        "        return sample"
      ],
      "execution_count": null,
      "outputs": []
    },
    {
      "cell_type": "code",
      "metadata": {
        "id": "bUMBwszWT58_",
        "colab_type": "code",
        "colab": {
          "base_uri": "https://localhost:8080/",
          "height": 34
        },
        "outputId": "43eb4c19-4f56-40ed-ea0c-426448dab415"
      },
      "source": [
        "dataset = CovidCTDataset(\n",
        "    root_dir='Images',\n",
        "    txt_COVID='Data-split/COVID/trainCT_COVID.txt',\n",
        "    txt_NonCOVID='Data-split/NonCOVID/trainCT_NonCOVID.txt',\n",
        "    transform=transformer\n",
        ")\n",
        "print(\"dataset length:\", dataset.__len__())\n",
        "data_loader = DataLoader(dataset, batch_size=batchsize, drop_last=False, shuffle=True)"
      ],
      "execution_count": null,
      "outputs": [
        {
          "output_type": "stream",
          "text": [
            "dataset length: 425\n"
          ],
          "name": "stdout"
        }
      ]
    },
    {
      "cell_type": "code",
      "metadata": {
        "id": "QEznV2iST-kk",
        "colab_type": "code",
        "colab": {}
      },
      "source": [
        "def train(epoch):\n",
        "\n",
        "    model.train()\n",
        "\n",
        "    train_loss = 0\n",
        "\n",
        "    for batch_index, batch_samples in enumerate(data_loader):\n",
        "\n",
        "        # move data to device\n",
        "        data0, data1 = batch_samples['img0'].to(device), batch_samples['img1'].to(device)\n",
        "\n",
        "        output0 = model(data0)\n",
        "        output1 = model(data1)\n",
        "\n",
        "        loss = criteria(output0, output1)\n",
        "        train_loss += loss.item()\n",
        "\n",
        "        optimizer.zero_grad()\n",
        "        loss.backward()\n",
        "        optimizer.step()\n",
        "\n",
        "        # Display progress\n",
        "        if (batch_index + 1) % bs == 0:\n",
        "            print('Train Epoch: {} [{}/{} ({:.0f}%)]'.format(\n",
        "                epoch,\n",
        "                batch_index, len(data_loader),\n",
        "                100.0 * batch_index / len(data_loader)\n",
        "            ))\n",
        "\n",
        "    avg_loss = train_loss / len(data_loader.dataset)\n",
        "    print('Data set: Average loss: {:.4f}'.format(avg_loss))\n",
        "    f = open('ssl_result/train_{}.txt'.format(modelname), 'a+')\n",
        "    f.write('Data set: Average loss: {:.4f}'.format(avg_loss))\n",
        "    f.close()\n",
        "    avg_losses.append(avg_loss)"
      ],
      "execution_count": null,
      "outputs": []
    },
    {
      "cell_type": "code",
      "metadata": {
        "id": "xqKj3yEFUuOZ",
        "colab_type": "code",
        "colab": {
          "base_uri": "https://localhost:8080/",
          "height": 1000
        },
        "outputId": "07c1b75c-adb6-48bc-f163-3d485682b8b3"
      },
      "source": [
        "bs = 10\n",
        "T_checkpoint = 10\n",
        "avg_losses = []\n",
        "\n",
        "criteria = NTXentLoss()\n",
        "optimizer = optim.Adam(model.parameters())\n",
        "\n",
        "for epoch in range(train_epochs_start + 1, train_epochs_end + 1):\n",
        "    train(epoch)\n",
        "    \n",
        "    if epoch % T_checkpoint == 0:\n",
        "        # checkpoint\n",
        "        torch.save(model.state_dict(), 'ssl_backup/{}_{}.pt'.format(modelname, epoch))"
      ],
      "execution_count": null,
      "outputs": [
        {
          "output_type": "stream",
          "text": [
            "Train Epoch: 1 [9/27 (33%)]\n",
            "Train Epoch: 1 [19/27 (70%)]\n",
            "Data set: Average loss: 0.2094\n",
            "Train Epoch: 2 [9/27 (33%)]\n",
            "Train Epoch: 2 [19/27 (70%)]\n",
            "Data set: Average loss: 0.2056\n",
            "Train Epoch: 3 [9/27 (33%)]\n",
            "Train Epoch: 3 [19/27 (70%)]\n",
            "Data set: Average loss: 0.1998\n",
            "Train Epoch: 4 [9/27 (33%)]\n",
            "Train Epoch: 4 [19/27 (70%)]\n",
            "Data set: Average loss: 0.1982\n",
            "Train Epoch: 5 [9/27 (33%)]\n",
            "Train Epoch: 5 [19/27 (70%)]\n",
            "Data set: Average loss: 0.1993\n",
            "Train Epoch: 6 [9/27 (33%)]\n",
            "Train Epoch: 6 [19/27 (70%)]\n",
            "Data set: Average loss: 0.2014\n",
            "Train Epoch: 7 [9/27 (33%)]\n",
            "Train Epoch: 7 [19/27 (70%)]\n",
            "Data set: Average loss: 0.2000\n",
            "Train Epoch: 8 [9/27 (33%)]\n",
            "Train Epoch: 8 [19/27 (70%)]\n",
            "Data set: Average loss: 0.2011\n",
            "Train Epoch: 9 [9/27 (33%)]\n",
            "Train Epoch: 9 [19/27 (70%)]\n",
            "Data set: Average loss: 0.1974\n",
            "Train Epoch: 10 [9/27 (33%)]\n",
            "Train Epoch: 10 [19/27 (70%)]\n",
            "Data set: Average loss: 0.1967\n",
            "Train Epoch: 11 [9/27 (33%)]\n",
            "Train Epoch: 11 [19/27 (70%)]\n",
            "Data set: Average loss: 0.1974\n",
            "Train Epoch: 12 [9/27 (33%)]\n",
            "Train Epoch: 12 [19/27 (70%)]\n",
            "Data set: Average loss: 0.1975\n",
            "Train Epoch: 13 [9/27 (33%)]\n",
            "Train Epoch: 13 [19/27 (70%)]\n",
            "Data set: Average loss: 0.1946\n",
            "Train Epoch: 14 [9/27 (33%)]\n",
            "Train Epoch: 14 [19/27 (70%)]\n",
            "Data set: Average loss: 0.1957\n",
            "Train Epoch: 15 [9/27 (33%)]\n",
            "Train Epoch: 15 [19/27 (70%)]\n",
            "Data set: Average loss: 0.1931\n",
            "Train Epoch: 16 [9/27 (33%)]\n",
            "Train Epoch: 16 [19/27 (70%)]\n",
            "Data set: Average loss: 0.1947\n",
            "Train Epoch: 17 [9/27 (33%)]\n",
            "Train Epoch: 17 [19/27 (70%)]\n",
            "Data set: Average loss: 0.1924\n",
            "Train Epoch: 18 [9/27 (33%)]\n",
            "Train Epoch: 18 [19/27 (70%)]\n",
            "Data set: Average loss: 0.1908\n",
            "Train Epoch: 19 [9/27 (33%)]\n",
            "Train Epoch: 19 [19/27 (70%)]\n",
            "Data set: Average loss: 0.1928\n",
            "Train Epoch: 20 [9/27 (33%)]\n",
            "Train Epoch: 20 [19/27 (70%)]\n",
            "Data set: Average loss: 0.1909\n",
            "Train Epoch: 21 [9/27 (33%)]\n",
            "Train Epoch: 21 [19/27 (70%)]\n",
            "Data set: Average loss: 0.1980\n",
            "Train Epoch: 22 [9/27 (33%)]\n",
            "Train Epoch: 22 [19/27 (70%)]\n",
            "Data set: Average loss: 0.1954\n",
            "Train Epoch: 23 [9/27 (33%)]\n",
            "Train Epoch: 23 [19/27 (70%)]\n",
            "Data set: Average loss: 0.1965\n",
            "Train Epoch: 24 [9/27 (33%)]\n",
            "Train Epoch: 24 [19/27 (70%)]\n",
            "Data set: Average loss: 0.1877\n",
            "Train Epoch: 25 [9/27 (33%)]\n",
            "Train Epoch: 25 [19/27 (70%)]\n",
            "Data set: Average loss: 0.1827\n",
            "Train Epoch: 26 [9/27 (33%)]\n",
            "Train Epoch: 26 [19/27 (70%)]\n",
            "Data set: Average loss: 0.1865\n",
            "Train Epoch: 27 [9/27 (33%)]\n",
            "Train Epoch: 27 [19/27 (70%)]\n",
            "Data set: Average loss: 0.1865\n",
            "Train Epoch: 28 [9/27 (33%)]\n",
            "Train Epoch: 28 [19/27 (70%)]\n",
            "Data set: Average loss: 0.1840\n",
            "Train Epoch: 29 [9/27 (33%)]\n",
            "Train Epoch: 29 [19/27 (70%)]\n",
            "Data set: Average loss: 0.1818\n",
            "Train Epoch: 30 [9/27 (33%)]\n",
            "Train Epoch: 30 [19/27 (70%)]\n",
            "Data set: Average loss: 0.1841\n",
            "Train Epoch: 31 [9/27 (33%)]\n",
            "Train Epoch: 31 [19/27 (70%)]\n",
            "Data set: Average loss: 0.1808\n",
            "Train Epoch: 32 [9/27 (33%)]\n",
            "Train Epoch: 32 [19/27 (70%)]\n",
            "Data set: Average loss: 0.1821\n",
            "Train Epoch: 33 [9/27 (33%)]\n",
            "Train Epoch: 33 [19/27 (70%)]\n",
            "Data set: Average loss: 0.1772\n",
            "Train Epoch: 34 [9/27 (33%)]\n",
            "Train Epoch: 34 [19/27 (70%)]\n",
            "Data set: Average loss: 0.1823\n",
            "Train Epoch: 35 [9/27 (33%)]\n",
            "Train Epoch: 35 [19/27 (70%)]\n",
            "Data set: Average loss: 0.1807\n",
            "Train Epoch: 36 [9/27 (33%)]\n",
            "Train Epoch: 36 [19/27 (70%)]\n",
            "Data set: Average loss: 0.1759\n",
            "Train Epoch: 37 [9/27 (33%)]\n",
            "Train Epoch: 37 [19/27 (70%)]\n",
            "Data set: Average loss: 0.1783\n",
            "Train Epoch: 38 [9/27 (33%)]\n",
            "Train Epoch: 38 [19/27 (70%)]\n",
            "Data set: Average loss: 0.1720\n",
            "Train Epoch: 39 [9/27 (33%)]\n",
            "Train Epoch: 39 [19/27 (70%)]\n",
            "Data set: Average loss: 0.1697\n",
            "Train Epoch: 40 [9/27 (33%)]\n",
            "Train Epoch: 40 [19/27 (70%)]\n",
            "Data set: Average loss: 0.1754\n",
            "Train Epoch: 41 [9/27 (33%)]\n",
            "Train Epoch: 41 [19/27 (70%)]\n",
            "Data set: Average loss: 0.1710\n",
            "Train Epoch: 42 [9/27 (33%)]\n",
            "Train Epoch: 42 [19/27 (70%)]\n",
            "Data set: Average loss: 0.1704\n",
            "Train Epoch: 43 [9/27 (33%)]\n",
            "Train Epoch: 43 [19/27 (70%)]\n",
            "Data set: Average loss: 0.1666\n",
            "Train Epoch: 44 [9/27 (33%)]\n",
            "Train Epoch: 44 [19/27 (70%)]\n",
            "Data set: Average loss: 0.1677\n",
            "Train Epoch: 45 [9/27 (33%)]\n",
            "Train Epoch: 45 [19/27 (70%)]\n",
            "Data set: Average loss: 0.1698\n",
            "Train Epoch: 46 [9/27 (33%)]\n",
            "Train Epoch: 46 [19/27 (70%)]\n",
            "Data set: Average loss: 0.1665\n",
            "Train Epoch: 47 [9/27 (33%)]\n",
            "Train Epoch: 47 [19/27 (70%)]\n",
            "Data set: Average loss: 0.1686\n",
            "Train Epoch: 48 [9/27 (33%)]\n",
            "Train Epoch: 48 [19/27 (70%)]\n",
            "Data set: Average loss: 0.1624\n",
            "Train Epoch: 49 [9/27 (33%)]\n",
            "Train Epoch: 49 [19/27 (70%)]\n",
            "Data set: Average loss: 0.1631\n",
            "Train Epoch: 50 [9/27 (33%)]\n",
            "Train Epoch: 50 [19/27 (70%)]\n",
            "Data set: Average loss: 0.1670\n"
          ],
          "name": "stdout"
        }
      ]
    },
    {
      "cell_type": "code",
      "metadata": {
        "id": "VrpziWn-Zp41",
        "colab_type": "code",
        "colab": {
          "base_uri": "https://localhost:8080/",
          "height": 279
        },
        "outputId": "e25eb7df-fea8-4379-9ccc-98b4a187aa9e"
      },
      "source": [
        "plt.plot(range(train_epochs_start, train_epochs_end), avg_losses)\n",
        "plt.xlabel('Epoch')\n",
        "plt.ylabel('Average loss')\n",
        "plt.savefig('ssl_loss.png')\n",
        "plt.show()"
      ],
      "execution_count": null,
      "outputs": [
        {
          "output_type": "display_data",
          "data": {
            "image/png": "[encoded data removed]",
            "text/plain": [
              "<Figure size 432x288 with 1 Axes>"
            ]
          },
          "metadata": {
            "tags": [],
            "needs_background": "light"
          }
        }
      ]
    },
    {
      "cell_type": "code",
      "metadata": {
        "id": "fg3uTLE64sWv",
        "colab_type": "code",
        "colab": {
          "base_uri": "https://localhost:8080/",
          "height": 545
        },
        "outputId": "3ec51277-bca3-45c6-dbc1-2bf4516dab1a"
      },
      "source": [
        "plot_change(model.cpu(), model_old)"
      ],
      "execution_count": null,
      "outputs": [
        {
          "output_type": "display_data",
          "data": {
            "image/png": "[encoded data removed]",
            "text/plain": [
              "<Figure size 432x288 with 1 Axes>"
            ]
          },
          "metadata": {
            "tags": [],
            "needs_background": "light"
          }
        },
        {
          "output_type": "display_data",
          "data": {
            "image/png": "[encoded data removed]",
            "text/plain": [
              "<Figure size 432x288 with 1 Axes>"
            ]
          },
          "metadata": {
            "tags": [],
            "needs_background": "light"
          }
        }
      ]
    },
    {
      "cell_type": "code",
      "metadata": {
        "id": "o3F9rYRWJJ4Q",
        "colab_type": "code",
        "colab": {}
      },
      "source": [
        "torch.save(model.state_dict(), 'ssl.pt')"
      ],
      "execution_count": null,
      "outputs": []
    },
    {
      "cell_type": "markdown",
      "metadata": {
        "id": "UL-6QwIxVly8",
        "colab_type": "text"
      },
      "source": [
        "# Fine-tuning the model on the final task"
      ]
    },
    {
      "cell_type": "code",
      "metadata": {
        "id": "UM3YSCm4xvdo",
        "colab_type": "code",
        "colab": {}
      },
      "source": [
        "os.mkdir('model_backup')\n",
        "os.mkdir('model_result')"
      ],
      "execution_count": null,
      "outputs": []
    },
    {
      "cell_type": "code",
      "metadata": {
        "id": "73lpUvPqbOyE",
        "colab_type": "code",
        "colab": {}
      },
      "source": [
        "torch.manual_seed(42)\n",
        "torch.cuda.manual_seed(42)\n",
        "np.random.seed(42)\n",
        "torch.backends.cudnn.deterministic = True\n",
        "rng = np.random.RandomState(42)"
      ],
      "execution_count": null,
      "outputs": []
    },
    {
      "cell_type": "code",
      "metadata": {
        "id": "-m_h5UYgVqkK",
        "colab_type": "code",
        "colab": {}
      },
      "source": [
        "from sklearn.metrics import roc_auc_score\n",
        "import torch.nn.functional as F\n",
        "\n",
        "torch.cuda.empty_cache()\n",
        "\n",
        "\n",
        "batchsize = 16\n",
        "train_epochs_start = 0\n",
        "train_epochs_end = 50\n",
        "ssl_epochs = 50"
      ],
      "execution_count": null,
      "outputs": []
    },
    {
      "cell_type": "code",
      "metadata": {
        "id": "xf3wtjzuWqQ4",
        "colab_type": "code",
        "colab": {}
      },
      "source": [
        "class FineTune(torch.nn.Module):\n",
        "    def __init__(self, ssl_model, out_dim=2):\n",
        "        super(FineTune, self).__init__()\n",
        "\n",
        "        self.features = ssl_model.features\n",
        "        self.relu = nn.ReLU(inplace=True)\n",
        "        self.classifier = nn.Linear(\n",
        "            ssl_model.classifier[0].in_features,\n",
        "            out_features=out_dim,\n",
        "            bias=True\n",
        "        )\n",
        "\n",
        "    def forward(self, x):\n",
        "        out = self.features(x)\n",
        "        out = self.relu(out)\n",
        "        out = F.adaptive_avg_pool2d(out, (1, 1))\n",
        "        out = torch.flatten(out, 1)\n",
        "        out = self.classifier(out)\n",
        "        return out"
      ],
      "execution_count": null,
      "outputs": []
    },
    {
      "cell_type": "code",
      "metadata": {
        "id": "IN0NdcwAXCQi",
        "colab_type": "code",
        "colab": {}
      },
      "source": [
        "model = SimCLR()\n",
        "modelname = 'SimCLR'\n",
        "\n",
        "if train_epochs_start > 0:\n",
        "    model = FineTune(model)\n",
        "    modelname = 'FineTune'\n",
        "    model.load_state_dict(\n",
        "        torch.load('model_backup/{}_{}.pt'.format(\n",
        "            modelname,\n",
        "            train_epochs_start\n",
        "        ))\n",
        "    )\n",
        "else:\n",
        "    model.load_state_dict(\n",
        "        torch.load('ssl_backup/{}_{}.pt'.format(\n",
        "            modelname,\n",
        "            ssl_epochs\n",
        "        ))\n",
        "    )\n",
        "    model = FineTune(model)\n",
        "    modelname = 'FineTune'\n",
        "\n",
        "if device == 'cuda':\n",
        "    model = model.cuda()"
      ],
      "execution_count": null,
      "outputs": []
    },
    {
      "cell_type": "code",
      "metadata": {
        "id": "ZvTjBgqw5ERG",
        "colab_type": "code",
        "colab": {
          "base_uri": "https://localhost:8080/",
          "height": 34
        },
        "outputId": "b8733b41-38f9-4fc0-e28f-badd133f1b9e"
      },
      "source": [
        "model_old = FineTune(SimCLR())\n",
        "model_old.load_state_dict(model.state_dict())"
      ],
      "execution_count": null,
      "outputs": [
        {
          "output_type": "execute_result",
          "data": {
            "text/plain": [
              "<All keys matched successfully>"
            ]
          },
          "metadata": {
            "tags": []
          },
          "execution_count": 29
        }
      ]
    },
    {
      "cell_type": "code",
      "metadata": {
        "id": "TaZQvb8eXI19",
        "colab_type": "code",
        "colab": {}
      },
      "source": [
        "normalize = transforms.Normalize(\n",
        "    mean=[0.45271412, 0.45271412, 0.45271412],\n",
        "    std=[0.33165374, 0.33165374, 0.33165374]\n",
        ")\n",
        "train_transformer = transforms.Compose([\n",
        "    transforms.Resize((224, 224)),\n",
        "    transforms.ToTensor(),\n",
        "    normalize\n",
        "])\n",
        "\n",
        "val_transformer = transforms.Compose([\n",
        "    transforms.Resize((224, 224)),\n",
        "    transforms.ToTensor(),\n",
        "    normalize\n",
        "])\n",
        "\n",
        "detransformer = torchvision.transforms.Compose([\n",
        "    lambda image_tensor : image_tensor * torch.tensor([0.33165374, 0.33165374, 0.33165374])[:, None, None],\n",
        "    lambda image_tensor : image_tensor + torch.tensor([0.45271412, 0.45271412, 0.45271412])[:, None, None],\n",
        "    torchvision.transforms.ToPILImage()\n",
        "])"
      ],
      "execution_count": null,
      "outputs": []
    },
    {
      "cell_type": "code",
      "metadata": {
        "id": "81h-l8_oJrUr",
        "colab_type": "code",
        "colab": {}
      },
      "source": [
        "def gradcam(model, input_tensor, detransform, label, axis):\n",
        "\n",
        "\t# Activations are saved.\n",
        "\tactivations = dict() # one-key dictionary. Doesn't work otherwise.\n",
        "\tdef get_activations(name):\n",
        "\t\tdef hook(module, input, output):\n",
        "\t\t\tactivations[name] = output.detach()\n",
        "\t\treturn hook\n",
        "\n",
        "\t# Gradients are saved.\n",
        "\tgrads = dict() # same as for activations\n",
        "\tdef get_grads(name):\n",
        "\t\tdef hook(module, grad_input, grad_output):\n",
        "\t\t\tgrads[name] = grad_output[0].detach() # is a tuple\n",
        "\t\treturn hook\n",
        "\n",
        "\tinput_batch = input_tensor.unsqueeze(0) # a batch of one\n",
        "\n",
        "\tfrw_handle = model.relu.register_forward_hook(get_activations(\"features\"))\n",
        "\tbck_handle = model.relu.register_backward_hook(get_grads(\"features\"))\n",
        "\n",
        "\tmodel.eval()\n",
        "\tmodel.zero_grad()\n",
        "\toutput_batch = model(input_batch)\n",
        "\toutput_batch[0][label].backward()\n",
        "\n",
        "\tfrw_handle.remove()\n",
        "\tbck_handle.remove()\n",
        "\n",
        "\tactivations = activations[\"features\"]\n",
        "\tgrads = grads[\"features\"]\n",
        "\n",
        "\tgrads = torch.mean(grads, dim=(-2, -1), keepdims=True) # gradients are pooled\n",
        "\tgrad_cam = activations * grads\n",
        "\tgrad_cam = torch.sum(grad_cam, dim=-3) # weighted sum\n",
        "\tgrad_cam = torch.nn.functional.relu(grad_cam) # relu'd weighted sum\n",
        "\tgrad_cam = grad_cam / grad_cam.max() # normalization\n",
        "\tgrad_cam = grad_cam[0] # squeezing the batch of one\n",
        "\n",
        "\taxis.imshow(detransform(input_tensor).resize((224, 224)), alpha=1.0)\n",
        "\t# Grad-CAM is resized to 224x224 via bilinear interpolation and mapped to 'JET' colormap to be superimposed on the original image.\n",
        "\taxis.imshow(torchvision.transforms.ToPILImage()(grad_cam).resize((224, 224), resample=Image.BILINEAR), cmap='jet', alpha=0.5)\n",
        "\taxis.set_xticks([])\n",
        "\taxis.set_yticks([])"
      ],
      "execution_count": null,
      "outputs": []
    },
    {
      "cell_type": "code",
      "metadata": {
        "id": "LTrQkcmUY79K",
        "colab_type": "code",
        "colab": {}
      },
      "source": [
        "# This definition overrides the previous one\n",
        "class CovidCTDataset(Dataset):\n",
        "    def __init__(self, root_dir, txt_COVID, txt_NonCOVID, transform=None):\n",
        "        \"\"\"\n",
        "            Args:\n",
        "                txt_path (string): Path to the txt file with annotations.\n",
        "                root_dir (string): Directory with all the images.\n",
        "                transform (callable, optional): Optional transform to be applied on a sample.\n",
        "            File structure:\n",
        "                - root_dir\n",
        "                    - CT_COVID\n",
        "                        - img1.png\n",
        "                        - img2.png\n",
        "                        - ......\n",
        "                    - CT_NonCOVID\n",
        "                        - img1.png\n",
        "                        - img2.png\n",
        "                        - ......\n",
        "        \"\"\"\n",
        "        self.root_dir = root_dir\n",
        "        self.txt_path = [txt_COVID, txt_NonCOVID]\n",
        "        self.classes = ['CT_COVID', 'CT_NonCOVID']\n",
        "        self.num_cls = len(self.classes)\n",
        "        self.img_list = []\n",
        "        for c in range(self.num_cls):\n",
        "            cls_list = [[os.path.join(self.root_dir, self.classes[c], item), c] for item in read_txt(self.txt_path[c])]\n",
        "            self.img_list += cls_list\n",
        "        self.transform = transform\n",
        "\n",
        "    def __len__(self):\n",
        "        return len(self.img_list)\n",
        "\n",
        "    def __getitem__(self, idx):\n",
        "        if torch.is_tensor(idx):\n",
        "            idx = idx.tolist()\n",
        "\n",
        "        img_path = self.img_list[idx][0]\n",
        "        image = Image.open(img_path).convert('RGB')\n",
        "\n",
        "        if self.transform:\n",
        "            image = self.transform(image)\n",
        "        sample = {'img': image, 'label': int(self.img_list[idx][1])}\n",
        "        return sample"
      ],
      "execution_count": null,
      "outputs": []
    },
    {
      "cell_type": "code",
      "metadata": {
        "id": "k4Qa6jqRZNWc",
        "colab_type": "code",
        "colab": {
          "base_uri": "https://localhost:8080/",
          "height": 69
        },
        "outputId": "eb44d76e-b884-4c24-d968-cbe8f2b1f086"
      },
      "source": [
        "trainset = CovidCTDataset(\n",
        "    root_dir='Images',\n",
        "    txt_COVID='Data-split/COVID/trainCT_COVID.txt',\n",
        "    txt_NonCOVID='Data-split/NonCOVID/trainCT_NonCOVID.txt',\n",
        "    transform=train_transformer\n",
        ")\n",
        "valset = CovidCTDataset(\n",
        "    root_dir='Images',\n",
        "    txt_COVID='Data-split/COVID/valCT_COVID.txt',\n",
        "    txt_NonCOVID='Data-split/NonCOVID/valCT_NonCOVID.txt',\n",
        "    transform=val_transformer\n",
        ")\n",
        "testset = CovidCTDataset(\n",
        "    root_dir='Images',\n",
        "    txt_COVID='Data-split/COVID/testCT_COVID.txt',\n",
        "    txt_NonCOVID='Data-split/NonCOVID/testCT_NonCOVID.txt',\n",
        "    transform=val_transformer\n",
        ")\n",
        "print(\"trainset length:\", trainset.__len__())\n",
        "print(\"valset length:\", valset.__len__())\n",
        "print(\"testset length:\", testset.__len__())\n",
        "\n",
        "train_loader = DataLoader(trainset, batch_size=batchsize, drop_last=False, shuffle=True)\n",
        "val_loader = DataLoader(valset, batch_size=batchsize, drop_last=False, shuffle=False)\n",
        "test_loader = DataLoader(testset, batch_size=batchsize, drop_last=False, shuffle=False)"
      ],
      "execution_count": null,
      "outputs": [
        {
          "output_type": "stream",
          "text": [
            "trainset length: 425\n",
            "valset length: 118\n",
            "testset length: 203\n"
          ],
          "name": "stdout"
        }
      ]
    },
    {
      "cell_type": "code",
      "metadata": {
        "id": "osuxQYhYaV24",
        "colab_type": "code",
        "colab": {}
      },
      "source": [
        "def train(epoch):\n",
        "        \n",
        "    model.train()\n",
        "        \n",
        "    train_loss = 0\n",
        "    train_correct = 0\n",
        "        \n",
        "    for batch_index, batch_samples in enumerate(train_loader):\n",
        "                \n",
        "        # move data to device\n",
        "        data, target = batch_samples['img'].to(device), batch_samples['label'].to(device)\n",
        "\n",
        "        output = model(data)\n",
        "        loss = criteria(output, target.long())\n",
        "        train_loss += loss.item()\n",
        "                \n",
        "        optimizer.zero_grad()\n",
        "        loss.backward()\n",
        "        optimizer.step()\n",
        "\n",
        "        pred = output.argmax(dim=1)\n",
        "        train_correct += (pred == target).sum().item()\n",
        "        \n",
        "        # Display progress\n",
        "        if (batch_index + 1) % bs == 0:\n",
        "            print('Train Epoch: {} [{}/{} ({:.0f}%)]\\tTrain Loss: {:.6f}'.format(\n",
        "                epoch,\n",
        "                batch_index, len(train_loader),\n",
        "                100.0 * batch_index / len(train_loader),\n",
        "                train_loss / bs\n",
        "            ))\n",
        "            train_loss = 0\n",
        "        \n",
        "    avg_loss = train_loss / len(train_loader.dataset)\n",
        "    accuracy = 100.0 * train_correct / len(train_loader.dataset)\n",
        "    print('Train set: Average loss: {:.4f}, Accuracy: {}/{} ({:.0f}%)\\n'.format(\n",
        "        avg_loss,\n",
        "        train_correct, len(train_loader.dataset),\n",
        "        accuracy\n",
        "    ))\n",
        "    f = open('model_result/train_{}.txt'.format(modelname), 'a+')\n",
        "    f.write('Train set: Average loss: {:.4f}, Accuracy: {}/{} ({:.0f}%)\\n'.format(\n",
        "        avg_loss,\n",
        "        train_correct, len(train_loader.dataset),\n",
        "        accuracy\n",
        "    ))\n",
        "    f.close()\n",
        "    avg_losses.append(avg_loss)"
      ],
      "execution_count": null,
      "outputs": []
    },
    {
      "cell_type": "code",
      "metadata": {
        "id": "g_vy2_XrbIN5",
        "colab_type": "code",
        "colab": {}
      },
      "source": [
        " def predict(mode):\n",
        "    '''\n",
        "        mode:\n",
        "            either 'val' or 'train'\n",
        "    '''\n",
        "    loader = val_loader if mode == 'val' else test_loader\n",
        "        \n",
        "    model.eval()\n",
        "\n",
        "    predlist=[]\n",
        "    scorelist=[]\n",
        "    targetlist=[]\n",
        "        \n",
        "    # Don't update model\n",
        "    with torch.no_grad():\n",
        "        # Predict\n",
        "        for batch_index, batch_samples in enumerate(loader):\n",
        "            data, target = batch_samples['img'].to(device), batch_samples['label'].to(device)\n",
        "            output = model(data)\n",
        "                        \n",
        "            score = F.softmax(output, dim=1)\n",
        "            pred = output.argmax(dim=1)\n",
        "\n",
        "            targetcpu=target.long().cpu().numpy()\n",
        "            predlist=np.append(predlist, pred.cpu().numpy())\n",
        "            scorelist=np.append(scorelist, score.cpu().numpy()[:,1]) # percentages for positive\n",
        "            targetlist=np.append(targetlist, targetcpu)\n",
        "                                  \n",
        "    return targetlist, scorelist, predlist"
      ],
      "execution_count": null,
      "outputs": []
    },
    {
      "cell_type": "code",
      "metadata": {
        "id": "8pUgTKSObbsZ",
        "colab_type": "code",
        "colab": {
          "base_uri": "https://localhost:8080/",
          "height": 1000
        },
        "outputId": "6dcc1686-43ef-441c-bbd2-4512d8936ee2"
      },
      "source": [
        "bs = 10\n",
        "votenum = 5\n",
        "epochs, rs, ps, F1s, accs, AUCs = [], [], [], [], [], []\n",
        "avg_losses = []\n",
        "\n",
        "vote_pred = np.zeros(valset.__len__())\n",
        "vote_score = np.zeros(valset.__len__())\n",
        "\n",
        "criteria = nn.CrossEntropyLoss()\n",
        "optimizer = optim.Adam(model.parameters())\n",
        "\n",
        "for epoch in range(train_epochs_start + 1, train_epochs_end + 1):\n",
        "    train(epoch)\n",
        "\n",
        "    targetlist, scorelist, predlist = predict('val')\n",
        "    vote_pred = vote_pred + predlist\n",
        "    vote_score = vote_score + scorelist\n",
        "\n",
        "    if epoch % votenum == 0:\n",
        "        # checkpoint\n",
        "        torch.save(model.state_dict(), \"model_backup/{}_{}.pt\".format(modelname, epoch))\n",
        "                \n",
        "        # major vote\n",
        "        vote_pred[vote_pred <=  (votenum / 2)] = 0\n",
        "        vote_pred[vote_pred >   (votenum / 2)] = 1\n",
        "        vote_score = vote_score / votenum\n",
        "\n",
        "        TP = ((vote_pred == 1) & (targetlist == 1)).sum()\n",
        "        TN = ((vote_pred == 0) & (targetlist == 0)).sum()\n",
        "        FN = ((vote_pred == 0) & (targetlist == 1)).sum()\n",
        "        FP = ((vote_pred == 1) & (targetlist == 0)).sum()\n",
        "                \n",
        "        print('TP=',TP,'TN=',TN,'FN=',FN,'FP=',FP)\n",
        "        print('TP+FP',TP + FP)\n",
        "        p = TP / (TP + FP)\n",
        "        r = TP / (TP + FN)\n",
        "        F1 = 2 * r * p / (r + p)\n",
        "        acc = (TP + TN) / (TP + TN + FP + FN)\n",
        "        AUC = roc_auc_score(targetlist, vote_score)\n",
        "\n",
        "        print('The epoch is {}, average recall: {:.4f}, average precision: {:.4f}, average F1: {:.4f}, average accuracy: {:.4f}, average AUC: {:.4f}\\n\\n'.format(\n",
        "            epoch, r, p, F1, acc, AUC\n",
        "        ))\n",
        "        f = open('model_result/train_{}.txt'.format(modelname), 'a+')\n",
        "        f.write('The epoch is {}, average recall: {:.4f}, average precision: {:.4f}, average F1: {:.4f}, average accuracy: {:.4f}, average AUC: {:.4f}\\n\\n'.format(\n",
        "            epoch, r, p, F1, acc, AUC\n",
        "        ))\n",
        "        f.close()\n",
        "\n",
        "        epochs.append(epoch)\n",
        "        rs.append(r)\n",
        "        ps.append(p)\n",
        "        F1s.append(F1)\n",
        "        accs.append(acc)\n",
        "        AUCs.append(AUC)\n",
        "                \n",
        "        vote_pred = np.zeros(valset.__len__())\n",
        "        vote_score = np.zeros(valset.__len__())\n"
      ],
      "execution_count": null,
      "outputs": [
        {
          "output_type": "stream",
          "text": [
            "Train Epoch: 1 [9/27 (33%)]\tTrain Loss: 0.703839\n",
            "Train Epoch: 1 [19/27 (70%)]\tTrain Loss: 0.647874\n",
            "Train set: Average loss: 0.0091, Accuracy: 253/425 (60%)\n",
            "\n",
            "Train Epoch: 2 [9/27 (33%)]\tTrain Loss: 0.509410\n",
            "Train Epoch: 2 [19/27 (70%)]\tTrain Loss: 0.460045\n",
            "Train set: Average loss: 0.0083, Accuracy: 326/425 (77%)\n",
            "\n",
            "Train Epoch: 3 [9/27 (33%)]\tTrain Loss: 0.442791\n",
            "Train Epoch: 3 [19/27 (70%)]\tTrain Loss: 0.552859\n",
            "Train set: Average loss: 0.0087, Accuracy: 318/425 (75%)\n",
            "\n",
            "Train Epoch: 4 [9/27 (33%)]\tTrain Loss: 0.544987\n",
            "Train Epoch: 4 [19/27 (70%)]\tTrain Loss: 0.413525\n",
            "Train set: Average loss: 0.0072, Accuracy: 334/425 (79%)\n",
            "\n",
            "Train Epoch: 5 [9/27 (33%)]\tTrain Loss: 0.482172\n",
            "Train Epoch: 5 [19/27 (70%)]\tTrain Loss: 0.487464\n",
            "Train set: Average loss: 0.0073, Accuracy: 328/425 (77%)\n",
            "\n",
            "TP= 42 TN= 40 FN= 16 FP= 20\n",
            "TP+FP 62\n",
            "The epoch is 5, average recall: 0.7241, average precision: 0.6774, average F1: 0.7000, average accuracy: 0.6949, average AUC: 0.7480\n",
            "\n",
            "\n",
            "Train Epoch: 6 [9/27 (33%)]\tTrain Loss: 0.461494\n",
            "Train Epoch: 6 [19/27 (70%)]\tTrain Loss: 0.361346\n",
            "Train set: Average loss: 0.0075, Accuracy: 346/425 (81%)\n",
            "\n",
            "Train Epoch: 7 [9/27 (33%)]\tTrain Loss: 0.340612\n",
            "Train Epoch: 7 [19/27 (70%)]\tTrain Loss: 0.354467\n",
            "Train set: Average loss: 0.0042, Accuracy: 368/425 (87%)\n",
            "\n",
            "Train Epoch: 8 [9/27 (33%)]\tTrain Loss: 0.341276\n",
            "Train Epoch: 8 [19/27 (70%)]\tTrain Loss: 0.307859\n",
            "Train set: Average loss: 0.0034, Accuracy: 377/425 (89%)\n",
            "\n",
            "Train Epoch: 9 [9/27 (33%)]\tTrain Loss: 0.237620\n",
            "Train Epoch: 9 [19/27 (70%)]\tTrain Loss: 0.301185\n",
            "Train set: Average loss: 0.0066, Accuracy: 365/425 (86%)\n",
            "\n",
            "Train Epoch: 10 [9/27 (33%)]\tTrain Loss: 0.320408\n",
            "Train Epoch: 10 [19/27 (70%)]\tTrain Loss: 0.234194\n",
            "Train set: Average loss: 0.0057, Accuracy: 368/425 (87%)\n",
            "\n",
            "TP= 41 TN= 38 FN= 17 FP= 22\n",
            "TP+FP 63\n",
            "The epoch is 10, average recall: 0.7069, average precision: 0.6508, average F1: 0.6777, average accuracy: 0.6695, average AUC: 0.7641\n",
            "\n",
            "\n",
            "Train Epoch: 11 [9/27 (33%)]\tTrain Loss: 0.215239\n",
            "Train Epoch: 11 [19/27 (70%)]\tTrain Loss: 0.219432\n",
            "Train set: Average loss: 0.0037, Accuracy: 384/425 (90%)\n",
            "\n",
            "Train Epoch: 12 [9/27 (33%)]\tTrain Loss: 0.143618\n",
            "Train Epoch: 12 [19/27 (70%)]\tTrain Loss: 0.304251\n",
            "Train set: Average loss: 0.0062, Accuracy: 372/425 (88%)\n",
            "\n",
            "Train Epoch: 13 [9/27 (33%)]\tTrain Loss: 0.222499\n",
            "Train Epoch: 13 [19/27 (70%)]\tTrain Loss: 0.215317\n",
            "Train set: Average loss: 0.0040, Accuracy: 382/425 (90%)\n",
            "\n",
            "Train Epoch: 14 [9/27 (33%)]\tTrain Loss: 0.186714\n",
            "Train Epoch: 14 [19/27 (70%)]\tTrain Loss: 0.172350\n",
            "Train set: Average loss: 0.0053, Accuracy: 386/425 (91%)\n",
            "\n",
            "Train Epoch: 15 [9/27 (33%)]\tTrain Loss: 0.274222\n",
            "Train Epoch: 15 [19/27 (70%)]\tTrain Loss: 0.109538\n",
            "Train set: Average loss: 0.0028, Accuracy: 395/425 (93%)\n",
            "\n",
            "TP= 44 TN= 37 FN= 14 FP= 23\n",
            "TP+FP 67\n",
            "The epoch is 15, average recall: 0.7586, average precision: 0.6567, average F1: 0.7040, average accuracy: 0.6864, average AUC: 0.7888\n",
            "\n",
            "\n",
            "Train Epoch: 16 [9/27 (33%)]\tTrain Loss: 0.087933\n",
            "Train Epoch: 16 [19/27 (70%)]\tTrain Loss: 0.100790\n",
            "Train set: Average loss: 0.0019, Accuracy: 407/425 (96%)\n",
            "\n",
            "Train Epoch: 17 [9/27 (33%)]\tTrain Loss: 0.076881\n",
            "Train Epoch: 17 [19/27 (70%)]\tTrain Loss: 0.093545\n",
            "Train set: Average loss: 0.0020, Accuracy: 411/425 (97%)\n",
            "\n",
            "Train Epoch: 18 [9/27 (33%)]\tTrain Loss: 0.094090\n",
            "Train Epoch: 18 [19/27 (70%)]\tTrain Loss: 0.090144\n",
            "Train set: Average loss: 0.0026, Accuracy: 409/425 (96%)\n",
            "\n",
            "Train Epoch: 19 [9/27 (33%)]\tTrain Loss: 0.157152\n",
            "Train Epoch: 19 [19/27 (70%)]\tTrain Loss: 0.167338\n",
            "Train set: Average loss: 0.0053, Accuracy: 392/425 (92%)\n",
            "\n",
            "Train Epoch: 20 [9/27 (33%)]\tTrain Loss: 0.187790\n",
            "Train Epoch: 20 [19/27 (70%)]\tTrain Loss: 0.250087\n",
            "Train set: Average loss: 0.0015, Accuracy: 391/425 (92%)\n",
            "\n",
            "TP= 41 TN= 43 FN= 17 FP= 17\n",
            "TP+FP 58\n",
            "The epoch is 20, average recall: 0.7069, average precision: 0.7069, average F1: 0.7069, average accuracy: 0.7119, average AUC: 0.7980\n",
            "\n",
            "\n",
            "Train Epoch: 21 [9/27 (33%)]\tTrain Loss: 0.093530\n",
            "Train Epoch: 21 [19/27 (70%)]\tTrain Loss: 0.096585\n",
            "Train set: Average loss: 0.0060, Accuracy: 408/425 (96%)\n",
            "\n",
            "Train Epoch: 22 [9/27 (33%)]\tTrain Loss: 0.133409\n",
            "Train Epoch: 22 [19/27 (70%)]\tTrain Loss: 0.110730\n",
            "Train set: Average loss: 0.0035, Accuracy: 405/425 (95%)\n",
            "\n",
            "Train Epoch: 23 [9/27 (33%)]\tTrain Loss: 0.095904\n",
            "Train Epoch: 23 [19/27 (70%)]\tTrain Loss: 0.066346\n",
            "Train set: Average loss: 0.0029, Accuracy: 408/425 (96%)\n",
            "\n",
            "Train Epoch: 24 [9/27 (33%)]\tTrain Loss: 0.068515\n",
            "Train Epoch: 24 [19/27 (70%)]\tTrain Loss: 0.059654\n",
            "Train set: Average loss: 0.0014, Accuracy: 413/425 (97%)\n",
            "\n",
            "Train Epoch: 25 [9/27 (33%)]\tTrain Loss: 0.042678\n",
            "Train Epoch: 25 [19/27 (70%)]\tTrain Loss: 0.043723\n",
            "Train set: Average loss: 0.0007, Accuracy: 420/425 (99%)\n",
            "\n",
            "TP= 41 TN= 41 FN= 17 FP= 19\n",
            "TP+FP 60\n",
            "The epoch is 25, average recall: 0.7069, average precision: 0.6833, average F1: 0.6949, average accuracy: 0.6949, average AUC: 0.7925\n",
            "\n",
            "\n",
            "Train Epoch: 26 [9/27 (33%)]\tTrain Loss: 0.020419\n",
            "Train Epoch: 26 [19/27 (70%)]\tTrain Loss: 0.048092\n",
            "Train set: Average loss: 0.0011, Accuracy: 417/425 (98%)\n",
            "\n",
            "Train Epoch: 27 [9/27 (33%)]\tTrain Loss: 0.057205\n",
            "Train Epoch: 27 [19/27 (70%)]\tTrain Loss: 0.087630\n",
            "Train set: Average loss: 0.0026, Accuracy: 410/425 (96%)\n",
            "\n",
            "Train Epoch: 28 [9/27 (33%)]\tTrain Loss: 0.180686\n",
            "Train Epoch: 28 [19/27 (70%)]\tTrain Loss: 0.161211\n",
            "Train set: Average loss: 0.0009, Accuracy: 405/425 (95%)\n",
            "\n",
            "Train Epoch: 29 [9/27 (33%)]\tTrain Loss: 0.149713\n",
            "Train Epoch: 29 [19/27 (70%)]\tTrain Loss: 0.085434\n",
            "Train set: Average loss: 0.0017, Accuracy: 407/425 (96%)\n",
            "\n",
            "Train Epoch: 30 [9/27 (33%)]\tTrain Loss: 0.058536\n",
            "Train Epoch: 30 [19/27 (70%)]\tTrain Loss: 0.077410\n",
            "Train set: Average loss: 0.0013, Accuracy: 413/425 (97%)\n",
            "\n",
            "TP= 44 TN= 38 FN= 14 FP= 22\n",
            "TP+FP 66\n",
            "The epoch is 30, average recall: 0.7586, average precision: 0.6667, average F1: 0.7097, average accuracy: 0.6949, average AUC: 0.7862\n",
            "\n",
            "\n",
            "Train Epoch: 31 [9/27 (33%)]\tTrain Loss: 0.052748\n",
            "Train Epoch: 31 [19/27 (70%)]\tTrain Loss: 0.053688\n",
            "Train set: Average loss: 0.0015, Accuracy: 416/425 (98%)\n",
            "\n",
            "Train Epoch: 32 [9/27 (33%)]\tTrain Loss: 0.096425\n",
            "Train Epoch: 32 [19/27 (70%)]\tTrain Loss: 0.114641\n",
            "Train set: Average loss: 0.0013, Accuracy: 413/425 (97%)\n",
            "\n",
            "Train Epoch: 33 [9/27 (33%)]\tTrain Loss: 0.175238\n",
            "Train Epoch: 33 [19/27 (70%)]\tTrain Loss: 0.055942\n",
            "Train set: Average loss: 0.0044, Accuracy: 413/425 (97%)\n",
            "\n",
            "Train Epoch: 34 [9/27 (33%)]\tTrain Loss: 0.125921\n",
            "Train Epoch: 34 [19/27 (70%)]\tTrain Loss: 0.172427\n",
            "Train set: Average loss: 0.0024, Accuracy: 396/425 (93%)\n",
            "\n",
            "Train Epoch: 35 [9/27 (33%)]\tTrain Loss: 0.064508\n",
            "Train Epoch: 35 [19/27 (70%)]\tTrain Loss: 0.086988\n",
            "Train set: Average loss: 0.0006, Accuracy: 417/425 (98%)\n",
            "\n",
            "TP= 44 TN= 37 FN= 14 FP= 23\n",
            "TP+FP 67\n",
            "The epoch is 35, average recall: 0.7586, average precision: 0.6567, average F1: 0.7040, average accuracy: 0.6864, average AUC: 0.7730\n",
            "\n",
            "\n",
            "Train Epoch: 36 [9/27 (33%)]\tTrain Loss: 0.098064\n",
            "Train Epoch: 36 [19/27 (70%)]\tTrain Loss: 0.051318\n",
            "Train set: Average loss: 0.0004, Accuracy: 415/425 (98%)\n",
            "\n",
            "Train Epoch: 37 [9/27 (33%)]\tTrain Loss: 0.019408\n",
            "Train Epoch: 37 [19/27 (70%)]\tTrain Loss: 0.107281\n",
            "Train set: Average loss: 0.0006, Accuracy: 416/425 (98%)\n",
            "\n",
            "Train Epoch: 38 [9/27 (33%)]\tTrain Loss: 0.017690\n",
            "Train Epoch: 38 [19/27 (70%)]\tTrain Loss: 0.024800\n",
            "Train set: Average loss: 0.0004, Accuracy: 424/425 (100%)\n",
            "\n",
            "Train Epoch: 39 [9/27 (33%)]\tTrain Loss: 0.014664\n",
            "Train Epoch: 39 [19/27 (70%)]\tTrain Loss: 0.017768\n",
            "Train set: Average loss: 0.0002, Accuracy: 424/425 (100%)\n",
            "\n",
            "Train Epoch: 40 [9/27 (33%)]\tTrain Loss: 0.037043\n",
            "Train Epoch: 40 [19/27 (70%)]\tTrain Loss: 0.011986\n",
            "Train set: Average loss: 0.0003, Accuracy: 422/425 (99%)\n",
            "\n",
            "TP= 43 TN= 43 FN= 15 FP= 17\n",
            "TP+FP 60\n",
            "The epoch is 40, average recall: 0.7414, average precision: 0.7167, average F1: 0.7288, average accuracy: 0.7288, average AUC: 0.8052\n",
            "\n",
            "\n",
            "Train Epoch: 41 [9/27 (33%)]\tTrain Loss: 0.018143\n",
            "Train Epoch: 41 [19/27 (70%)]\tTrain Loss: 0.010113\n",
            "Train set: Average loss: 0.0008, Accuracy: 420/425 (99%)\n",
            "\n",
            "Train Epoch: 42 [9/27 (33%)]\tTrain Loss: 0.021774\n",
            "Train Epoch: 42 [19/27 (70%)]\tTrain Loss: 0.015974\n",
            "Train set: Average loss: 0.0012, Accuracy: 419/425 (99%)\n",
            "\n",
            "Train Epoch: 43 [9/27 (33%)]\tTrain Loss: 0.030052\n",
            "Train Epoch: 43 [19/27 (70%)]\tTrain Loss: 0.067718\n",
            "Train set: Average loss: 0.0011, Accuracy: 415/425 (98%)\n",
            "\n",
            "Train Epoch: 44 [9/27 (33%)]\tTrain Loss: 0.092280\n",
            "Train Epoch: 44 [19/27 (70%)]\tTrain Loss: 0.016797\n",
            "Train set: Average loss: 0.0006, Accuracy: 416/425 (98%)\n",
            "\n",
            "Train Epoch: 45 [9/27 (33%)]\tTrain Loss: 0.013289\n",
            "Train Epoch: 45 [19/27 (70%)]\tTrain Loss: 0.049802\n",
            "Train set: Average loss: 0.0045, Accuracy: 413/425 (97%)\n",
            "\n",
            "TP= 42 TN= 42 FN= 16 FP= 18\n",
            "TP+FP 60\n",
            "The epoch is 45, average recall: 0.7241, average precision: 0.7000, average F1: 0.7119, average accuracy: 0.7119, average AUC: 0.7937\n",
            "\n",
            "\n",
            "Train Epoch: 46 [9/27 (33%)]\tTrain Loss: 0.095798\n",
            "Train Epoch: 46 [19/27 (70%)]\tTrain Loss: 0.056747\n",
            "Train set: Average loss: 0.0009, Accuracy: 412/425 (97%)\n",
            "\n",
            "Train Epoch: 47 [9/27 (33%)]\tTrain Loss: 0.027516\n",
            "Train Epoch: 47 [19/27 (70%)]\tTrain Loss: 0.061707\n",
            "Train set: Average loss: 0.0007, Accuracy: 419/425 (99%)\n",
            "\n",
            "Train Epoch: 48 [9/27 (33%)]\tTrain Loss: 0.015571\n",
            "Train Epoch: 48 [19/27 (70%)]\tTrain Loss: 0.028048\n",
            "Train set: Average loss: 0.0003, Accuracy: 423/425 (100%)\n",
            "\n",
            "Train Epoch: 49 [9/27 (33%)]\tTrain Loss: 0.029089\n",
            "Train Epoch: 49 [19/27 (70%)]\tTrain Loss: 0.022459\n",
            "Train set: Average loss: 0.0005, Accuracy: 421/425 (99%)\n",
            "\n",
            "Train Epoch: 50 [9/27 (33%)]\tTrain Loss: 0.005853\n",
            "Train Epoch: 50 [19/27 (70%)]\tTrain Loss: 0.005274\n",
            "Train set: Average loss: 0.0001, Accuracy: 425/425 (100%)\n",
            "\n",
            "TP= 41 TN= 41 FN= 17 FP= 19\n",
            "TP+FP 60\n",
            "The epoch is 50, average recall: 0.7069, average precision: 0.6833, average F1: 0.6949, average accuracy: 0.6949, average AUC: 0.7897\n",
            "\n",
            "\n"
          ],
          "name": "stdout"
        }
      ]
    },
    {
      "cell_type": "code",
      "metadata": {
        "id": "Ry8_cAGZd_Tc",
        "colab_type": "code",
        "colab": {
          "base_uri": "https://localhost:8080/",
          "height": 279
        },
        "outputId": "e87bbe4b-a1cd-47e6-83b7-d07efb85bfd7"
      },
      "source": [
        "plt.plot(epochs, rs, label='Recall')\n",
        "plt.plot(epochs, ps, label='Precision')\n",
        "plt.plot(epochs, F1s, label='F1')\n",
        "plt.plot(epochs, accs, label='Accuracy')\n",
        "plt.plot(epochs, AUCs, label='AUC')\n",
        "plt.legend()\n",
        "plt.xlabel('Epoch')\n",
        "plt.ylabel('Training result')\n",
        "plt.xticks(epochs)\n",
        "plt.savefig('validation_performance.png')\n",
        "plt.show()"
      ],
      "execution_count": null,
      "outputs": [
        {
          "output_type": "display_data",
          "data": {
            "image/png": "[encoded data removed]",
            "text/plain": [
              "<Figure size 432x288 with 1 Axes>"
            ]
          },
          "metadata": {
            "tags": [],
            "needs_background": "light"
          }
        }
      ]
    },
    {
      "cell_type": "code",
      "metadata": {
        "id": "OF9Hp1fGAdKW",
        "colab_type": "code",
        "colab": {
          "base_uri": "https://localhost:8080/",
          "height": 295
        },
        "outputId": "3c0cc170-c434-4a34-da09-b0322ac8c88b"
      },
      "source": [
        "plt.plot(range(train_epochs_start, train_epochs_end), avg_losses)\n",
        "plt.xlabel('Epoch')\n",
        "plt.ylabel('Average loss')\n",
        "plt.title('Training loss during fine-tuning')\n",
        "plt.savefig('fine-tuning_loss.png')\n",
        "plt.show()"
      ],
      "execution_count": null,
      "outputs": [
        {
          "output_type": "display_data",
          "data": {
            "image/png": "[encoded data removed]",
            "text/plain": [
              "<Figure size 432x288 with 1 Axes>"
            ]
          },
          "metadata": {
            "tags": [],
            "needs_background": "light"
          }
        }
      ]
    },
    {
      "cell_type": "code",
      "metadata": {
        "id": "eBRSZwS849kn",
        "colab_type": "code",
        "colab": {
          "base_uri": "https://localhost:8080/",
          "height": 545
        },
        "outputId": "a5ec17da-3323-4491-83e2-0e6afe07a82a"
      },
      "source": [
        "plot_change(model.cpu(), model_old)\n",
        "model = model.cuda()"
      ],
      "execution_count": null,
      "outputs": [
        {
          "output_type": "display_data",
          "data": {
            "image/png": "[encoded data removed]",
            "text/plain": [
              "<Figure size 432x288 with 1 Axes>"
            ]
          },
          "metadata": {
            "tags": [],
            "needs_background": "light"
          }
        },
        {
          "output_type": "display_data",
          "data": {
            "image/png": "[encoded data removed]",
            "text/plain": [
              "<Figure size 432x288 with 1 Axes>"
            ]
          },
          "metadata": {
            "tags": [],
            "needs_background": "light"
          }
        }
      ]
    },
    {
      "cell_type": "code",
      "metadata": {
        "id": "D8UCiEdxb8RH",
        "colab_type": "code",
        "colab": {
          "base_uri": "https://localhost:8080/",
          "height": 86
        },
        "outputId": "5fb8dcd3-e1ff-4ad3-8374-e1765f2bd3a0"
      },
      "source": [
        "bs = 10\n",
        "\n",
        "        \n",
        "targetlist, scorelist, predlist = predict('test')\n",
        "        \n",
        "TP = ((predlist == 1) & (targetlist == 1)).sum()\n",
        "TN = ((predlist == 0) & (targetlist == 0)).sum()\n",
        "FN = ((predlist == 0) & (targetlist == 1)).sum()\n",
        "FP = ((predlist == 1) & (targetlist == 0)).sum()\n",
        "\n",
        "print('TP=',TP,'TN=',TN,'FN=',FN,'FP=',FP)\n",
        "print('TP+FP',TP+FP)\n",
        "p = TP / (TP + FP)\n",
        "r = TP / (TP + FN)\n",
        "F1 = 2 * r * p / (r + p)\n",
        "acc = (TP + TN) / (TP + TN + FP + FN)\n",
        "AUC = roc_auc_score(targetlist, scorelist)\n",
        "\n",
        "print('Testing, average recall: {:.4f}, average precision: {:.4f}, average F1: {:.4f}, average accuracy: {:.4f}, average AUC: {:.4f}\\n'.format(\n",
        "    r, p, F1, acc, AUC\n",
        "))\n",
        "f = open('model_result/test_{}.txt'.format(modelname), 'a+')\n",
        "f.write('Testing, average recall: {:.4f}, average precision: {:.4f}, average F1: {:.4f}, average accuracy: {:.4f}, average AUC: {:.4f}\\n'.format(\n",
        "    r, p, F1, acc, AUC\n",
        "))\n",
        "f.close()"
      ],
      "execution_count": null,
      "outputs": [
        {
          "output_type": "stream",
          "text": [
            "TP= 77 TN= 62 FN= 28 FP= 36\n",
            "TP+FP 113\n",
            "Testing, average recall: 0.7333, average precision: 0.6814, average F1: 0.7064, average accuracy: 0.6847, average AUC: 0.7037\n",
            "\n"
          ],
          "name": "stdout"
        }
      ]
    },
    {
      "cell_type": "code",
      "metadata": {
        "id": "tMyD4StxKInX",
        "colab_type": "code",
        "colab": {
          "base_uri": "https://localhost:8080/",
          "height": 226
        },
        "outputId": "951933a2-99ed-4bdc-ef02-b280841de6d6"
      },
      "source": [
        "model = model.cpu()\n",
        "fig, axes = plt.subplots(2, 4)\n",
        "negatives = 0\n",
        "positives = 0\n",
        "for i in range(len(testset)):\n",
        "    if negatives == 4 and positives == 4:\n",
        "        break\n",
        "    image, label = testset[i]['img'], testset[i]['label']\n",
        "    if label == 0 and negatives < 4:\n",
        "        gradcam(model, image, detransformer, label, axes[0][negatives])\n",
        "        negatives = negatives + 1\n",
        "    elif label == 1 and positives < 4:\n",
        "        gradcam(model, image, detransformer, label, axes[1][positives])\n",
        "        positives = positives + 1\n",
        "\n",
        "fig.savefig('gradcam.png')\n",
        "fig.show()"
      ],
      "execution_count": null,
      "outputs": [
        {
          "output_type": "display_data",
          "data": {
            "image/png": "[encoded data removed]",
            "text/plain": [
              "<Figure size 432x288 with 8 Axes>"
            ]
          },
          "metadata": {
            "tags": []
          }
        }
      ]
    },
    {
      "cell_type": "code",
      "metadata": {
        "id": "Y8QmJ40EKPSe",
        "colab_type": "code",
        "colab": {}
      },
      "source": [
        "torch.save(model.state_dict(), 'fine-tune.pt')"
      ],
      "execution_count": null,
      "outputs": []
    }
  ]
}